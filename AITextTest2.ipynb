{
  "cells": [
    {
      "cell_type": "markdown",
      "metadata": {
        "id": "view-in-github",
        "colab_type": "text"
      },
      "source": [
        "<a href=\"https://colab.research.google.com/github/ChapelFob80930/AI-Generated-Text-Detector/blob/main/AITextTest2.ipynb\" target=\"_parent\"><img src=\"https://colab.research.google.com/assets/colab-badge.svg\" alt=\"Open In Colab\"/></a>"
      ]
    },
    {
      "cell_type": "markdown",
      "source": [
        "#**Importing the Dataset**"
      ],
      "metadata": {
        "id": "KSkesjPZFWta"
      }
    },
    {
      "cell_type": "code",
      "execution_count": null,
      "metadata": {
        "colab": {
          "base_uri": "https://localhost:8080/"
        },
        "id": "9DivI8E17Ug5",
        "outputId": "da5d6a7a-741d-4c16-a85f-cbcd2f2b64bf"
      },
      "outputs": [
        {
          "output_type": "stream",
          "name": "stdout",
          "text": [
            "(44868, 5)\n",
            "                                                text  label\n",
            "0  Phones\\n\\nModern humans today are always on th...      0\n",
            "1  This essay will explain if drivers should or s...      0\n",
            "2  Driving while the use of cellular devices\\n\\nT...      0\n",
            "3  Phones & Driving\\n\\nDrivers should not be able...      0\n",
            "4  Cell Phone Operation While Driving\\n\\nThe abil...      0\n",
            "(44868, 2)\n"
          ]
        }
      ],
      "source": [
        "import numpy as np\n",
        "import pandas as pd\n",
        "\n",
        "ai_generated_dataset = pd.read_csv(\"/content/train_v2_drcat_02.csv\")\n",
        "print(ai_generated_dataset.shape)\n",
        "ai_generated_dataset = ai_generated_dataset.dropna()\n",
        "ai_generated_dataset = ai_generated_dataset.drop(columns=['prompt_name','source','RDizzl3_seven'])\n",
        "print(ai_generated_dataset.head())\n",
        "print(ai_generated_dataset.shape)"
      ]
    },
    {
      "cell_type": "code",
      "execution_count": null,
      "metadata": {
        "colab": {
          "base_uri": "https://localhost:8080/"
        },
        "collapsed": true,
        "id": "gsRlIA2q7kps",
        "outputId": "4b8956c3-cd3e-4f89-e6cc-8a53d914c846"
      },
      "outputs": [
        {
          "name": "stdout",
          "output_type": "stream",
          "text": [
            "NLTK Downloader\n",
            "---------------------------------------------------------------------------\n",
            "    d) Download   l) List    u) Update   c) Config   h) Help   q) Quit\n",
            "---------------------------------------------------------------------------\n",
            "Downloader> d\n",
            "\n",
            "Download which package (l=list; x=cancel)?\n",
            "  Identifier> all\n"
          ]
        },
        {
          "output_type": "stream",
          "name": "stderr",
          "text": [
            "    Downloading collection 'all'\n",
            "       | \n",
            "       | Downloading package abc to /root/nltk_data...\n",
            "       |   Unzipping corpora/abc.zip.\n",
            "       | Downloading package alpino to /root/nltk_data...\n",
            "       |   Unzipping corpora/alpino.zip.\n",
            "       | Downloading package averaged_perceptron_tagger to\n",
            "       |     /root/nltk_data...\n",
            "       |   Unzipping taggers/averaged_perceptron_tagger.zip.\n",
            "       | Downloading package averaged_perceptron_tagger_eng to\n",
            "       |     /root/nltk_data...\n",
            "       |   Unzipping taggers/averaged_perceptron_tagger_eng.zip.\n",
            "       | Downloading package averaged_perceptron_tagger_ru to\n",
            "       |     /root/nltk_data...\n",
            "       |   Unzipping taggers/averaged_perceptron_tagger_ru.zip.\n",
            "       | Downloading package averaged_perceptron_tagger_rus to\n",
            "       |     /root/nltk_data...\n",
            "       |   Unzipping taggers/averaged_perceptron_tagger_rus.zip.\n",
            "       | Downloading package basque_grammars to /root/nltk_data...\n",
            "       |   Unzipping grammars/basque_grammars.zip.\n",
            "       | Downloading package bcp47 to /root/nltk_data...\n",
            "       | Downloading package biocreative_ppi to /root/nltk_data...\n",
            "       |   Unzipping corpora/biocreative_ppi.zip.\n",
            "       | Downloading package bllip_wsj_no_aux to /root/nltk_data...\n",
            "       |   Unzipping models/bllip_wsj_no_aux.zip.\n",
            "       | Downloading package book_grammars to /root/nltk_data...\n",
            "       |   Unzipping grammars/book_grammars.zip.\n",
            "       | Downloading package brown to /root/nltk_data...\n",
            "       |   Unzipping corpora/brown.zip.\n",
            "       | Downloading package brown_tei to /root/nltk_data...\n",
            "       |   Unzipping corpora/brown_tei.zip.\n",
            "       | Downloading package cess_cat to /root/nltk_data...\n",
            "       |   Unzipping corpora/cess_cat.zip.\n",
            "       | Downloading package cess_esp to /root/nltk_data...\n",
            "       |   Unzipping corpora/cess_esp.zip.\n",
            "       | Downloading package chat80 to /root/nltk_data...\n",
            "       |   Unzipping corpora/chat80.zip.\n",
            "       | Downloading package city_database to /root/nltk_data...\n",
            "       |   Unzipping corpora/city_database.zip.\n",
            "       | Downloading package cmudict to /root/nltk_data...\n",
            "       |   Unzipping corpora/cmudict.zip.\n",
            "       | Downloading package comparative_sentences to\n",
            "       |     /root/nltk_data...\n",
            "       |   Unzipping corpora/comparative_sentences.zip.\n",
            "       | Downloading package comtrans to /root/nltk_data...\n",
            "       | Downloading package conll2000 to /root/nltk_data...\n",
            "       |   Unzipping corpora/conll2000.zip.\n",
            "       | Downloading package conll2002 to /root/nltk_data...\n",
            "       |   Unzipping corpora/conll2002.zip.\n",
            "       | Downloading package conll2007 to /root/nltk_data...\n",
            "       | Downloading package crubadan to /root/nltk_data...\n",
            "       |   Unzipping corpora/crubadan.zip.\n",
            "       | Downloading package dependency_treebank to /root/nltk_data...\n",
            "       |   Unzipping corpora/dependency_treebank.zip.\n",
            "       | Downloading package dolch to /root/nltk_data...\n",
            "       |   Unzipping corpora/dolch.zip.\n",
            "       | Downloading package europarl_raw to /root/nltk_data...\n",
            "       |   Unzipping corpora/europarl_raw.zip.\n",
            "       | Downloading package extended_omw to /root/nltk_data...\n",
            "       | Downloading package floresta to /root/nltk_data...\n",
            "       |   Unzipping corpora/floresta.zip.\n",
            "       | Downloading package framenet_v15 to /root/nltk_data...\n",
            "       |   Unzipping corpora/framenet_v15.zip.\n",
            "       | Downloading package framenet_v17 to /root/nltk_data...\n",
            "       |   Unzipping corpora/framenet_v17.zip.\n",
            "       | Downloading package gazetteers to /root/nltk_data...\n",
            "       |   Unzipping corpora/gazetteers.zip.\n",
            "       | Downloading package genesis to /root/nltk_data...\n",
            "       |   Unzipping corpora/genesis.zip.\n",
            "       | Downloading package gutenberg to /root/nltk_data...\n",
            "       |   Unzipping corpora/gutenberg.zip.\n",
            "       | Downloading package ieer to /root/nltk_data...\n",
            "       |   Unzipping corpora/ieer.zip.\n",
            "       | Downloading package inaugural to /root/nltk_data...\n",
            "       |   Unzipping corpora/inaugural.zip.\n",
            "       | Downloading package indian to /root/nltk_data...\n",
            "       |   Unzipping corpora/indian.zip.\n",
            "       | Downloading package jeita to /root/nltk_data...\n",
            "       | Downloading package kimmo to /root/nltk_data...\n",
            "       |   Unzipping corpora/kimmo.zip.\n",
            "       | Downloading package knbc to /root/nltk_data...\n",
            "       | Downloading package large_grammars to /root/nltk_data...\n",
            "       |   Unzipping grammars/large_grammars.zip.\n",
            "       | Downloading package lin_thesaurus to /root/nltk_data...\n",
            "       |   Unzipping corpora/lin_thesaurus.zip.\n",
            "       | Downloading package mac_morpho to /root/nltk_data...\n",
            "       |   Unzipping corpora/mac_morpho.zip.\n",
            "       | Downloading package machado to /root/nltk_data...\n",
            "       | Downloading package masc_tagged to /root/nltk_data...\n",
            "       | Downloading package maxent_ne_chunker to /root/nltk_data...\n",
            "       |   Unzipping chunkers/maxent_ne_chunker.zip.\n",
            "       | Downloading package maxent_ne_chunker_tab to\n",
            "       |     /root/nltk_data...\n",
            "       |   Unzipping chunkers/maxent_ne_chunker_tab.zip.\n",
            "       | Downloading package maxent_treebank_pos_tagger to\n",
            "       |     /root/nltk_data...\n",
            "       |   Unzipping taggers/maxent_treebank_pos_tagger.zip.\n",
            "       | Downloading package maxent_treebank_pos_tagger_tab to\n",
            "       |     /root/nltk_data...\n",
            "       |   Unzipping taggers/maxent_treebank_pos_tagger_tab.zip.\n",
            "       | Downloading package moses_sample to /root/nltk_data...\n",
            "       |   Unzipping models/moses_sample.zip.\n",
            "       | Downloading package movie_reviews to /root/nltk_data...\n",
            "       |   Unzipping corpora/movie_reviews.zip.\n",
            "       | Downloading package mte_teip5 to /root/nltk_data...\n",
            "       |   Unzipping corpora/mte_teip5.zip.\n",
            "       | Downloading package mwa_ppdb to /root/nltk_data...\n",
            "       |   Unzipping misc/mwa_ppdb.zip.\n",
            "       | Downloading package names to /root/nltk_data...\n",
            "       |   Unzipping corpora/names.zip.\n",
            "       | Downloading package nombank.1.0 to /root/nltk_data...\n",
            "       | Downloading package nonbreaking_prefixes to\n",
            "       |     /root/nltk_data...\n",
            "       |   Unzipping corpora/nonbreaking_prefixes.zip.\n",
            "       | Downloading package nps_chat to /root/nltk_data...\n",
            "       |   Unzipping corpora/nps_chat.zip.\n",
            "       | Downloading package omw to /root/nltk_data...\n",
            "       | Downloading package omw-1.4 to /root/nltk_data...\n",
            "       | Downloading package opinion_lexicon to /root/nltk_data...\n",
            "       |   Unzipping corpora/opinion_lexicon.zip.\n",
            "       | Downloading package panlex_swadesh to /root/nltk_data...\n",
            "       | Downloading package paradigms to /root/nltk_data...\n",
            "       |   Unzipping corpora/paradigms.zip.\n",
            "       | Downloading package pe08 to /root/nltk_data...\n",
            "       |   Unzipping corpora/pe08.zip.\n",
            "       | Downloading package perluniprops to /root/nltk_data...\n",
            "       |   Unzipping misc/perluniprops.zip.\n",
            "       | Downloading package pil to /root/nltk_data...\n",
            "       |   Unzipping corpora/pil.zip.\n",
            "       | Downloading package pl196x to /root/nltk_data...\n",
            "       |   Unzipping corpora/pl196x.zip.\n",
            "       | Downloading package porter_test to /root/nltk_data...\n",
            "       |   Unzipping stemmers/porter_test.zip.\n",
            "       | Downloading package ppattach to /root/nltk_data...\n",
            "       |   Unzipping corpora/ppattach.zip.\n",
            "       | Downloading package problem_reports to /root/nltk_data...\n",
            "       |   Unzipping corpora/problem_reports.zip.\n",
            "       | Downloading package product_reviews_1 to /root/nltk_data...\n",
            "       |   Unzipping corpora/product_reviews_1.zip.\n",
            "       | Downloading package product_reviews_2 to /root/nltk_data...\n",
            "       |   Unzipping corpora/product_reviews_2.zip.\n",
            "       | Downloading package propbank to /root/nltk_data...\n",
            "       | Downloading package pros_cons to /root/nltk_data...\n",
            "       |   Unzipping corpora/pros_cons.zip.\n",
            "       | Downloading package ptb to /root/nltk_data...\n",
            "       |   Unzipping corpora/ptb.zip.\n",
            "       | Downloading package punkt to /root/nltk_data...\n",
            "       |   Unzipping tokenizers/punkt.zip.\n",
            "       | Downloading package punkt_tab to /root/nltk_data...\n",
            "       |   Unzipping tokenizers/punkt_tab.zip.\n",
            "       | Downloading package qc to /root/nltk_data...\n",
            "       |   Unzipping corpora/qc.zip.\n",
            "       | Downloading package reuters to /root/nltk_data...\n",
            "       | Downloading package rslp to /root/nltk_data...\n",
            "       |   Unzipping stemmers/rslp.zip.\n",
            "       | Downloading package rte to /root/nltk_data...\n",
            "       |   Unzipping corpora/rte.zip.\n",
            "       | Downloading package sample_grammars to /root/nltk_data...\n",
            "       |   Unzipping grammars/sample_grammars.zip.\n",
            "       | Downloading package semcor to /root/nltk_data...\n",
            "       | Downloading package senseval to /root/nltk_data...\n",
            "       |   Unzipping corpora/senseval.zip.\n",
            "       | Downloading package sentence_polarity to /root/nltk_data...\n",
            "       |   Unzipping corpora/sentence_polarity.zip.\n",
            "       | Downloading package sentiwordnet to /root/nltk_data...\n",
            "       |   Unzipping corpora/sentiwordnet.zip.\n",
            "       | Downloading package shakespeare to /root/nltk_data...\n",
            "       |   Unzipping corpora/shakespeare.zip.\n",
            "       | Downloading package sinica_treebank to /root/nltk_data...\n",
            "       |   Unzipping corpora/sinica_treebank.zip.\n",
            "       | Downloading package smultron to /root/nltk_data...\n",
            "       |   Unzipping corpora/smultron.zip.\n",
            "       | Downloading package snowball_data to /root/nltk_data...\n",
            "       | Downloading package spanish_grammars to /root/nltk_data...\n",
            "       |   Unzipping grammars/spanish_grammars.zip.\n",
            "       | Downloading package state_union to /root/nltk_data...\n",
            "       |   Unzipping corpora/state_union.zip.\n",
            "       | Downloading package stopwords to /root/nltk_data...\n",
            "       |   Unzipping corpora/stopwords.zip.\n",
            "       | Downloading package subjectivity to /root/nltk_data...\n",
            "       |   Unzipping corpora/subjectivity.zip.\n",
            "       | Downloading package swadesh to /root/nltk_data...\n",
            "       |   Unzipping corpora/swadesh.zip.\n",
            "       | Downloading package switchboard to /root/nltk_data...\n",
            "       |   Unzipping corpora/switchboard.zip.\n",
            "       | Downloading package tagsets to /root/nltk_data...\n",
            "       |   Unzipping help/tagsets.zip.\n",
            "       | Downloading package tagsets_json to /root/nltk_data...\n",
            "       |   Unzipping help/tagsets_json.zip.\n",
            "       | Downloading package timit to /root/nltk_data...\n",
            "       |   Unzipping corpora/timit.zip.\n",
            "       | Downloading package toolbox to /root/nltk_data...\n",
            "       |   Unzipping corpora/toolbox.zip.\n",
            "       | Downloading package treebank to /root/nltk_data...\n",
            "       |   Unzipping corpora/treebank.zip.\n",
            "       | Downloading package twitter_samples to /root/nltk_data...\n",
            "       |   Unzipping corpora/twitter_samples.zip.\n",
            "       | Downloading package udhr to /root/nltk_data...\n",
            "       |   Unzipping corpora/udhr.zip.\n",
            "       | Downloading package udhr2 to /root/nltk_data...\n",
            "       |   Unzipping corpora/udhr2.zip.\n",
            "       | Downloading package unicode_samples to /root/nltk_data...\n",
            "       |   Unzipping corpora/unicode_samples.zip.\n",
            "       | Downloading package universal_tagset to /root/nltk_data...\n",
            "       |   Unzipping taggers/universal_tagset.zip.\n",
            "       | Downloading package universal_treebanks_v20 to\n",
            "       |     /root/nltk_data...\n",
            "       | Downloading package vader_lexicon to /root/nltk_data...\n",
            "       | Downloading package verbnet to /root/nltk_data...\n",
            "       |   Unzipping corpora/verbnet.zip.\n",
            "       | Downloading package verbnet3 to /root/nltk_data...\n",
            "       |   Unzipping corpora/verbnet3.zip.\n",
            "       | Downloading package webtext to /root/nltk_data...\n",
            "       |   Unzipping corpora/webtext.zip.\n",
            "       | Downloading package wmt15_eval to /root/nltk_data...\n",
            "       |   Unzipping models/wmt15_eval.zip.\n",
            "       | Downloading package word2vec_sample to /root/nltk_data...\n",
            "       |   Unzipping models/word2vec_sample.zip.\n",
            "       | Downloading package wordnet to /root/nltk_data...\n",
            "       | Downloading package wordnet2021 to /root/nltk_data...\n",
            "       | Downloading package wordnet2022 to /root/nltk_data...\n",
            "       |   Unzipping corpora/wordnet2022.zip.\n",
            "       | Downloading package wordnet31 to /root/nltk_data...\n",
            "       | Downloading package wordnet_ic to /root/nltk_data...\n",
            "       |   Unzipping corpora/wordnet_ic.zip.\n",
            "       | Downloading package words to /root/nltk_data...\n",
            "       |   Unzipping corpora/words.zip.\n",
            "       | Downloading package ycoe to /root/nltk_data...\n",
            "       |   Unzipping corpora/ycoe.zip.\n",
            "       | \n",
            "     Done downloading collection all\n"
          ]
        },
        {
          "name": "stdout",
          "output_type": "stream",
          "text": [
            "\n",
            "---------------------------------------------------------------------------\n",
            "    d) Download   l) List    u) Update   c) Config   h) Help   q) Quit\n",
            "---------------------------------------------------------------------------\n",
            "Downloader> q\n"
          ]
        },
        {
          "output_type": "execute_result",
          "data": {
            "text/plain": [
              "True"
            ]
          },
          "metadata": {},
          "execution_count": 5
        }
      ],
      "source": [
        "import nltk\n",
        "nltk.download()\n"
      ]
    },
    {
      "cell_type": "code",
      "source": [
        "# import spacy\n",
        "# nlp = spacy.load('en_core_web_sm')\n",
        "\n",
        "# def lemmatize_text(text):\n",
        "#   doc = nlp(\" \".join(text))\n",
        "#   return [token.lemma_ for token in doc]"
      ],
      "metadata": {
        "id": "KtQ0Ruc1qZGW"
      },
      "execution_count": null,
      "outputs": []
    },
    {
      "cell_type": "code",
      "source": [
        "# import nltk\n",
        "# from nltk.corpus import stopwords\n",
        "# nltk.download('stopwords')\n",
        "\n",
        "# stop_words = set(stopwords.words('english'))\n",
        "\n",
        "# def _remove_stopwords_(texts):\n",
        "#   return [text for text in texts if text.isalnum() and text not in stop_words]"
      ],
      "metadata": {
        "colab": {
          "base_uri": "https://localhost:8080/"
        },
        "id": "PWbPW99ZqEQi",
        "outputId": "73ad8ff5-0e62-4e5e-ee38-9e343aabc3f3"
      },
      "execution_count": null,
      "outputs": [
        {
          "output_type": "stream",
          "name": "stderr",
          "text": [
            "[nltk_data] Downloading package stopwords to /root/nltk_data...\n",
            "[nltk_data]   Package stopwords is already up-to-date!\n"
          ]
        }
      ]
    },
    {
      "cell_type": "code",
      "execution_count": null,
      "metadata": {
        "colab": {
          "base_uri": "https://localhost:8080/"
        },
        "id": "k4HoVvtL8tfB",
        "outputId": "b3a0dcd5-7b4f-4e9f-ed51-9e8ba26b5b40"
      },
      "outputs": [
        {
          "output_type": "stream",
          "name": "stderr",
          "text": [
            "[nltk_data] Downloading package punkt to /root/nltk_data...\n",
            "[nltk_data]   Package punkt is already up-to-date!\n"
          ]
        }
      ],
      "source": [
        "# from nltk.tokenize import word_tokenize\n",
        "# nltk.download('punkt')\n",
        "\n",
        "# def preprocess_text(series):\n",
        "#     def process(text):\n",
        "#         tokens = word_tokenize(text)\n",
        "#         tokens = _remove_stopwords_(tokens)\n",
        "#         tokens = lemmatize_text(tokens)\n",
        "#         return \" \".join(tokens)\n",
        "#     return series.apply(process)\n"
      ]
    },
    {
      "cell_type": "markdown",
      "source": [
        "#**Preprocessing Data**"
      ],
      "metadata": {
        "id": "xOhNVLWSHXBr"
      }
    },
    {
      "cell_type": "code",
      "source": [
        "import numpy as np\n",
        "import pandas as pd\n",
        "import spacy\n",
        "from joblib import Parallel, delayed\n",
        "from tqdm.notebook import tqdm\n",
        "from nltk.corpus import stopwords\n",
        "import nltk\n",
        "\n",
        "\n",
        "nlp = spacy.load('en_core_web_sm')\n",
        "\n",
        "\n",
        "nltk.download('stopwords')\n",
        "stop_words = set(stopwords.words('english'))\n",
        "\n",
        "\n",
        "def preprocess(text):\n",
        "    \"\"\"Tokenize, remove stopwords, and lemmatize text using spaCy.\"\"\"\n",
        "    doc = nlp(text)\n",
        "    tokens = [token.lemma_ for token in doc if token.is_alpha and token.text.lower() not in stop_words]\n",
        "    return \" \".join(tokens)\n",
        "\n",
        "\n",
        "def parallel_preprocessing(series):\n",
        "    \"\"\"Preprocess text using spaCy, parallel processing, and tqdm for progress tracking.\"\"\"\n",
        "    tqdm.pandas()\n",
        "    return Parallel(n_jobs=10, backend=\"multiprocessing\")(delayed(preprocess)(text) for text in tqdm(series, desc=\"Preprocessing\"))\n",
        "\n",
        "\n",
        "ai_generated_dataset[\"preprocessedText\"] = parallel_preprocessing(ai_generated_dataset[\"text\"])\n",
        "\n",
        "print(ai_generated_dataset.head())\n"
      ],
      "metadata": {
        "colab": {
          "base_uri": "https://localhost:8080/",
          "height": 309,
          "referenced_widgets": [
            "dc0139650e8a48fc906d8544eaa6f90d",
            "fd04277baa534dd7bd428c226fc0e04f",
            "5af13ac01d924393bd2f7d40fd1ca19c",
            "176ef2d465234befafe49ef97262898f",
            "d3cbeee732b84e36940bb6c0b08f619d",
            "941c897d187a47a2a033b6e0cee504d1",
            "b327e643b47249f6a1e40400a0591ec0",
            "501d20d1c2aa427d908f155329029f0f",
            "1fb27b9e74a34cf3a8cb94b0be810f3e",
            "08f6cc4d6aea428cb48225472c286d35",
            "aeff1537834f4b5e8cadaffef417092b"
          ]
        },
        "id": "ht-kx-PVVMDm",
        "outputId": "c76540ba-c193-4e65-cb8a-ae3d520c764c"
      },
      "execution_count": null,
      "outputs": [
        {
          "output_type": "stream",
          "name": "stderr",
          "text": [
            "[nltk_data] Downloading package stopwords to /root/nltk_data...\n",
            "[nltk_data]   Package stopwords is already up-to-date!\n"
          ]
        },
        {
          "output_type": "display_data",
          "data": {
            "text/plain": [
              "Preprocessing:   0%|          | 0/44868 [00:00<?, ?it/s]"
            ],
            "application/vnd.jupyter.widget-view+json": {
              "version_major": 2,
              "version_minor": 0,
              "model_id": "dc0139650e8a48fc906d8544eaa6f90d"
            }
          },
          "metadata": {}
        },
        {
          "output_type": "stream",
          "name": "stdout",
          "text": [
            "                                                text  label  \\\n",
            "0  Phones\\n\\nModern humans today are always on th...      0   \n",
            "1  This essay will explain if drivers should or s...      0   \n",
            "2  Driving while the use of cellular devices\\n\\nT...      0   \n",
            "3  Phones & Driving\\n\\nDrivers should not be able...      0   \n",
            "4  Cell Phone Operation While Driving\\n\\nThe abil...      0   \n",
            "\n",
            "                                    preprocessedText  \n",
            "0  phone Modern human today always phone always p...  \n",
            "1  essay explain driver able use electronic devic...  \n",
            "2  drive use cellular device today society though...  \n",
            "3  Phones Driving driver able use phone operate v...  \n",
            "4  Cell Phone Operation drive ability stay connec...  \n"
          ]
        }
      ]
    },
    {
      "cell_type": "code",
      "source": [
        "# train_essays[\"preprocessedText\"]=preprocess_text(train_essays['text'])"
      ],
      "metadata": {
        "id": "goB1poMYtSK_"
      },
      "execution_count": null,
      "outputs": []
    },
    {
      "cell_type": "code",
      "source": [
        "# ai_human_dataset[\"preprocessedText\"]=preprocess_text(ai_human_dataset['text'])"
      ],
      "metadata": {
        "id": "9lM7gsVmrcue"
      },
      "execution_count": null,
      "outputs": []
    },
    {
      "cell_type": "code",
      "source": [
        "# print(train_essays.head())"
      ],
      "metadata": {
        "id": "oAyccXk8xdTm"
      },
      "execution_count": null,
      "outputs": []
    },
    {
      "cell_type": "code",
      "source": [
        "# print(ai_human_dataset.head())"
      ],
      "metadata": {
        "id": "3hBGujKSrl7o"
      },
      "execution_count": null,
      "outputs": []
    },
    {
      "cell_type": "code",
      "source": [
        "# from gensim.models import Word2Vec\n",
        "\n",
        "# sentences = train_essays['preprocessedText'].apply(lambda x: x.split())\n",
        "\n",
        "# word2vec_model = Word2Vec(sentences, vector_size=100, window=5, min_count=1, workers=4)\n",
        "\n",
        "# word_vector = word2vec_model.wv['car']\n",
        "# print(\"Vector for 'car':\", word_vector)\n",
        "\n",
        "# # train_essays['word2vecVector'] = sentences.apply(\n",
        "# #     lambda x: sum([word2vec_model.wv[word] for word in x if word in word2vec_model.wv]) / len(x)\n",
        "# # )\n",
        "\n",
        "# def calculate_average_word_vector(words,model,vector_size=100):\n",
        "#     word_vectors = [word2vec_model.wv[word] for word in words if word in word2vec_model.wv]\n",
        "#     if word_vectors:\n",
        "#         return np.mean(word_vectors, axis=0)\n",
        "#     else:\n",
        "#         return np.zeros(vector_size)\n",
        "\n",
        "# train_essays['word2vecVector'] = train_essays['preprocessedText'].apply(lambda x: calculate_average_word_vector(x.split(),word2vec_model))\n"
      ],
      "metadata": {
        "id": "TIsyFKawzzdF"
      },
      "execution_count": null,
      "outputs": []
    },
    {
      "cell_type": "code",
      "source": [
        "# from gensim.models import Word2Vec\n",
        "\n",
        "# sentences = ai_human_dataset[\"preprocessedText\"].apply(lambda x: x.split())\n",
        "\n",
        "# word2vec_model = Word2Vec(sentences, vector_size=100, window=5, min_count=1, workers=4)\n",
        "\n",
        "# word_vector = word2vec_model.wv['car']\n",
        "# print(\"Vector for 'car':\", word_vector)\n",
        "\n",
        "# # train_essays['word2vecVector'] = sentences.apply(\n",
        "# #     lambda x: sum([word2vec_model.wv[word] for word in x if word in word2vec_model.wv]) / len(x)\n",
        "# # )\n",
        "\n",
        "# def calculate_average_word_vector(words,model,vector_size=100):\n",
        "#     word_vectors = [word2vec_model.wv[word] for word in words if word in word2vec_model.wv]\n",
        "#     if word_vectors:\n",
        "#         return np.mean(word_vectors, axis=0)\n",
        "#     else:\n",
        "#         return np.zeros(vector_size)\n",
        "\n",
        "# ai_human_dataset['word2vecVector'] = ai_human_dataset[\"preprocessedText\"].apply(lambda x: calculate_average_word_vector(x.split(),word2vec_model))\n"
      ],
      "metadata": {
        "id": "9W9VYPw_z3Tn"
      },
      "execution_count": null,
      "outputs": []
    },
    {
      "cell_type": "markdown",
      "source": [
        "#**Creating Word2Vec Embeddings**"
      ],
      "metadata": {
        "id": "GeNwbv6sHxgw"
      }
    },
    {
      "cell_type": "code",
      "source": [
        "from gensim.models import Word2Vec\n",
        "\n",
        "sentences = ai_generated_dataset[\"preprocessedText\"].apply(lambda x: x.split())\n",
        "\n",
        "word2vec_model = Word2Vec(sentences, vector_size=100, window=5, min_count=1, workers=4)\n",
        "\n",
        "word_vector = word2vec_model.wv['car']\n",
        "print(\"Vector for 'car':\", word_vector)\n",
        "\n",
        "# train_essays['word2vecVector'] = sentences.apply(\n",
        "#     lambda x: sum([word2vec_model.wv[word] for word in x if word in word2vec_model.wv]) / len(x)\n",
        "# )\n",
        "\n",
        "def calculate_average_word_vector(words,model,vector_size=100):\n",
        "    word_vectors = [word2vec_model.wv[word] for word in words if word in word2vec_model.wv]\n",
        "    if word_vectors:\n",
        "        return np.mean(word_vectors, axis=0)\n",
        "    else:\n",
        "        return np.zeros(vector_size)\n",
        "\n",
        "def parallel_word2vec(row):\n",
        "    return calculate_average_word_vector(row.split(), word2vec_model)\n",
        "\n",
        "# ai_generated_dataset['word2vecVector'] = ai_generated_dataset[\"preprocessedText\"].apply(lambda x: calculate_average_word_vector(x.split(),word2vec_model))\n",
        "ai_generated_dataset['word2vecVector'] = Parallel(n_jobs=10,backend='multiprocessing')(delayed(parallel_word2vec)(row) for row in tqdm(ai_generated_dataset[\"preprocessedText\"], desc=\"Word2Vec\"))\n",
        "print(ai_generated_dataset.head())\n",
        "\n"
      ],
      "metadata": {
        "colab": {
          "base_uri": "https://localhost:8080/",
          "height": 691,
          "referenced_widgets": [
            "aba2738f59684f0bb712d3724b1e17a1",
            "13a8709f2b68436db7749dafb35af56f",
            "74beb3ea7b624c87bfdedd82b35914a3",
            "cccb989fa9d743c8991dee04424fff89",
            "09809b7d2e4f4ec4b1c99c8c879821d5",
            "8689f2ae7e7c447c8d6d329fe858e4dc",
            "f51609136da34323a8a71c8fc0f2eeaf",
            "449c71d6779f4b699ece0ea71aa9712a",
            "f58fd6c885794cec835cff30cc9e49e3",
            "9b06d6492cc14d03b99174378b8dcb2d",
            "ca0de70a14f44c9fbb3a4cf865ff2a75"
          ]
        },
        "id": "oRPabtS3V0Tg",
        "outputId": "94bbfd7c-699a-4083-8784-521d801f8a49"
      },
      "execution_count": null,
      "outputs": [
        {
          "output_type": "stream",
          "name": "stdout",
          "text": [
            "Vector for 'car': [ 0.5962737  -0.92818195  2.6535997  -0.05764337  1.2243859   4.3238535\n",
            " -1.4641442   0.941546    3.5248525  -0.93311226  0.37283757 -1.2600119\n",
            " -0.91792876 -0.59376144  0.1407949  -0.55901426  2.8251555  -0.29198852\n",
            " -0.08630872  0.37593096  3.8258963   0.23630196  2.667015   -0.52166784\n",
            "  0.76454     0.8136561  -1.9429241  -2.2136018  -0.5002454   1.8470684\n",
            " -0.71962917  0.06718119 -1.5099088  -0.41480696  0.44296107  0.06202271\n",
            " -0.55416137  0.7243642   0.75591224 -3.474041    0.6676011   0.6385082\n",
            "  0.29403654  0.70356816  0.7629455  -1.8164337   0.35143366  0.29509485\n",
            "  1.0757256   0.5113459   1.3205835  -0.48045835  0.8101994  -1.2591813\n",
            "  0.29692215  3.040532    0.6535584   0.87207186 -1.6348126  -1.9509165\n",
            " -3.7222629  -1.1953813   3.9625354  -1.2378793  -0.49908292 -0.9195943\n",
            " -2.462364   -0.05109651 -0.7010699  -1.1108385   1.5739691  -2.1976953\n",
            " -0.17178956 -0.6267602  -1.5306085  -2.0007076  -3.48499    -0.34771413\n",
            "  0.19476208 -1.0221956   2.2191246   0.6264192  -1.7266216   1.7699319\n",
            "  0.14260809 -1.5378358   0.6019846   2.202184    0.46679294 -2.649165\n",
            " -2.154378   -2.2628253  -0.8356674   1.6686391   0.2275623   3.2400522\n",
            " -0.9402488  -0.17795412 -0.84979796  0.4601828 ]\n"
          ]
        },
        {
          "output_type": "display_data",
          "data": {
            "text/plain": [
              "Word2Vec:   0%|          | 0/44868 [00:00<?, ?it/s]"
            ],
            "application/vnd.jupyter.widget-view+json": {
              "version_major": 2,
              "version_minor": 0,
              "model_id": "aba2738f59684f0bb712d3724b1e17a1"
            }
          },
          "metadata": {}
        },
        {
          "output_type": "stream",
          "name": "stdout",
          "text": [
            "                                                text  label  \\\n",
            "0  Phones\\n\\nModern humans today are always on th...      0   \n",
            "1  This essay will explain if drivers should or s...      0   \n",
            "2  Driving while the use of cellular devices\\n\\nT...      0   \n",
            "3  Phones & Driving\\n\\nDrivers should not be able...      0   \n",
            "4  Cell Phone Operation While Driving\\n\\nThe abil...      0   \n",
            "\n",
            "                                    preprocessedText  \\\n",
            "0  phone Modern human today always phone always p...   \n",
            "1  essay explain driver able use electronic devic...   \n",
            "2  drive use cellular device today society though...   \n",
            "3  Phones Driving driver able use phone operate v...   \n",
            "4  Cell Phone Operation drive ability stay connec...   \n",
            "\n",
            "                                      word2vecVector  \n",
            "0  [-0.6782628, 0.23650575, 0.46880054, 0.1871484...  \n",
            "1  [-0.019365383, -0.0036262611, 0.18905105, -0.0...  \n",
            "2  [0.004628463, 0.3914926, 0.5535957, 0.12398179...  \n",
            "3  [0.23808499, -0.07736159, 0.7977521, -0.061762...  \n",
            "4  [-0.17443596, 0.18279512, 0.0846121, 0.0974503...  \n"
          ]
        }
      ]
    },
    {
      "cell_type": "code",
      "source": [
        "# from gensim.models.doc2vec import Doc2Vec, TaggedDocument\n",
        "\n",
        "# tagged_data = [TaggedDocument(words=text.split(), tags=[str(i)]) for i, text in enumerate(train_essays['preprocessedText'])]\n",
        "\n",
        "# doc2vec_model = Doc2Vec(tagged_data, vector_size=100, window=5, min_count=1, workers=4)\n",
        "\n",
        "# train_essays['doc2vecVector'] = train_essays.index.map(lambda x: doc2vec_model.dv[str(x)])\n"
      ],
      "metadata": {
        "id": "zKrP9kmsgqv_"
      },
      "execution_count": null,
      "outputs": []
    },
    {
      "cell_type": "code",
      "source": [
        "# from gensim.models.doc2vec import Doc2Vec, TaggedDocument\n",
        "\n",
        "# tagged_data = [TaggedDocument(words=text.split(), tags=[str(i)]) for i, text in enumerate(ai_human_dataset[\"preprocessedText\"])]\n",
        "\n",
        "# doc2vec_model = Doc2Vec(tagged_data, vector_size=100, window=5, min_count=1, workers=4)\n",
        "\n",
        "# ai_human_dataset['doc2vecVector'] = ai_human_dataset.index.map(lambda x: doc2vec_model.dv[str(x)])"
      ],
      "metadata": {
        "id": "VDkQdUMS0GRS"
      },
      "execution_count": null,
      "outputs": []
    },
    {
      "cell_type": "markdown",
      "source": [
        "#**Creating Doc2Vec Embeddings**"
      ],
      "metadata": {
        "id": "qotyAPoIH8oX"
      }
    },
    {
      "cell_type": "code",
      "source": [
        "from gensim.models.doc2vec import Doc2Vec, TaggedDocument\n",
        "\n",
        "\n",
        "def prepare_tagged_documents(series):\n",
        "    \"\"\"Prepare tagged documents for Doc2Vec.\"\"\"\n",
        "    return [TaggedDocument(words=text.split(), tags=[str(i)]) for i, text in enumerate(series)]\n",
        "\n",
        "\n",
        "tqdm.pandas(desc=\"Preparing Tagged Documents\")\n",
        "tagged_data = prepare_tagged_documents(tqdm(ai_generated_dataset[\"preprocessedText\"], desc=\"Tagging Data\"))\n",
        "\n",
        "\n",
        "doc2vec_model = Doc2Vec(tagged_data, vector_size=100, window=5, min_count=1, workers=4)\n",
        "\n",
        "# Function to generate Doc2Vec vectors\n",
        "def generate_doc2vec_vector(index):\n",
        "    \"\"\"Generate a Doc2Vec vector for a given index.\"\"\"\n",
        "    return doc2vec_model.dv[str(index)]\n",
        "\n",
        "# Use tqdm and joblib to parallelize vector generation\n",
        "def generate_doc2vec_vectors_parallel(dataframe):\n",
        "    \"\"\"Generate Doc2Vec vectors in parallel with progress tracking.\"\"\"\n",
        "    indices = dataframe.index\n",
        "    return Parallel(n_jobs=10, backend=\"multiprocessing\")(delayed(generate_doc2vec_vector)(index) for index in tqdm(indices, desc=\"Generating Doc2Vec Vectors\"))\n",
        "\n",
        "ai_generated_dataset['doc2vecVector'] = generate_doc2vec_vectors_parallel(ai_generated_dataset)\n",
        "\n",
        "\n",
        "print(ai_generated_dataset.head())\n"
      ],
      "metadata": {
        "colab": {
          "base_uri": "https://localhost:8080/",
          "height": 550,
          "referenced_widgets": [
            "2d06a14c108548ba866a0491dc7645b6",
            "3bc40f4a6d3246beb528cdee6feba04b",
            "9c7f88d2dd2243038f0e5496c6915569",
            "737071d1e6c94083b652e2101b2d9d92",
            "5a7bf9f33a3c4ab88ebafe24e592a43a",
            "40b4266187264b52ad4646e0b57378c4",
            "3de69e353f70459d8c33944431bbf299",
            "d81f213ba3ab4756b641990900b68574",
            "f86ce052ffe84a9c9ca66a7e25057d24",
            "488047792acf4fe98900e1346f2eb042",
            "326a00f21c914c21bdb4caa55e19a344",
            "3c1080679d794447bd58fee1516c72e5",
            "575a0aafe047421299abe0aa1d149d6e",
            "927d623fd2994d3fb9428b99dfc12334",
            "a6635080690a400890e25f95a1be08e7",
            "9d4e32377b1942ed9d804586c96d93f1",
            "14f19ca596354cfca474e8d829dce4c4",
            "3819a776ebd3478995d1a9c97671ef37",
            "5633c800659c42a091f75cf18aef6987",
            "f984f1d608604358bb3bf7d5ef5ff903",
            "81d12f4d64cf492d9b3ee9b37875200f",
            "633975c829924cb5ac5627eea8725944"
          ]
        },
        "id": "qvgs8xGcnjU_",
        "outputId": "272d00ae-e162-46d0-dd8f-3db51ed9f180"
      },
      "execution_count": null,
      "outputs": [
        {
          "output_type": "display_data",
          "data": {
            "text/plain": [
              "Tagging Data:   0%|          | 0/44868 [00:00<?, ?it/s]"
            ],
            "application/vnd.jupyter.widget-view+json": {
              "version_major": 2,
              "version_minor": 0,
              "model_id": "2d06a14c108548ba866a0491dc7645b6"
            }
          },
          "metadata": {}
        },
        {
          "output_type": "display_data",
          "data": {
            "text/plain": [
              "Generating Doc2Vec Vectors:   0%|          | 0/44868 [00:00<?, ?it/s]"
            ],
            "application/vnd.jupyter.widget-view+json": {
              "version_major": 2,
              "version_minor": 0,
              "model_id": "3c1080679d794447bd58fee1516c72e5"
            }
          },
          "metadata": {}
        },
        {
          "output_type": "stream",
          "name": "stdout",
          "text": [
            "                                                text  label  \\\n",
            "0  Phones\\n\\nModern humans today are always on th...      0   \n",
            "1  This essay will explain if drivers should or s...      0   \n",
            "2  Driving while the use of cellular devices\\n\\nT...      0   \n",
            "3  Phones & Driving\\n\\nDrivers should not be able...      0   \n",
            "4  Cell Phone Operation While Driving\\n\\nThe abil...      0   \n",
            "\n",
            "                                    preprocessedText  \\\n",
            "0  phone Modern human today always phone always p...   \n",
            "1  essay explain driver able use electronic devic...   \n",
            "2  drive use cellular device today society though...   \n",
            "3  Phones Driving driver able use phone operate v...   \n",
            "4  Cell Phone Operation drive ability stay connec...   \n",
            "\n",
            "                                      word2vecVector  \\\n",
            "0  [-0.6782628, 0.23650575, 0.46880054, 0.1871484...   \n",
            "1  [-0.019365383, -0.0036262611, 0.18905105, -0.0...   \n",
            "2  [0.004628463, 0.3914926, 0.5535957, 0.12398179...   \n",
            "3  [0.23808499, -0.07736159, 0.7977521, -0.061762...   \n",
            "4  [-0.17443596, 0.18279512, 0.0846121, 0.0974503...   \n",
            "\n",
            "                                       doc2vecVector  \n",
            "0  [-0.03444777, 0.82748353, -0.32399952, -0.4934...  \n",
            "1  [-0.017388904, 0.06004621, 0.29544157, -0.5782...  \n",
            "2  [0.1020488, 0.1320917, 0.40519765, -0.05841447...  \n",
            "3  [0.13109797, 0.014662967, -0.13230641, -0.3147...  \n",
            "4  [0.005553728, 0.21946354, 0.17942502, -0.27214...  \n"
          ]
        }
      ]
    },
    {
      "cell_type": "code",
      "source": [
        "# print(train_essays.head())"
      ],
      "metadata": {
        "id": "JeU2USKZg8LN"
      },
      "execution_count": null,
      "outputs": []
    },
    {
      "cell_type": "code",
      "source": [
        "# from sklearn.model_selection import train_test_split\n",
        "\n",
        "# y = train_essays['generated']\n",
        "\n",
        "# train_index, test_index = train_test_split(train_essays.index, test_size=0.2, random_state=42)"
      ],
      "metadata": {
        "id": "FsW-bZJVhUXy"
      },
      "execution_count": null,
      "outputs": []
    },
    {
      "cell_type": "markdown",
      "source": [
        "#**Splitting the Test and Train indexes and Separating the Labels from the Data**"
      ],
      "metadata": {
        "id": "6fsEKQraIHwL"
      }
    },
    {
      "cell_type": "code",
      "source": [
        "from sklearn.model_selection import train_test_split\n",
        "\n",
        "y = ai_generated_dataset['label']\n",
        "\n",
        "train_index, test_index = train_test_split(ai_generated_dataset.index, test_size=0.2, random_state=42)"
      ],
      "metadata": {
        "id": "_i0ssR6L0dp6"
      },
      "execution_count": null,
      "outputs": []
    },
    {
      "cell_type": "code",
      "source": [
        "# from sklearn.model_selection import train_test_split\n",
        "\n",
        "# y = ai_human_dataset['generated']\n",
        "\n",
        "# train_index, test_index = train_test_split(ai_human_dataset.index, test_size=0.2, random_state=42)"
      ],
      "metadata": {
        "id": "AKsDAiNCoXfu"
      },
      "execution_count": null,
      "outputs": []
    },
    {
      "cell_type": "code",
      "source": [
        "# from sklearn.feature_extraction.text import TfidfVectorizer\n",
        "\n",
        "# tfidf_vectorizer = TfidfVectorizer(max_features=1000)\n",
        "# X_tfidf = tfidf_vectorizer.fit_transform(train_essays['preprocessedText'])\n",
        "\n",
        "# X_train_tfidf, X_test_tfidf = X_tfidf[train_index], X_tfidf[test_index]\n",
        "# y_train, y_test = y[train_index], y[test_index]\n"
      ],
      "metadata": {
        "id": "lSBF5CjxhlFP"
      },
      "execution_count": null,
      "outputs": []
    },
    {
      "cell_type": "markdown",
      "source": [
        "#**Creating TF-IDF Embeddings**"
      ],
      "metadata": {
        "id": "htJAfPMrIl5n"
      }
    },
    {
      "cell_type": "code",
      "source": [
        "from sklearn.feature_extraction.text import TfidfVectorizer\n",
        "\n",
        "tfidf_vectorizer = TfidfVectorizer(max_features=1000)\n",
        "X_tfidf = tfidf_vectorizer.fit_transform(ai_generated_dataset[\"preprocessedText\"])\n",
        "\n",
        "X_train_tfidf, X_test_tfidf = X_tfidf[train_index], X_tfidf[test_index]\n",
        "y_train, y_test = y[train_index], y[test_index]\n"
      ],
      "metadata": {
        "id": "PH4Lysdq0osa"
      },
      "execution_count": null,
      "outputs": []
    },
    {
      "cell_type": "markdown",
      "source": [
        "#**Splitting Word2Vec Embeddings into Train and Test Datasets"
      ],
      "metadata": {
        "id": "7PRuuvL9IupS"
      }
    },
    {
      "cell_type": "code",
      "source": [
        "ai_generated_dataset['word2vecVector'] = ai_generated_dataset['word2vecVector'].apply(lambda x: np.array(x))\n",
        "\n",
        "X_word2vec = np.stack(ai_generated_dataset['word2vecVector'].values)\n",
        "\n",
        "X_train_word2vec, X_test_word2vec = X_word2vec[train_index], X_word2vec[test_index]\n",
        "\n",
        "print(X_train_word2vec.shape)\n",
        "print(X_test_word2vec.shape)\n",
        "print(X_train_word2vec)"
      ],
      "metadata": {
        "id": "JLjvTwhYjg5c",
        "colab": {
          "base_uri": "https://localhost:8080/"
        },
        "outputId": "017a0956-25c3-49a9-87bc-25246838653d"
      },
      "execution_count": null,
      "outputs": [
        {
          "output_type": "stream",
          "name": "stdout",
          "text": [
            "(35894, 100)\n",
            "(8974, 100)\n",
            "[[-0.65024245  0.19181332  1.074703   ... -0.21261919 -0.3324465\n",
            "  -0.93674195]\n",
            " [-0.5001793  -0.08839099  0.37491983 ... -0.7419742  -0.484278\n",
            "  -0.16304582]\n",
            " [-0.7284487   0.3253978   0.8758696  ... -0.20074868 -0.07075012\n",
            "  -0.23648816]\n",
            " ...\n",
            " [-0.65365165  0.11777831  0.85443723 ...  0.01597217 -0.9088834\n",
            "  -0.2610579 ]\n",
            " [-0.3111492   0.07460503  0.41989803 ...  0.09475005 -0.6905856\n",
            "  -0.30385342]\n",
            " [-0.89676195  0.42966223  0.54343796 ... -0.11098306 -0.37306657\n",
            "  -0.5420334 ]]\n"
          ]
        }
      ]
    },
    {
      "cell_type": "code",
      "source": [
        "# train_essays['word2vecVector'] = train_essays['word2vecVector'].apply(lambda x: np.array(x))\n",
        "\n",
        "# X_word2vec = np.stack(train_essays['word2vecVector'].values)\n",
        "\n",
        "# X_train_word2vec, X_test_word2vec = X_word2vec[train_index], X_word2vec[test_index]\n",
        "\n",
        "# print(X_train_word2vec.shape)\n",
        "# print(X_test_word2vec.shape)\n",
        "# print(X_train_word2vec)"
      ],
      "metadata": {
        "id": "y_WIf5vY0_4x"
      },
      "execution_count": null,
      "outputs": []
    },
    {
      "cell_type": "markdown",
      "source": [
        "#**Splitting Doc2Vec Embeddings into Train and Test Datasets**"
      ],
      "metadata": {
        "id": "o5c0RNmGJA3G"
      }
    },
    {
      "cell_type": "code",
      "source": [
        "ai_generated_dataset['doc2vecVector'] = ai_generated_dataset['doc2vecVector'].apply(lambda x: np.array(x))\n",
        "X_doc2vec = np.stack(ai_generated_dataset['doc2vecVector'].values)\n",
        "X_train_doc2vec, X_test_doc2vec = X_doc2vec[train_index], X_doc2vec[test_index]\n",
        "print(X_train_doc2vec.shape)\n",
        "print(X_test_doc2vec.shape)\n",
        "print(X_train_doc2vec)"
      ],
      "metadata": {
        "id": "R_15evjXjwIk",
        "colab": {
          "base_uri": "https://localhost:8080/"
        },
        "outputId": "fddde109-888c-4647-987f-9602cd0e0a31"
      },
      "execution_count": null,
      "outputs": [
        {
          "output_type": "stream",
          "name": "stdout",
          "text": [
            "(35894, 100)\n",
            "(8974, 100)\n",
            "[[ 0.21062015 -0.004447   -0.09290063 ...  0.05933606  0.30229187\n",
            "  -0.0919051 ]\n",
            " [ 0.32557538 -0.1682465  -0.32784384 ... -0.11312847  0.43012157\n",
            "  -0.0958719 ]\n",
            " [-0.25527412  1.470126   -0.09860298 ...  0.052782    0.4983421\n",
            "   0.10903812]\n",
            " ...\n",
            " [ 0.08519941  0.04172662 -0.36781234 ... -0.09208106  0.08778302\n",
            "  -0.14463738]\n",
            " [ 0.15849286  0.24429685  0.02958919 ... -0.2148677   0.05409148\n",
            "  -0.24303465]\n",
            " [ 0.13247812 -0.03046415 -0.23711872 ... -0.08562817  0.2642509\n",
            "  -0.27570826]]\n"
          ]
        }
      ]
    },
    {
      "cell_type": "code",
      "source": [
        "# train_essays['doc2vecVector'] = train_essays['doc2vecVector'].apply(lambda x: np.array(x))\n",
        "# X_doc2vec = np.stack(train_essays['doc2vecVector'].values)\n",
        "# X_train_doc2vec, X_test_doc2vec = X_doc2vec[train_index], X_doc2vec[test_index]\n",
        "# print(X_train_doc2vec.shape)\n",
        "# print(X_test_doc2vec.shape)\n",
        "# print(X_train_doc2vec)"
      ],
      "metadata": {
        "id": "dka8weX91R_h"
      },
      "execution_count": null,
      "outputs": []
    },
    {
      "cell_type": "markdown",
      "source": [
        "#**Implementing SVM on Different Types of Embeddings and Comparing Results**"
      ],
      "metadata": {
        "id": "HP58o58fJNgM"
      }
    },
    {
      "cell_type": "code",
      "source": [
        "from sklearn.svm import SVC\n",
        "from sklearn.metrics import accuracy_score, precision_score, recall_score, f1_score\n",
        "\n",
        "\n",
        "def evaluate_svm_model(X_train, X_test, y_train, y_test):\n",
        "    svm_model = SVC(class_weight='balanced')\n",
        "    svm_model.fit(X_train, y_train)\n",
        "    y_pred = svm_model.predict(X_test)\n",
        "    return {\n",
        "        \"Accuracy\": accuracy_score(y_test, y_pred),\n",
        "        \"Precision\": precision_score(y_test, y_pred,),\n",
        "        \"Recall\": recall_score(y_test, y_pred),\n",
        "        \"F1-Score\": f1_score(y_test, y_pred)\n",
        "    }\n",
        "\n",
        "\n",
        "results_tfidf = evaluate_svm_model(X_train_tfidf, X_test_tfidf, y_train, y_test)\n",
        "print(\"TF-IDF Results for SVM:\", results_tfidf)\n",
        "\n",
        "\n",
        "results_word2vec = evaluate_svm_model(X_train_word2vec, X_test_word2vec, y_train, y_test)\n",
        "print(\"Word2Vec Results for SVM:\", results_word2vec)\n",
        "\n",
        "\n",
        "results_doc2vec = evaluate_svm_model(X_train_doc2vec, X_test_doc2vec, y_train, y_test)\n",
        "print(\"Doc2Vec Results for SVM:\", results_doc2vec)\n"
      ],
      "metadata": {
        "id": "MeegEozDkbp5",
        "colab": {
          "base_uri": "https://localhost:8080/"
        },
        "outputId": "c094f6e0-6fff-4246-c583-b9fc36614908"
      },
      "execution_count": null,
      "outputs": [
        {
          "output_type": "stream",
          "name": "stdout",
          "text": [
            "TF-IDF Results for SVM: {'Accuracy': 0.9936483173612659, 'Precision': 0.9973943254198031, 'Recall': 0.9862582307472088, 'F1-Score': 0.9917950194328488}\n",
            "Word2Vec Results for SVM: {'Accuracy': 0.9856251392912859, 'Precision': 0.9855658198614319, 'Recall': 0.977383338104781, 'F1-Score': 0.9814575247951703}\n",
            "Doc2Vec Results for SVM: {'Accuracy': 0.9338087809226655, 'Precision': 0.9171223021582734, 'Recall': 0.9123962210134555, 'F1-Score': 0.9147531572904707}\n"
          ]
        }
      ]
    },
    {
      "cell_type": "markdown",
      "source": [
        "#**Implementing Decision Tree on Different Types of Embeddings and Comparing Results**"
      ],
      "metadata": {
        "id": "o3wIU2XXJqHc"
      }
    },
    {
      "cell_type": "code",
      "source": [
        "from sklearn.tree import DecisionTreeClassifier\n",
        "def evaluate_decisionTree_model(X_train, X_test, y_train, y_test):\n",
        "    dt_model = DecisionTreeClassifier(random_state=42)\n",
        "    dt_model.fit(X_train, y_train)\n",
        "    y_pred = dt_model.predict(X_test)\n",
        "    return {\n",
        "        \"Accuracy\": accuracy_score(y_test, y_pred),\n",
        "        \"Precision\": precision_score(y_test, y_pred,),\n",
        "        \"Recall\": recall_score(y_test, y_pred),\n",
        "        \"F1-Score\": f1_score(y_test, y_pred)\n",
        "    }\n",
        "\n",
        "results_tfidf = evaluate_decisionTree_model(X_train_tfidf, X_test_tfidf, y_train, y_test)\n",
        "print(\"TF-IDF Results for Decision Tree:\", results_tfidf)\n",
        "\n",
        "\n",
        "results_word2vec = evaluate_decisionTree_model(X_train_word2vec, X_test_word2vec, y_train, y_test)\n",
        "print(\"Word2Vec Results for Decision Tree:\", results_word2vec)\n",
        "\n",
        "\n",
        "results_doc2vec = evaluate_decisionTree_model(X_train_doc2vec, X_test_doc2vec, y_train, y_test)\n",
        "print(\"Doc2Vec Results for Decision Tree:\", results_doc2vec)\n"
      ],
      "metadata": {
        "id": "fwmYs9TX0uW4",
        "colab": {
          "base_uri": "https://localhost:8080/"
        },
        "outputId": "e1112b9f-d734-40da-d90e-11c7556ab057"
      },
      "execution_count": null,
      "outputs": [
        {
          "output_type": "stream",
          "name": "stdout",
          "text": [
            "TF-IDF Results for Decision Tree: {'Accuracy': 0.9248941386226878, 'Precision': 0.906313058518305, 'Recall': 0.9000858860578299, 'F1-Score': 0.9031887388681413}\n",
            "Word2Vec Results for Decision Tree: {'Accuracy': 0.9338087809226655, 'Precision': 0.9102745542032267, 'Recall': 0.9206985399370169, 'F1-Score': 0.9154568744662681}\n",
            "Doc2Vec Results for Decision Tree: {'Accuracy': 0.6445286382883887, 'Precision': 0.5434470891884141, 'Recall': 0.542513598625823, 'F1-Score': 0.5429799426934098}\n"
          ]
        }
      ]
    },
    {
      "cell_type": "markdown",
      "source": [
        "#**Implementing Random Forest on Different Types of Embeddings and Comparing Results**"
      ],
      "metadata": {
        "id": "rtFEfGBJKKsQ"
      }
    },
    {
      "cell_type": "code",
      "source": [
        "from sklearn.ensemble import RandomForestClassifier\n",
        "def evaluate_randomForest_model(X_train, X_test, y_train, y_test):\n",
        "    rf_model = RandomForestClassifier(random_state=42)\n",
        "    rf_model.fit(X_train, y_train)\n",
        "    y_pred = rf_model.predict(X_test)\n",
        "    return {\n",
        "        \"Accuracy\": accuracy_score(y_test, y_pred),\n",
        "        \"Precision\": precision_score(y_test, y_pred,),\n",
        "        \"Recall\": recall_score(y_test, y_pred),\n",
        "        \"F1-Score\": f1_score(y_test, y_pred)\n",
        "    }\n",
        "results_tfidf = evaluate_randomForest_model(X_train_tfidf, X_test_tfidf, y_train, y_test)\n",
        "print(\"TF-IDF Results for Random Forest:\", results_tfidf)\n",
        "\n",
        "\n",
        "results_word2vec = evaluate_randomForest_model(X_train_word2vec, X_test_word2vec, y_train, y_test)\n",
        "print(\"Word2Vec Results for Random Forest:\", results_word2vec)\n",
        "\n",
        "\n",
        "results_doc2vec = evaluate_randomForest_model(X_train_doc2vec, X_test_doc2vec, y_train, y_test)\n",
        "print(\"Doc2Vec Results for Random Forest:\", results_doc2vec)"
      ],
      "metadata": {
        "id": "Ms6E55KI0wp7",
        "colab": {
          "base_uri": "https://localhost:8080/"
        },
        "outputId": "8a1528cf-dd46-4a82-930b-1fc235b5539f"
      },
      "execution_count": null,
      "outputs": [
        {
          "output_type": "stream",
          "name": "stdout",
          "text": [
            "TF-IDF Results for Random Forest: {'Accuracy': 0.9813906841987965, 'Precision': 0.9914302600472813, 'Recall': 0.960492413398225, 'F1-Score': 0.9757161553002763}\n",
            "Word2Vec Results for Random Forest: {'Accuracy': 0.9749275685313127, 'Precision': 0.9820058997050147, 'Recall': 0.953048955052963, 'F1-Score': 0.9673107656545111}\n",
            "Doc2Vec Results for Random Forest: {'Accuracy': 0.8111210162692222, 'Precision': 0.9024171888988362, 'Recall': 0.5771543086172345, 'F1-Score': 0.7040335254059717}\n"
          ]
        }
      ]
    },
    {
      "cell_type": "markdown",
      "source": [
        "#**Implementing KNN on Different Types of Embeddings and Comparing Results**"
      ],
      "metadata": {
        "id": "HIxP3NsGKUo4"
      }
    },
    {
      "cell_type": "code",
      "source": [
        "from sklearn.neighbors import KNeighborsClassifier\n",
        "# import matplotlib.pyplot as plt\n",
        "def evaluate_knn_model(X_train, X_test, y_train, y_test,n):\n",
        "    knn_model = KNeighborsClassifier(n_neighbors=n)\n",
        "    knn_model.fit(X_train, y_train)\n",
        "    y_pred = knn_model.predict(X_test)\n",
        "    return {\n",
        "        \"Accuracy\": accuracy_score(y_test, y_pred),\n",
        "        \"Precision\": precision_score(y_test, y_pred,),\n",
        "        \"Recall\": recall_score(y_test, y_pred),\n",
        "        \"F1-Score\": f1_score(y_test, y_pred)\n",
        "    }\n",
        "\n",
        "\n",
        "# accuracies = []\n",
        "\n",
        "# for i in range(1,11):\n",
        "results_tfidf = evaluate_knn_model(X_train_tfidf, X_test_tfidf, y_train, y_test,3)\n",
        "print(\"TF-IDF Results for KNN:\", results_tfidf)\n",
        "# accuracies.append(1-results_tfidf[\"Accuracy\"])\n",
        "\n",
        "\n",
        "# plt.plot(range(1,11),accuracies)\n",
        "# plt.xlabel(\"K\")\n",
        "# plt.ylabel(\"Error Rate\")\n",
        "\n",
        "\n",
        "\n",
        "results_word2vec = evaluate_knn_model(X_train_word2vec, X_test_word2vec, y_train, y_test,3)\n",
        "print(\"Word2Vec Results for KNN:\", results_word2vec)\n",
        "\n",
        "\n",
        "results_doc2vec = evaluate_knn_model(X_train_doc2vec, X_test_doc2vec, y_train, y_test,3)\n",
        "print(\"Doc2Vec Results for KNN:\", results_doc2vec)\n",
        "\n"
      ],
      "metadata": {
        "id": "J0yFlmdN0yuk",
        "colab": {
          "base_uri": "https://localhost:8080/"
        },
        "outputId": "4e8add71-c2fc-446a-c99e-2b88bd29969c"
      },
      "execution_count": null,
      "outputs": [
        {
          "output_type": "stream",
          "name": "stdout",
          "text": [
            "TF-IDF Results for KNN: {'Accuracy': 0.9808335190550479, 'Precision': 0.9767441860465116, 'Recall': 0.9739478957915831, 'F1-Score': 0.9753440366972477}\n",
            "Word2Vec Results for KNN: {'Accuracy': 0.9854022732337865, 'Precision': 0.992096018735363, 'Recall': 0.9702261666189522, 'F1-Score': 0.9810392242003184}\n",
            "Doc2Vec Results for KNN: {'Accuracy': 0.8064408290617339, 'Precision': 0.7366576819407008, 'Recall': 0.7824219868308044, 'F1-Score': 0.758850478967097}\n"
          ]
        }
      ]
    },
    {
      "cell_type": "markdown",
      "source": [
        "#**Implementing the best embedding technique for each model and using it on custom data**\n",
        "\n",
        "\n",
        "#1.   SVM :- TF-IDF\n",
        "#2.   Decision Tree :- Word2Vec\n",
        "#3.   Random Forest :- TF-IDF\n",
        "#4.   KNN :- Word2Vec  \n",
        "\n"
      ],
      "metadata": {
        "id": "q7dnSsjsKgdz"
      }
    },
    {
      "cell_type": "code",
      "source": [
        "knn_model = KNeighborsClassifier(n_neighbors=3)\n",
        "knn_model.fit(X_train_tfidf, y_train)\n",
        "y_pred = knn_model.predict(X_test_tfidf)\n",
        "print(\"Accuracy:\", accuracy_score(y_test, y_pred))\n",
        "print(\"Precision:\", precision_score(y_test, y_pred))\n",
        "print(\"Recall:\", recall_score(y_test, y_pred))\n",
        "print(\"F1-Score:\", f1_score(y_test, y_pred))\n"
      ],
      "metadata": {
        "id": "Q5m3E8tjqZ3p",
        "colab": {
          "base_uri": "https://localhost:8080/"
        },
        "outputId": "43a95341-0bd2-40c7-ccb5-bdb9664ab957"
      },
      "execution_count": null,
      "outputs": [
        {
          "output_type": "stream",
          "name": "stdout",
          "text": [
            "Accuracy: 0.9808335190550479\n",
            "Precision: 0.9767441860465116\n",
            "Recall: 0.9739478957915831\n",
            "F1-Score: 0.9753440366972477\n",
            "Prediction: [1]\n"
          ]
        }
      ]
    },
    {
      "cell_type": "code",
      "source": [
        "custom_data=[\"The beauty of nature lies in its simplicity. Mountains, rivers, forests—they all hold a delicate balance.\",\n",
        "    \"Preservation of biodiversity ensures that ecosystems remain sustainable, enabling natural processes such as pollination.\",\n",
        "    \"With the advent of smartphones, communication has become more accessible than ever. However, this technological leap comes with its own set of challenges.\",\n",
        "    \"The integration of artificial intelligence into daily life has led to innovations like smart homes and autonomous vehicles.\",\n",
        "    \"Education is the cornerstone of progress. It's not just about degrees but the ability to think critically.\",\n",
        "    \"Online learning platforms have democratized education, allowing individuals from remote areas to access quality resources.\"]\n",
        "preprocessed_custom_data = [preprocess(text) for text in custom_data]\n",
        "custom_data_tfidf = tfidf_vectorizer.transform([custom_data])\n",
        "prediction = knn_model.predict(custom_data_tfidf)\n",
        "print(\"Prediction:\", prediction)"
      ],
      "metadata": {
        "colab": {
          "base_uri": "https://localhost:8080/"
        },
        "id": "orWKAnHwDBFs",
        "outputId": "21930f5e-7072-4881-dc79-20f3ee46a764"
      },
      "execution_count": null,
      "outputs": [
        {
          "output_type": "stream",
          "name": "stdout",
          "text": [
            "Prediction: [0]\n"
          ]
        }
      ]
    },
    {
      "cell_type": "code",
      "source": [],
      "metadata": {
        "id": "4YTiYUUWEAsj"
      },
      "execution_count": null,
      "outputs": []
    }
  ],
  "metadata": {
    "colab": {
      "provenance": [],
      "authorship_tag": "ABX9TyP7F0ct9FZWKREDkpB1ofsg",
      "include_colab_link": true
    },
    "kernelspec": {
      "display_name": "Python 3",
      "name": "python3"
    },
    "language_info": {
      "name": "python"
    },
    "widgets": {
      "application/vnd.jupyter.widget-state+json": {
        "dc0139650e8a48fc906d8544eaa6f90d": {
          "model_module": "@jupyter-widgets/controls",
          "model_name": "HBoxModel",
          "model_module_version": "1.5.0",
          "state": {
            "_dom_classes": [],
            "_model_module": "@jupyter-widgets/controls",
            "_model_module_version": "1.5.0",
            "_model_name": "HBoxModel",
            "_view_count": null,
            "_view_module": "@jupyter-widgets/controls",
            "_view_module_version": "1.5.0",
            "_view_name": "HBoxView",
            "box_style": "",
            "children": [
              "IPY_MODEL_fd04277baa534dd7bd428c226fc0e04f",
              "IPY_MODEL_5af13ac01d924393bd2f7d40fd1ca19c",
              "IPY_MODEL_176ef2d465234befafe49ef97262898f"
            ],
            "layout": "IPY_MODEL_d3cbeee732b84e36940bb6c0b08f619d"
          }
        },
        "fd04277baa534dd7bd428c226fc0e04f": {
          "model_module": "@jupyter-widgets/controls",
          "model_name": "HTMLModel",
          "model_module_version": "1.5.0",
          "state": {
            "_dom_classes": [],
            "_model_module": "@jupyter-widgets/controls",
            "_model_module_version": "1.5.0",
            "_model_name": "HTMLModel",
            "_view_count": null,
            "_view_module": "@jupyter-widgets/controls",
            "_view_module_version": "1.5.0",
            "_view_name": "HTMLView",
            "description": "",
            "description_tooltip": null,
            "layout": "IPY_MODEL_941c897d187a47a2a033b6e0cee504d1",
            "placeholder": "​",
            "style": "IPY_MODEL_b327e643b47249f6a1e40400a0591ec0",
            "value": "Preprocessing: 100%"
          }
        },
        "5af13ac01d924393bd2f7d40fd1ca19c": {
          "model_module": "@jupyter-widgets/controls",
          "model_name": "FloatProgressModel",
          "model_module_version": "1.5.0",
          "state": {
            "_dom_classes": [],
            "_model_module": "@jupyter-widgets/controls",
            "_model_module_version": "1.5.0",
            "_model_name": "FloatProgressModel",
            "_view_count": null,
            "_view_module": "@jupyter-widgets/controls",
            "_view_module_version": "1.5.0",
            "_view_name": "ProgressView",
            "bar_style": "success",
            "description": "",
            "description_tooltip": null,
            "layout": "IPY_MODEL_501d20d1c2aa427d908f155329029f0f",
            "max": 44868,
            "min": 0,
            "orientation": "horizontal",
            "style": "IPY_MODEL_1fb27b9e74a34cf3a8cb94b0be810f3e",
            "value": 44868
          }
        },
        "176ef2d465234befafe49ef97262898f": {
          "model_module": "@jupyter-widgets/controls",
          "model_name": "HTMLModel",
          "model_module_version": "1.5.0",
          "state": {
            "_dom_classes": [],
            "_model_module": "@jupyter-widgets/controls",
            "_model_module_version": "1.5.0",
            "_model_name": "HTMLModel",
            "_view_count": null,
            "_view_module": "@jupyter-widgets/controls",
            "_view_module_version": "1.5.0",
            "_view_name": "HTMLView",
            "description": "",
            "description_tooltip": null,
            "layout": "IPY_MODEL_08f6cc4d6aea428cb48225472c286d35",
            "placeholder": "​",
            "style": "IPY_MODEL_aeff1537834f4b5e8cadaffef417092b",
            "value": " 44868/44868 [1:11:24&lt;00:00, 17.18it/s]"
          }
        },
        "d3cbeee732b84e36940bb6c0b08f619d": {
          "model_module": "@jupyter-widgets/base",
          "model_name": "LayoutModel",
          "model_module_version": "1.2.0",
          "state": {
            "_model_module": "@jupyter-widgets/base",
            "_model_module_version": "1.2.0",
            "_model_name": "LayoutModel",
            "_view_count": null,
            "_view_module": "@jupyter-widgets/base",
            "_view_module_version": "1.2.0",
            "_view_name": "LayoutView",
            "align_content": null,
            "align_items": null,
            "align_self": null,
            "border": null,
            "bottom": null,
            "display": null,
            "flex": null,
            "flex_flow": null,
            "grid_area": null,
            "grid_auto_columns": null,
            "grid_auto_flow": null,
            "grid_auto_rows": null,
            "grid_column": null,
            "grid_gap": null,
            "grid_row": null,
            "grid_template_areas": null,
            "grid_template_columns": null,
            "grid_template_rows": null,
            "height": null,
            "justify_content": null,
            "justify_items": null,
            "left": null,
            "margin": null,
            "max_height": null,
            "max_width": null,
            "min_height": null,
            "min_width": null,
            "object_fit": null,
            "object_position": null,
            "order": null,
            "overflow": null,
            "overflow_x": null,
            "overflow_y": null,
            "padding": null,
            "right": null,
            "top": null,
            "visibility": null,
            "width": null
          }
        },
        "941c897d187a47a2a033b6e0cee504d1": {
          "model_module": "@jupyter-widgets/base",
          "model_name": "LayoutModel",
          "model_module_version": "1.2.0",
          "state": {
            "_model_module": "@jupyter-widgets/base",
            "_model_module_version": "1.2.0",
            "_model_name": "LayoutModel",
            "_view_count": null,
            "_view_module": "@jupyter-widgets/base",
            "_view_module_version": "1.2.0",
            "_view_name": "LayoutView",
            "align_content": null,
            "align_items": null,
            "align_self": null,
            "border": null,
            "bottom": null,
            "display": null,
            "flex": null,
            "flex_flow": null,
            "grid_area": null,
            "grid_auto_columns": null,
            "grid_auto_flow": null,
            "grid_auto_rows": null,
            "grid_column": null,
            "grid_gap": null,
            "grid_row": null,
            "grid_template_areas": null,
            "grid_template_columns": null,
            "grid_template_rows": null,
            "height": null,
            "justify_content": null,
            "justify_items": null,
            "left": null,
            "margin": null,
            "max_height": null,
            "max_width": null,
            "min_height": null,
            "min_width": null,
            "object_fit": null,
            "object_position": null,
            "order": null,
            "overflow": null,
            "overflow_x": null,
            "overflow_y": null,
            "padding": null,
            "right": null,
            "top": null,
            "visibility": null,
            "width": null
          }
        },
        "b327e643b47249f6a1e40400a0591ec0": {
          "model_module": "@jupyter-widgets/controls",
          "model_name": "DescriptionStyleModel",
          "model_module_version": "1.5.0",
          "state": {
            "_model_module": "@jupyter-widgets/controls",
            "_model_module_version": "1.5.0",
            "_model_name": "DescriptionStyleModel",
            "_view_count": null,
            "_view_module": "@jupyter-widgets/base",
            "_view_module_version": "1.2.0",
            "_view_name": "StyleView",
            "description_width": ""
          }
        },
        "501d20d1c2aa427d908f155329029f0f": {
          "model_module": "@jupyter-widgets/base",
          "model_name": "LayoutModel",
          "model_module_version": "1.2.0",
          "state": {
            "_model_module": "@jupyter-widgets/base",
            "_model_module_version": "1.2.0",
            "_model_name": "LayoutModel",
            "_view_count": null,
            "_view_module": "@jupyter-widgets/base",
            "_view_module_version": "1.2.0",
            "_view_name": "LayoutView",
            "align_content": null,
            "align_items": null,
            "align_self": null,
            "border": null,
            "bottom": null,
            "display": null,
            "flex": null,
            "flex_flow": null,
            "grid_area": null,
            "grid_auto_columns": null,
            "grid_auto_flow": null,
            "grid_auto_rows": null,
            "grid_column": null,
            "grid_gap": null,
            "grid_row": null,
            "grid_template_areas": null,
            "grid_template_columns": null,
            "grid_template_rows": null,
            "height": null,
            "justify_content": null,
            "justify_items": null,
            "left": null,
            "margin": null,
            "max_height": null,
            "max_width": null,
            "min_height": null,
            "min_width": null,
            "object_fit": null,
            "object_position": null,
            "order": null,
            "overflow": null,
            "overflow_x": null,
            "overflow_y": null,
            "padding": null,
            "right": null,
            "top": null,
            "visibility": null,
            "width": null
          }
        },
        "1fb27b9e74a34cf3a8cb94b0be810f3e": {
          "model_module": "@jupyter-widgets/controls",
          "model_name": "ProgressStyleModel",
          "model_module_version": "1.5.0",
          "state": {
            "_model_module": "@jupyter-widgets/controls",
            "_model_module_version": "1.5.0",
            "_model_name": "ProgressStyleModel",
            "_view_count": null,
            "_view_module": "@jupyter-widgets/base",
            "_view_module_version": "1.2.0",
            "_view_name": "StyleView",
            "bar_color": null,
            "description_width": ""
          }
        },
        "08f6cc4d6aea428cb48225472c286d35": {
          "model_module": "@jupyter-widgets/base",
          "model_name": "LayoutModel",
          "model_module_version": "1.2.0",
          "state": {
            "_model_module": "@jupyter-widgets/base",
            "_model_module_version": "1.2.0",
            "_model_name": "LayoutModel",
            "_view_count": null,
            "_view_module": "@jupyter-widgets/base",
            "_view_module_version": "1.2.0",
            "_view_name": "LayoutView",
            "align_content": null,
            "align_items": null,
            "align_self": null,
            "border": null,
            "bottom": null,
            "display": null,
            "flex": null,
            "flex_flow": null,
            "grid_area": null,
            "grid_auto_columns": null,
            "grid_auto_flow": null,
            "grid_auto_rows": null,
            "grid_column": null,
            "grid_gap": null,
            "grid_row": null,
            "grid_template_areas": null,
            "grid_template_columns": null,
            "grid_template_rows": null,
            "height": null,
            "justify_content": null,
            "justify_items": null,
            "left": null,
            "margin": null,
            "max_height": null,
            "max_width": null,
            "min_height": null,
            "min_width": null,
            "object_fit": null,
            "object_position": null,
            "order": null,
            "overflow": null,
            "overflow_x": null,
            "overflow_y": null,
            "padding": null,
            "right": null,
            "top": null,
            "visibility": null,
            "width": null
          }
        },
        "aeff1537834f4b5e8cadaffef417092b": {
          "model_module": "@jupyter-widgets/controls",
          "model_name": "DescriptionStyleModel",
          "model_module_version": "1.5.0",
          "state": {
            "_model_module": "@jupyter-widgets/controls",
            "_model_module_version": "1.5.0",
            "_model_name": "DescriptionStyleModel",
            "_view_count": null,
            "_view_module": "@jupyter-widgets/base",
            "_view_module_version": "1.2.0",
            "_view_name": "StyleView",
            "description_width": ""
          }
        },
        "aba2738f59684f0bb712d3724b1e17a1": {
          "model_module": "@jupyter-widgets/controls",
          "model_name": "HBoxModel",
          "model_module_version": "1.5.0",
          "state": {
            "_dom_classes": [],
            "_model_module": "@jupyter-widgets/controls",
            "_model_module_version": "1.5.0",
            "_model_name": "HBoxModel",
            "_view_count": null,
            "_view_module": "@jupyter-widgets/controls",
            "_view_module_version": "1.5.0",
            "_view_name": "HBoxView",
            "box_style": "",
            "children": [
              "IPY_MODEL_13a8709f2b68436db7749dafb35af56f",
              "IPY_MODEL_74beb3ea7b624c87bfdedd82b35914a3",
              "IPY_MODEL_cccb989fa9d743c8991dee04424fff89"
            ],
            "layout": "IPY_MODEL_09809b7d2e4f4ec4b1c99c8c879821d5"
          }
        },
        "13a8709f2b68436db7749dafb35af56f": {
          "model_module": "@jupyter-widgets/controls",
          "model_name": "HTMLModel",
          "model_module_version": "1.5.0",
          "state": {
            "_dom_classes": [],
            "_model_module": "@jupyter-widgets/controls",
            "_model_module_version": "1.5.0",
            "_model_name": "HTMLModel",
            "_view_count": null,
            "_view_module": "@jupyter-widgets/controls",
            "_view_module_version": "1.5.0",
            "_view_name": "HTMLView",
            "description": "",
            "description_tooltip": null,
            "layout": "IPY_MODEL_8689f2ae7e7c447c8d6d329fe858e4dc",
            "placeholder": "​",
            "style": "IPY_MODEL_f51609136da34323a8a71c8fc0f2eeaf",
            "value": "Word2Vec: 100%"
          }
        },
        "74beb3ea7b624c87bfdedd82b35914a3": {
          "model_module": "@jupyter-widgets/controls",
          "model_name": "FloatProgressModel",
          "model_module_version": "1.5.0",
          "state": {
            "_dom_classes": [],
            "_model_module": "@jupyter-widgets/controls",
            "_model_module_version": "1.5.0",
            "_model_name": "FloatProgressModel",
            "_view_count": null,
            "_view_module": "@jupyter-widgets/controls",
            "_view_module_version": "1.5.0",
            "_view_name": "ProgressView",
            "bar_style": "success",
            "description": "",
            "description_tooltip": null,
            "layout": "IPY_MODEL_449c71d6779f4b699ece0ea71aa9712a",
            "max": 44868,
            "min": 0,
            "orientation": "horizontal",
            "style": "IPY_MODEL_f58fd6c885794cec835cff30cc9e49e3",
            "value": 44868
          }
        },
        "cccb989fa9d743c8991dee04424fff89": {
          "model_module": "@jupyter-widgets/controls",
          "model_name": "HTMLModel",
          "model_module_version": "1.5.0",
          "state": {
            "_dom_classes": [],
            "_model_module": "@jupyter-widgets/controls",
            "_model_module_version": "1.5.0",
            "_model_name": "HTMLModel",
            "_view_count": null,
            "_view_module": "@jupyter-widgets/controls",
            "_view_module_version": "1.5.0",
            "_view_name": "HTMLView",
            "description": "",
            "description_tooltip": null,
            "layout": "IPY_MODEL_9b06d6492cc14d03b99174378b8dcb2d",
            "placeholder": "​",
            "style": "IPY_MODEL_ca0de70a14f44c9fbb3a4cf865ff2a75",
            "value": " 44868/44868 [00:42&lt;00:00, 1357.28it/s]"
          }
        },
        "09809b7d2e4f4ec4b1c99c8c879821d5": {
          "model_module": "@jupyter-widgets/base",
          "model_name": "LayoutModel",
          "model_module_version": "1.2.0",
          "state": {
            "_model_module": "@jupyter-widgets/base",
            "_model_module_version": "1.2.0",
            "_model_name": "LayoutModel",
            "_view_count": null,
            "_view_module": "@jupyter-widgets/base",
            "_view_module_version": "1.2.0",
            "_view_name": "LayoutView",
            "align_content": null,
            "align_items": null,
            "align_self": null,
            "border": null,
            "bottom": null,
            "display": null,
            "flex": null,
            "flex_flow": null,
            "grid_area": null,
            "grid_auto_columns": null,
            "grid_auto_flow": null,
            "grid_auto_rows": null,
            "grid_column": null,
            "grid_gap": null,
            "grid_row": null,
            "grid_template_areas": null,
            "grid_template_columns": null,
            "grid_template_rows": null,
            "height": null,
            "justify_content": null,
            "justify_items": null,
            "left": null,
            "margin": null,
            "max_height": null,
            "max_width": null,
            "min_height": null,
            "min_width": null,
            "object_fit": null,
            "object_position": null,
            "order": null,
            "overflow": null,
            "overflow_x": null,
            "overflow_y": null,
            "padding": null,
            "right": null,
            "top": null,
            "visibility": null,
            "width": null
          }
        },
        "8689f2ae7e7c447c8d6d329fe858e4dc": {
          "model_module": "@jupyter-widgets/base",
          "model_name": "LayoutModel",
          "model_module_version": "1.2.0",
          "state": {
            "_model_module": "@jupyter-widgets/base",
            "_model_module_version": "1.2.0",
            "_model_name": "LayoutModel",
            "_view_count": null,
            "_view_module": "@jupyter-widgets/base",
            "_view_module_version": "1.2.0",
            "_view_name": "LayoutView",
            "align_content": null,
            "align_items": null,
            "align_self": null,
            "border": null,
            "bottom": null,
            "display": null,
            "flex": null,
            "flex_flow": null,
            "grid_area": null,
            "grid_auto_columns": null,
            "grid_auto_flow": null,
            "grid_auto_rows": null,
            "grid_column": null,
            "grid_gap": null,
            "grid_row": null,
            "grid_template_areas": null,
            "grid_template_columns": null,
            "grid_template_rows": null,
            "height": null,
            "justify_content": null,
            "justify_items": null,
            "left": null,
            "margin": null,
            "max_height": null,
            "max_width": null,
            "min_height": null,
            "min_width": null,
            "object_fit": null,
            "object_position": null,
            "order": null,
            "overflow": null,
            "overflow_x": null,
            "overflow_y": null,
            "padding": null,
            "right": null,
            "top": null,
            "visibility": null,
            "width": null
          }
        },
        "f51609136da34323a8a71c8fc0f2eeaf": {
          "model_module": "@jupyter-widgets/controls",
          "model_name": "DescriptionStyleModel",
          "model_module_version": "1.5.0",
          "state": {
            "_model_module": "@jupyter-widgets/controls",
            "_model_module_version": "1.5.0",
            "_model_name": "DescriptionStyleModel",
            "_view_count": null,
            "_view_module": "@jupyter-widgets/base",
            "_view_module_version": "1.2.0",
            "_view_name": "StyleView",
            "description_width": ""
          }
        },
        "449c71d6779f4b699ece0ea71aa9712a": {
          "model_module": "@jupyter-widgets/base",
          "model_name": "LayoutModel",
          "model_module_version": "1.2.0",
          "state": {
            "_model_module": "@jupyter-widgets/base",
            "_model_module_version": "1.2.0",
            "_model_name": "LayoutModel",
            "_view_count": null,
            "_view_module": "@jupyter-widgets/base",
            "_view_module_version": "1.2.0",
            "_view_name": "LayoutView",
            "align_content": null,
            "align_items": null,
            "align_self": null,
            "border": null,
            "bottom": null,
            "display": null,
            "flex": null,
            "flex_flow": null,
            "grid_area": null,
            "grid_auto_columns": null,
            "grid_auto_flow": null,
            "grid_auto_rows": null,
            "grid_column": null,
            "grid_gap": null,
            "grid_row": null,
            "grid_template_areas": null,
            "grid_template_columns": null,
            "grid_template_rows": null,
            "height": null,
            "justify_content": null,
            "justify_items": null,
            "left": null,
            "margin": null,
            "max_height": null,
            "max_width": null,
            "min_height": null,
            "min_width": null,
            "object_fit": null,
            "object_position": null,
            "order": null,
            "overflow": null,
            "overflow_x": null,
            "overflow_y": null,
            "padding": null,
            "right": null,
            "top": null,
            "visibility": null,
            "width": null
          }
        },
        "f58fd6c885794cec835cff30cc9e49e3": {
          "model_module": "@jupyter-widgets/controls",
          "model_name": "ProgressStyleModel",
          "model_module_version": "1.5.0",
          "state": {
            "_model_module": "@jupyter-widgets/controls",
            "_model_module_version": "1.5.0",
            "_model_name": "ProgressStyleModel",
            "_view_count": null,
            "_view_module": "@jupyter-widgets/base",
            "_view_module_version": "1.2.0",
            "_view_name": "StyleView",
            "bar_color": null,
            "description_width": ""
          }
        },
        "9b06d6492cc14d03b99174378b8dcb2d": {
          "model_module": "@jupyter-widgets/base",
          "model_name": "LayoutModel",
          "model_module_version": "1.2.0",
          "state": {
            "_model_module": "@jupyter-widgets/base",
            "_model_module_version": "1.2.0",
            "_model_name": "LayoutModel",
            "_view_count": null,
            "_view_module": "@jupyter-widgets/base",
            "_view_module_version": "1.2.0",
            "_view_name": "LayoutView",
            "align_content": null,
            "align_items": null,
            "align_self": null,
            "border": null,
            "bottom": null,
            "display": null,
            "flex": null,
            "flex_flow": null,
            "grid_area": null,
            "grid_auto_columns": null,
            "grid_auto_flow": null,
            "grid_auto_rows": null,
            "grid_column": null,
            "grid_gap": null,
            "grid_row": null,
            "grid_template_areas": null,
            "grid_template_columns": null,
            "grid_template_rows": null,
            "height": null,
            "justify_content": null,
            "justify_items": null,
            "left": null,
            "margin": null,
            "max_height": null,
            "max_width": null,
            "min_height": null,
            "min_width": null,
            "object_fit": null,
            "object_position": null,
            "order": null,
            "overflow": null,
            "overflow_x": null,
            "overflow_y": null,
            "padding": null,
            "right": null,
            "top": null,
            "visibility": null,
            "width": null
          }
        },
        "ca0de70a14f44c9fbb3a4cf865ff2a75": {
          "model_module": "@jupyter-widgets/controls",
          "model_name": "DescriptionStyleModel",
          "model_module_version": "1.5.0",
          "state": {
            "_model_module": "@jupyter-widgets/controls",
            "_model_module_version": "1.5.0",
            "_model_name": "DescriptionStyleModel",
            "_view_count": null,
            "_view_module": "@jupyter-widgets/base",
            "_view_module_version": "1.2.0",
            "_view_name": "StyleView",
            "description_width": ""
          }
        },
        "2d06a14c108548ba866a0491dc7645b6": {
          "model_module": "@jupyter-widgets/controls",
          "model_name": "HBoxModel",
          "model_module_version": "1.5.0",
          "state": {
            "_dom_classes": [],
            "_model_module": "@jupyter-widgets/controls",
            "_model_module_version": "1.5.0",
            "_model_name": "HBoxModel",
            "_view_count": null,
            "_view_module": "@jupyter-widgets/controls",
            "_view_module_version": "1.5.0",
            "_view_name": "HBoxView",
            "box_style": "",
            "children": [
              "IPY_MODEL_3bc40f4a6d3246beb528cdee6feba04b",
              "IPY_MODEL_9c7f88d2dd2243038f0e5496c6915569",
              "IPY_MODEL_737071d1e6c94083b652e2101b2d9d92"
            ],
            "layout": "IPY_MODEL_5a7bf9f33a3c4ab88ebafe24e592a43a"
          }
        },
        "3bc40f4a6d3246beb528cdee6feba04b": {
          "model_module": "@jupyter-widgets/controls",
          "model_name": "HTMLModel",
          "model_module_version": "1.5.0",
          "state": {
            "_dom_classes": [],
            "_model_module": "@jupyter-widgets/controls",
            "_model_module_version": "1.5.0",
            "_model_name": "HTMLModel",
            "_view_count": null,
            "_view_module": "@jupyter-widgets/controls",
            "_view_module_version": "1.5.0",
            "_view_name": "HTMLView",
            "description": "",
            "description_tooltip": null,
            "layout": "IPY_MODEL_40b4266187264b52ad4646e0b57378c4",
            "placeholder": "​",
            "style": "IPY_MODEL_3de69e353f70459d8c33944431bbf299",
            "value": "Tagging Data: 100%"
          }
        },
        "9c7f88d2dd2243038f0e5496c6915569": {
          "model_module": "@jupyter-widgets/controls",
          "model_name": "FloatProgressModel",
          "model_module_version": "1.5.0",
          "state": {
            "_dom_classes": [],
            "_model_module": "@jupyter-widgets/controls",
            "_model_module_version": "1.5.0",
            "_model_name": "FloatProgressModel",
            "_view_count": null,
            "_view_module": "@jupyter-widgets/controls",
            "_view_module_version": "1.5.0",
            "_view_name": "ProgressView",
            "bar_style": "success",
            "description": "",
            "description_tooltip": null,
            "layout": "IPY_MODEL_d81f213ba3ab4756b641990900b68574",
            "max": 44868,
            "min": 0,
            "orientation": "horizontal",
            "style": "IPY_MODEL_f86ce052ffe84a9c9ca66a7e25057d24",
            "value": 44868
          }
        },
        "737071d1e6c94083b652e2101b2d9d92": {
          "model_module": "@jupyter-widgets/controls",
          "model_name": "HTMLModel",
          "model_module_version": "1.5.0",
          "state": {
            "_dom_classes": [],
            "_model_module": "@jupyter-widgets/controls",
            "_model_module_version": "1.5.0",
            "_model_name": "HTMLModel",
            "_view_count": null,
            "_view_module": "@jupyter-widgets/controls",
            "_view_module_version": "1.5.0",
            "_view_name": "HTMLView",
            "description": "",
            "description_tooltip": null,
            "layout": "IPY_MODEL_488047792acf4fe98900e1346f2eb042",
            "placeholder": "​",
            "style": "IPY_MODEL_326a00f21c914c21bdb4caa55e19a344",
            "value": " 44868/44868 [00:02&lt;00:00, 29515.67it/s]"
          }
        },
        "5a7bf9f33a3c4ab88ebafe24e592a43a": {
          "model_module": "@jupyter-widgets/base",
          "model_name": "LayoutModel",
          "model_module_version": "1.2.0",
          "state": {
            "_model_module": "@jupyter-widgets/base",
            "_model_module_version": "1.2.0",
            "_model_name": "LayoutModel",
            "_view_count": null,
            "_view_module": "@jupyter-widgets/base",
            "_view_module_version": "1.2.0",
            "_view_name": "LayoutView",
            "align_content": null,
            "align_items": null,
            "align_self": null,
            "border": null,
            "bottom": null,
            "display": null,
            "flex": null,
            "flex_flow": null,
            "grid_area": null,
            "grid_auto_columns": null,
            "grid_auto_flow": null,
            "grid_auto_rows": null,
            "grid_column": null,
            "grid_gap": null,
            "grid_row": null,
            "grid_template_areas": null,
            "grid_template_columns": null,
            "grid_template_rows": null,
            "height": null,
            "justify_content": null,
            "justify_items": null,
            "left": null,
            "margin": null,
            "max_height": null,
            "max_width": null,
            "min_height": null,
            "min_width": null,
            "object_fit": null,
            "object_position": null,
            "order": null,
            "overflow": null,
            "overflow_x": null,
            "overflow_y": null,
            "padding": null,
            "right": null,
            "top": null,
            "visibility": null,
            "width": null
          }
        },
        "40b4266187264b52ad4646e0b57378c4": {
          "model_module": "@jupyter-widgets/base",
          "model_name": "LayoutModel",
          "model_module_version": "1.2.0",
          "state": {
            "_model_module": "@jupyter-widgets/base",
            "_model_module_version": "1.2.0",
            "_model_name": "LayoutModel",
            "_view_count": null,
            "_view_module": "@jupyter-widgets/base",
            "_view_module_version": "1.2.0",
            "_view_name": "LayoutView",
            "align_content": null,
            "align_items": null,
            "align_self": null,
            "border": null,
            "bottom": null,
            "display": null,
            "flex": null,
            "flex_flow": null,
            "grid_area": null,
            "grid_auto_columns": null,
            "grid_auto_flow": null,
            "grid_auto_rows": null,
            "grid_column": null,
            "grid_gap": null,
            "grid_row": null,
            "grid_template_areas": null,
            "grid_template_columns": null,
            "grid_template_rows": null,
            "height": null,
            "justify_content": null,
            "justify_items": null,
            "left": null,
            "margin": null,
            "max_height": null,
            "max_width": null,
            "min_height": null,
            "min_width": null,
            "object_fit": null,
            "object_position": null,
            "order": null,
            "overflow": null,
            "overflow_x": null,
            "overflow_y": null,
            "padding": null,
            "right": null,
            "top": null,
            "visibility": null,
            "width": null
          }
        },
        "3de69e353f70459d8c33944431bbf299": {
          "model_module": "@jupyter-widgets/controls",
          "model_name": "DescriptionStyleModel",
          "model_module_version": "1.5.0",
          "state": {
            "_model_module": "@jupyter-widgets/controls",
            "_model_module_version": "1.5.0",
            "_model_name": "DescriptionStyleModel",
            "_view_count": null,
            "_view_module": "@jupyter-widgets/base",
            "_view_module_version": "1.2.0",
            "_view_name": "StyleView",
            "description_width": ""
          }
        },
        "d81f213ba3ab4756b641990900b68574": {
          "model_module": "@jupyter-widgets/base",
          "model_name": "LayoutModel",
          "model_module_version": "1.2.0",
          "state": {
            "_model_module": "@jupyter-widgets/base",
            "_model_module_version": "1.2.0",
            "_model_name": "LayoutModel",
            "_view_count": null,
            "_view_module": "@jupyter-widgets/base",
            "_view_module_version": "1.2.0",
            "_view_name": "LayoutView",
            "align_content": null,
            "align_items": null,
            "align_self": null,
            "border": null,
            "bottom": null,
            "display": null,
            "flex": null,
            "flex_flow": null,
            "grid_area": null,
            "grid_auto_columns": null,
            "grid_auto_flow": null,
            "grid_auto_rows": null,
            "grid_column": null,
            "grid_gap": null,
            "grid_row": null,
            "grid_template_areas": null,
            "grid_template_columns": null,
            "grid_template_rows": null,
            "height": null,
            "justify_content": null,
            "justify_items": null,
            "left": null,
            "margin": null,
            "max_height": null,
            "max_width": null,
            "min_height": null,
            "min_width": null,
            "object_fit": null,
            "object_position": null,
            "order": null,
            "overflow": null,
            "overflow_x": null,
            "overflow_y": null,
            "padding": null,
            "right": null,
            "top": null,
            "visibility": null,
            "width": null
          }
        },
        "f86ce052ffe84a9c9ca66a7e25057d24": {
          "model_module": "@jupyter-widgets/controls",
          "model_name": "ProgressStyleModel",
          "model_module_version": "1.5.0",
          "state": {
            "_model_module": "@jupyter-widgets/controls",
            "_model_module_version": "1.5.0",
            "_model_name": "ProgressStyleModel",
            "_view_count": null,
            "_view_module": "@jupyter-widgets/base",
            "_view_module_version": "1.2.0",
            "_view_name": "StyleView",
            "bar_color": null,
            "description_width": ""
          }
        },
        "488047792acf4fe98900e1346f2eb042": {
          "model_module": "@jupyter-widgets/base",
          "model_name": "LayoutModel",
          "model_module_version": "1.2.0",
          "state": {
            "_model_module": "@jupyter-widgets/base",
            "_model_module_version": "1.2.0",
            "_model_name": "LayoutModel",
            "_view_count": null,
            "_view_module": "@jupyter-widgets/base",
            "_view_module_version": "1.2.0",
            "_view_name": "LayoutView",
            "align_content": null,
            "align_items": null,
            "align_self": null,
            "border": null,
            "bottom": null,
            "display": null,
            "flex": null,
            "flex_flow": null,
            "grid_area": null,
            "grid_auto_columns": null,
            "grid_auto_flow": null,
            "grid_auto_rows": null,
            "grid_column": null,
            "grid_gap": null,
            "grid_row": null,
            "grid_template_areas": null,
            "grid_template_columns": null,
            "grid_template_rows": null,
            "height": null,
            "justify_content": null,
            "justify_items": null,
            "left": null,
            "margin": null,
            "max_height": null,
            "max_width": null,
            "min_height": null,
            "min_width": null,
            "object_fit": null,
            "object_position": null,
            "order": null,
            "overflow": null,
            "overflow_x": null,
            "overflow_y": null,
            "padding": null,
            "right": null,
            "top": null,
            "visibility": null,
            "width": null
          }
        },
        "326a00f21c914c21bdb4caa55e19a344": {
          "model_module": "@jupyter-widgets/controls",
          "model_name": "DescriptionStyleModel",
          "model_module_version": "1.5.0",
          "state": {
            "_model_module": "@jupyter-widgets/controls",
            "_model_module_version": "1.5.0",
            "_model_name": "DescriptionStyleModel",
            "_view_count": null,
            "_view_module": "@jupyter-widgets/base",
            "_view_module_version": "1.2.0",
            "_view_name": "StyleView",
            "description_width": ""
          }
        },
        "3c1080679d794447bd58fee1516c72e5": {
          "model_module": "@jupyter-widgets/controls",
          "model_name": "HBoxModel",
          "model_module_version": "1.5.0",
          "state": {
            "_dom_classes": [],
            "_model_module": "@jupyter-widgets/controls",
            "_model_module_version": "1.5.0",
            "_model_name": "HBoxModel",
            "_view_count": null,
            "_view_module": "@jupyter-widgets/controls",
            "_view_module_version": "1.5.0",
            "_view_name": "HBoxView",
            "box_style": "",
            "children": [
              "IPY_MODEL_575a0aafe047421299abe0aa1d149d6e",
              "IPY_MODEL_927d623fd2994d3fb9428b99dfc12334",
              "IPY_MODEL_a6635080690a400890e25f95a1be08e7"
            ],
            "layout": "IPY_MODEL_9d4e32377b1942ed9d804586c96d93f1"
          }
        },
        "575a0aafe047421299abe0aa1d149d6e": {
          "model_module": "@jupyter-widgets/controls",
          "model_name": "HTMLModel",
          "model_module_version": "1.5.0",
          "state": {
            "_dom_classes": [],
            "_model_module": "@jupyter-widgets/controls",
            "_model_module_version": "1.5.0",
            "_model_name": "HTMLModel",
            "_view_count": null,
            "_view_module": "@jupyter-widgets/controls",
            "_view_module_version": "1.5.0",
            "_view_name": "HTMLView",
            "description": "",
            "description_tooltip": null,
            "layout": "IPY_MODEL_14f19ca596354cfca474e8d829dce4c4",
            "placeholder": "​",
            "style": "IPY_MODEL_3819a776ebd3478995d1a9c97671ef37",
            "value": "Generating Doc2Vec Vectors: 100%"
          }
        },
        "927d623fd2994d3fb9428b99dfc12334": {
          "model_module": "@jupyter-widgets/controls",
          "model_name": "FloatProgressModel",
          "model_module_version": "1.5.0",
          "state": {
            "_dom_classes": [],
            "_model_module": "@jupyter-widgets/controls",
            "_model_module_version": "1.5.0",
            "_model_name": "FloatProgressModel",
            "_view_count": null,
            "_view_module": "@jupyter-widgets/controls",
            "_view_module_version": "1.5.0",
            "_view_name": "ProgressView",
            "bar_style": "success",
            "description": "",
            "description_tooltip": null,
            "layout": "IPY_MODEL_5633c800659c42a091f75cf18aef6987",
            "max": 44868,
            "min": 0,
            "orientation": "horizontal",
            "style": "IPY_MODEL_f984f1d608604358bb3bf7d5ef5ff903",
            "value": 44868
          }
        },
        "a6635080690a400890e25f95a1be08e7": {
          "model_module": "@jupyter-widgets/controls",
          "model_name": "HTMLModel",
          "model_module_version": "1.5.0",
          "state": {
            "_dom_classes": [],
            "_model_module": "@jupyter-widgets/controls",
            "_model_module_version": "1.5.0",
            "_model_name": "HTMLModel",
            "_view_count": null,
            "_view_module": "@jupyter-widgets/controls",
            "_view_module_version": "1.5.0",
            "_view_name": "HTMLView",
            "description": "",
            "description_tooltip": null,
            "layout": "IPY_MODEL_81d12f4d64cf492d9b3ee9b37875200f",
            "placeholder": "​",
            "style": "IPY_MODEL_633975c829924cb5ac5627eea8725944",
            "value": " 44868/44868 [00:04&lt;00:00, 14986.20it/s]"
          }
        },
        "9d4e32377b1942ed9d804586c96d93f1": {
          "model_module": "@jupyter-widgets/base",
          "model_name": "LayoutModel",
          "model_module_version": "1.2.0",
          "state": {
            "_model_module": "@jupyter-widgets/base",
            "_model_module_version": "1.2.0",
            "_model_name": "LayoutModel",
            "_view_count": null,
            "_view_module": "@jupyter-widgets/base",
            "_view_module_version": "1.2.0",
            "_view_name": "LayoutView",
            "align_content": null,
            "align_items": null,
            "align_self": null,
            "border": null,
            "bottom": null,
            "display": null,
            "flex": null,
            "flex_flow": null,
            "grid_area": null,
            "grid_auto_columns": null,
            "grid_auto_flow": null,
            "grid_auto_rows": null,
            "grid_column": null,
            "grid_gap": null,
            "grid_row": null,
            "grid_template_areas": null,
            "grid_template_columns": null,
            "grid_template_rows": null,
            "height": null,
            "justify_content": null,
            "justify_items": null,
            "left": null,
            "margin": null,
            "max_height": null,
            "max_width": null,
            "min_height": null,
            "min_width": null,
            "object_fit": null,
            "object_position": null,
            "order": null,
            "overflow": null,
            "overflow_x": null,
            "overflow_y": null,
            "padding": null,
            "right": null,
            "top": null,
            "visibility": null,
            "width": null
          }
        },
        "14f19ca596354cfca474e8d829dce4c4": {
          "model_module": "@jupyter-widgets/base",
          "model_name": "LayoutModel",
          "model_module_version": "1.2.0",
          "state": {
            "_model_module": "@jupyter-widgets/base",
            "_model_module_version": "1.2.0",
            "_model_name": "LayoutModel",
            "_view_count": null,
            "_view_module": "@jupyter-widgets/base",
            "_view_module_version": "1.2.0",
            "_view_name": "LayoutView",
            "align_content": null,
            "align_items": null,
            "align_self": null,
            "border": null,
            "bottom": null,
            "display": null,
            "flex": null,
            "flex_flow": null,
            "grid_area": null,
            "grid_auto_columns": null,
            "grid_auto_flow": null,
            "grid_auto_rows": null,
            "grid_column": null,
            "grid_gap": null,
            "grid_row": null,
            "grid_template_areas": null,
            "grid_template_columns": null,
            "grid_template_rows": null,
            "height": null,
            "justify_content": null,
            "justify_items": null,
            "left": null,
            "margin": null,
            "max_height": null,
            "max_width": null,
            "min_height": null,
            "min_width": null,
            "object_fit": null,
            "object_position": null,
            "order": null,
            "overflow": null,
            "overflow_x": null,
            "overflow_y": null,
            "padding": null,
            "right": null,
            "top": null,
            "visibility": null,
            "width": null
          }
        },
        "3819a776ebd3478995d1a9c97671ef37": {
          "model_module": "@jupyter-widgets/controls",
          "model_name": "DescriptionStyleModel",
          "model_module_version": "1.5.0",
          "state": {
            "_model_module": "@jupyter-widgets/controls",
            "_model_module_version": "1.5.0",
            "_model_name": "DescriptionStyleModel",
            "_view_count": null,
            "_view_module": "@jupyter-widgets/base",
            "_view_module_version": "1.2.0",
            "_view_name": "StyleView",
            "description_width": ""
          }
        },
        "5633c800659c42a091f75cf18aef6987": {
          "model_module": "@jupyter-widgets/base",
          "model_name": "LayoutModel",
          "model_module_version": "1.2.0",
          "state": {
            "_model_module": "@jupyter-widgets/base",
            "_model_module_version": "1.2.0",
            "_model_name": "LayoutModel",
            "_view_count": null,
            "_view_module": "@jupyter-widgets/base",
            "_view_module_version": "1.2.0",
            "_view_name": "LayoutView",
            "align_content": null,
            "align_items": null,
            "align_self": null,
            "border": null,
            "bottom": null,
            "display": null,
            "flex": null,
            "flex_flow": null,
            "grid_area": null,
            "grid_auto_columns": null,
            "grid_auto_flow": null,
            "grid_auto_rows": null,
            "grid_column": null,
            "grid_gap": null,
            "grid_row": null,
            "grid_template_areas": null,
            "grid_template_columns": null,
            "grid_template_rows": null,
            "height": null,
            "justify_content": null,
            "justify_items": null,
            "left": null,
            "margin": null,
            "max_height": null,
            "max_width": null,
            "min_height": null,
            "min_width": null,
            "object_fit": null,
            "object_position": null,
            "order": null,
            "overflow": null,
            "overflow_x": null,
            "overflow_y": null,
            "padding": null,
            "right": null,
            "top": null,
            "visibility": null,
            "width": null
          }
        },
        "f984f1d608604358bb3bf7d5ef5ff903": {
          "model_module": "@jupyter-widgets/controls",
          "model_name": "ProgressStyleModel",
          "model_module_version": "1.5.0",
          "state": {
            "_model_module": "@jupyter-widgets/controls",
            "_model_module_version": "1.5.0",
            "_model_name": "ProgressStyleModel",
            "_view_count": null,
            "_view_module": "@jupyter-widgets/base",
            "_view_module_version": "1.2.0",
            "_view_name": "StyleView",
            "bar_color": null,
            "description_width": ""
          }
        },
        "81d12f4d64cf492d9b3ee9b37875200f": {
          "model_module": "@jupyter-widgets/base",
          "model_name": "LayoutModel",
          "model_module_version": "1.2.0",
          "state": {
            "_model_module": "@jupyter-widgets/base",
            "_model_module_version": "1.2.0",
            "_model_name": "LayoutModel",
            "_view_count": null,
            "_view_module": "@jupyter-widgets/base",
            "_view_module_version": "1.2.0",
            "_view_name": "LayoutView",
            "align_content": null,
            "align_items": null,
            "align_self": null,
            "border": null,
            "bottom": null,
            "display": null,
            "flex": null,
            "flex_flow": null,
            "grid_area": null,
            "grid_auto_columns": null,
            "grid_auto_flow": null,
            "grid_auto_rows": null,
            "grid_column": null,
            "grid_gap": null,
            "grid_row": null,
            "grid_template_areas": null,
            "grid_template_columns": null,
            "grid_template_rows": null,
            "height": null,
            "justify_content": null,
            "justify_items": null,
            "left": null,
            "margin": null,
            "max_height": null,
            "max_width": null,
            "min_height": null,
            "min_width": null,
            "object_fit": null,
            "object_position": null,
            "order": null,
            "overflow": null,
            "overflow_x": null,
            "overflow_y": null,
            "padding": null,
            "right": null,
            "top": null,
            "visibility": null,
            "width": null
          }
        },
        "633975c829924cb5ac5627eea8725944": {
          "model_module": "@jupyter-widgets/controls",
          "model_name": "DescriptionStyleModel",
          "model_module_version": "1.5.0",
          "state": {
            "_model_module": "@jupyter-widgets/controls",
            "_model_module_version": "1.5.0",
            "_model_name": "DescriptionStyleModel",
            "_view_count": null,
            "_view_module": "@jupyter-widgets/base",
            "_view_module_version": "1.2.0",
            "_view_name": "StyleView",
            "description_width": ""
          }
        }
      }
    }
  },
  "nbformat": 4,
  "nbformat_minor": 0
}