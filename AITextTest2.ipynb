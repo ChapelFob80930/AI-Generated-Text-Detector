{
  "cells": [
    {
      "cell_type": "markdown",
      "metadata": {
        "id": "view-in-github",
        "colab_type": "text"
      },
      "source": [
        "<a href=\"https://colab.research.google.com/github/ChapelFob80930/AI-Generated-Text-Detector/blob/main/AITextTest2.ipynb\" target=\"_parent\"><img src=\"https://colab.research.google.com/assets/colab-badge.svg\" alt=\"Open In Colab\"/></a>"
      ]
    },
    {
      "cell_type": "markdown",
      "source": [
        "#**Importing the Dataset**"
      ],
      "metadata": {
        "id": "KSkesjPZFWta"
      }
    },
    {
      "cell_type": "code",
      "execution_count": null,
      "metadata": {
        "colab": {
          "base_uri": "https://localhost:8080/"
        },
        "id": "9DivI8E17Ug5",
        "outputId": "d1c78695-0788-4ef0-a694-e5ea8ea196a2"
      },
      "outputs": [
        {
          "output_type": "stream",
          "name": "stdout",
          "text": [
            "(44868, 5)\n",
            "                                                text  label\n",
            "0  Phones\\n\\nModern humans today are always on th...      0\n",
            "1  This essay will explain if drivers should or s...      0\n",
            "2  Driving while the use of cellular devices\\n\\nT...      0\n",
            "3  Phones & Driving\\n\\nDrivers should not be able...      0\n",
            "4  Cell Phone Operation While Driving\\n\\nThe abil...      0\n",
            "(44868, 2)\n"
          ]
        }
      ],
      "source": [
        "import numpy as np\n",
        "import pandas as pd\n",
        "\n",
        "ai_generated_dataset = pd.read_csv(\"/content/train_v2_drcat_02.csv\")\n",
        "print(ai_generated_dataset.shape)\n",
        "ai_generated_dataset = ai_generated_dataset.dropna()\n",
        "ai_generated_dataset = ai_generated_dataset.drop(columns=['prompt_name','source','RDizzl3_seven'])\n",
        "print(ai_generated_dataset.head())\n",
        "print(ai_generated_dataset.shape)"
      ]
    },
    {
      "cell_type": "code",
      "execution_count": null,
      "metadata": {
        "colab": {
          "base_uri": "https://localhost:8080/"
        },
        "collapsed": true,
        "id": "gsRlIA2q7kps",
        "outputId": "7902c062-e40a-422d-a039-bc59b53a956b"
      },
      "outputs": [
        {
          "name": "stdout",
          "output_type": "stream",
          "text": [
            "NLTK Downloader\n",
            "---------------------------------------------------------------------------\n",
            "    d) Download   l) List    u) Update   c) Config   h) Help   q) Quit\n",
            "---------------------------------------------------------------------------\n",
            "Downloader> d\n",
            "\n",
            "Download which package (l=list; x=cancel)?\n",
            "  Identifier> all\n"
          ]
        },
        {
          "output_type": "stream",
          "name": "stderr",
          "text": [
            "    Downloading collection 'all'\n",
            "       | \n",
            "       | Downloading package abc to /root/nltk_data...\n",
            "       |   Unzipping corpora/abc.zip.\n",
            "       | Downloading package alpino to /root/nltk_data...\n",
            "       |   Unzipping corpora/alpino.zip.\n",
            "       | Downloading package averaged_perceptron_tagger to\n",
            "       |     /root/nltk_data...\n",
            "       |   Unzipping taggers/averaged_perceptron_tagger.zip.\n",
            "       | Downloading package averaged_perceptron_tagger_eng to\n",
            "       |     /root/nltk_data...\n",
            "       |   Unzipping taggers/averaged_perceptron_tagger_eng.zip.\n",
            "       | Downloading package averaged_perceptron_tagger_ru to\n",
            "       |     /root/nltk_data...\n",
            "       |   Unzipping taggers/averaged_perceptron_tagger_ru.zip.\n",
            "       | Downloading package averaged_perceptron_tagger_rus to\n",
            "       |     /root/nltk_data...\n",
            "       |   Unzipping taggers/averaged_perceptron_tagger_rus.zip.\n",
            "       | Downloading package basque_grammars to /root/nltk_data...\n",
            "       |   Unzipping grammars/basque_grammars.zip.\n",
            "       | Downloading package bcp47 to /root/nltk_data...\n",
            "       | Downloading package biocreative_ppi to /root/nltk_data...\n",
            "       |   Unzipping corpora/biocreative_ppi.zip.\n",
            "       | Downloading package bllip_wsj_no_aux to /root/nltk_data...\n",
            "       |   Unzipping models/bllip_wsj_no_aux.zip.\n",
            "       | Downloading package book_grammars to /root/nltk_data...\n",
            "       |   Unzipping grammars/book_grammars.zip.\n",
            "       | Downloading package brown to /root/nltk_data...\n",
            "       |   Unzipping corpora/brown.zip.\n",
            "       | Downloading package brown_tei to /root/nltk_data...\n",
            "       |   Unzipping corpora/brown_tei.zip.\n",
            "       | Downloading package cess_cat to /root/nltk_data...\n",
            "       |   Unzipping corpora/cess_cat.zip.\n",
            "       | Downloading package cess_esp to /root/nltk_data...\n",
            "       |   Unzipping corpora/cess_esp.zip.\n",
            "       | Downloading package chat80 to /root/nltk_data...\n",
            "       |   Unzipping corpora/chat80.zip.\n",
            "       | Downloading package city_database to /root/nltk_data...\n",
            "       |   Unzipping corpora/city_database.zip.\n",
            "       | Downloading package cmudict to /root/nltk_data...\n",
            "       |   Unzipping corpora/cmudict.zip.\n",
            "       | Downloading package comparative_sentences to\n",
            "       |     /root/nltk_data...\n",
            "       |   Unzipping corpora/comparative_sentences.zip.\n",
            "       | Downloading package comtrans to /root/nltk_data...\n",
            "       | Downloading package conll2000 to /root/nltk_data...\n",
            "       |   Unzipping corpora/conll2000.zip.\n",
            "       | Downloading package conll2002 to /root/nltk_data...\n",
            "       |   Unzipping corpora/conll2002.zip.\n",
            "       | Downloading package conll2007 to /root/nltk_data...\n",
            "       | Downloading package crubadan to /root/nltk_data...\n",
            "       |   Unzipping corpora/crubadan.zip.\n",
            "       | Downloading package dependency_treebank to /root/nltk_data...\n",
            "       |   Unzipping corpora/dependency_treebank.zip.\n",
            "       | Downloading package dolch to /root/nltk_data...\n",
            "       |   Unzipping corpora/dolch.zip.\n",
            "       | Downloading package europarl_raw to /root/nltk_data...\n",
            "       |   Unzipping corpora/europarl_raw.zip.\n",
            "       | Downloading package extended_omw to /root/nltk_data...\n",
            "       | Downloading package floresta to /root/nltk_data...\n",
            "       |   Unzipping corpora/floresta.zip.\n",
            "       | Downloading package framenet_v15 to /root/nltk_data...\n",
            "       |   Unzipping corpora/framenet_v15.zip.\n",
            "       | Downloading package framenet_v17 to /root/nltk_data...\n",
            "       |   Unzipping corpora/framenet_v17.zip.\n",
            "       | Downloading package gazetteers to /root/nltk_data...\n",
            "       |   Unzipping corpora/gazetteers.zip.\n",
            "       | Downloading package genesis to /root/nltk_data...\n",
            "       |   Unzipping corpora/genesis.zip.\n",
            "       | Downloading package gutenberg to /root/nltk_data...\n",
            "       |   Unzipping corpora/gutenberg.zip.\n",
            "       | Downloading package ieer to /root/nltk_data...\n",
            "       |   Unzipping corpora/ieer.zip.\n",
            "       | Downloading package inaugural to /root/nltk_data...\n",
            "       |   Unzipping corpora/inaugural.zip.\n",
            "       | Downloading package indian to /root/nltk_data...\n",
            "       |   Unzipping corpora/indian.zip.\n",
            "       | Downloading package jeita to /root/nltk_data...\n",
            "       | Downloading package kimmo to /root/nltk_data...\n",
            "       |   Unzipping corpora/kimmo.zip.\n",
            "       | Downloading package knbc to /root/nltk_data...\n",
            "       | Downloading package large_grammars to /root/nltk_data...\n",
            "       |   Unzipping grammars/large_grammars.zip.\n",
            "       | Downloading package lin_thesaurus to /root/nltk_data...\n",
            "       |   Unzipping corpora/lin_thesaurus.zip.\n",
            "       | Downloading package mac_morpho to /root/nltk_data...\n",
            "       |   Unzipping corpora/mac_morpho.zip.\n",
            "       | Downloading package machado to /root/nltk_data...\n",
            "       | Downloading package masc_tagged to /root/nltk_data...\n",
            "       | Downloading package maxent_ne_chunker to /root/nltk_data...\n",
            "       |   Unzipping chunkers/maxent_ne_chunker.zip.\n",
            "       | Downloading package maxent_ne_chunker_tab to\n",
            "       |     /root/nltk_data...\n",
            "       |   Unzipping chunkers/maxent_ne_chunker_tab.zip.\n",
            "       | Downloading package maxent_treebank_pos_tagger to\n",
            "       |     /root/nltk_data...\n",
            "       |   Unzipping taggers/maxent_treebank_pos_tagger.zip.\n",
            "       | Downloading package maxent_treebank_pos_tagger_tab to\n",
            "       |     /root/nltk_data...\n",
            "       |   Unzipping taggers/maxent_treebank_pos_tagger_tab.zip.\n",
            "       | Downloading package moses_sample to /root/nltk_data...\n",
            "       |   Unzipping models/moses_sample.zip.\n",
            "       | Downloading package movie_reviews to /root/nltk_data...\n",
            "       |   Unzipping corpora/movie_reviews.zip.\n",
            "       | Downloading package mte_teip5 to /root/nltk_data...\n",
            "       |   Unzipping corpora/mte_teip5.zip.\n",
            "       | Downloading package mwa_ppdb to /root/nltk_data...\n",
            "       |   Unzipping misc/mwa_ppdb.zip.\n",
            "       | Downloading package names to /root/nltk_data...\n",
            "       |   Unzipping corpora/names.zip.\n",
            "       | Downloading package nombank.1.0 to /root/nltk_data...\n",
            "       | Downloading package nonbreaking_prefixes to\n",
            "       |     /root/nltk_data...\n",
            "       |   Unzipping corpora/nonbreaking_prefixes.zip.\n",
            "       | Downloading package nps_chat to /root/nltk_data...\n",
            "       |   Unzipping corpora/nps_chat.zip.\n",
            "       | Downloading package omw to /root/nltk_data...\n",
            "       | Downloading package omw-1.4 to /root/nltk_data...\n",
            "       | Downloading package opinion_lexicon to /root/nltk_data...\n",
            "       |   Unzipping corpora/opinion_lexicon.zip.\n",
            "       | Downloading package panlex_swadesh to /root/nltk_data...\n",
            "       | Downloading package paradigms to /root/nltk_data...\n",
            "       |   Unzipping corpora/paradigms.zip.\n",
            "       | Downloading package pe08 to /root/nltk_data...\n",
            "       |   Unzipping corpora/pe08.zip.\n",
            "       | Downloading package perluniprops to /root/nltk_data...\n",
            "       |   Unzipping misc/perluniprops.zip.\n",
            "       | Downloading package pil to /root/nltk_data...\n",
            "       |   Unzipping corpora/pil.zip.\n",
            "       | Downloading package pl196x to /root/nltk_data...\n",
            "       |   Unzipping corpora/pl196x.zip.\n",
            "       | Downloading package porter_test to /root/nltk_data...\n",
            "       |   Unzipping stemmers/porter_test.zip.\n",
            "       | Downloading package ppattach to /root/nltk_data...\n",
            "       |   Unzipping corpora/ppattach.zip.\n",
            "       | Downloading package problem_reports to /root/nltk_data...\n",
            "       |   Unzipping corpora/problem_reports.zip.\n",
            "       | Downloading package product_reviews_1 to /root/nltk_data...\n",
            "       |   Unzipping corpora/product_reviews_1.zip.\n",
            "       | Downloading package product_reviews_2 to /root/nltk_data...\n",
            "       |   Unzipping corpora/product_reviews_2.zip.\n",
            "       | Downloading package propbank to /root/nltk_data...\n",
            "       | Downloading package pros_cons to /root/nltk_data...\n",
            "       |   Unzipping corpora/pros_cons.zip.\n",
            "       | Downloading package ptb to /root/nltk_data...\n",
            "       |   Unzipping corpora/ptb.zip.\n",
            "       | Downloading package punkt to /root/nltk_data...\n",
            "       |   Unzipping tokenizers/punkt.zip.\n",
            "       | Downloading package punkt_tab to /root/nltk_data...\n",
            "       |   Unzipping tokenizers/punkt_tab.zip.\n",
            "       | Downloading package qc to /root/nltk_data...\n",
            "       |   Unzipping corpora/qc.zip.\n",
            "       | Downloading package reuters to /root/nltk_data...\n",
            "       | Downloading package rslp to /root/nltk_data...\n",
            "       |   Unzipping stemmers/rslp.zip.\n",
            "       | Downloading package rte to /root/nltk_data...\n",
            "       |   Unzipping corpora/rte.zip.\n",
            "       | Downloading package sample_grammars to /root/nltk_data...\n",
            "       |   Unzipping grammars/sample_grammars.zip.\n",
            "       | Downloading package semcor to /root/nltk_data...\n",
            "       | Downloading package senseval to /root/nltk_data...\n",
            "       |   Unzipping corpora/senseval.zip.\n",
            "       | Downloading package sentence_polarity to /root/nltk_data...\n",
            "       |   Unzipping corpora/sentence_polarity.zip.\n",
            "       | Downloading package sentiwordnet to /root/nltk_data...\n",
            "       |   Unzipping corpora/sentiwordnet.zip.\n",
            "       | Downloading package shakespeare to /root/nltk_data...\n",
            "       |   Unzipping corpora/shakespeare.zip.\n",
            "       | Downloading package sinica_treebank to /root/nltk_data...\n",
            "       |   Unzipping corpora/sinica_treebank.zip.\n",
            "       | Downloading package smultron to /root/nltk_data...\n",
            "       |   Unzipping corpora/smultron.zip.\n",
            "       | Downloading package snowball_data to /root/nltk_data...\n",
            "       | Downloading package spanish_grammars to /root/nltk_data...\n",
            "       |   Unzipping grammars/spanish_grammars.zip.\n",
            "       | Downloading package state_union to /root/nltk_data...\n",
            "       |   Unzipping corpora/state_union.zip.\n",
            "       | Downloading package stopwords to /root/nltk_data...\n",
            "       |   Unzipping corpora/stopwords.zip.\n",
            "       | Downloading package subjectivity to /root/nltk_data...\n",
            "       |   Unzipping corpora/subjectivity.zip.\n",
            "       | Downloading package swadesh to /root/nltk_data...\n",
            "       |   Unzipping corpora/swadesh.zip.\n",
            "       | Downloading package switchboard to /root/nltk_data...\n",
            "       |   Unzipping corpora/switchboard.zip.\n",
            "       | Downloading package tagsets to /root/nltk_data...\n",
            "       |   Unzipping help/tagsets.zip.\n",
            "       | Downloading package tagsets_json to /root/nltk_data...\n",
            "       |   Unzipping help/tagsets_json.zip.\n",
            "       | Downloading package timit to /root/nltk_data...\n",
            "       |   Unzipping corpora/timit.zip.\n",
            "       | Downloading package toolbox to /root/nltk_data...\n",
            "       |   Unzipping corpora/toolbox.zip.\n",
            "       | Downloading package treebank to /root/nltk_data...\n",
            "       |   Unzipping corpora/treebank.zip.\n",
            "       | Downloading package twitter_samples to /root/nltk_data...\n",
            "       |   Unzipping corpora/twitter_samples.zip.\n",
            "       | Downloading package udhr to /root/nltk_data...\n",
            "       |   Unzipping corpora/udhr.zip.\n",
            "       | Downloading package udhr2 to /root/nltk_data...\n",
            "       |   Unzipping corpora/udhr2.zip.\n",
            "       | Downloading package unicode_samples to /root/nltk_data...\n",
            "       |   Unzipping corpora/unicode_samples.zip.\n",
            "       | Downloading package universal_tagset to /root/nltk_data...\n",
            "       |   Unzipping taggers/universal_tagset.zip.\n",
            "       | Downloading package universal_treebanks_v20 to\n",
            "       |     /root/nltk_data...\n",
            "       | Downloading package vader_lexicon to /root/nltk_data...\n",
            "       | Downloading package verbnet to /root/nltk_data...\n",
            "       |   Unzipping corpora/verbnet.zip.\n",
            "       | Downloading package verbnet3 to /root/nltk_data...\n",
            "       |   Unzipping corpora/verbnet3.zip.\n",
            "       | Downloading package webtext to /root/nltk_data...\n",
            "       |   Unzipping corpora/webtext.zip.\n",
            "       | Downloading package wmt15_eval to /root/nltk_data...\n",
            "       |   Unzipping models/wmt15_eval.zip.\n",
            "       | Downloading package word2vec_sample to /root/nltk_data...\n",
            "       |   Unzipping models/word2vec_sample.zip.\n",
            "       | Downloading package wordnet to /root/nltk_data...\n",
            "       | Downloading package wordnet2021 to /root/nltk_data...\n",
            "       | Downloading package wordnet2022 to /root/nltk_data...\n",
            "       |   Unzipping corpora/wordnet2022.zip.\n",
            "       | Downloading package wordnet31 to /root/nltk_data...\n",
            "       | Downloading package wordnet_ic to /root/nltk_data...\n",
            "       |   Unzipping corpora/wordnet_ic.zip.\n",
            "       | Downloading package words to /root/nltk_data...\n",
            "       |   Unzipping corpora/words.zip.\n",
            "       | Downloading package ycoe to /root/nltk_data...\n",
            "       |   Unzipping corpora/ycoe.zip.\n",
            "       | \n",
            "     Done downloading collection all\n"
          ]
        },
        {
          "name": "stdout",
          "output_type": "stream",
          "text": [
            "\n",
            "---------------------------------------------------------------------------\n",
            "    d) Download   l) List    u) Update   c) Config   h) Help   q) Quit\n",
            "---------------------------------------------------------------------------\n",
            "Downloader> Q\n"
          ]
        },
        {
          "output_type": "execute_result",
          "data": {
            "text/plain": [
              "True"
            ]
          },
          "metadata": {},
          "execution_count": 1
        }
      ],
      "source": [
        "import nltk\n",
        "nltk.download()\n"
      ]
    },
    {
      "cell_type": "code",
      "source": [
        "# import spacy\n",
        "# nlp = spacy.load('en_core_web_sm')\n",
        "\n",
        "# def lemmatize_text(text):\n",
        "#   doc = nlp(\" \".join(text))\n",
        "#   return [token.lemma_ for token in doc]"
      ],
      "metadata": {
        "id": "KtQ0Ruc1qZGW"
      },
      "execution_count": null,
      "outputs": []
    },
    {
      "cell_type": "code",
      "source": [
        "# import nltk\n",
        "# from nltk.corpus import stopwords\n",
        "# nltk.download('stopwords')\n",
        "\n",
        "# stop_words = set(stopwords.words('english'))\n",
        "\n",
        "# def _remove_stopwords_(texts):\n",
        "#   return [text for text in texts if text.isalnum() and text not in stop_words]"
      ],
      "metadata": {
        "id": "PWbPW99ZqEQi"
      },
      "execution_count": null,
      "outputs": []
    },
    {
      "cell_type": "code",
      "execution_count": null,
      "metadata": {
        "id": "k4HoVvtL8tfB"
      },
      "outputs": [],
      "source": [
        "# from nltk.tokenize import word_tokenize\n",
        "# nltk.download('punkt')\n",
        "\n",
        "# def preprocess_text(series):\n",
        "#     def process(text):\n",
        "#         tokens = word_tokenize(text)\n",
        "#         tokens = _remove_stopwords_(tokens)\n",
        "#         tokens = lemmatize_text(tokens)\n",
        "#         return \" \".join(tokens)\n",
        "#     return series.apply(process)\n"
      ]
    },
    {
      "cell_type": "markdown",
      "source": [
        "#**Preprocessing Data**"
      ],
      "metadata": {
        "id": "xOhNVLWSHXBr"
      }
    },
    {
      "cell_type": "code",
      "source": [
        "import numpy as np\n",
        "import pandas as pd\n",
        "import spacy\n",
        "from joblib import Parallel, delayed\n",
        "from tqdm.notebook import tqdm\n",
        "from nltk.corpus import stopwords\n",
        "import nltk\n",
        "import re\n",
        "\n",
        "\n",
        "nlp = spacy.load('en_core_web_sm')\n",
        "\n",
        "\n",
        "nltk.download('stopwords')\n",
        "stop_words = set(stopwords.words('english'))\n",
        "\n",
        "\n",
        "def preprocess(text):\n",
        "    text = re.sub(r\"[^a-zA-Z\\s]\",\"\",text.lower())\n",
        "    doc = nlp(text)\n",
        "    tokens = [token.lemma_ for token in doc if token.text not in stop_words and token.is_alpha]\n",
        "    return \" \".join(tokens)\n",
        "\n",
        "\n",
        "def parallel_preprocessing(series):\n",
        "    \"\"\"Preprocess text using spaCy, parallel processing, and tqdm for progress tracking.\"\"\"\n",
        "    tqdm.pandas()\n",
        "    return Parallel(n_jobs=10, backend=\"multiprocessing\")(delayed(preprocess)(text) for text in tqdm(series, desc=\"Preprocessing\"))\n",
        "\n",
        "\n",
        "ai_generated_dataset[\"preprocessedText\"] = parallel_preprocessing(ai_generated_dataset[\"text\"])\n",
        "\n",
        "print(ai_generated_dataset.head())\n"
      ],
      "metadata": {
        "colab": {
          "base_uri": "https://localhost:8080/",
          "height": 309,
          "referenced_widgets": [
            "f1da792529cc46b6b420d829a987cc1c",
            "64e0b6ebbb72467e9d18158e73f6184d",
            "e1b58fd423d547648ba30fce104890e2",
            "ebe152a8a6fe48159a8a1ffe0911c257",
            "c532657275124c129cdb8f46cd1e2ca7",
            "0b1c132de9de4c58858d1bde4390cfba",
            "7dfb6064dcf143aea27917fa29c56b6c",
            "40dfaa1dd5d54b1d8c4267bdd4e672de",
            "53b60441af484b5fa7551720f7c4b1e2",
            "f80b3a048a014e56951be53c83f959d2",
            "a144c5131460415784297bd5b9f93171"
          ]
        },
        "id": "ht-kx-PVVMDm",
        "outputId": "f4205f1a-0d61-4d2b-fade-27afbf5d409b"
      },
      "execution_count": null,
      "outputs": [
        {
          "metadata": {
            "tags": null
          },
          "name": "stderr",
          "output_type": "stream",
          "text": [
            "[nltk_data] Downloading package stopwords to /root/nltk_data...\n",
            "[nltk_data]   Package stopwords is already up-to-date!\n"
          ]
        },
        {
          "data": {
            "application/vnd.jupyter.widget-view+json": {
              "model_id": "f1da792529cc46b6b420d829a987cc1c",
              "version_major": 2,
              "version_minor": 0
            },
            "text/plain": [
              "Preprocessing:   0%|          | 0/44868 [00:00<?, ?it/s]"
            ]
          },
          "metadata": {},
          "output_type": "display_data"
        },
        {
          "metadata": {
            "tags": null
          },
          "name": "stdout",
          "output_type": "stream",
          "text": [
            "                                                text  label  \\\n",
            "0  Phones\\n\\nModern humans today are always on th...      0   \n",
            "1  This essay will explain if drivers should or s...      0   \n",
            "2  Driving while the use of cellular devices\\n\\nT...      0   \n",
            "3  Phones & Driving\\n\\nDrivers should not be able...      0   \n",
            "4  Cell Phone Operation While Driving\\n\\nThe abil...      0   \n",
            "\n",
            "                                    preprocessedText  \n",
            "0  phone modern human today always phone always p...  \n",
            "1  essay explain driver able use electronic devic...  \n",
            "2  drive use cellular device today society though...  \n",
            "3  phone drive driver able use phone operate vehi...  \n",
            "4  cell phone operation drive ability stay connec...  \n"
          ]
        }
      ]
    },
    {
      "cell_type": "markdown",
      "source": [
        "#**Creating Word2Vec Embeddings**"
      ],
      "metadata": {
        "id": "GeNwbv6sHxgw"
      }
    },
    {
      "cell_type": "code",
      "source": [
        "from gensim.models import Word2Vec\n",
        "\n",
        "sentences = ai_generated_dataset[\"preprocessedText\"].apply(lambda x: x.split())\n",
        "\n",
        "word2vec_model = Word2Vec(sentences, vector_size=300, window=10, min_count=2, workers=4, sg=1)\n",
        "\n",
        "word_vector = word2vec_model.wv['car']\n",
        "print(\"Vector for 'car':\", word_vector)\n",
        "\n",
        "\n",
        "def calculate_average_word_vector(words,model,vector_size=300):\n",
        "    word_vectors = [word2vec_model.wv[word] for word in words if word in word2vec_model.wv]\n",
        "    if word_vectors:\n",
        "        return np.mean(word_vectors, axis=0)\n",
        "    else:\n",
        "        return np.zeros(vector_size)\n",
        "\n",
        "def parallel_word2vec(row):\n",
        "    return calculate_average_word_vector(row.split(), word2vec_model)\n",
        "\n",
        "# ai_generated_dataset['word2vecVector'] = ai_generated_dataset[\"preprocessedText\"].apply(lambda x: calculate_average_word_vector(x.split(),word2vec_model))\n",
        "ai_generated_dataset['word2vecVector'] = Parallel(n_jobs=10,backend='multiprocessing')(delayed(parallel_word2vec)(row) for row in tqdm(ai_generated_dataset[\"preprocessedText\"], desc=\"Word2Vec\"))\n",
        "print(ai_generated_dataset.head())\n",
        "\n"
      ],
      "metadata": {
        "colab": {
          "base_uri": "https://localhost:8080/",
          "height": 1000,
          "referenced_widgets": [
            "38d9c44162e149d89962f22c838b9080",
            "9a7ea2dcf32d43e18190e884328ca6ad",
            "1c02b5b0eb00450e9e824d4b7da254d7",
            "17b9a2e7ef7e48838ddc58279af4f7b0",
            "79262b3b555e43b093b322ce25586f39",
            "e130bf263f3f4022b34d08bcd05918e1",
            "338e00e013524998a7870f8da72cedff",
            "101be1f5bf37416a8033b7f044c1c6a0",
            "fefecf30891e4eb283e5a70fea7881e9",
            "bd891c970cd8499db6d2edd7420df0de",
            "037701977fbe4876b7afc9491b1d31aa"
          ]
        },
        "id": "oRPabtS3V0Tg",
        "outputId": "df3454e5-9870-4bcb-80f5-6c430705218b"
      },
      "execution_count": null,
      "outputs": [
        {
          "metadata": {
            "tags": null
          },
          "name": "stdout",
          "output_type": "stream",
          "text": [
            "Vector for 'car': [ 1.19117126e-02 -5.83535172e-02 -2.97238350e-01  2.74080932e-01\n",
            "  2.02262327e-02  6.99392930e-02 -1.28757060e-01  8.21108073e-02\n",
            " -1.30847111e-01 -3.73637341e-02  1.08531095e-01 -5.30536333e-03\n",
            "  2.02401187e-02 -1.31749347e-01 -2.77201861e-01  2.44644433e-01\n",
            "  2.29364216e-01 -8.09386186e-03 -5.07123629e-03 -3.07619452e-01\n",
            "  4.95574027e-01 -3.02679598e-01  2.14853197e-01  7.10112527e-02\n",
            " -1.92179665e-01  1.46416560e-01  6.85773939e-02  1.30423345e-02\n",
            "  7.65489042e-02 -2.04294428e-01  1.53023899e-01  3.77675854e-02\n",
            " -1.35106340e-01  1.10432468e-01  1.21722259e-01 -2.03817859e-02\n",
            " -2.09298909e-01  8.01602080e-02 -8.89359042e-02 -3.34865879e-03\n",
            "  7.34167993e-02  5.89143671e-02 -2.20366836e-01 -3.04642200e-01\n",
            "  1.51060507e-01 -4.51166406e-02 -2.56074935e-01  3.28413039e-01\n",
            "  3.59297991e-02 -2.75735199e-01  4.55544516e-02 -2.17938572e-01\n",
            " -3.04573327e-01  9.71338823e-02  1.59307614e-01  3.56768698e-01\n",
            " -2.77073681e-01 -3.83901328e-01 -8.74305889e-02  1.49075491e-02\n",
            "  1.36662684e-02 -4.12079394e-01  2.94709802e-01 -1.38132066e-01\n",
            " -8.73844773e-02  1.41911522e-01  3.26378614e-01  1.83220550e-01\n",
            " -1.36490360e-01  1.09408153e-02  4.04999614e-01 -2.24876657e-01\n",
            "  1.41670957e-01 -2.10801721e-01 -4.85983461e-01 -2.02877715e-01\n",
            "  1.92486588e-02 -3.19948852e-01 -4.60513569e-02  7.34700114e-02\n",
            " -2.53058106e-01  1.85660318e-01 -4.07540426e-02  3.08943242e-01\n",
            "  1.84601948e-01  1.46747485e-01  7.10514784e-02 -8.29450861e-02\n",
            " -9.47934296e-03 -1.81221157e-01  1.91680893e-01  2.09223971e-01\n",
            "  3.37554812e-01  1.33090034e-01 -2.73656607e-01 -1.54857814e-01\n",
            "  3.49965632e-01 -1.18466146e-01 -3.75970066e-01  6.83200359e-02\n",
            " -3.70248184e-02 -1.98385015e-01 -2.77447075e-01 -9.98270139e-02\n",
            " -4.20283109e-01 -2.05623042e-02  2.54680991e-01 -8.13286006e-02\n",
            "  2.38998327e-02 -1.73426926e-01  2.01316699e-01  1.74965277e-01\n",
            "  2.44502753e-01  3.63884978e-02 -1.11007571e-01 -1.74431443e-01\n",
            " -7.65413344e-02  2.16217283e-02  8.41133595e-02 -9.76604037e-03\n",
            "  2.53892481e-01 -1.32774591e-01  1.50955319e-01 -4.04320210e-01\n",
            "  2.63636261e-01  2.64110535e-01  9.75161940e-02  3.44946712e-01\n",
            "  7.75101855e-02 -2.57576764e-01 -8.11460465e-02  4.83797640e-01\n",
            " -2.91681617e-01  9.39198881e-02  2.42961183e-01  1.74416468e-01\n",
            "  2.40892664e-01  4.74909246e-02 -5.43132797e-02  1.78382978e-01\n",
            "  3.62109654e-02  6.36777401e-01 -2.55998019e-02 -1.73100591e-01\n",
            "  3.10502917e-01 -4.94674206e-01  2.74535120e-01  5.95728979e-02\n",
            " -9.09000859e-02 -2.39727780e-01  9.40174051e-03 -1.44223571e-01\n",
            " -2.53274105e-02  8.58090073e-02 -2.22780518e-02  1.42394919e-02\n",
            "  1.13575608e-01 -1.78385153e-01 -4.63349558e-02 -2.56711897e-03\n",
            " -5.11848889e-02 -1.51736423e-01  1.40746301e-02 -2.54627377e-01\n",
            " -1.00436695e-01  3.87080044e-01  3.20277773e-02  1.67523846e-01\n",
            "  2.26925716e-01  3.29084784e-01  1.46979719e-01  4.47695926e-02\n",
            " -8.59362334e-02  2.23015502e-01 -8.01569074e-02  2.40616292e-01\n",
            " -2.76469529e-01 -3.73286486e-01  4.50075120e-02  3.40157486e-02\n",
            " -3.21926326e-02  1.75752491e-01 -2.48354837e-01  9.67691839e-03\n",
            " -3.18088382e-01  4.98542666e-01  1.72216341e-01  1.02668062e-01\n",
            "  1.55010179e-01  1.76109597e-01  1.33783564e-01 -1.40282124e-01\n",
            " -8.27847868e-02 -9.17280540e-02 -1.37883965e-02 -1.23041354e-01\n",
            "  1.21462159e-01  1.43292740e-01  2.79429927e-03  2.24695414e-01\n",
            " -1.25879124e-01  3.81166227e-02 -3.54028881e-01 -9.85221937e-02\n",
            " -3.42946015e-02 -3.13337743e-01 -3.95836681e-02  1.25300437e-01\n",
            "  1.05436832e-01  3.01761478e-01 -1.63164347e-01 -2.78442919e-01\n",
            " -2.44024768e-01 -1.61179826e-01 -3.50351602e-01 -4.44568023e-02\n",
            " -7.91949630e-02 -4.28779006e-01  3.17986131e-01 -1.24719068e-01\n",
            "  1.90443411e-01 -1.59679338e-01  1.06781282e-01  1.40869528e-01\n",
            " -1.68468937e-01 -5.46129525e-01  1.00746982e-01 -3.29502523e-01\n",
            " -1.70244470e-01 -2.14221358e-01  3.31612885e-01  8.97762403e-02\n",
            "  8.73150006e-02  3.97685915e-01  1.45890389e-03 -1.81902796e-01\n",
            " -5.39979374e-04  7.56221488e-02  4.63831961e-01 -3.82273793e-01\n",
            "  2.97892511e-01 -4.92821857e-02 -1.65748801e-02  7.75226299e-03\n",
            " -7.21357316e-02  2.47078165e-01  6.26074076e-02  3.26843202e-01\n",
            "  2.41258502e-01  2.32967213e-01  1.73627168e-01  1.14869982e-01\n",
            " -2.18513347e-02  2.25751046e-02  2.02679336e-02 -6.92820847e-02\n",
            "  8.83553699e-02 -8.21392536e-02  9.29495618e-02 -2.52369106e-01\n",
            "  1.32937267e-01 -9.66455415e-03  2.35480860e-01 -2.91573375e-01\n",
            " -2.37084419e-01 -1.07976958e-01  2.27366865e-01 -4.16021317e-01\n",
            " -2.17246916e-02 -1.91148911e-02 -1.63944528e-01  3.21912736e-01\n",
            "  7.43891969e-02 -2.90633917e-01  4.00187932e-02  1.14920400e-01\n",
            " -2.32011646e-01  2.85106078e-02  1.12646230e-01 -4.02155705e-02\n",
            " -3.35439265e-01  3.30828167e-02  3.27314913e-01  2.48457074e-01\n",
            " -2.78331608e-01 -5.21020591e-02 -3.32816660e-01  8.59209299e-02\n",
            " -2.16632392e-02  3.08465678e-02  6.77690506e-02  1.00477792e-01\n",
            " -2.08336592e-01  6.54666731e-03 -2.50142664e-01 -1.73178278e-02\n",
            " -2.70337284e-01  1.18283458e-01  1.11172371e-01 -9.34250094e-03]\n"
          ]
        },
        {
          "data": {
            "application/vnd.jupyter.widget-view+json": {
              "model_id": "38d9c44162e149d89962f22c838b9080",
              "version_major": 2,
              "version_minor": 0
            },
            "text/plain": [
              "Word2Vec:   0%|          | 0/44868 [00:00<?, ?it/s]"
            ]
          },
          "metadata": {},
          "output_type": "display_data"
        },
        {
          "metadata": {
            "tags": null
          },
          "name": "stdout",
          "output_type": "stream",
          "text": [
            "                                                text  label  \\\n",
            "0  Phones\\n\\nModern humans today are always on th...      0   \n",
            "1  This essay will explain if drivers should or s...      0   \n",
            "2  Driving while the use of cellular devices\\n\\nT...      0   \n",
            "3  Phones & Driving\\n\\nDrivers should not be able...      0   \n",
            "4  Cell Phone Operation While Driving\\n\\nThe abil...      0   \n",
            "\n",
            "                                    preprocessedText  \\\n",
            "0  phone modern human today always phone always p...   \n",
            "1  essay explain driver able use electronic devic...   \n",
            "2  drive use cellular device today society though...   \n",
            "3  phone drive driver able use phone operate vehi...   \n",
            "4  cell phone operation drive ability stay connec...   \n",
            "\n",
            "                                      word2vecVector  \n",
            "0  [0.08780912, 0.096668415, -0.046513904, 0.1391...  \n",
            "1  [0.076874726, 0.10208669, -0.057527162, 0.1668...  \n",
            "2  [0.07814441, 0.09636443, -0.05757494, 0.167942...  \n",
            "3  [0.103549935, 0.15078086, -0.055593047, 0.1493...  \n",
            "4  [0.14983508, 0.111418486, -0.015505959, 0.1158...  \n"
          ]
        }
      ]
    },
    {
      "cell_type": "markdown",
      "source": [
        "#**Creating Doc2Vec Embeddings**"
      ],
      "metadata": {
        "id": "qotyAPoIH8oX"
      }
    },
    {
      "cell_type": "code",
      "source": [
        "from gensim.models.doc2vec import Doc2Vec, TaggedDocument\n",
        "\n",
        "\n",
        "def prepare_tagged_documents(series):\n",
        "\n",
        "    return [TaggedDocument(words=text.split(), tags=[str(i)]) for i, text in enumerate(series)]\n",
        "\n",
        "\n",
        "tqdm.pandas(desc=\"Preparing Tagged Documents\")\n",
        "tagged_data = prepare_tagged_documents(tqdm(ai_generated_dataset[\"preprocessedText\"], desc=\"Tagging Data\"))\n",
        "\n",
        "\n",
        "doc2vec_model = Doc2Vec(tagged_data, vector_size=300, window=5, min_count=2, workers=4, dm=1,epochs=50)\n",
        "\n",
        "# Function to generate Doc2Vec vectors\n",
        "def generate_doc2vec_vector(index):\n",
        "\n",
        "    return doc2vec_model.dv[str(index)]\n",
        "\n",
        "# Use tqdm and joblib to parallelize vector generation\n",
        "def generate_doc2vec_vectors_parallel(dataframe):\n",
        "\n",
        "    indices = dataframe.index\n",
        "    return Parallel(n_jobs=10, backend=\"multiprocessing\")(delayed(generate_doc2vec_vector)(index) for index in tqdm(indices, desc=\"Generating Doc2Vec Vectors\"))\n",
        "\n",
        "ai_generated_dataset['doc2vecVector'] = generate_doc2vec_vectors_parallel(ai_generated_dataset)\n",
        "\n",
        "\n",
        "print(ai_generated_dataset.head())\n"
      ],
      "metadata": {
        "colab": {
          "base_uri": "https://localhost:8080/",
          "height": 550,
          "referenced_widgets": [
            "ebf8650795fb4e31958304d2d180d5f9",
            "0f879946c7e448ef9c286649899bec59",
            "42ed9c83d0be4450aa1167d375cfdd3e",
            "28ad7a6d2c634e549d1be67eacd241bd",
            "a9ba6c56ee2e41eca3657875a1458455",
            "4a14c74fc3a84ed0b40377afc31c766e",
            "59c05e48a0b544e7bc31d09198148413",
            "60dd46a7926742d99d92ed756c6f071e",
            "3a94dd5cb1ab46e688a4127e125a681a",
            "2de2023250be4f85a343d1b3a272e7c0",
            "17c376f61a974dcb925ce50ec895ae9f",
            "0175a9b3984f409b9085ee9a7c4da243",
            "3f9c025e909b45e0bb864b555d5606b4",
            "de33cca5b58848efacc4796b800525b3",
            "4389a0fdf4c44613860cbc5866fb4524",
            "23dd8d1b5176461b853d9c65ae752308",
            "41e40d139aae47e38e07e2d7ab069d3b",
            "7739fac5155b4a1eafd4a4aa4e96e64a",
            "291c330dca1d476594870c4b1f4d30c3",
            "cbe777fd71f04bc38ed091406a9b1fa9",
            "c14970ffb90646838ebbf74d21561f57",
            "2e49de8ced0949c69030d8fc83734661"
          ]
        },
        "id": "qvgs8xGcnjU_",
        "outputId": "d907bbed-8cc0-4ee8-b62e-b5bab284667a"
      },
      "execution_count": null,
      "outputs": [
        {
          "data": {
            "application/vnd.jupyter.widget-view+json": {
              "model_id": "ebf8650795fb4e31958304d2d180d5f9",
              "version_major": 2,
              "version_minor": 0
            },
            "text/plain": [
              "Tagging Data:   0%|          | 0/44868 [00:00<?, ?it/s]"
            ]
          },
          "metadata": {},
          "output_type": "display_data"
        },
        {
          "output_type": "display_data",
          "data": {
            "text/plain": [
              "Generating Doc2Vec Vectors:   0%|          | 0/44868 [00:00<?, ?it/s]"
            ],
            "application/vnd.jupyter.widget-view+json": {
              "version_major": 2,
              "version_minor": 0,
              "model_id": "0175a9b3984f409b9085ee9a7c4da243"
            }
          },
          "metadata": {}
        },
        {
          "output_type": "stream",
          "name": "stdout",
          "text": [
            "                                                text  label  \\\n",
            "0  Phones\\n\\nModern humans today are always on th...      0   \n",
            "1  This essay will explain if drivers should or s...      0   \n",
            "2  Driving while the use of cellular devices\\n\\nT...      0   \n",
            "3  Phones & Driving\\n\\nDrivers should not be able...      0   \n",
            "4  Cell Phone Operation While Driving\\n\\nThe abil...      0   \n",
            "\n",
            "                                    preprocessedText  \\\n",
            "0  phone modern human today always phone always p...   \n",
            "1  essay explain driver able use electronic devic...   \n",
            "2  drive use cellular device today society though...   \n",
            "3  phone drive driver able use phone operate vehi...   \n",
            "4  cell phone operation drive ability stay connec...   \n",
            "\n",
            "                                      word2vecVector  \\\n",
            "0  [0.08780912, 0.096668415, -0.046513904, 0.1391...   \n",
            "1  [0.076874726, 0.10208669, -0.057527162, 0.1668...   \n",
            "2  [0.07814441, 0.09636443, -0.05757494, 0.167942...   \n",
            "3  [0.103549935, 0.15078086, -0.055593047, 0.1493...   \n",
            "4  [0.14983508, 0.111418486, -0.015505959, 0.1158...   \n",
            "\n",
            "                                       doc2vecVector  \n",
            "0  [1.0134128, 0.9582679, -0.33318013, -0.0272761...  \n",
            "1  [1.379247, 0.6427476, -0.09255516, -0.45947072...  \n",
            "2  [-0.2789271, -0.50118124, 0.04350178, -0.33961...  \n",
            "3  [0.4030536, 1.1659355, -1.5859638, 0.3982208, ...  \n",
            "4  [-1.7746923, 0.6032929, 1.2382562, -0.73337454...  \n"
          ]
        }
      ]
    },
    {
      "cell_type": "code",
      "source": [
        "# print(train_essays.head())"
      ],
      "metadata": {
        "id": "JeU2USKZg8LN"
      },
      "execution_count": null,
      "outputs": []
    },
    {
      "cell_type": "code",
      "source": [
        "# from sklearn.model_selection import train_test_split\n",
        "\n",
        "# y = train_essays['generated']\n",
        "\n",
        "# train_index, test_index = train_test_split(train_essays.index, test_size=0.2, random_state=42)"
      ],
      "metadata": {
        "id": "FsW-bZJVhUXy"
      },
      "execution_count": null,
      "outputs": []
    },
    {
      "cell_type": "markdown",
      "source": [
        "#**Splitting the Test and Train indexes and Separating the Labels from the Data**"
      ],
      "metadata": {
        "id": "6fsEKQraIHwL"
      }
    },
    {
      "cell_type": "code",
      "source": [
        "from sklearn.model_selection import train_test_split\n",
        "\n",
        "y = ai_generated_dataset['label']\n",
        "\n",
        "train_index, test_index = train_test_split(ai_generated_dataset.index, test_size=0.3, random_state=42, stratify = y)\n"
      ],
      "metadata": {
        "id": "_i0ssR6L0dp6"
      },
      "execution_count": 6,
      "outputs": []
    },
    {
      "cell_type": "code",
      "source": [
        "print(train_index.shape)\n",
        "print(test_index.shape)"
      ],
      "metadata": {
        "id": "Kp95xJPV_XW-",
        "colab": {
          "base_uri": "https://localhost:8080/"
        },
        "outputId": "feb6471c-b447-4c42-f312-a97e51bca9b0"
      },
      "execution_count": 7,
      "outputs": [
        {
          "metadata": {
            "tags": null
          },
          "name": "stdout",
          "output_type": "stream",
          "text": [
            "(31407,)\n",
            "(13461,)\n"
          ]
        }
      ]
    },
    {
      "cell_type": "code",
      "source": [
        "# from sklearn.model_selection import train_test_split\n",
        "\n",
        "# y = ai_human_dataset['generated']\n",
        "\n",
        "# train_index, test_index = train_test_split(ai_human_dataset.index, test_size=0.2, random_state=42)"
      ],
      "metadata": {
        "id": "AKsDAiNCoXfu"
      },
      "execution_count": null,
      "outputs": []
    },
    {
      "cell_type": "code",
      "source": [
        "# from sklearn.feature_extraction.text import TfidfVectorizer\n",
        "\n",
        "# tfidf_vectorizer = TfidfVectorizer(max_features=1000)\n",
        "# X_tfidf = tfidf_vectorizer.fit_transform(train_essays['preprocessedText'])\n",
        "\n",
        "# X_train_tfidf, X_test_tfidf = X_tfidf[train_index], X_tfidf[test_index]\n",
        "# y_train, y_test = y[train_index], y[test_index]\n"
      ],
      "metadata": {
        "id": "lSBF5CjxhlFP"
      },
      "execution_count": null,
      "outputs": []
    },
    {
      "cell_type": "markdown",
      "source": [
        "#**Creating TF-IDF Embeddings**"
      ],
      "metadata": {
        "id": "htJAfPMrIl5n"
      }
    },
    {
      "cell_type": "code",
      "source": [
        "from sklearn.feature_extraction.text import TfidfVectorizer\n",
        "\n",
        "tfidf_vectorizer = TfidfVectorizer(max_features=5000,ngram_range=(1,3),max_df=0.95,min_df=2,sublinear_tf=True)\n",
        "X_tfidf = tfidf_vectorizer.fit_transform(ai_generated_dataset[\"preprocessedText\"])\n",
        "\n",
        "X_train_tfidf, X_test_tfidf = X_tfidf[train_index], X_tfidf[test_index]\n",
        "y_train, y_test = y[train_index], y[test_index]\n"
      ],
      "metadata": {
        "id": "PH4Lysdq0osa"
      },
      "execution_count": null,
      "outputs": []
    },
    {
      "cell_type": "code",
      "source": [
        "print(X_train_tfidf.shape)"
      ],
      "metadata": {
        "colab": {
          "base_uri": "https://localhost:8080/"
        },
        "id": "DAvQGcNgs_9w",
        "outputId": "952062e4-e2de-40f7-cc63-8058c9be1453"
      },
      "execution_count": null,
      "outputs": [
        {
          "metadata": {
            "tags": null
          },
          "name": "stdout",
          "output_type": "stream",
          "text": [
            "(31407, 5000)\n"
          ]
        }
      ]
    },
    {
      "cell_type": "code",
      "source": [
        "from imblearn.over_sampling import SMOTE\n",
        "\n",
        "smote = SMOTE(random_state=42)\n",
        "X_train_tfidf_balanced, y_train_tfidf_balanced = smote.fit_resample(X_train_tfidf, y_train)\n",
        "print(\"TF-IDF Before SMOTE: \",dict(zip(*np.unique(y_train, return_counts=True))))\n",
        "print(\"TF-IDF After SMOTE: \",dict(zip(*np.unique(y_train_tfidf_balanced, return_counts=True))))"
      ],
      "metadata": {
        "colab": {
          "base_uri": "https://localhost:8080/"
        },
        "id": "nrXKKIi9ivQp",
        "outputId": "984b1a7d-d12d-4da9-d6e7-6bdd9799b67e"
      },
      "execution_count": null,
      "outputs": [
        {
          "output_type": "stream",
          "name": "stdout",
          "text": [
            "TF-IDF Before SMOTE:  {0: 19159, 1: 12248}\n",
            "TF-IDF After SMOTE:  {0: 19159, 1: 19159}\n"
          ]
        }
      ]
    },
    {
      "cell_type": "markdown",
      "source": [
        "#**Splitting Word2Vec Embeddings into Train and Test Datasets**"
      ],
      "metadata": {
        "id": "7PRuuvL9IupS"
      }
    },
    {
      "cell_type": "code",
      "source": [
        "ai_generated_dataset['word2vecVector'] = ai_generated_dataset['word2vecVector'].apply(lambda x: np.array(x))\n",
        "\n",
        "X_word2vec = np.stack(ai_generated_dataset['word2vecVector'].values)\n",
        "\n",
        "X_train_word2vec, X_test_word2vec = X_word2vec[train_index], X_word2vec[test_index]\n",
        "\n",
        "print(X_train_word2vec.shape)\n",
        "print(X_test_word2vec.shape)\n",
        "print(X_train_word2vec)"
      ],
      "metadata": {
        "id": "JLjvTwhYjg5c",
        "colab": {
          "base_uri": "https://localhost:8080/"
        },
        "outputId": "c5aabee8-4402-4c52-ca03-655c850cb6da"
      },
      "execution_count": null,
      "outputs": [
        {
          "output_type": "stream",
          "name": "stdout",
          "text": [
            "(31407, 300)\n",
            "(13461, 300)\n",
            "[[ 1.9386718e-01  1.8212025e-01  1.3421586e-01 ...  1.3818129e-02\n",
            "   1.0275673e-01 -1.2613804e-02]\n",
            " [ 1.4273715e-01  1.6095709e-02  5.7663903e-05 ... -4.1719958e-02\n",
            "   2.2528203e-01 -1.0470055e-01]\n",
            " [ 2.5022781e-02  1.1228727e-01 -4.9039297e-02 ...  1.1154036e-03\n",
            "   1.0737024e-01  1.6504792e-02]\n",
            " ...\n",
            " [ 6.1415557e-02  1.9116952e-01 -8.9191251e-02 ...  2.5655758e-02\n",
            "   1.5532374e-01  6.0376646e-03]\n",
            " [ 7.9557717e-02  1.1973411e-01 -7.0516005e-02 ... -7.7403095e-03\n",
            "   1.7649007e-01 -1.4039224e-02]\n",
            " [ 9.9566981e-02  1.7662083e-01 -7.0863709e-02 ...  2.0863282e-02\n",
            "   1.7530334e-01  3.4500733e-02]]\n"
          ]
        }
      ]
    },
    {
      "cell_type": "code",
      "source": [
        "X_train_word2vec_balanced, y_train_word2vec_balanced = smote.fit_resample(X_train_word2vec, y_train)\n",
        "print(\"Word2Vec Before SMOTE: \",dict(zip(*np.unique(y_train, return_counts=True))))\n",
        "print(\"Word2Vec After SMOTE: \",dict(zip(*np.unique(y_train_word2vec_balanced, return_counts=True))))"
      ],
      "metadata": {
        "colab": {
          "base_uri": "https://localhost:8080/"
        },
        "id": "P6OlXbBLjMUx",
        "outputId": "d1a5a6c5-cb6c-44c2-e93c-93abf1a18ed9"
      },
      "execution_count": null,
      "outputs": [
        {
          "output_type": "stream",
          "name": "stdout",
          "text": [
            "Word2Vec Before SMOTE:  {0: 19159, 1: 12248}\n",
            "Word2Vec After SMOTE:  {0: 19159, 1: 19159}\n"
          ]
        }
      ]
    },
    {
      "cell_type": "markdown",
      "source": [
        "#**Splitting Doc2Vec Embeddings into Train and Test Datasets**"
      ],
      "metadata": {
        "id": "o5c0RNmGJA3G"
      }
    },
    {
      "cell_type": "code",
      "source": [
        "ai_generated_dataset['doc2vecVector'] = ai_generated_dataset['doc2vecVector'].apply(lambda x: np.array(x))\n",
        "X_doc2vec = np.stack(ai_generated_dataset['doc2vecVector'].values)\n",
        "X_train_doc2vec, X_test_doc2vec = X_doc2vec[train_index], X_doc2vec[test_index]\n",
        "print(X_train_doc2vec.shape)\n",
        "print(X_test_doc2vec.shape)\n",
        "print(X_train_doc2vec)"
      ],
      "metadata": {
        "id": "R_15evjXjwIk",
        "colab": {
          "base_uri": "https://localhost:8080/"
        },
        "outputId": "2902d11b-8ca3-4c71-84e7-2e02ca152c47"
      },
      "execution_count": null,
      "outputs": [
        {
          "output_type": "stream",
          "name": "stdout",
          "text": [
            "(31407, 300)\n",
            "(13461, 300)\n",
            "[[ 0.68442076 -0.48760787 -0.02157056 ...  0.35724998  0.5213385\n",
            "  -1.078774  ]\n",
            " [ 0.23340839  0.8104108  -0.34742355 ...  0.2957258  -0.53912884\n",
            "  -1.2756349 ]\n",
            " [-0.05841934 -0.59332186  0.56811625 ... -0.73445684  0.41304773\n",
            "   0.4260478 ]\n",
            " ...\n",
            " [-0.13272572 -0.19603026 -1.0907412  ... -1.3491739  -0.09674363\n",
            "  -0.3507875 ]\n",
            " [ 0.61315656  0.8993393   2.6859045  ... -0.7525959  -1.4770358\n",
            "  -1.6349118 ]\n",
            " [-0.1151266  -0.9015243  -0.37618634 ... -0.03176318  0.24084964\n",
            "   0.4837716 ]]\n"
          ]
        }
      ]
    },
    {
      "cell_type": "code",
      "source": [
        "X_train_doc2vec_balanced, y_train_doc2vec_balanced = smote.fit_resample(X_train_doc2vec, y_train)\n",
        "print(\"Doc2Vec Before SMOTE: \",dict(zip(*np.unique(y_train, return_counts=True))))\n",
        "print(\"Doc2Vec After SMOTE: \",dict(zip(*np.unique(y_train_doc2vec_balanced, return_counts=True))))"
      ],
      "metadata": {
        "colab": {
          "base_uri": "https://localhost:8080/"
        },
        "id": "0paJLA_BjVrD",
        "outputId": "9269057c-f291-4e16-9368-2c406251c210"
      },
      "execution_count": null,
      "outputs": [
        {
          "output_type": "stream",
          "name": "stdout",
          "text": [
            "Doc2Vec Before SMOTE:  {0: 19159, 1: 12248}\n",
            "Doc2Vec After SMOTE:  {0: 19159, 1: 19159}\n"
          ]
        }
      ]
    },
    {
      "cell_type": "markdown",
      "source": [
        "#**Implementing SVM on Different Types of Embeddings and Comparing Results**"
      ],
      "metadata": {
        "id": "HP58o58fJNgM"
      }
    },
    {
      "cell_type": "markdown",
      "source": [
        "#**Implementing Decision Tree on Different Types of Embeddings and Comparing Results**"
      ],
      "metadata": {
        "id": "o3wIU2XXJqHc"
      }
    },
    {
      "cell_type": "markdown",
      "source": [
        "#**Implementing Random Forest on Different Types of Embeddings and Comparing Results**"
      ],
      "metadata": {
        "id": "rtFEfGBJKKsQ"
      }
    },
    {
      "cell_type": "markdown",
      "source": [
        "#**Implementing KNN on Different Types of Embeddings and Comparing Results**"
      ],
      "metadata": {
        "id": "HIxP3NsGKUo4"
      }
    },
    {
      "cell_type": "code",
      "source": [
        "from sklearn.metrics import confusion_matrix, classification_report\n",
        "from sklearn.model_selection import StratifiedKFold, cross_val_score\n",
        "import seaborn as sns\n",
        "import matplotlib.pyplot as plt\n",
        "from tqdm import tqdm\n",
        "import numpy as np\n",
        "\n",
        "def evaluate_model_with_visualizations(model, X_train, X_test, y_train, y_test, model_name, embedding_name):\n",
        "    kfold = StratifiedKFold(n_splits=5, shuffle=True, random_state=42)\n",
        "    print(f\"Performing 5-Fold Cross-Validation for {model_name} with {embedding_name}...\")\n",
        "    cv_scores = cross_val_score(model, X_train, y_train, cv=kfold, scoring='accuracy', n_jobs=-1)\n",
        "    print(f\"{model_name} with {embedding_name} - Cross-validation Scores: {cv_scores}\")\n",
        "    print(f\"{model_name} with {embedding_name} - Mean CV Accuracy: {cv_scores.mean():.4f}\")\n",
        "\n",
        "    model.fit(X_train, y_train)\n",
        "    y_pred = model.predict(X_test)\n",
        "\n",
        "    cm = confusion_matrix(y_test, y_pred)\n",
        "    plt.figure(figsize=(6, 4))\n",
        "    sns.heatmap(cm, annot=True, fmt='d', cmap='Blues')\n",
        "    plt.title(f'Confusion Matrix: {model_name} with {embedding_name}')\n",
        "    plt.xlabel('Predicted')\n",
        "    plt.ylabel('Actual')\n",
        "    plt.show()\n",
        "\n",
        "    print(f\"{model_name} with {embedding_name} - Classification Report:\")\n",
        "    print(classification_report(y_test, y_pred))\n",
        "\n",
        "    plt.figure(figsize=(8, 6))\n",
        "    plt.scatter(range(len(y_test)), y_test, alpha=0.6, label='Actual')\n",
        "    plt.scatter(range(len(y_pred)), y_pred, alpha=0.6, label='Predicted', marker='x')\n",
        "    plt.title(f'Scatter Plot: {model_name} with {embedding_name}')\n",
        "    plt.xlabel('Sample Index')\n",
        "    plt.ylabel('Labels')\n",
        "    plt.legend()\n",
        "    plt.show()"
      ],
      "metadata": {
        "id": "ryeiUpHu0h08"
      },
      "execution_count": null,
      "outputs": []
    },
    {
      "cell_type": "code",
      "source": [
        "from sklearn.svm import SVC\n",
        "from sklearn.tree import DecisionTreeClassifier\n",
        "from sklearn.ensemble import RandomForestClassifier\n",
        "from sklearn.neighbors import KNeighborsClassifier"
      ],
      "metadata": {
        "id": "8MRNQuOY0ko7"
      },
      "execution_count": null,
      "outputs": []
    },
    {
      "cell_type": "code",
      "source": [
        "# svm_param_grid = {\n",
        "#     'C': [0.1, 1, 10],\n",
        "#     'kernel': ['linear', 'rbf'],\n",
        "#     'gamma': [0.01, 0.1, 1]\n",
        "# }\n",
        "\n",
        "# dt_param_grid = {\n",
        "#     'max_depth': [None, 10, 20],\n",
        "#     'min_samples_split': [2, 5, 10]\n",
        "# }\n",
        "\n",
        "# rf_param_grid = {\n",
        "#     'n_estimators': [50, 100, 200],\n",
        "#     'max_depth': [None, 10, 20],\n",
        "#     'min_samples_split': [2, 5, 10]\n",
        "# }\n",
        "\n",
        "# knn_param_grid = {\n",
        "#     'n_neighbors': [3, 5, 7],\n",
        "#     'weights': ['uniform', 'distance']\n",
        "# }"
      ],
      "metadata": {
        "id": "tF8TWpV79LRj"
      },
      "execution_count": null,
      "outputs": []
    },
    {
      "cell_type": "code",
      "source": [
        "print(ai_generated_dataset['label'].value_counts(normalize=True))"
      ],
      "metadata": {
        "colab": {
          "base_uri": "https://localhost:8080/"
        },
        "id": "9tZ8Jfg41osr",
        "outputId": "ddad11d9-de5f-4326-b4fa-09ab6f2b1268"
      },
      "execution_count": null,
      "outputs": [
        {
          "output_type": "stream",
          "name": "stdout",
          "text": [
            "label\n",
            "0    0.610034\n",
            "1    0.389966\n",
            "Name: proportion, dtype: float64\n"
          ]
        }
      ]
    },
    {
      "cell_type": "code",
      "source": [
        "svm_model_tfidf = SVC(class_weight='balanced',random_state=42,kernel='rbf',gamma='scale',C=1)\n",
        "evaluate_model_with_visualizations(svm_model_tfidf, X_train_tfidf_balanced, X_test_tfidf, y_train_tfidf_balanced, y_test, \"SVM\", \"TF-IDF\")"
      ],
      "metadata": {
        "colab": {
          "base_uri": "https://localhost:8080/"
        },
        "id": "9_QjzkU80yRd",
        "outputId": "cb55a905-7407-4580-d40e-194b1f1d8615"
      },
      "execution_count": null,
      "outputs": [
        {
          "output_type": "stream",
          "name": "stdout",
          "text": [
            "Performing 10-Fold Cross-Validation for SVM with TF-IDF...\n"
          ]
        }
      ]
    },
    {
      "cell_type": "code",
      "source": [
        "svm_model_word2vec = SVC(class_weight='balanced',random_state=42, C=1, kernel='rbf', gamma='scale')\n",
        "evaluate_model_with_visualizations(svm_model_word2vec, X_train_word2vec_balanced, X_test_word2vec, y_train_word2vec_balanced, y_test, \"SVM\", \"Word2Vec\")"
      ],
      "metadata": {
        "id": "WH3d9dpz2w6y"
      },
      "execution_count": null,
      "outputs": []
    },
    {
      "cell_type": "code",
      "source": [
        "svm_model_doc2vec = SVC(class_weight='balanced',random_state=42, C=1, kernel='rbf', gamma='scale')\n",
        "evaluate_model_with_visualizations(svm_model_doc2vec, X_train_doc2vec_balanced, X_test_doc2vec, y_train_doc2vec_balanced, y_test, \"SVM\", \"Doc2Vec\")"
      ],
      "metadata": {
        "id": "oKeDcxgi28Eg"
      },
      "execution_count": null,
      "outputs": []
    },
    {
      "cell_type": "code",
      "source": [
        "decision_tree_model_tfidf = DecisionTreeClassifier(class_weight='balanced',random_state=42, criterion='gini',max_depth=None,min_samples_split=5)\n",
        "evaluate_model_with_visualizations(decision_tree_model_tfidf, X_train_tfidf_balanced, X_test_tfidf, y_train_tfidf_balanced, y_test, \"Decision Tree\", \"TF-IDF\")"
      ],
      "metadata": {
        "colab": {
          "base_uri": "https://localhost:8080/",
          "height": 1000
        },
        "id": "Hyn48k7L2rBt",
        "outputId": "375333cc-f0f0-47c8-fb1e-969e9e4d0a74"
      },
      "execution_count": null,
      "outputs": [
        {
          "output_type": "stream",
          "name": "stdout",
          "text": [
            "Performing 10-Fold Cross-Validation for Decision Tree with TF-IDF...\n",
            "Decision Tree with TF-IDF - Cross-validation Scores: [0.94128392 0.93763048 0.93136743 0.93188935 0.93658664 0.93449896\n",
            " 0.93241127 0.93345511 0.9412686  0.93265466]\n",
            "Decision Tree with TF-IDF - Mean CV Accuracy: 0.9353\n"
          ]
        },
        {
          "output_type": "display_data",
          "data": {
            "text/plain": [
              "<Figure size 600x400 with 2 Axes>"
            ],
            "image/png": "[encoded data removed]"
          },
          "metadata": {}
        },
        {
          "output_type": "stream",
          "name": "stdout",
          "text": [
            "Decision Tree with TF-IDF - Classification Report:\n",
            "              precision    recall  f1-score   support\n",
            "\n",
            "           0       0.94      0.94      0.94      8212\n",
            "           1       0.90      0.90      0.90      5249\n",
            "\n",
            "    accuracy                           0.92     13461\n",
            "   macro avg       0.92      0.92      0.92     13461\n",
            "weighted avg       0.92      0.92      0.92     13461\n",
            "\n"
          ]
        },
        {
          "output_type": "display_data",
          "data": {
            "text/plain": [
              "<Figure size 800x600 with 1 Axes>"
            ],
            "image/png": "[encoded data removed]"
          },
          "metadata": {}
        }
      ]
    },
    {
      "cell_type": "code",
      "source": [
        "decision_tree_model_word2vec = DecisionTreeClassifier(class_weight='balanced',random_state=42, criterion='gini', max_depth=None, min_samples_split=5)\n",
        "evaluate_model_with_visualizations(decision_tree_model_word2vec, X_train_word2vec_balanced, X_test_word2vec, y_train_word2vec_balanced, y_test, \"Decision Tree\", \"Word2Vec\")"
      ],
      "metadata": {
        "colab": {
          "base_uri": "https://localhost:8080/",
          "height": 1000
        },
        "id": "WxBCQArR2zPW",
        "outputId": "f13ab581-8f53-4388-f980-54ff54921434"
      },
      "execution_count": null,
      "outputs": [
        {
          "output_type": "stream",
          "name": "stdout",
          "text": [
            "Performing 10-Fold Cross-Validation for Decision Tree with Word2Vec...\n",
            "Decision Tree with Word2Vec - Cross-validation Scores: [0.94441545 0.93763048 0.94493737 0.94154489 0.94676409 0.95120042\n",
            " 0.94572025 0.94780793 0.95327591 0.94648917]\n",
            "Decision Tree with Word2Vec - Mean CV Accuracy: 0.9460\n"
          ]
        },
        {
          "output_type": "display_data",
          "data": {
            "text/plain": [
              "<Figure size 600x400 with 2 Axes>"
            ],
            "image/png": "[encoded data removed]"
          },
          "metadata": {}
        },
        {
          "output_type": "stream",
          "name": "stdout",
          "text": [
            "Decision Tree with Word2Vec - Classification Report:\n",
            "              precision    recall  f1-score   support\n",
            "\n",
            "           0       0.95      0.95      0.95      8212\n",
            "           1       0.93      0.93      0.93      5249\n",
            "\n",
            "    accuracy                           0.94     13461\n",
            "   macro avg       0.94      0.94      0.94     13461\n",
            "weighted avg       0.94      0.94      0.94     13461\n",
            "\n"
          ]
        },
        {
          "output_type": "display_data",
          "data": {
            "text/plain": [
              "<Figure size 800x600 with 1 Axes>"
            ],
            "image/png": "[encoded data removed]"
          },
          "metadata": {}
        }
      ]
    },
    {
      "cell_type": "code",
      "source": [
        "decision_tree_model_doc2vec = DecisionTreeClassifier(class_weight='balanced',random_state=42, max_depth=None, min_samples_split=5)\n",
        "evaluate_model_with_visualizations(decision_tree_model_doc2vec, X_train_doc2vec_balanced, X_test_doc2vec, y_train_doc2vec_balanced, y_test, \"Decision Tree\", \"Doc2Vec\")"
      ],
      "metadata": {
        "colab": {
          "base_uri": "https://localhost:8080/",
          "height": 1000
        },
        "id": "CZiNGuyq2-E5",
        "outputId": "7bc94cca-240c-43de-9954-1f6bc9d29314"
      },
      "execution_count": null,
      "outputs": [
        {
          "output_type": "stream",
          "name": "stdout",
          "text": [
            "Performing 10-Fold Cross-Validation for Decision Tree with Doc2Vec...\n",
            "Decision Tree with Doc2Vec - Cross-validation Scores: [0.66231733 0.66101253 0.63700418 0.65501044 0.66231733 0.65814196\n",
            " 0.66205637 0.66362213 0.67006004 0.66718872]\n",
            "Decision Tree with Doc2Vec - Mean CV Accuracy: 0.6599\n"
          ]
        },
        {
          "output_type": "display_data",
          "data": {
            "text/plain": [
              "<Figure size 600x400 with 2 Axes>"
            ],
            "image/png": "[encoded data removed]"
          },
          "metadata": {}
        },
        {
          "output_type": "stream",
          "name": "stdout",
          "text": [
            "Decision Tree with Doc2Vec - Classification Report:\n",
            "              precision    recall  f1-score   support\n",
            "\n",
            "           0       0.68      0.65      0.67      8212\n",
            "           1       0.49      0.52      0.51      5249\n",
            "\n",
            "    accuracy                           0.60     13461\n",
            "   macro avg       0.59      0.59      0.59     13461\n",
            "weighted avg       0.61      0.60      0.61     13461\n",
            "\n"
          ]
        },
        {
          "output_type": "display_data",
          "data": {
            "text/plain": [
              "<Figure size 800x600 with 1 Axes>"
            ],
            "image/png": "[encoded data removed]"
          },
          "metadata": {}
        }
      ]
    },
    {
      "cell_type": "code",
      "source": [
        "random_forest_model_tfidf = RandomForestClassifier(class_weight='balanced', random_state=42,n_estimators=200,max_depth=None,min_samples_split=5)\n",
        "evaluate_model_with_visualizations(random_forest_model_tfidf, X_train_tfidf_balanced, X_test_tfidf, y_train_tfidf_balanced, y_test, \"Random Forest\", \"TF-IDF\")"
      ],
      "metadata": {
        "colab": {
          "base_uri": "https://localhost:8080/",
          "height": 1000
        },
        "id": "rXxqtcf_2tGZ",
        "outputId": "a08d78ed-0b9e-4129-fe3f-f0806cbe5140"
      },
      "execution_count": null,
      "outputs": [
        {
          "output_type": "stream",
          "name": "stdout",
          "text": [
            "Performing 10-Fold Cross-Validation for Random Forest with TF-IDF...\n",
            "Random Forest with TF-IDF - Cross-validation Scores: [0.98903967 0.98956159 0.98695198 0.98590814 0.99138831 0.99112735\n",
            " 0.98825678 0.98903967 0.98929783 0.98877578]\n",
            "Random Forest with TF-IDF - Mean CV Accuracy: 0.9889\n"
          ]
        },
        {
          "output_type": "display_data",
          "data": {
            "text/plain": [
              "<Figure size 600x400 with 2 Axes>"
            ],
            "image/png": "[encoded data removed]"
          },
          "metadata": {}
        },
        {
          "output_type": "stream",
          "name": "stdout",
          "text": [
            "Random Forest with TF-IDF - Classification Report:\n",
            "              precision    recall  f1-score   support\n",
            "\n",
            "           0       0.98      1.00      0.99      8212\n",
            "           1       0.99      0.97      0.98      5249\n",
            "\n",
            "    accuracy                           0.99     13461\n",
            "   macro avg       0.99      0.98      0.98     13461\n",
            "weighted avg       0.99      0.99      0.99     13461\n",
            "\n"
          ]
        },
        {
          "output_type": "display_data",
          "data": {
            "text/plain": [
              "<Figure size 800x600 with 1 Axes>"
            ],
            "image/png": "[encoded data removed]"
          },
          "metadata": {}
        }
      ]
    },
    {
      "cell_type": "code",
      "source": [
        "random_forest_model_word2vec = RandomForestClassifier(class_weight='balanced',random_state=42, n_estimators=200, max_depth=None, min_samples_split=5)\n",
        "evaluate_model_with_visualizations(random_forest_model_word2vec, X_train_word2vec_balanced, X_test_word2vec, y_train_word2vec_balanced, y_test, \"Random Forest\", \"Word2Vec\")"
      ],
      "metadata": {
        "colab": {
          "base_uri": "https://localhost:8080/",
          "height": 1000
        },
        "id": "2cU9Xmg_23SL",
        "outputId": "b70219a4-18ca-46ee-8e21-ec495a497e0c"
      },
      "execution_count": null,
      "outputs": [
        {
          "output_type": "stream",
          "name": "stdout",
          "text": [
            "Performing 10-Fold Cross-Validation for Random Forest with Word2Vec...\n",
            "Random Forest with Word2Vec - Cross-validation Scores: [0.98721294 0.9861691  0.9874739  0.98956159 0.98877871 0.98903967\n",
            " 0.98564718 0.98669102 0.98929783 0.98877578]\n",
            "Random Forest with Word2Vec - Mean CV Accuracy: 0.9879\n"
          ]
        },
        {
          "output_type": "display_data",
          "data": {
            "text/plain": [
              "<Figure size 600x400 with 2 Axes>"
            ],
            "image/png": "[encoded data removed]"
          },
          "metadata": {}
        },
        {
          "output_type": "stream",
          "name": "stdout",
          "text": [
            "Random Forest with Word2Vec - Classification Report:\n",
            "              precision    recall  f1-score   support\n",
            "\n",
            "           0       0.98      0.99      0.99      8212\n",
            "           1       0.99      0.97      0.98      5249\n",
            "\n",
            "    accuracy                           0.98     13461\n",
            "   macro avg       0.99      0.98      0.98     13461\n",
            "weighted avg       0.99      0.98      0.98     13461\n",
            "\n"
          ]
        },
        {
          "output_type": "display_data",
          "data": {
            "text/plain": [
              "<Figure size 800x600 with 1 Axes>"
            ],
            "image/png": "[encoded data removed]"
          },
          "metadata": {}
        }
      ]
    },
    {
      "cell_type": "code",
      "source": [
        "random_forest_model_doc2vec = RandomForestClassifier(class_weight='balanced',random_state=42, n_estimators=200, max_depth=None, min_samples_split=5)\n",
        "evaluate_model_with_visualizations(random_forest_model_doc2vec, X_train_doc2vec_balanced, X_test_doc2vec, y_train_doc2vec_balanced, y_test, \"Random Forest\", \"Doc2Vec\")"
      ],
      "metadata": {
        "colab": {
          "base_uri": "https://localhost:8080/",
          "height": 1000
        },
        "id": "2qbvlJU_2_de",
        "outputId": "aca2f8f7-37ce-4056-d239-03a8a4e4fdfb"
      },
      "execution_count": null,
      "outputs": [
        {
          "output_type": "stream",
          "name": "stdout",
          "text": [
            "Performing 10-Fold Cross-Validation for Random Forest with Doc2Vec...\n",
            "Random Forest with Doc2Vec - Cross-validation Scores: [0.81263048 0.80715031 0.80167015 0.80897704 0.80741127 0.81132568\n",
            " 0.809238   0.8256785  0.81232054 0.81388671]\n",
            "Random Forest with Doc2Vec - Mean CV Accuracy: 0.8110\n"
          ]
        },
        {
          "output_type": "display_data",
          "data": {
            "text/plain": [
              "<Figure size 600x400 with 2 Axes>"
            ],
            "image/png": "[encoded data removed]"
          },
          "metadata": {}
        },
        {
          "output_type": "stream",
          "name": "stdout",
          "text": [
            "Random Forest with Doc2Vec - Classification Report:\n",
            "              precision    recall  f1-score   support\n",
            "\n",
            "           0       0.73      0.92      0.81      8212\n",
            "           1       0.79      0.46      0.58      5249\n",
            "\n",
            "    accuracy                           0.74     13461\n",
            "   macro avg       0.76      0.69      0.70     13461\n",
            "weighted avg       0.75      0.74      0.72     13461\n",
            "\n"
          ]
        },
        {
          "output_type": "display_data",
          "data": {
            "text/plain": [
              "<Figure size 800x600 with 1 Axes>"
            ],
            "image/png": "[encoded data removed]"
          },
          "metadata": {}
        }
      ]
    },
    {
      "cell_type": "code",
      "source": [
        "# error_rate = []\n",
        "# for n in range(1,11):\n",
        "knn_model_tfidf = KNeighborsClassifier(n_neighbors=8,weights='distance',metric='cosine')\n",
        "evaluate_model_with_visualizations(knn_model_tfidf, X_train_tfidf_balanced, X_test_tfidf, y_train_tfidf_balanced, y_test, \"KNN\", \"TF-IDF\")\n",
        "  # knn_model_tfidf.score(X_test_tfidf,y_test)\n",
        "  # error_rate.append(1-knn_model_tfidf.score(X_test_tfidf,y_test))\n",
        "# plt.plot(error_rate)\n",
        "# plt.title('Error Rate vs. K Value')\n",
        "# plt.xlabel('K')\n",
        "# plt.ylabel('Error Rate')\n",
        "# plt.show()"
      ],
      "metadata": {
        "colab": {
          "base_uri": "https://localhost:8080/",
          "height": 1000
        },
        "id": "4cPGb0Jt2ufd",
        "outputId": "a105ce2e-0806-4091-e77c-d534b27467fd"
      },
      "execution_count": 27,
      "outputs": [
        {
          "output_type": "stream",
          "name": "stdout",
          "text": [
            "Performing 5-Fold Cross-Validation for KNN with TF-IDF...\n",
            "KNN with TF-IDF - Cross-validation Scores: [0.9829071  0.97886221 0.98342902 0.98094741 0.98094741]\n",
            "KNN with TF-IDF - Mean CV Accuracy: 0.9814\n"
          ]
        },
        {
          "output_type": "display_data",
          "data": {
            "text/plain": [
              "<Figure size 600x400 with 2 Axes>"
            ],
            "image/png": "[encoded data removed]"
          },
          "metadata": {}
        },
        {
          "output_type": "stream",
          "name": "stdout",
          "text": [
            "KNN with TF-IDF - Classification Report:\n",
            "              precision    recall  f1-score   support\n",
            "\n",
            "           0       1.00      0.97      0.98      8212\n",
            "           1       0.95      0.99      0.97      5249\n",
            "\n",
            "    accuracy                           0.98     13461\n",
            "   macro avg       0.97      0.98      0.98     13461\n",
            "weighted avg       0.98      0.98      0.98     13461\n",
            "\n"
          ]
        },
        {
          "output_type": "display_data",
          "data": {
            "text/plain": [
              "<Figure size 800x600 with 1 Axes>"
            ],
            "image/png": "[encoded data removed]"
          },
          "metadata": {}
        }
      ]
    },
    {
      "cell_type": "code",
      "source": [
        "# error_rate = []\n",
        "# for n in range(1,11):\n",
        "knn_model_word2vec = KNeighborsClassifier(n_neighbors=10,weights='distance',metric='cosine')\n",
        "evaluate_model_with_visualizations(knn_model_word2vec, X_train_word2vec_balanced, X_test_word2vec, y_train_word2vec_balanced, y_test, \"KNN\", \"Word2Vec\")\n",
        "  # knn_model_word2vec.score(X_test_word2vec,y_test)\n",
        "  # error_rate.append(1-knn_model_word2vec.score(X_test_word2vec,y_test))\n",
        "# plt.plot(error_rate)\n",
        "# plt.title('Error Rate vs. K Value')\n",
        "# plt.xlabel('K')\n",
        "# plt.ylabel('Error Rate')\n",
        "# plt.xticks(range(1,11))\n",
        "# plt.show()"
      ],
      "metadata": {
        "id": "3fzO_rbT26Eq",
        "colab": {
          "base_uri": "https://localhost:8080/",
          "height": 1000
        },
        "outputId": "dc956ea0-a0e8-42ea-deab-e23c8f00211d"
      },
      "execution_count": 26,
      "outputs": [
        {
          "output_type": "stream",
          "name": "stdout",
          "text": [
            "Performing 5-Fold Cross-Validation for KNN with Word2Vec...\n",
            "KNN with Word2Vec - Cross-validation Scores: [0.99099687 0.99151879 0.99360647 0.9908652  0.9907347 ]\n",
            "KNN with Word2Vec - Mean CV Accuracy: 0.9915\n"
          ]
        },
        {
          "output_type": "display_data",
          "data": {
            "text/plain": [
              "<Figure size 600x400 with 2 Axes>"
            ],
            "image/png": "[encoded data removed]"
          },
          "metadata": {}
        },
        {
          "output_type": "stream",
          "name": "stdout",
          "text": [
            "KNN with Word2Vec - Classification Report:\n",
            "              precision    recall  f1-score   support\n",
            "\n",
            "           0       0.99      0.99      0.99      8212\n",
            "           1       0.99      0.98      0.98      5249\n",
            "\n",
            "    accuracy                           0.99     13461\n",
            "   macro avg       0.99      0.99      0.99     13461\n",
            "weighted avg       0.99      0.99      0.99     13461\n",
            "\n"
          ]
        },
        {
          "output_type": "display_data",
          "data": {
            "text/plain": [
              "<Figure size 800x600 with 1 Axes>"
            ],
            "image/png": "[encoded data removed]"
          },
          "metadata": {}
        }
      ]
    },
    {
      "cell_type": "code",
      "source": [
        "# error_rate = []\n",
        "# for n in range(1,11):\n",
        "knn_model_doc2vec = KNeighborsClassifier(n_neighbors=1,weights='distance',metric='cosine')\n",
        "evaluate_model_with_visualizations(knn_model_doc2vec, X_train_doc2vec_balanced, X_test_doc2vec, y_train_doc2vec_balanced, y_test, \"KNN\", \"Doc2Vec\")\n",
        "  # knn_model_doc2vec.score(X_test_doc2vec,y_test)\n",
        "  # error_rate.append(1-knn_model_doc2vec.score(X_test_doc2vec,y_test))\n",
        "# plt.plot(error_rate)\n",
        "# plt.title('Error Rate vs. K Value')\n",
        "# plt.xlabel('K')\n",
        "# plt.ylabel('Error Rate')\n",
        "# plt.xticks(range(1,11))\n",
        "# plt.show()"
      ],
      "metadata": {
        "id": "dt8qfCmS3A10",
        "colab": {
          "base_uri": "https://localhost:8080/",
          "height": 1000
        },
        "outputId": "7abd3a16-c941-4c23-abce-1b5f851623ef"
      },
      "execution_count": 25,
      "outputs": [
        {
          "output_type": "stream",
          "name": "stdout",
          "text": [
            "Performing 5-Fold Cross-Validation for KNN with Doc2Vec...\n",
            "KNN with Doc2Vec - Cross-validation Scores: [0.72977557 0.72377349 0.72990605 0.71551612 0.72360694]\n",
            "KNN with Doc2Vec - Mean CV Accuracy: 0.7245\n"
          ]
        },
        {
          "output_type": "display_data",
          "data": {
            "text/plain": [
              "<Figure size 600x400 with 2 Axes>"
            ],
            "image/png": "[encoded data removed]"
          },
          "metadata": {}
        },
        {
          "output_type": "stream",
          "name": "stdout",
          "text": [
            "KNN with Doc2Vec - Classification Report:\n",
            "              precision    recall  f1-score   support\n",
            "\n",
            "           0       0.98      0.48      0.64      8212\n",
            "           1       0.55      0.99      0.70      5249\n",
            "\n",
            "    accuracy                           0.68     13461\n",
            "   macro avg       0.77      0.73      0.67     13461\n",
            "weighted avg       0.81      0.68      0.67     13461\n",
            "\n"
          ]
        },
        {
          "output_type": "display_data",
          "data": {
            "text/plain": [
              "<Figure size 800x600 with 1 Axes>"
            ],
            "image/png": "[encoded data removed]"
          },
          "metadata": {}
        }
      ]
    },
    {
      "cell_type": "markdown",
      "source": [
        "#**Implementing the best embedding technique for each model and using it on custom data**\n",
        "\n",
        "\n",
        "#1.   SVM :- TF-IDF\n",
        "#2.   Decision Tree :- Word2Vec\n",
        "#3.   Random Forest :- TF-IDF\n",
        "#4.   KNN :- Word2Vec  \n",
        "\n"
      ],
      "metadata": {
        "id": "q7dnSsjsKgdz"
      }
    },
    {
      "cell_type": "code",
      "source": [
        "# svm_model = SVC(class_weight='balanced',random_state=42)\n",
        "# svm_model.fit(X_train_tfidf, y_train)\n",
        "\n",
        "# decision_tree_model = DecisionTreeClassifier(random_state=42)\n",
        "# decision_tree_model.fit(X_train_word2vec, y_train)\n",
        "\n",
        "# random_forest_model = RandomForestClassifier(random_state=42)\n",
        "# random_forest_model.fit(X_train_tfidf, y_train)\n",
        "\n",
        "# knn_model = KNeighborsClassifier(n_neighbors=3)\n",
        "# knn_model.fit(X_train_word2vec, y_train)"
      ],
      "metadata": {
        "id": "Q5m3E8tjqZ3p"
      },
      "execution_count": null,
      "outputs": []
    },
    {
      "cell_type": "code",
      "source": [
        "custom_data = input()\n",
        "#custom_data = \"Good Morning Everyone, I am your teacher for today\"\n",
        "preprocessed_custom_data = preprocess(custom_data)\n",
        "print(preprocessed_custom_data)\n",
        "#for word in preprocessed_custom_data.split():\n",
        "#    if word not in word2vec_model.wv:\n",
        "#        print(f\"Missing word: {word}\")\n",
        "\n",
        "custom_data_tfidf = tfidf_vectorizer.transform([preprocessed_custom_data])\n",
        "\n",
        "#def update_word2vec_with_custom_data(preprocessed_data, word2vec_model):\n",
        "#    \"\"\"Updating Word2Vec model with custom data if new words are found.\"\"\"\n",
        "#    new_sentences = [preprocessed_data.split()]\n",
        "\n",
        "#    word2vec_model.build_vocab(new_sentences, update=True)\n",
        "#    word2vec_model.train(new_sentences, total_examples=len(new_sentences), epochs=5)\n",
        "\n",
        "\n",
        "#update_word2vec_with_custom_data(preprocessed_custom_data, word2vec_model)\n",
        "\n",
        "#custom_data_word2vec = [calculate_average_word_vector(preprocessed_custom_data.split(), word2vec_model, word2vec_model.vector_size)]\n",
        "custom_data_word2vec = np.array([calculate_average_word_vector(preprocessed_custom_data.split(), word2vec_model, word2vec_model.vector_size)]).reshape(1, -1)\n",
        "\n",
        "print(custom_data_tfidf.shape)\n",
        "print(custom_data_word2vec.shape)\n",
        "\n",
        "\n",
        "prediction_svm = svm_model_tfidf.predict(custom_data_tfidf)\n",
        "print(\"Prediction using SVM using TF-IDF:\", prediction_svm)\n",
        "prediction_svm = svm_model_word2vec.predict(custom_data_word2vec)\n",
        "print(\"Prediction using SVM using Word2Vec:\", prediction_svm)\n",
        "\n",
        "prediction_decision_tree = decision_tree_model_tfidf.predict(custom_data_tfidf)\n",
        "print(\"Prediction using Decision Tree using TF-IDF:\", prediction_decision_tree)\n",
        "prediction_decision_tree = decision_tree_model_word2vec.predict(custom_data_word2vec)\n",
        "print(\"Prediction using Decision Tree using Word2Vec:\", prediction_decision_tree)\n",
        "\n",
        "prediction_random_forest = random_forest_model_tfidf.predict(custom_data_tfidf)\n",
        "print(\"Prediction using Random Forest using TF-IDF:\", prediction_random_forest)\n",
        "prediction_random_forest = random_forest_model_word2vec.predict(custom_data_word2vec)\n",
        "print(\"Prediction using Random Forest using Word2Vec:\", prediction_random_forest)\n",
        "\n",
        "prediction_knn = knn_model_tfidf.predict(custom_data_tfidf)\n",
        "print(\"Prediction using KNN using TF-IDF:\", prediction_knn)\n",
        "prediction_knn = knn_model_word2vec.predict(custom_data_word2vec)\n",
        "print(\"Prediction using KNN using Word2Vec:\", prediction_knn)"
      ],
      "metadata": {
        "id": "orWKAnHwDBFs",
        "colab": {
          "base_uri": "https://localhost:8080/"
        },
        "outputId": "5ceafc81-026e-44f5-e9c9-6723644f358d"
      },
      "execution_count": 28,
      "outputs": [
        {
          "output_type": "stream",
          "name": "stdout",
          "text": [
            "Term Frequency - Inverse Document Frequency (TF-IDF) is a widely used statistical method in natural language processing and information retrieval. It measures how important a term is within a document relative to a collection of documents (i.e., relative to a corpus).  Words within a text document are transformed into importance numbers by a text vectorization process. There are many different text vectorization scoring schemes, with TF-IDF being one of the most common.\n",
            "term frequency inverse document frequency tfidf widely use statistical method natural language processing information retrieval measure important term within document relative collection document ie relative corpus word within text document transform importance number text vectorization process many different text vectorization scoring scheme tfidf one common\n",
            "(1, 5000)\n",
            "(1, 300)\n",
            "Prediction using KNN using TF-IDF: [0]\n",
            "Prediction using KNN using Word2Vec: [1]\n"
          ]
        }
      ]
    },
    {
      "cell_type": "code",
      "source": [],
      "metadata": {
        "id": "4YTiYUUWEAsj"
      },
      "execution_count": null,
      "outputs": []
    }
  ],
  "metadata": {
    "colab": {
      "provenance": [],
      "authorship_tag": "ABX9TyNzqDcYr9FQpxnBcj0+zbdQ",
      "include_colab_link": true
    },
    "kernelspec": {
      "display_name": "Python 3",
      "name": "python3"
    },
    "language_info": {
      "name": "python"
    },
    "widgets": {
      "application/vnd.jupyter.widget-state+json": {
        "f1da792529cc46b6b420d829a987cc1c": {
          "model_module": "@jupyter-widgets/controls",
          "model_name": "HBoxModel",
          "model_module_version": "1.5.0",
          "state": {
            "_dom_classes": [],
            "_model_module": "@jupyter-widgets/controls",
            "_model_module_version": "1.5.0",
            "_model_name": "HBoxModel",
            "_view_count": null,
            "_view_module": "@jupyter-widgets/controls",
            "_view_module_version": "1.5.0",
            "_view_name": "HBoxView",
            "box_style": "",
            "children": [
              "IPY_MODEL_64e0b6ebbb72467e9d18158e73f6184d",
              "IPY_MODEL_e1b58fd423d547648ba30fce104890e2",
              "IPY_MODEL_ebe152a8a6fe48159a8a1ffe0911c257"
            ],
            "layout": "IPY_MODEL_c532657275124c129cdb8f46cd1e2ca7"
          }
        },
        "64e0b6ebbb72467e9d18158e73f6184d": {
          "model_module": "@jupyter-widgets/controls",
          "model_name": "HTMLModel",
          "model_module_version": "1.5.0",
          "state": {
            "_dom_classes": [],
            "_model_module": "@jupyter-widgets/controls",
            "_model_module_version": "1.5.0",
            "_model_name": "HTMLModel",
            "_view_count": null,
            "_view_module": "@jupyter-widgets/controls",
            "_view_module_version": "1.5.0",
            "_view_name": "HTMLView",
            "description": "",
            "description_tooltip": null,
            "layout": "IPY_MODEL_0b1c132de9de4c58858d1bde4390cfba",
            "placeholder": "​",
            "style": "IPY_MODEL_7dfb6064dcf143aea27917fa29c56b6c",
            "value": "Preprocessing: 100%"
          }
        },
        "e1b58fd423d547648ba30fce104890e2": {
          "model_module": "@jupyter-widgets/controls",
          "model_name": "FloatProgressModel",
          "model_module_version": "1.5.0",
          "state": {
            "_dom_classes": [],
            "_model_module": "@jupyter-widgets/controls",
            "_model_module_version": "1.5.0",
            "_model_name": "FloatProgressModel",
            "_view_count": null,
            "_view_module": "@jupyter-widgets/controls",
            "_view_module_version": "1.5.0",
            "_view_name": "ProgressView",
            "bar_style": "success",
            "description": "",
            "description_tooltip": null,
            "layout": "IPY_MODEL_40dfaa1dd5d54b1d8c4267bdd4e672de",
            "max": 44868,
            "min": 0,
            "orientation": "horizontal",
            "style": "IPY_MODEL_53b60441af484b5fa7551720f7c4b1e2",
            "value": 44868
          }
        },
        "ebe152a8a6fe48159a8a1ffe0911c257": {
          "model_module": "@jupyter-widgets/controls",
          "model_name": "HTMLModel",
          "model_module_version": "1.5.0",
          "state": {
            "_dom_classes": [],
            "_model_module": "@jupyter-widgets/controls",
            "_model_module_version": "1.5.0",
            "_model_name": "HTMLModel",
            "_view_count": null,
            "_view_module": "@jupyter-widgets/controls",
            "_view_module_version": "1.5.0",
            "_view_name": "HTMLView",
            "description": "",
            "description_tooltip": null,
            "layout": "IPY_MODEL_f80b3a048a014e56951be53c83f959d2",
            "placeholder": "​",
            "style": "IPY_MODEL_a144c5131460415784297bd5b9f93171",
            "value": " 44868/44868 [1:00:27&lt;00:00, 10.80it/s]"
          }
        },
        "c532657275124c129cdb8f46cd1e2ca7": {
          "model_module": "@jupyter-widgets/base",
          "model_name": "LayoutModel",
          "model_module_version": "1.2.0",
          "state": {
            "_model_module": "@jupyter-widgets/base",
            "_model_module_version": "1.2.0",
            "_model_name": "LayoutModel",
            "_view_count": null,
            "_view_module": "@jupyter-widgets/base",
            "_view_module_version": "1.2.0",
            "_view_name": "LayoutView",
            "align_content": null,
            "align_items": null,
            "align_self": null,
            "border": null,
            "bottom": null,
            "display": null,
            "flex": null,
            "flex_flow": null,
            "grid_area": null,
            "grid_auto_columns": null,
            "grid_auto_flow": null,
            "grid_auto_rows": null,
            "grid_column": null,
            "grid_gap": null,
            "grid_row": null,
            "grid_template_areas": null,
            "grid_template_columns": null,
            "grid_template_rows": null,
            "height": null,
            "justify_content": null,
            "justify_items": null,
            "left": null,
            "margin": null,
            "max_height": null,
            "max_width": null,
            "min_height": null,
            "min_width": null,
            "object_fit": null,
            "object_position": null,
            "order": null,
            "overflow": null,
            "overflow_x": null,
            "overflow_y": null,
            "padding": null,
            "right": null,
            "top": null,
            "visibility": null,
            "width": null
          }
        },
        "0b1c132de9de4c58858d1bde4390cfba": {
          "model_module": "@jupyter-widgets/base",
          "model_name": "LayoutModel",
          "model_module_version": "1.2.0",
          "state": {
            "_model_module": "@jupyter-widgets/base",
            "_model_module_version": "1.2.0",
            "_model_name": "LayoutModel",
            "_view_count": null,
            "_view_module": "@jupyter-widgets/base",
            "_view_module_version": "1.2.0",
            "_view_name": "LayoutView",
            "align_content": null,
            "align_items": null,
            "align_self": null,
            "border": null,
            "bottom": null,
            "display": null,
            "flex": null,
            "flex_flow": null,
            "grid_area": null,
            "grid_auto_columns": null,
            "grid_auto_flow": null,
            "grid_auto_rows": null,
            "grid_column": null,
            "grid_gap": null,
            "grid_row": null,
            "grid_template_areas": null,
            "grid_template_columns": null,
            "grid_template_rows": null,
            "height": null,
            "justify_content": null,
            "justify_items": null,
            "left": null,
            "margin": null,
            "max_height": null,
            "max_width": null,
            "min_height": null,
            "min_width": null,
            "object_fit": null,
            "object_position": null,
            "order": null,
            "overflow": null,
            "overflow_x": null,
            "overflow_y": null,
            "padding": null,
            "right": null,
            "top": null,
            "visibility": null,
            "width": null
          }
        },
        "7dfb6064dcf143aea27917fa29c56b6c": {
          "model_module": "@jupyter-widgets/controls",
          "model_name": "DescriptionStyleModel",
          "model_module_version": "1.5.0",
          "state": {
            "_model_module": "@jupyter-widgets/controls",
            "_model_module_version": "1.5.0",
            "_model_name": "DescriptionStyleModel",
            "_view_count": null,
            "_view_module": "@jupyter-widgets/base",
            "_view_module_version": "1.2.0",
            "_view_name": "StyleView",
            "description_width": ""
          }
        },
        "40dfaa1dd5d54b1d8c4267bdd4e672de": {
          "model_module": "@jupyter-widgets/base",
          "model_name": "LayoutModel",
          "model_module_version": "1.2.0",
          "state": {
            "_model_module": "@jupyter-widgets/base",
            "_model_module_version": "1.2.0",
            "_model_name": "LayoutModel",
            "_view_count": null,
            "_view_module": "@jupyter-widgets/base",
            "_view_module_version": "1.2.0",
            "_view_name": "LayoutView",
            "align_content": null,
            "align_items": null,
            "align_self": null,
            "border": null,
            "bottom": null,
            "display": null,
            "flex": null,
            "flex_flow": null,
            "grid_area": null,
            "grid_auto_columns": null,
            "grid_auto_flow": null,
            "grid_auto_rows": null,
            "grid_column": null,
            "grid_gap": null,
            "grid_row": null,
            "grid_template_areas": null,
            "grid_template_columns": null,
            "grid_template_rows": null,
            "height": null,
            "justify_content": null,
            "justify_items": null,
            "left": null,
            "margin": null,
            "max_height": null,
            "max_width": null,
            "min_height": null,
            "min_width": null,
            "object_fit": null,
            "object_position": null,
            "order": null,
            "overflow": null,
            "overflow_x": null,
            "overflow_y": null,
            "padding": null,
            "right": null,
            "top": null,
            "visibility": null,
            "width": null
          }
        },
        "53b60441af484b5fa7551720f7c4b1e2": {
          "model_module": "@jupyter-widgets/controls",
          "model_name": "ProgressStyleModel",
          "model_module_version": "1.5.0",
          "state": {
            "_model_module": "@jupyter-widgets/controls",
            "_model_module_version": "1.5.0",
            "_model_name": "ProgressStyleModel",
            "_view_count": null,
            "_view_module": "@jupyter-widgets/base",
            "_view_module_version": "1.2.0",
            "_view_name": "StyleView",
            "bar_color": null,
            "description_width": ""
          }
        },
        "f80b3a048a014e56951be53c83f959d2": {
          "model_module": "@jupyter-widgets/base",
          "model_name": "LayoutModel",
          "model_module_version": "1.2.0",
          "state": {
            "_model_module": "@jupyter-widgets/base",
            "_model_module_version": "1.2.0",
            "_model_name": "LayoutModel",
            "_view_count": null,
            "_view_module": "@jupyter-widgets/base",
            "_view_module_version": "1.2.0",
            "_view_name": "LayoutView",
            "align_content": null,
            "align_items": null,
            "align_self": null,
            "border": null,
            "bottom": null,
            "display": null,
            "flex": null,
            "flex_flow": null,
            "grid_area": null,
            "grid_auto_columns": null,
            "grid_auto_flow": null,
            "grid_auto_rows": null,
            "grid_column": null,
            "grid_gap": null,
            "grid_row": null,
            "grid_template_areas": null,
            "grid_template_columns": null,
            "grid_template_rows": null,
            "height": null,
            "justify_content": null,
            "justify_items": null,
            "left": null,
            "margin": null,
            "max_height": null,
            "max_width": null,
            "min_height": null,
            "min_width": null,
            "object_fit": null,
            "object_position": null,
            "order": null,
            "overflow": null,
            "overflow_x": null,
            "overflow_y": null,
            "padding": null,
            "right": null,
            "top": null,
            "visibility": null,
            "width": null
          }
        },
        "a144c5131460415784297bd5b9f93171": {
          "model_module": "@jupyter-widgets/controls",
          "model_name": "DescriptionStyleModel",
          "model_module_version": "1.5.0",
          "state": {
            "_model_module": "@jupyter-widgets/controls",
            "_model_module_version": "1.5.0",
            "_model_name": "DescriptionStyleModel",
            "_view_count": null,
            "_view_module": "@jupyter-widgets/base",
            "_view_module_version": "1.2.0",
            "_view_name": "StyleView",
            "description_width": ""
          }
        },
        "38d9c44162e149d89962f22c838b9080": {
          "model_module": "@jupyter-widgets/controls",
          "model_name": "HBoxModel",
          "model_module_version": "1.5.0",
          "state": {
            "_dom_classes": [],
            "_model_module": "@jupyter-widgets/controls",
            "_model_module_version": "1.5.0",
            "_model_name": "HBoxModel",
            "_view_count": null,
            "_view_module": "@jupyter-widgets/controls",
            "_view_module_version": "1.5.0",
            "_view_name": "HBoxView",
            "box_style": "",
            "children": [
              "IPY_MODEL_9a7ea2dcf32d43e18190e884328ca6ad",
              "IPY_MODEL_1c02b5b0eb00450e9e824d4b7da254d7",
              "IPY_MODEL_17b9a2e7ef7e48838ddc58279af4f7b0"
            ],
            "layout": "IPY_MODEL_79262b3b555e43b093b322ce25586f39"
          }
        },
        "9a7ea2dcf32d43e18190e884328ca6ad": {
          "model_module": "@jupyter-widgets/controls",
          "model_name": "HTMLModel",
          "model_module_version": "1.5.0",
          "state": {
            "_dom_classes": [],
            "_model_module": "@jupyter-widgets/controls",
            "_model_module_version": "1.5.0",
            "_model_name": "HTMLModel",
            "_view_count": null,
            "_view_module": "@jupyter-widgets/controls",
            "_view_module_version": "1.5.0",
            "_view_name": "HTMLView",
            "description": "",
            "description_tooltip": null,
            "layout": "IPY_MODEL_e130bf263f3f4022b34d08bcd05918e1",
            "placeholder": "​",
            "style": "IPY_MODEL_338e00e013524998a7870f8da72cedff",
            "value": "Word2Vec: 100%"
          }
        },
        "1c02b5b0eb00450e9e824d4b7da254d7": {
          "model_module": "@jupyter-widgets/controls",
          "model_name": "FloatProgressModel",
          "model_module_version": "1.5.0",
          "state": {
            "_dom_classes": [],
            "_model_module": "@jupyter-widgets/controls",
            "_model_module_version": "1.5.0",
            "_model_name": "FloatProgressModel",
            "_view_count": null,
            "_view_module": "@jupyter-widgets/controls",
            "_view_module_version": "1.5.0",
            "_view_name": "ProgressView",
            "bar_style": "success",
            "description": "",
            "description_tooltip": null,
            "layout": "IPY_MODEL_101be1f5bf37416a8033b7f044c1c6a0",
            "max": 44868,
            "min": 0,
            "orientation": "horizontal",
            "style": "IPY_MODEL_fefecf30891e4eb283e5a70fea7881e9",
            "value": 44868
          }
        },
        "17b9a2e7ef7e48838ddc58279af4f7b0": {
          "model_module": "@jupyter-widgets/controls",
          "model_name": "HTMLModel",
          "model_module_version": "1.5.0",
          "state": {
            "_dom_classes": [],
            "_model_module": "@jupyter-widgets/controls",
            "_model_module_version": "1.5.0",
            "_model_name": "HTMLModel",
            "_view_count": null,
            "_view_module": "@jupyter-widgets/controls",
            "_view_module_version": "1.5.0",
            "_view_name": "HTMLView",
            "description": "",
            "description_tooltip": null,
            "layout": "IPY_MODEL_bd891c970cd8499db6d2edd7420df0de",
            "placeholder": "​",
            "style": "IPY_MODEL_037701977fbe4876b7afc9491b1d31aa",
            "value": " 44868/44868 [00:37&lt;00:00, 1344.27it/s]"
          }
        },
        "79262b3b555e43b093b322ce25586f39": {
          "model_module": "@jupyter-widgets/base",
          "model_name": "LayoutModel",
          "model_module_version": "1.2.0",
          "state": {
            "_model_module": "@jupyter-widgets/base",
            "_model_module_version": "1.2.0",
            "_model_name": "LayoutModel",
            "_view_count": null,
            "_view_module": "@jupyter-widgets/base",
            "_view_module_version": "1.2.0",
            "_view_name": "LayoutView",
            "align_content": null,
            "align_items": null,
            "align_self": null,
            "border": null,
            "bottom": null,
            "display": null,
            "flex": null,
            "flex_flow": null,
            "grid_area": null,
            "grid_auto_columns": null,
            "grid_auto_flow": null,
            "grid_auto_rows": null,
            "grid_column": null,
            "grid_gap": null,
            "grid_row": null,
            "grid_template_areas": null,
            "grid_template_columns": null,
            "grid_template_rows": null,
            "height": null,
            "justify_content": null,
            "justify_items": null,
            "left": null,
            "margin": null,
            "max_height": null,
            "max_width": null,
            "min_height": null,
            "min_width": null,
            "object_fit": null,
            "object_position": null,
            "order": null,
            "overflow": null,
            "overflow_x": null,
            "overflow_y": null,
            "padding": null,
            "right": null,
            "top": null,
            "visibility": null,
            "width": null
          }
        },
        "e130bf263f3f4022b34d08bcd05918e1": {
          "model_module": "@jupyter-widgets/base",
          "model_name": "LayoutModel",
          "model_module_version": "1.2.0",
          "state": {
            "_model_module": "@jupyter-widgets/base",
            "_model_module_version": "1.2.0",
            "_model_name": "LayoutModel",
            "_view_count": null,
            "_view_module": "@jupyter-widgets/base",
            "_view_module_version": "1.2.0",
            "_view_name": "LayoutView",
            "align_content": null,
            "align_items": null,
            "align_self": null,
            "border": null,
            "bottom": null,
            "display": null,
            "flex": null,
            "flex_flow": null,
            "grid_area": null,
            "grid_auto_columns": null,
            "grid_auto_flow": null,
            "grid_auto_rows": null,
            "grid_column": null,
            "grid_gap": null,
            "grid_row": null,
            "grid_template_areas": null,
            "grid_template_columns": null,
            "grid_template_rows": null,
            "height": null,
            "justify_content": null,
            "justify_items": null,
            "left": null,
            "margin": null,
            "max_height": null,
            "max_width": null,
            "min_height": null,
            "min_width": null,
            "object_fit": null,
            "object_position": null,
            "order": null,
            "overflow": null,
            "overflow_x": null,
            "overflow_y": null,
            "padding": null,
            "right": null,
            "top": null,
            "visibility": null,
            "width": null
          }
        },
        "338e00e013524998a7870f8da72cedff": {
          "model_module": "@jupyter-widgets/controls",
          "model_name": "DescriptionStyleModel",
          "model_module_version": "1.5.0",
          "state": {
            "_model_module": "@jupyter-widgets/controls",
            "_model_module_version": "1.5.0",
            "_model_name": "DescriptionStyleModel",
            "_view_count": null,
            "_view_module": "@jupyter-widgets/base",
            "_view_module_version": "1.2.0",
            "_view_name": "StyleView",
            "description_width": ""
          }
        },
        "101be1f5bf37416a8033b7f044c1c6a0": {
          "model_module": "@jupyter-widgets/base",
          "model_name": "LayoutModel",
          "model_module_version": "1.2.0",
          "state": {
            "_model_module": "@jupyter-widgets/base",
            "_model_module_version": "1.2.0",
            "_model_name": "LayoutModel",
            "_view_count": null,
            "_view_module": "@jupyter-widgets/base",
            "_view_module_version": "1.2.0",
            "_view_name": "LayoutView",
            "align_content": null,
            "align_items": null,
            "align_self": null,
            "border": null,
            "bottom": null,
            "display": null,
            "flex": null,
            "flex_flow": null,
            "grid_area": null,
            "grid_auto_columns": null,
            "grid_auto_flow": null,
            "grid_auto_rows": null,
            "grid_column": null,
            "grid_gap": null,
            "grid_row": null,
            "grid_template_areas": null,
            "grid_template_columns": null,
            "grid_template_rows": null,
            "height": null,
            "justify_content": null,
            "justify_items": null,
            "left": null,
            "margin": null,
            "max_height": null,
            "max_width": null,
            "min_height": null,
            "min_width": null,
            "object_fit": null,
            "object_position": null,
            "order": null,
            "overflow": null,
            "overflow_x": null,
            "overflow_y": null,
            "padding": null,
            "right": null,
            "top": null,
            "visibility": null,
            "width": null
          }
        },
        "fefecf30891e4eb283e5a70fea7881e9": {
          "model_module": "@jupyter-widgets/controls",
          "model_name": "ProgressStyleModel",
          "model_module_version": "1.5.0",
          "state": {
            "_model_module": "@jupyter-widgets/controls",
            "_model_module_version": "1.5.0",
            "_model_name": "ProgressStyleModel",
            "_view_count": null,
            "_view_module": "@jupyter-widgets/base",
            "_view_module_version": "1.2.0",
            "_view_name": "StyleView",
            "bar_color": null,
            "description_width": ""
          }
        },
        "bd891c970cd8499db6d2edd7420df0de": {
          "model_module": "@jupyter-widgets/base",
          "model_name": "LayoutModel",
          "model_module_version": "1.2.0",
          "state": {
            "_model_module": "@jupyter-widgets/base",
            "_model_module_version": "1.2.0",
            "_model_name": "LayoutModel",
            "_view_count": null,
            "_view_module": "@jupyter-widgets/base",
            "_view_module_version": "1.2.0",
            "_view_name": "LayoutView",
            "align_content": null,
            "align_items": null,
            "align_self": null,
            "border": null,
            "bottom": null,
            "display": null,
            "flex": null,
            "flex_flow": null,
            "grid_area": null,
            "grid_auto_columns": null,
            "grid_auto_flow": null,
            "grid_auto_rows": null,
            "grid_column": null,
            "grid_gap": null,
            "grid_row": null,
            "grid_template_areas": null,
            "grid_template_columns": null,
            "grid_template_rows": null,
            "height": null,
            "justify_content": null,
            "justify_items": null,
            "left": null,
            "margin": null,
            "max_height": null,
            "max_width": null,
            "min_height": null,
            "min_width": null,
            "object_fit": null,
            "object_position": null,
            "order": null,
            "overflow": null,
            "overflow_x": null,
            "overflow_y": null,
            "padding": null,
            "right": null,
            "top": null,
            "visibility": null,
            "width": null
          }
        },
        "037701977fbe4876b7afc9491b1d31aa": {
          "model_module": "@jupyter-widgets/controls",
          "model_name": "DescriptionStyleModel",
          "model_module_version": "1.5.0",
          "state": {
            "_model_module": "@jupyter-widgets/controls",
            "_model_module_version": "1.5.0",
            "_model_name": "DescriptionStyleModel",
            "_view_count": null,
            "_view_module": "@jupyter-widgets/base",
            "_view_module_version": "1.2.0",
            "_view_name": "StyleView",
            "description_width": ""
          }
        },
        "ebf8650795fb4e31958304d2d180d5f9": {
          "model_module": "@jupyter-widgets/controls",
          "model_name": "HBoxModel",
          "model_module_version": "1.5.0",
          "state": {
            "_dom_classes": [],
            "_model_module": "@jupyter-widgets/controls",
            "_model_module_version": "1.5.0",
            "_model_name": "HBoxModel",
            "_view_count": null,
            "_view_module": "@jupyter-widgets/controls",
            "_view_module_version": "1.5.0",
            "_view_name": "HBoxView",
            "box_style": "",
            "children": [
              "IPY_MODEL_0f879946c7e448ef9c286649899bec59",
              "IPY_MODEL_42ed9c83d0be4450aa1167d375cfdd3e",
              "IPY_MODEL_28ad7a6d2c634e549d1be67eacd241bd"
            ],
            "layout": "IPY_MODEL_a9ba6c56ee2e41eca3657875a1458455"
          }
        },
        "0f879946c7e448ef9c286649899bec59": {
          "model_module": "@jupyter-widgets/controls",
          "model_name": "HTMLModel",
          "model_module_version": "1.5.0",
          "state": {
            "_dom_classes": [],
            "_model_module": "@jupyter-widgets/controls",
            "_model_module_version": "1.5.0",
            "_model_name": "HTMLModel",
            "_view_count": null,
            "_view_module": "@jupyter-widgets/controls",
            "_view_module_version": "1.5.0",
            "_view_name": "HTMLView",
            "description": "",
            "description_tooltip": null,
            "layout": "IPY_MODEL_4a14c74fc3a84ed0b40377afc31c766e",
            "placeholder": "​",
            "style": "IPY_MODEL_59c05e48a0b544e7bc31d09198148413",
            "value": "Tagging Data: 100%"
          }
        },
        "42ed9c83d0be4450aa1167d375cfdd3e": {
          "model_module": "@jupyter-widgets/controls",
          "model_name": "FloatProgressModel",
          "model_module_version": "1.5.0",
          "state": {
            "_dom_classes": [],
            "_model_module": "@jupyter-widgets/controls",
            "_model_module_version": "1.5.0",
            "_model_name": "FloatProgressModel",
            "_view_count": null,
            "_view_module": "@jupyter-widgets/controls",
            "_view_module_version": "1.5.0",
            "_view_name": "ProgressView",
            "bar_style": "success",
            "description": "",
            "description_tooltip": null,
            "layout": "IPY_MODEL_60dd46a7926742d99d92ed756c6f071e",
            "max": 44868,
            "min": 0,
            "orientation": "horizontal",
            "style": "IPY_MODEL_3a94dd5cb1ab46e688a4127e125a681a",
            "value": 44868
          }
        },
        "28ad7a6d2c634e549d1be67eacd241bd": {
          "model_module": "@jupyter-widgets/controls",
          "model_name": "HTMLModel",
          "model_module_version": "1.5.0",
          "state": {
            "_dom_classes": [],
            "_model_module": "@jupyter-widgets/controls",
            "_model_module_version": "1.5.0",
            "_model_name": "HTMLModel",
            "_view_count": null,
            "_view_module": "@jupyter-widgets/controls",
            "_view_module_version": "1.5.0",
            "_view_name": "HTMLView",
            "description": "",
            "description_tooltip": null,
            "layout": "IPY_MODEL_2de2023250be4f85a343d1b3a272e7c0",
            "placeholder": "​",
            "style": "IPY_MODEL_17c376f61a974dcb925ce50ec895ae9f",
            "value": " 44868/44868 [00:03&lt;00:00, 15468.51it/s]"
          }
        },
        "a9ba6c56ee2e41eca3657875a1458455": {
          "model_module": "@jupyter-widgets/base",
          "model_name": "LayoutModel",
          "model_module_version": "1.2.0",
          "state": {
            "_model_module": "@jupyter-widgets/base",
            "_model_module_version": "1.2.0",
            "_model_name": "LayoutModel",
            "_view_count": null,
            "_view_module": "@jupyter-widgets/base",
            "_view_module_version": "1.2.0",
            "_view_name": "LayoutView",
            "align_content": null,
            "align_items": null,
            "align_self": null,
            "border": null,
            "bottom": null,
            "display": null,
            "flex": null,
            "flex_flow": null,
            "grid_area": null,
            "grid_auto_columns": null,
            "grid_auto_flow": null,
            "grid_auto_rows": null,
            "grid_column": null,
            "grid_gap": null,
            "grid_row": null,
            "grid_template_areas": null,
            "grid_template_columns": null,
            "grid_template_rows": null,
            "height": null,
            "justify_content": null,
            "justify_items": null,
            "left": null,
            "margin": null,
            "max_height": null,
            "max_width": null,
            "min_height": null,
            "min_width": null,
            "object_fit": null,
            "object_position": null,
            "order": null,
            "overflow": null,
            "overflow_x": null,
            "overflow_y": null,
            "padding": null,
            "right": null,
            "top": null,
            "visibility": null,
            "width": null
          }
        },
        "4a14c74fc3a84ed0b40377afc31c766e": {
          "model_module": "@jupyter-widgets/base",
          "model_name": "LayoutModel",
          "model_module_version": "1.2.0",
          "state": {
            "_model_module": "@jupyter-widgets/base",
            "_model_module_version": "1.2.0",
            "_model_name": "LayoutModel",
            "_view_count": null,
            "_view_module": "@jupyter-widgets/base",
            "_view_module_version": "1.2.0",
            "_view_name": "LayoutView",
            "align_content": null,
            "align_items": null,
            "align_self": null,
            "border": null,
            "bottom": null,
            "display": null,
            "flex": null,
            "flex_flow": null,
            "grid_area": null,
            "grid_auto_columns": null,
            "grid_auto_flow": null,
            "grid_auto_rows": null,
            "grid_column": null,
            "grid_gap": null,
            "grid_row": null,
            "grid_template_areas": null,
            "grid_template_columns": null,
            "grid_template_rows": null,
            "height": null,
            "justify_content": null,
            "justify_items": null,
            "left": null,
            "margin": null,
            "max_height": null,
            "max_width": null,
            "min_height": null,
            "min_width": null,
            "object_fit": null,
            "object_position": null,
            "order": null,
            "overflow": null,
            "overflow_x": null,
            "overflow_y": null,
            "padding": null,
            "right": null,
            "top": null,
            "visibility": null,
            "width": null
          }
        },
        "59c05e48a0b544e7bc31d09198148413": {
          "model_module": "@jupyter-widgets/controls",
          "model_name": "DescriptionStyleModel",
          "model_module_version": "1.5.0",
          "state": {
            "_model_module": "@jupyter-widgets/controls",
            "_model_module_version": "1.5.0",
            "_model_name": "DescriptionStyleModel",
            "_view_count": null,
            "_view_module": "@jupyter-widgets/base",
            "_view_module_version": "1.2.0",
            "_view_name": "StyleView",
            "description_width": ""
          }
        },
        "60dd46a7926742d99d92ed756c6f071e": {
          "model_module": "@jupyter-widgets/base",
          "model_name": "LayoutModel",
          "model_module_version": "1.2.0",
          "state": {
            "_model_module": "@jupyter-widgets/base",
            "_model_module_version": "1.2.0",
            "_model_name": "LayoutModel",
            "_view_count": null,
            "_view_module": "@jupyter-widgets/base",
            "_view_module_version": "1.2.0",
            "_view_name": "LayoutView",
            "align_content": null,
            "align_items": null,
            "align_self": null,
            "border": null,
            "bottom": null,
            "display": null,
            "flex": null,
            "flex_flow": null,
            "grid_area": null,
            "grid_auto_columns": null,
            "grid_auto_flow": null,
            "grid_auto_rows": null,
            "grid_column": null,
            "grid_gap": null,
            "grid_row": null,
            "grid_template_areas": null,
            "grid_template_columns": null,
            "grid_template_rows": null,
            "height": null,
            "justify_content": null,
            "justify_items": null,
            "left": null,
            "margin": null,
            "max_height": null,
            "max_width": null,
            "min_height": null,
            "min_width": null,
            "object_fit": null,
            "object_position": null,
            "order": null,
            "overflow": null,
            "overflow_x": null,
            "overflow_y": null,
            "padding": null,
            "right": null,
            "top": null,
            "visibility": null,
            "width": null
          }
        },
        "3a94dd5cb1ab46e688a4127e125a681a": {
          "model_module": "@jupyter-widgets/controls",
          "model_name": "ProgressStyleModel",
          "model_module_version": "1.5.0",
          "state": {
            "_model_module": "@jupyter-widgets/controls",
            "_model_module_version": "1.5.0",
            "_model_name": "ProgressStyleModel",
            "_view_count": null,
            "_view_module": "@jupyter-widgets/base",
            "_view_module_version": "1.2.0",
            "_view_name": "StyleView",
            "bar_color": null,
            "description_width": ""
          }
        },
        "2de2023250be4f85a343d1b3a272e7c0": {
          "model_module": "@jupyter-widgets/base",
          "model_name": "LayoutModel",
          "model_module_version": "1.2.0",
          "state": {
            "_model_module": "@jupyter-widgets/base",
            "_model_module_version": "1.2.0",
            "_model_name": "LayoutModel",
            "_view_count": null,
            "_view_module": "@jupyter-widgets/base",
            "_view_module_version": "1.2.0",
            "_view_name": "LayoutView",
            "align_content": null,
            "align_items": null,
            "align_self": null,
            "border": null,
            "bottom": null,
            "display": null,
            "flex": null,
            "flex_flow": null,
            "grid_area": null,
            "grid_auto_columns": null,
            "grid_auto_flow": null,
            "grid_auto_rows": null,
            "grid_column": null,
            "grid_gap": null,
            "grid_row": null,
            "grid_template_areas": null,
            "grid_template_columns": null,
            "grid_template_rows": null,
            "height": null,
            "justify_content": null,
            "justify_items": null,
            "left": null,
            "margin": null,
            "max_height": null,
            "max_width": null,
            "min_height": null,
            "min_width": null,
            "object_fit": null,
            "object_position": null,
            "order": null,
            "overflow": null,
            "overflow_x": null,
            "overflow_y": null,
            "padding": null,
            "right": null,
            "top": null,
            "visibility": null,
            "width": null
          }
        },
        "17c376f61a974dcb925ce50ec895ae9f": {
          "model_module": "@jupyter-widgets/controls",
          "model_name": "DescriptionStyleModel",
          "model_module_version": "1.5.0",
          "state": {
            "_model_module": "@jupyter-widgets/controls",
            "_model_module_version": "1.5.0",
            "_model_name": "DescriptionStyleModel",
            "_view_count": null,
            "_view_module": "@jupyter-widgets/base",
            "_view_module_version": "1.2.0",
            "_view_name": "StyleView",
            "description_width": ""
          }
        },
        "0175a9b3984f409b9085ee9a7c4da243": {
          "model_module": "@jupyter-widgets/controls",
          "model_name": "HBoxModel",
          "model_module_version": "1.5.0",
          "state": {
            "_dom_classes": [],
            "_model_module": "@jupyter-widgets/controls",
            "_model_module_version": "1.5.0",
            "_model_name": "HBoxModel",
            "_view_count": null,
            "_view_module": "@jupyter-widgets/controls",
            "_view_module_version": "1.5.0",
            "_view_name": "HBoxView",
            "box_style": "",
            "children": [
              "IPY_MODEL_3f9c025e909b45e0bb864b555d5606b4",
              "IPY_MODEL_de33cca5b58848efacc4796b800525b3",
              "IPY_MODEL_4389a0fdf4c44613860cbc5866fb4524"
            ],
            "layout": "IPY_MODEL_23dd8d1b5176461b853d9c65ae752308"
          }
        },
        "3f9c025e909b45e0bb864b555d5606b4": {
          "model_module": "@jupyter-widgets/controls",
          "model_name": "HTMLModel",
          "model_module_version": "1.5.0",
          "state": {
            "_dom_classes": [],
            "_model_module": "@jupyter-widgets/controls",
            "_model_module_version": "1.5.0",
            "_model_name": "HTMLModel",
            "_view_count": null,
            "_view_module": "@jupyter-widgets/controls",
            "_view_module_version": "1.5.0",
            "_view_name": "HTMLView",
            "description": "",
            "description_tooltip": null,
            "layout": "IPY_MODEL_41e40d139aae47e38e07e2d7ab069d3b",
            "placeholder": "​",
            "style": "IPY_MODEL_7739fac5155b4a1eafd4a4aa4e96e64a",
            "value": "Generating Doc2Vec Vectors: 100%"
          }
        },
        "de33cca5b58848efacc4796b800525b3": {
          "model_module": "@jupyter-widgets/controls",
          "model_name": "FloatProgressModel",
          "model_module_version": "1.5.0",
          "state": {
            "_dom_classes": [],
            "_model_module": "@jupyter-widgets/controls",
            "_model_module_version": "1.5.0",
            "_model_name": "FloatProgressModel",
            "_view_count": null,
            "_view_module": "@jupyter-widgets/controls",
            "_view_module_version": "1.5.0",
            "_view_name": "ProgressView",
            "bar_style": "success",
            "description": "",
            "description_tooltip": null,
            "layout": "IPY_MODEL_291c330dca1d476594870c4b1f4d30c3",
            "max": 44868,
            "min": 0,
            "orientation": "horizontal",
            "style": "IPY_MODEL_cbe777fd71f04bc38ed091406a9b1fa9",
            "value": 44868
          }
        },
        "4389a0fdf4c44613860cbc5866fb4524": {
          "model_module": "@jupyter-widgets/controls",
          "model_name": "HTMLModel",
          "model_module_version": "1.5.0",
          "state": {
            "_dom_classes": [],
            "_model_module": "@jupyter-widgets/controls",
            "_model_module_version": "1.5.0",
            "_model_name": "HTMLModel",
            "_view_count": null,
            "_view_module": "@jupyter-widgets/controls",
            "_view_module_version": "1.5.0",
            "_view_name": "HTMLView",
            "description": "",
            "description_tooltip": null,
            "layout": "IPY_MODEL_c14970ffb90646838ebbf74d21561f57",
            "placeholder": "​",
            "style": "IPY_MODEL_2e49de8ced0949c69030d8fc83734661",
            "value": " 44868/44868 [00:03&lt;00:00, 25057.79it/s]"
          }
        },
        "23dd8d1b5176461b853d9c65ae752308": {
          "model_module": "@jupyter-widgets/base",
          "model_name": "LayoutModel",
          "model_module_version": "1.2.0",
          "state": {
            "_model_module": "@jupyter-widgets/base",
            "_model_module_version": "1.2.0",
            "_model_name": "LayoutModel",
            "_view_count": null,
            "_view_module": "@jupyter-widgets/base",
            "_view_module_version": "1.2.0",
            "_view_name": "LayoutView",
            "align_content": null,
            "align_items": null,
            "align_self": null,
            "border": null,
            "bottom": null,
            "display": null,
            "flex": null,
            "flex_flow": null,
            "grid_area": null,
            "grid_auto_columns": null,
            "grid_auto_flow": null,
            "grid_auto_rows": null,
            "grid_column": null,
            "grid_gap": null,
            "grid_row": null,
            "grid_template_areas": null,
            "grid_template_columns": null,
            "grid_template_rows": null,
            "height": null,
            "justify_content": null,
            "justify_items": null,
            "left": null,
            "margin": null,
            "max_height": null,
            "max_width": null,
            "min_height": null,
            "min_width": null,
            "object_fit": null,
            "object_position": null,
            "order": null,
            "overflow": null,
            "overflow_x": null,
            "overflow_y": null,
            "padding": null,
            "right": null,
            "top": null,
            "visibility": null,
            "width": null
          }
        },
        "41e40d139aae47e38e07e2d7ab069d3b": {
          "model_module": "@jupyter-widgets/base",
          "model_name": "LayoutModel",
          "model_module_version": "1.2.0",
          "state": {
            "_model_module": "@jupyter-widgets/base",
            "_model_module_version": "1.2.0",
            "_model_name": "LayoutModel",
            "_view_count": null,
            "_view_module": "@jupyter-widgets/base",
            "_view_module_version": "1.2.0",
            "_view_name": "LayoutView",
            "align_content": null,
            "align_items": null,
            "align_self": null,
            "border": null,
            "bottom": null,
            "display": null,
            "flex": null,
            "flex_flow": null,
            "grid_area": null,
            "grid_auto_columns": null,
            "grid_auto_flow": null,
            "grid_auto_rows": null,
            "grid_column": null,
            "grid_gap": null,
            "grid_row": null,
            "grid_template_areas": null,
            "grid_template_columns": null,
            "grid_template_rows": null,
            "height": null,
            "justify_content": null,
            "justify_items": null,
            "left": null,
            "margin": null,
            "max_height": null,
            "max_width": null,
            "min_height": null,
            "min_width": null,
            "object_fit": null,
            "object_position": null,
            "order": null,
            "overflow": null,
            "overflow_x": null,
            "overflow_y": null,
            "padding": null,
            "right": null,
            "top": null,
            "visibility": null,
            "width": null
          }
        },
        "7739fac5155b4a1eafd4a4aa4e96e64a": {
          "model_module": "@jupyter-widgets/controls",
          "model_name": "DescriptionStyleModel",
          "model_module_version": "1.5.0",
          "state": {
            "_model_module": "@jupyter-widgets/controls",
            "_model_module_version": "1.5.0",
            "_model_name": "DescriptionStyleModel",
            "_view_count": null,
            "_view_module": "@jupyter-widgets/base",
            "_view_module_version": "1.2.0",
            "_view_name": "StyleView",
            "description_width": ""
          }
        },
        "291c330dca1d476594870c4b1f4d30c3": {
          "model_module": "@jupyter-widgets/base",
          "model_name": "LayoutModel",
          "model_module_version": "1.2.0",
          "state": {
            "_model_module": "@jupyter-widgets/base",
            "_model_module_version": "1.2.0",
            "_model_name": "LayoutModel",
            "_view_count": null,
            "_view_module": "@jupyter-widgets/base",
            "_view_module_version": "1.2.0",
            "_view_name": "LayoutView",
            "align_content": null,
            "align_items": null,
            "align_self": null,
            "border": null,
            "bottom": null,
            "display": null,
            "flex": null,
            "flex_flow": null,
            "grid_area": null,
            "grid_auto_columns": null,
            "grid_auto_flow": null,
            "grid_auto_rows": null,
            "grid_column": null,
            "grid_gap": null,
            "grid_row": null,
            "grid_template_areas": null,
            "grid_template_columns": null,
            "grid_template_rows": null,
            "height": null,
            "justify_content": null,
            "justify_items": null,
            "left": null,
            "margin": null,
            "max_height": null,
            "max_width": null,
            "min_height": null,
            "min_width": null,
            "object_fit": null,
            "object_position": null,
            "order": null,
            "overflow": null,
            "overflow_x": null,
            "overflow_y": null,
            "padding": null,
            "right": null,
            "top": null,
            "visibility": null,
            "width": null
          }
        },
        "cbe777fd71f04bc38ed091406a9b1fa9": {
          "model_module": "@jupyter-widgets/controls",
          "model_name": "ProgressStyleModel",
          "model_module_version": "1.5.0",
          "state": {
            "_model_module": "@jupyter-widgets/controls",
            "_model_module_version": "1.5.0",
            "_model_name": "ProgressStyleModel",
            "_view_count": null,
            "_view_module": "@jupyter-widgets/base",
            "_view_module_version": "1.2.0",
            "_view_name": "StyleView",
            "bar_color": null,
            "description_width": ""
          }
        },
        "c14970ffb90646838ebbf74d21561f57": {
          "model_module": "@jupyter-widgets/base",
          "model_name": "LayoutModel",
          "model_module_version": "1.2.0",
          "state": {
            "_model_module": "@jupyter-widgets/base",
            "_model_module_version": "1.2.0",
            "_model_name": "LayoutModel",
            "_view_count": null,
            "_view_module": "@jupyter-widgets/base",
            "_view_module_version": "1.2.0",
            "_view_name": "LayoutView",
            "align_content": null,
            "align_items": null,
            "align_self": null,
            "border": null,
            "bottom": null,
            "display": null,
            "flex": null,
            "flex_flow": null,
            "grid_area": null,
            "grid_auto_columns": null,
            "grid_auto_flow": null,
            "grid_auto_rows": null,
            "grid_column": null,
            "grid_gap": null,
            "grid_row": null,
            "grid_template_areas": null,
            "grid_template_columns": null,
            "grid_template_rows": null,
            "height": null,
            "justify_content": null,
            "justify_items": null,
            "left": null,
            "margin": null,
            "max_height": null,
            "max_width": null,
            "min_height": null,
            "min_width": null,
            "object_fit": null,
            "object_position": null,
            "order": null,
            "overflow": null,
            "overflow_x": null,
            "overflow_y": null,
            "padding": null,
            "right": null,
            "top": null,
            "visibility": null,
            "width": null
          }
        },
        "2e49de8ced0949c69030d8fc83734661": {
          "model_module": "@jupyter-widgets/controls",
          "model_name": "DescriptionStyleModel",
          "model_module_version": "1.5.0",
          "state": {
            "_model_module": "@jupyter-widgets/controls",
            "_model_module_version": "1.5.0",
            "_model_name": "DescriptionStyleModel",
            "_view_count": null,
            "_view_module": "@jupyter-widgets/base",
            "_view_module_version": "1.2.0",
            "_view_name": "StyleView",
            "description_width": ""
          }
        }
      }
    }
  },
  "nbformat": 4,
  "nbformat_minor": 0
}