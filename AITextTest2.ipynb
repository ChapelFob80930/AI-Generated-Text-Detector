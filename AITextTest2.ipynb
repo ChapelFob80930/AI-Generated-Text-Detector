{
  "cells": [
    {
      "cell_type": "markdown",
      "metadata": {
        "id": "view-in-github",
        "colab_type": "text"
      },
      "source": [
        "<a href=\"https://colab.research.google.com/github/ChapelFob80930/AI-Generated-Text-Detector/blob/main/AITextTest2.ipynb\" target=\"_parent\"><img src=\"https://colab.research.google.com/assets/colab-badge.svg\" alt=\"Open In Colab\"/></a>"
      ]
    },
    {
      "cell_type": "markdown",
      "source": [
        "#**Importing the Dataset**"
      ],
      "metadata": {
        "id": "KSkesjPZFWta"
      }
    },
    {
      "cell_type": "code",
      "execution_count": 1,
      "metadata": {
        "colab": {
          "base_uri": "https://localhost:8080/"
        },
        "id": "9DivI8E17Ug5",
        "outputId": "d26072b0-ce35-4aa5-ef95-2400185cb00d"
      },
      "outputs": [
        {
          "output_type": "stream",
          "name": "stdout",
          "text": [
            "(44868, 5)\n",
            "                                                text  label\n",
            "0  Phones\\n\\nModern humans today are always on th...      0\n",
            "1  This essay will explain if drivers should or s...      0\n",
            "2  Driving while the use of cellular devices\\n\\nT...      0\n",
            "3  Phones & Driving\\n\\nDrivers should not be able...      0\n",
            "4  Cell Phone Operation While Driving\\n\\nThe abil...      0\n",
            "(44868, 2)\n"
          ]
        }
      ],
      "source": [
        "import numpy as np\n",
        "import pandas as pd\n",
        "\n",
        "ai_generated_dataset = pd.read_csv(\"/content/train_v2_drcat_02.csv\")\n",
        "print(ai_generated_dataset.shape)\n",
        "ai_generated_dataset = ai_generated_dataset.dropna()\n",
        "ai_generated_dataset = ai_generated_dataset.drop(columns=['prompt_name','source','RDizzl3_seven'])\n",
        "print(ai_generated_dataset.head())\n",
        "print(ai_generated_dataset.shape)"
      ]
    },
    {
      "cell_type": "code",
      "execution_count": 2,
      "metadata": {
        "colab": {
          "base_uri": "https://localhost:8080/"
        },
        "collapsed": true,
        "id": "gsRlIA2q7kps",
        "outputId": "06eb4232-e666-4d80-ab48-0100c3db1b24"
      },
      "outputs": [
        {
          "output_type": "stream",
          "name": "stderr",
          "text": [
            "[nltk_data] Downloading collection 'all'\n",
            "[nltk_data]    | \n",
            "[nltk_data]    | Downloading package abc to /root/nltk_data...\n",
            "[nltk_data]    |   Unzipping corpora/abc.zip.\n",
            "[nltk_data]    | Downloading package alpino to /root/nltk_data...\n",
            "[nltk_data]    |   Unzipping corpora/alpino.zip.\n",
            "[nltk_data]    | Downloading package averaged_perceptron_tagger to\n",
            "[nltk_data]    |     /root/nltk_data...\n",
            "[nltk_data]    |   Unzipping taggers/averaged_perceptron_tagger.zip.\n",
            "[nltk_data]    | Downloading package averaged_perceptron_tagger_eng to\n",
            "[nltk_data]    |     /root/nltk_data...\n",
            "[nltk_data]    |   Unzipping\n",
            "[nltk_data]    |       taggers/averaged_perceptron_tagger_eng.zip.\n",
            "[nltk_data]    | Downloading package averaged_perceptron_tagger_ru to\n",
            "[nltk_data]    |     /root/nltk_data...\n",
            "[nltk_data]    |   Unzipping\n",
            "[nltk_data]    |       taggers/averaged_perceptron_tagger_ru.zip.\n",
            "[nltk_data]    | Downloading package averaged_perceptron_tagger_rus to\n",
            "[nltk_data]    |     /root/nltk_data...\n",
            "[nltk_data]    |   Unzipping\n",
            "[nltk_data]    |       taggers/averaged_perceptron_tagger_rus.zip.\n",
            "[nltk_data]    | Downloading package basque_grammars to\n",
            "[nltk_data]    |     /root/nltk_data...\n",
            "[nltk_data]    |   Unzipping grammars/basque_grammars.zip.\n",
            "[nltk_data]    | Downloading package bcp47 to /root/nltk_data...\n",
            "[nltk_data]    | Downloading package biocreative_ppi to\n",
            "[nltk_data]    |     /root/nltk_data...\n",
            "[nltk_data]    |   Unzipping corpora/biocreative_ppi.zip.\n",
            "[nltk_data]    | Downloading package bllip_wsj_no_aux to\n",
            "[nltk_data]    |     /root/nltk_data...\n",
            "[nltk_data]    |   Unzipping models/bllip_wsj_no_aux.zip.\n",
            "[nltk_data]    | Downloading package book_grammars to\n",
            "[nltk_data]    |     /root/nltk_data...\n",
            "[nltk_data]    |   Unzipping grammars/book_grammars.zip.\n",
            "[nltk_data]    | Downloading package brown to /root/nltk_data...\n",
            "[nltk_data]    |   Unzipping corpora/brown.zip.\n",
            "[nltk_data]    | Downloading package brown_tei to /root/nltk_data...\n",
            "[nltk_data]    |   Unzipping corpora/brown_tei.zip.\n",
            "[nltk_data]    | Downloading package cess_cat to /root/nltk_data...\n",
            "[nltk_data]    |   Unzipping corpora/cess_cat.zip.\n",
            "[nltk_data]    | Downloading package cess_esp to /root/nltk_data...\n",
            "[nltk_data]    |   Unzipping corpora/cess_esp.zip.\n",
            "[nltk_data]    | Downloading package chat80 to /root/nltk_data...\n",
            "[nltk_data]    |   Unzipping corpora/chat80.zip.\n",
            "[nltk_data]    | Downloading package city_database to\n",
            "[nltk_data]    |     /root/nltk_data...\n",
            "[nltk_data]    |   Unzipping corpora/city_database.zip.\n",
            "[nltk_data]    | Downloading package cmudict to /root/nltk_data...\n",
            "[nltk_data]    |   Unzipping corpora/cmudict.zip.\n",
            "[nltk_data]    | Downloading package comparative_sentences to\n",
            "[nltk_data]    |     /root/nltk_data...\n",
            "[nltk_data]    |   Unzipping corpora/comparative_sentences.zip.\n",
            "[nltk_data]    | Downloading package comtrans to /root/nltk_data...\n",
            "[nltk_data]    | Downloading package conll2000 to /root/nltk_data...\n",
            "[nltk_data]    |   Unzipping corpora/conll2000.zip.\n",
            "[nltk_data]    | Downloading package conll2002 to /root/nltk_data...\n",
            "[nltk_data]    |   Unzipping corpora/conll2002.zip.\n",
            "[nltk_data]    | Downloading package conll2007 to /root/nltk_data...\n",
            "[nltk_data]    | Downloading package crubadan to /root/nltk_data...\n",
            "[nltk_data]    |   Unzipping corpora/crubadan.zip.\n",
            "[nltk_data]    | Downloading package dependency_treebank to\n",
            "[nltk_data]    |     /root/nltk_data...\n",
            "[nltk_data]    |   Unzipping corpora/dependency_treebank.zip.\n",
            "[nltk_data]    | Downloading package dolch to /root/nltk_data...\n",
            "[nltk_data]    |   Unzipping corpora/dolch.zip.\n",
            "[nltk_data]    | Downloading package europarl_raw to\n",
            "[nltk_data]    |     /root/nltk_data...\n",
            "[nltk_data]    |   Unzipping corpora/europarl_raw.zip.\n",
            "[nltk_data]    | Downloading package extended_omw to\n",
            "[nltk_data]    |     /root/nltk_data...\n",
            "[nltk_data]    | Downloading package floresta to /root/nltk_data...\n",
            "[nltk_data]    |   Unzipping corpora/floresta.zip.\n",
            "[nltk_data]    | Downloading package framenet_v15 to\n",
            "[nltk_data]    |     /root/nltk_data...\n",
            "[nltk_data]    |   Unzipping corpora/framenet_v15.zip.\n",
            "[nltk_data]    | Downloading package framenet_v17 to\n",
            "[nltk_data]    |     /root/nltk_data...\n",
            "[nltk_data]    |   Unzipping corpora/framenet_v17.zip.\n",
            "[nltk_data]    | Downloading package gazetteers to /root/nltk_data...\n",
            "[nltk_data]    |   Unzipping corpora/gazetteers.zip.\n",
            "[nltk_data]    | Downloading package genesis to /root/nltk_data...\n",
            "[nltk_data]    |   Unzipping corpora/genesis.zip.\n",
            "[nltk_data]    | Downloading package gutenberg to /root/nltk_data...\n",
            "[nltk_data]    |   Unzipping corpora/gutenberg.zip.\n",
            "[nltk_data]    | Downloading package ieer to /root/nltk_data...\n",
            "[nltk_data]    |   Unzipping corpora/ieer.zip.\n",
            "[nltk_data]    | Downloading package inaugural to /root/nltk_data...\n",
            "[nltk_data]    |   Unzipping corpora/inaugural.zip.\n",
            "[nltk_data]    | Downloading package indian to /root/nltk_data...\n",
            "[nltk_data]    |   Unzipping corpora/indian.zip.\n",
            "[nltk_data]    | Downloading package jeita to /root/nltk_data...\n",
            "[nltk_data]    | Downloading package kimmo to /root/nltk_data...\n",
            "[nltk_data]    |   Unzipping corpora/kimmo.zip.\n",
            "[nltk_data]    | Downloading package knbc to /root/nltk_data...\n",
            "[nltk_data]    | Downloading package large_grammars to\n",
            "[nltk_data]    |     /root/nltk_data...\n",
            "[nltk_data]    |   Unzipping grammars/large_grammars.zip.\n",
            "[nltk_data]    | Downloading package lin_thesaurus to\n",
            "[nltk_data]    |     /root/nltk_data...\n",
            "[nltk_data]    |   Unzipping corpora/lin_thesaurus.zip.\n",
            "[nltk_data]    | Downloading package mac_morpho to /root/nltk_data...\n",
            "[nltk_data]    |   Unzipping corpora/mac_morpho.zip.\n",
            "[nltk_data]    | Downloading package machado to /root/nltk_data...\n",
            "[nltk_data]    | Downloading package masc_tagged to /root/nltk_data...\n",
            "[nltk_data]    | Downloading package maxent_ne_chunker to\n",
            "[nltk_data]    |     /root/nltk_data...\n",
            "[nltk_data]    |   Unzipping chunkers/maxent_ne_chunker.zip.\n",
            "[nltk_data]    | Downloading package maxent_ne_chunker_tab to\n",
            "[nltk_data]    |     /root/nltk_data...\n",
            "[nltk_data]    |   Unzipping chunkers/maxent_ne_chunker_tab.zip.\n",
            "[nltk_data]    | Downloading package maxent_treebank_pos_tagger to\n",
            "[nltk_data]    |     /root/nltk_data...\n",
            "[nltk_data]    |   Unzipping taggers/maxent_treebank_pos_tagger.zip.\n",
            "[nltk_data]    | Downloading package maxent_treebank_pos_tagger_tab to\n",
            "[nltk_data]    |     /root/nltk_data...\n",
            "[nltk_data]    |   Unzipping\n",
            "[nltk_data]    |       taggers/maxent_treebank_pos_tagger_tab.zip.\n",
            "[nltk_data]    | Downloading package moses_sample to\n",
            "[nltk_data]    |     /root/nltk_data...\n",
            "[nltk_data]    |   Unzipping models/moses_sample.zip.\n",
            "[nltk_data]    | Downloading package movie_reviews to\n",
            "[nltk_data]    |     /root/nltk_data...\n",
            "[nltk_data]    |   Unzipping corpora/movie_reviews.zip.\n",
            "[nltk_data]    | Downloading package mte_teip5 to /root/nltk_data...\n",
            "[nltk_data]    |   Unzipping corpora/mte_teip5.zip.\n",
            "[nltk_data]    | Downloading package mwa_ppdb to /root/nltk_data...\n",
            "[nltk_data]    |   Unzipping misc/mwa_ppdb.zip.\n",
            "[nltk_data]    | Downloading package names to /root/nltk_data...\n",
            "[nltk_data]    |   Unzipping corpora/names.zip.\n",
            "[nltk_data]    | Downloading package nombank.1.0 to /root/nltk_data...\n",
            "[nltk_data]    | Downloading package nonbreaking_prefixes to\n",
            "[nltk_data]    |     /root/nltk_data...\n",
            "[nltk_data]    |   Unzipping corpora/nonbreaking_prefixes.zip.\n",
            "[nltk_data]    | Downloading package nps_chat to /root/nltk_data...\n",
            "[nltk_data]    |   Unzipping corpora/nps_chat.zip.\n",
            "[nltk_data]    | Downloading package omw to /root/nltk_data...\n",
            "[nltk_data]    | Downloading package omw-1.4 to /root/nltk_data...\n",
            "[nltk_data]    | Downloading package opinion_lexicon to\n",
            "[nltk_data]    |     /root/nltk_data...\n",
            "[nltk_data]    |   Unzipping corpora/opinion_lexicon.zip.\n",
            "[nltk_data]    | Downloading package panlex_swadesh to\n",
            "[nltk_data]    |     /root/nltk_data...\n",
            "[nltk_data]    | Downloading package paradigms to /root/nltk_data...\n",
            "[nltk_data]    |   Unzipping corpora/paradigms.zip.\n",
            "[nltk_data]    | Downloading package pe08 to /root/nltk_data...\n",
            "[nltk_data]    |   Unzipping corpora/pe08.zip.\n",
            "[nltk_data]    | Downloading package perluniprops to\n",
            "[nltk_data]    |     /root/nltk_data...\n",
            "[nltk_data]    |   Unzipping misc/perluniprops.zip.\n",
            "[nltk_data]    | Downloading package pil to /root/nltk_data...\n",
            "[nltk_data]    |   Unzipping corpora/pil.zip.\n",
            "[nltk_data]    | Downloading package pl196x to /root/nltk_data...\n",
            "[nltk_data]    |   Unzipping corpora/pl196x.zip.\n",
            "[nltk_data]    | Downloading package porter_test to /root/nltk_data...\n",
            "[nltk_data]    |   Unzipping stemmers/porter_test.zip.\n",
            "[nltk_data]    | Downloading package ppattach to /root/nltk_data...\n",
            "[nltk_data]    |   Unzipping corpora/ppattach.zip.\n",
            "[nltk_data]    | Downloading package problem_reports to\n",
            "[nltk_data]    |     /root/nltk_data...\n",
            "[nltk_data]    |   Unzipping corpora/problem_reports.zip.\n",
            "[nltk_data]    | Downloading package product_reviews_1 to\n",
            "[nltk_data]    |     /root/nltk_data...\n",
            "[nltk_data]    |   Unzipping corpora/product_reviews_1.zip.\n",
            "[nltk_data]    | Downloading package product_reviews_2 to\n",
            "[nltk_data]    |     /root/nltk_data...\n",
            "[nltk_data]    |   Unzipping corpora/product_reviews_2.zip.\n",
            "[nltk_data]    | Downloading package propbank to /root/nltk_data...\n",
            "[nltk_data]    | Downloading package pros_cons to /root/nltk_data...\n",
            "[nltk_data]    |   Unzipping corpora/pros_cons.zip.\n",
            "[nltk_data]    | Downloading package ptb to /root/nltk_data...\n",
            "[nltk_data]    |   Unzipping corpora/ptb.zip.\n",
            "[nltk_data]    | Downloading package punkt to /root/nltk_data...\n",
            "[nltk_data]    |   Unzipping tokenizers/punkt.zip.\n",
            "[nltk_data]    | Downloading package punkt_tab to /root/nltk_data...\n",
            "[nltk_data]    |   Unzipping tokenizers/punkt_tab.zip.\n",
            "[nltk_data]    | Downloading package qc to /root/nltk_data...\n",
            "[nltk_data]    |   Unzipping corpora/qc.zip.\n",
            "[nltk_data]    | Downloading package reuters to /root/nltk_data...\n",
            "[nltk_data]    | Downloading package rslp to /root/nltk_data...\n",
            "[nltk_data]    |   Unzipping stemmers/rslp.zip.\n",
            "[nltk_data]    | Downloading package rte to /root/nltk_data...\n",
            "[nltk_data]    |   Unzipping corpora/rte.zip.\n",
            "[nltk_data]    | Downloading package sample_grammars to\n",
            "[nltk_data]    |     /root/nltk_data...\n",
            "[nltk_data]    |   Unzipping grammars/sample_grammars.zip.\n",
            "[nltk_data]    | Downloading package semcor to /root/nltk_data...\n",
            "[nltk_data]    | Downloading package senseval to /root/nltk_data...\n",
            "[nltk_data]    |   Unzipping corpora/senseval.zip.\n",
            "[nltk_data]    | Downloading package sentence_polarity to\n",
            "[nltk_data]    |     /root/nltk_data...\n",
            "[nltk_data]    |   Unzipping corpora/sentence_polarity.zip.\n",
            "[nltk_data]    | Downloading package sentiwordnet to\n",
            "[nltk_data]    |     /root/nltk_data...\n",
            "[nltk_data]    |   Unzipping corpora/sentiwordnet.zip.\n",
            "[nltk_data]    | Downloading package shakespeare to /root/nltk_data...\n",
            "[nltk_data]    |   Unzipping corpora/shakespeare.zip.\n",
            "[nltk_data]    | Downloading package sinica_treebank to\n",
            "[nltk_data]    |     /root/nltk_data...\n",
            "[nltk_data]    |   Unzipping corpora/sinica_treebank.zip.\n",
            "[nltk_data]    | Downloading package smultron to /root/nltk_data...\n",
            "[nltk_data]    |   Unzipping corpora/smultron.zip.\n",
            "[nltk_data]    | Downloading package snowball_data to\n",
            "[nltk_data]    |     /root/nltk_data...\n",
            "[nltk_data]    | Downloading package spanish_grammars to\n",
            "[nltk_data]    |     /root/nltk_data...\n",
            "[nltk_data]    |   Unzipping grammars/spanish_grammars.zip.\n",
            "[nltk_data]    | Downloading package state_union to /root/nltk_data...\n",
            "[nltk_data]    |   Unzipping corpora/state_union.zip.\n",
            "[nltk_data]    | Downloading package stopwords to /root/nltk_data...\n",
            "[nltk_data]    |   Unzipping corpora/stopwords.zip.\n",
            "[nltk_data]    | Downloading package subjectivity to\n",
            "[nltk_data]    |     /root/nltk_data...\n",
            "[nltk_data]    |   Unzipping corpora/subjectivity.zip.\n",
            "[nltk_data]    | Downloading package swadesh to /root/nltk_data...\n",
            "[nltk_data]    |   Unzipping corpora/swadesh.zip.\n",
            "[nltk_data]    | Downloading package switchboard to /root/nltk_data...\n",
            "[nltk_data]    |   Unzipping corpora/switchboard.zip.\n",
            "[nltk_data]    | Downloading package tagsets to /root/nltk_data...\n",
            "[nltk_data]    |   Unzipping help/tagsets.zip.\n",
            "[nltk_data]    | Downloading package tagsets_json to\n",
            "[nltk_data]    |     /root/nltk_data...\n",
            "[nltk_data]    |   Unzipping help/tagsets_json.zip.\n",
            "[nltk_data]    | Downloading package timit to /root/nltk_data...\n",
            "[nltk_data]    |   Unzipping corpora/timit.zip.\n",
            "[nltk_data]    | Downloading package toolbox to /root/nltk_data...\n",
            "[nltk_data]    |   Unzipping corpora/toolbox.zip.\n",
            "[nltk_data]    | Downloading package treebank to /root/nltk_data...\n",
            "[nltk_data]    |   Unzipping corpora/treebank.zip.\n",
            "[nltk_data]    | Downloading package twitter_samples to\n",
            "[nltk_data]    |     /root/nltk_data...\n",
            "[nltk_data]    |   Unzipping corpora/twitter_samples.zip.\n",
            "[nltk_data]    | Downloading package udhr to /root/nltk_data...\n",
            "[nltk_data]    |   Unzipping corpora/udhr.zip.\n",
            "[nltk_data]    | Downloading package udhr2 to /root/nltk_data...\n",
            "[nltk_data]    |   Unzipping corpora/udhr2.zip.\n",
            "[nltk_data]    | Downloading package unicode_samples to\n",
            "[nltk_data]    |     /root/nltk_data...\n",
            "[nltk_data]    |   Unzipping corpora/unicode_samples.zip.\n",
            "[nltk_data]    | Downloading package universal_tagset to\n",
            "[nltk_data]    |     /root/nltk_data...\n",
            "[nltk_data]    |   Unzipping taggers/universal_tagset.zip.\n",
            "[nltk_data]    | Downloading package universal_treebanks_v20 to\n",
            "[nltk_data]    |     /root/nltk_data...\n",
            "[nltk_data]    | Downloading package vader_lexicon to\n",
            "[nltk_data]    |     /root/nltk_data...\n",
            "[nltk_data]    | Downloading package verbnet to /root/nltk_data...\n",
            "[nltk_data]    |   Unzipping corpora/verbnet.zip.\n",
            "[nltk_data]    | Downloading package verbnet3 to /root/nltk_data...\n",
            "[nltk_data]    |   Unzipping corpora/verbnet3.zip.\n",
            "[nltk_data]    | Downloading package webtext to /root/nltk_data...\n",
            "[nltk_data]    |   Unzipping corpora/webtext.zip.\n",
            "[nltk_data]    | Downloading package wmt15_eval to /root/nltk_data...\n",
            "[nltk_data]    |   Unzipping models/wmt15_eval.zip.\n",
            "[nltk_data]    | Downloading package word2vec_sample to\n",
            "[nltk_data]    |     /root/nltk_data...\n",
            "[nltk_data]    |   Unzipping models/word2vec_sample.zip.\n",
            "[nltk_data]    | Downloading package wordnet to /root/nltk_data...\n",
            "[nltk_data]    | Downloading package wordnet2021 to /root/nltk_data...\n",
            "[nltk_data]    | Downloading package wordnet2022 to /root/nltk_data...\n",
            "[nltk_data]    |   Unzipping corpora/wordnet2022.zip.\n",
            "[nltk_data]    | Downloading package wordnet31 to /root/nltk_data...\n",
            "[nltk_data]    | Downloading package wordnet_ic to /root/nltk_data...\n",
            "[nltk_data]    |   Unzipping corpora/wordnet_ic.zip.\n",
            "[nltk_data]    | Downloading package words to /root/nltk_data...\n",
            "[nltk_data]    |   Unzipping corpora/words.zip.\n",
            "[nltk_data]    | Downloading package ycoe to /root/nltk_data...\n",
            "[nltk_data]    |   Unzipping corpora/ycoe.zip.\n",
            "[nltk_data]    | \n",
            "[nltk_data]  Done downloading collection all\n"
          ]
        },
        {
          "output_type": "execute_result",
          "data": {
            "text/plain": [
              "True"
            ]
          },
          "metadata": {},
          "execution_count": 2
        }
      ],
      "source": [
        "import nltk\n",
        "nltk.download('all')\n"
      ]
    },
    {
      "cell_type": "markdown",
      "source": [
        "#**Preprocessing Data**"
      ],
      "metadata": {
        "id": "xOhNVLWSHXBr"
      }
    },
    {
      "cell_type": "code",
      "source": [
        "import numpy as np\n",
        "import pandas as pd\n",
        "import spacy\n",
        "from joblib import Parallel, delayed\n",
        "from tqdm.notebook import tqdm\n",
        "from nltk.corpus import stopwords\n",
        "import nltk\n",
        "import re\n",
        "\n",
        "\n",
        "nlp = spacy.load('en_core_web_sm')\n",
        "\n",
        "\n",
        "nltk.download('stopwords')\n",
        "stop_words = set(stopwords.words('english'))\n",
        "\n",
        "\n",
        "def preprocess(text):\n",
        "    text = re.sub(r\"[^a-zA-Z\\s]\",\"\",text.lower())\n",
        "    doc = nlp(text)\n",
        "    tokens = [token.lemma_ for token in doc if token.text not in stop_words and token.is_alpha]\n",
        "    return \" \".join(tokens)\n",
        "\n",
        "\n",
        "def parallel_preprocessing(series):\n",
        "    \"\"\"Preprocess text using spaCy, parallel processing, and tqdm for progress tracking.\"\"\"\n",
        "    tqdm.pandas()\n",
        "    return Parallel(n_jobs=10, backend=\"multiprocessing\")(delayed(preprocess)(text) for text in tqdm(series, desc=\"Preprocessing\"))\n",
        "\n",
        "\n",
        "ai_generated_dataset[\"preprocessedText\"] = parallel_preprocessing(ai_generated_dataset[\"text\"])\n",
        "\n",
        "print(ai_generated_dataset.head())\n"
      ],
      "metadata": {
        "colab": {
          "base_uri": "https://localhost:8080/",
          "height": 309,
          "referenced_widgets": [
            "152359f6176d4e05b36c960890148567",
            "3e3ce24535084594a61d3748d08cd5b7",
            "98b5429117b34c9da4b5a6c2015edb43",
            "06c5286a7812492388bb0f05f02ea521",
            "ddd1c84ffb7a4bc89669258b83a9750d",
            "5cfb7d8cf3da4f4e9544f464f77061ef",
            "33c6f63e674f4467bbf5f4b1fac76556",
            "ab7a69d4811b4958bead5e436272f26b",
            "cf42172f2eab4691bffe9367f925780e",
            "cd2fb5affddd474a82f6cce37ac21b28",
            "95a5afcba8484c77aad22a5d91ed721f"
          ]
        },
        "id": "ht-kx-PVVMDm",
        "outputId": "6b41d59b-8a15-48a5-d392-8babc66c5957"
      },
      "execution_count": 4,
      "outputs": [
        {
          "metadata": {
            "tags": null
          },
          "name": "stderr",
          "output_type": "stream",
          "text": [
            "[nltk_data] Downloading package stopwords to /root/nltk_data...\n",
            "[nltk_data]   Package stopwords is already up-to-date!\n"
          ]
        },
        {
          "data": {
            "application/vnd.jupyter.widget-view+json": {
              "model_id": "152359f6176d4e05b36c960890148567",
              "version_major": 2,
              "version_minor": 0
            },
            "text/plain": [
              "Preprocessing:   0%|          | 0/44868 [00:00<?, ?it/s]"
            ]
          },
          "metadata": {},
          "output_type": "display_data"
        },
        {
          "output_type": "stream",
          "name": "stdout",
          "text": [
            "                                                text  label  \\\n",
            "0  Phones\\n\\nModern humans today are always on th...      0   \n",
            "1  This essay will explain if drivers should or s...      0   \n",
            "2  Driving while the use of cellular devices\\n\\nT...      0   \n",
            "3  Phones & Driving\\n\\nDrivers should not be able...      0   \n",
            "4  Cell Phone Operation While Driving\\n\\nThe abil...      0   \n",
            "\n",
            "                                    preprocessedText  \n",
            "0  phone modern human today always phone always p...  \n",
            "1  essay explain driver able use electronic devic...  \n",
            "2  drive use cellular device today society though...  \n",
            "3  phone drive driver able use phone operate vehi...  \n",
            "4  cell phone operation drive ability stay connec...  \n"
          ]
        }
      ]
    },
    {
      "cell_type": "markdown",
      "source": [
        "#**Creating Word2Vec Embeddings**"
      ],
      "metadata": {
        "id": "GeNwbv6sHxgw"
      }
    },
    {
      "cell_type": "code",
      "source": [
        "from gensim.models import Word2Vec\n",
        "\n",
        "sentences = ai_generated_dataset[\"preprocessedText\"].apply(lambda x: x.split())\n",
        "\n",
        "word2vec_model = Word2Vec(sentences, vector_size=300, window=10, min_count=2, workers=4, sg=1)\n",
        "\n",
        "word_vector = word2vec_model.wv['car']\n",
        "print(\"Vector for 'car':\", word_vector)\n",
        "\n",
        "\n",
        "def calculate_average_word_vector(words,model,vector_size=300):\n",
        "    word_vectors = [word2vec_model.wv[word] for word in words if word in word2vec_model.wv]\n",
        "    if word_vectors:\n",
        "        return np.mean(word_vectors, axis=0)\n",
        "    else:\n",
        "        return np.zeros(vector_size)\n",
        "\n",
        "def parallel_word2vec(row):\n",
        "    return calculate_average_word_vector(row.split(), word2vec_model)\n",
        "\n",
        "\n",
        "ai_generated_dataset['word2vecVector'] = Parallel(n_jobs=10,backend='multiprocessing')(delayed(parallel_word2vec)(row) for row in tqdm(ai_generated_dataset[\"preprocessedText\"], desc=\"Word2Vec\"))\n",
        "print(ai_generated_dataset.head())\n",
        "\n"
      ],
      "metadata": {
        "colab": {
          "base_uri": "https://localhost:8080/",
          "height": 1000,
          "referenced_widgets": [
            "9630674305bc44da9f7215ed968f8427",
            "69384ead70bd4dc1925097c9841ce14f",
            "09bbd5c815d7425daf6f282809995c32",
            "4d66cdf85a0646e783fa163322e4f5e8",
            "2df64fb9d6f34db48a6965ea0d18b667",
            "de27df216cf34470826185ee0fce9130",
            "2a50019c5883452689844c57bf0d94f5",
            "13c448921a344ed59f30e39275e94aec",
            "8756038d51964d278913def43c0f1b05",
            "0e81fb133c24404d8d9abfcb3cd1acd0",
            "e0d31538ad8a45ecb8ce0259ba5b050d"
          ]
        },
        "id": "oRPabtS3V0Tg",
        "outputId": "e6c542b7-1230-4bb0-d4de-827ce18aa56d"
      },
      "execution_count": 5,
      "outputs": [
        {
          "output_type": "stream",
          "name": "stdout",
          "text": [
            "Vector for 'car': [ 0.09131698  0.29528412 -0.27284387  0.05139103  0.03846934  0.00476515\n",
            " -0.27984607 -0.07858433 -0.07743984 -0.06548931 -0.03796072 -0.19587553\n",
            "  0.23202066 -0.03581011 -0.30424985  0.30604485  0.6617226  -0.05272839\n",
            "  0.07908552  0.26181546  0.05931774  0.06650639 -0.0306376   0.00739211\n",
            " -0.21041052  0.3335409   0.08317763  0.29440182  0.23472047 -0.25034904\n",
            " -0.06594107  0.15823546 -0.02843368  0.04741255 -0.10266607  0.3360326\n",
            "  0.1290874  -0.19825453 -0.24478342 -0.1188971   0.06264783  0.02316411\n",
            " -0.281981   -0.14029409  0.14801437  0.30068958  0.29541233  0.30913574\n",
            " -0.5572026  -0.00079131 -0.03472793 -0.12123156 -0.19851986 -0.15308888\n",
            "  0.14258908  0.01474613 -0.22156298 -0.00345795 -0.28504032  0.01686772\n",
            "  0.12449133 -0.4479222   0.03261058  0.08383605  0.04374932  0.22832455\n",
            "  0.14589384  0.03563403 -0.07401107  0.3915732   0.22356692 -0.27455026\n",
            "  0.16668862 -0.21201806 -0.5196088  -0.03979636  0.09489086 -0.15122229\n",
            " -0.20596795  0.12930591 -0.03386501 -0.0304224  -0.26383954  0.08543082\n",
            "  0.25111878 -0.01045406  0.18922639 -0.13945319  0.16274999  0.2858605\n",
            "  0.15111242  0.35880068  0.17742038 -0.16160615 -0.16981158 -0.037669\n",
            "  0.1114506   0.20428734 -0.08733267  0.00720781  0.07813287 -0.21587753\n",
            " -0.08935098  0.03147302  0.2836427  -0.17377856  0.18685392  0.2059275\n",
            " -0.11740856 -0.01396274  0.2674233  -0.06688812  0.02311148  0.34832433\n",
            "  0.20813699 -0.19542396  0.384116    0.23421206  0.26053473  0.12275747\n",
            "  0.32583687  0.0556393   0.22595508 -0.32393545  0.04661282  0.16069035\n",
            "  0.07126105  0.2553034  -0.20817712 -0.01912949 -0.03499605  0.0680453\n",
            " -0.42428687  0.24177404  0.0812194   0.1255642  -0.02398425 -0.16516417\n",
            " -0.00902341  0.18627277 -0.23541927  0.10291897  0.18153743  0.11575273\n",
            " -0.00560752 -0.14350033  0.36205348 -0.12769088 -0.09087757 -0.5312982\n",
            " -0.07877831 -0.24044725  0.07252847  0.24140415  0.30848718 -0.35452092\n",
            "  0.09944317 -0.29226992 -0.13203576  0.37411782 -0.03323535  0.08332752\n",
            " -0.00428362 -0.04450735  0.07974817 -0.18857871  0.0034475  -0.272236\n",
            "  0.13924333  0.07572133  0.02577054  0.12641625 -0.06738275  0.01496041\n",
            " -0.07490652  0.3180724  -0.48838186 -0.00743481  0.13291492 -0.17322205\n",
            " -0.15767163  0.4575362  -0.11392968  0.04528289 -0.4653202   0.3797655\n",
            " -0.02411601  0.09314598 -0.04558194  0.20654492  0.07825131  0.00221733\n",
            " -0.23453902 -0.19780616  0.12540898 -0.1876203  -0.02391053 -0.05152328\n",
            "  0.04501167  0.16772038  0.09343711 -0.04672161 -0.20437618 -0.19806434\n",
            " -0.04919487 -0.00070898 -0.0166008   0.2330292   0.06998484  0.052855\n",
            " -0.0179837  -0.08167441  0.14500989 -0.15016955  0.04551919 -0.13772029\n",
            "  0.18309592 -0.38678968  0.01443831 -0.17298013 -0.09812553 -0.16500765\n",
            "  0.01987677  0.18097377  0.09904141 -0.42208216  0.12822519 -0.29869267\n",
            "  0.30862984  0.02071536  0.10696217  0.12848571 -0.1427865   0.289667\n",
            " -0.15506043  0.01276491 -0.04685149 -0.0140117   0.09103536 -0.00165832\n",
            "  0.5076679  -0.06151034 -0.28058785  0.05469631  0.06081825  0.06901129\n",
            "  0.02496943 -0.16412741  0.49491504  0.40496022 -0.19719021  0.35557508\n",
            "  0.19677478  0.12645602  0.05225987 -0.01447854  0.6060577   0.05688719\n",
            " -0.10803615 -0.43873957  0.41460377 -0.07696898  0.18507881 -0.19683163\n",
            "  0.10136002 -0.2857991  -0.03504195 -0.06784604  0.04747649 -0.0028691\n",
            " -0.07530047 -0.08356164  0.381298   -0.29983416  0.13857877  0.20976464\n",
            " -0.0188985  -0.09004653 -0.10565732 -0.12228041 -0.08581658 -0.20324287\n",
            "  0.44264555  0.24454124  0.08510993 -0.26822218 -0.03628819 -0.29902643\n",
            "  0.01035707  0.00252345 -0.1663942   0.15651716  0.14820123 -0.07807763\n",
            "  0.03211296 -0.07412998 -0.30048704  0.04271955  0.09061769  0.00291114]\n"
          ]
        },
        {
          "output_type": "display_data",
          "data": {
            "text/plain": [
              "Word2Vec:   0%|          | 0/44868 [00:00<?, ?it/s]"
            ],
            "application/vnd.jupyter.widget-view+json": {
              "version_major": 2,
              "version_minor": 0,
              "model_id": "9630674305bc44da9f7215ed968f8427"
            }
          },
          "metadata": {}
        },
        {
          "output_type": "stream",
          "name": "stdout",
          "text": [
            "                                                text  label  \\\n",
            "0  Phones\\n\\nModern humans today are always on th...      0   \n",
            "1  This essay will explain if drivers should or s...      0   \n",
            "2  Driving while the use of cellular devices\\n\\nT...      0   \n",
            "3  Phones & Driving\\n\\nDrivers should not be able...      0   \n",
            "4  Cell Phone Operation While Driving\\n\\nThe abil...      0   \n",
            "\n",
            "                                    preprocessedText  \\\n",
            "0  phone modern human today always phone always p...   \n",
            "1  essay explain driver able use electronic devic...   \n",
            "2  drive use cellular device today society though...   \n",
            "3  phone drive driver able use phone operate vehi...   \n",
            "4  cell phone operation drive ability stay connec...   \n",
            "\n",
            "                                      word2vecVector  \n",
            "0  [0.0947627, 0.15983818, -0.044149067, 0.130929...  \n",
            "1  [0.097245194, 0.13757715, 0.017097821, 0.13159...  \n",
            "2  [0.028974527, 0.1540339, 0.035483517, 0.103220...  \n",
            "3  [0.07914372, 0.17274155, 0.08078173, 0.0825335...  \n",
            "4  [0.08374651, 0.11428703, -0.033362836, 0.09559...  \n"
          ]
        }
      ]
    },
    {
      "cell_type": "markdown",
      "source": [
        "#**Creating Doc2Vec Embeddings**"
      ],
      "metadata": {
        "id": "qotyAPoIH8oX"
      }
    },
    {
      "cell_type": "code",
      "source": [
        "from gensim.models.doc2vec import Doc2Vec, TaggedDocument\n",
        "\n",
        "\n",
        "def prepare_tagged_documents(series):\n",
        "\n",
        "    return [TaggedDocument(words=text.split(), tags=[str(i)]) for i, text in enumerate(series)]\n",
        "\n",
        "\n",
        "tqdm.pandas(desc=\"Preparing Tagged Documents\")\n",
        "tagged_data = prepare_tagged_documents(tqdm(ai_generated_dataset[\"preprocessedText\"], desc=\"Tagging Data\"))\n",
        "\n",
        "\n",
        "doc2vec_model = Doc2Vec(tagged_data, vector_size=300, window=5, min_count=2, workers=4, dm=1,epochs=50)\n",
        "\n",
        "# Function to generate Doc2Vec vectors\n",
        "def generate_doc2vec_vector(index):\n",
        "\n",
        "    return doc2vec_model.dv[str(index)]\n",
        "\n",
        "# Use tqdm and joblib to parallelize vector generation\n",
        "def generate_doc2vec_vectors_parallel(dataframe):\n",
        "\n",
        "    indices = dataframe.index\n",
        "    return Parallel(n_jobs=10, backend=\"multiprocessing\")(delayed(generate_doc2vec_vector)(index) for index in tqdm(indices, desc=\"Generating Doc2Vec Vectors\"))\n",
        "\n",
        "ai_generated_dataset['doc2vecVector'] = generate_doc2vec_vectors_parallel(ai_generated_dataset)\n",
        "\n",
        "\n",
        "print(ai_generated_dataset.head())\n"
      ],
      "metadata": {
        "colab": {
          "base_uri": "https://localhost:8080/",
          "height": 550,
          "referenced_widgets": [
            "edf7a4fe2650470294d7cd5d2c33a549",
            "0ed357a22e9b47d8ba90a6402a583f7f",
            "a4816f330a1240d6a0af47a09a4b2d14",
            "ec6c4432016146d089585a1f33accef2",
            "66c35cc00a7e48388f00e291e76c178c",
            "77cabb7d0efa4a1f8806ae22b896d79b",
            "1079e33e420d4a56aef7c2b551fe4af8",
            "df81364d3497442abfc13aee162cc131",
            "b1cdb3af4342439b8495df08ddb65fc8",
            "0110c79f81474decb3a2a846401d06ab",
            "361f40561144429297159dc92183ab7d",
            "5689ba5ddcff4628a6601346e8076419",
            "38623251a8a64a8d9303b70cfd75ca25",
            "b5006adb57a040f8a94d4419367976b7",
            "abf213a3f7ef4ef48d2042d8421ad0fb",
            "e257049778e84bc5a5a124f93c9e431d",
            "0f431dc74bee495c8a6fdfae1f415d55",
            "9f5b1ee836a644c48aa0c44136436923",
            "660ff641ffe94e6db2d53d79af902876",
            "8252f7567d4244f0850231aa8b2c28cb",
            "f0d339af51fe4b768b977cf58c182a52",
            "12b51a6fbd0b4e589393db1ba173e9bb"
          ]
        },
        "id": "qvgs8xGcnjU_",
        "outputId": "aa350370-f3ba-4ce8-d450-fe4919139219"
      },
      "execution_count": 6,
      "outputs": [
        {
          "output_type": "display_data",
          "data": {
            "text/plain": [
              "Tagging Data:   0%|          | 0/44868 [00:00<?, ?it/s]"
            ],
            "application/vnd.jupyter.widget-view+json": {
              "version_major": 2,
              "version_minor": 0,
              "model_id": "edf7a4fe2650470294d7cd5d2c33a549"
            }
          },
          "metadata": {}
        },
        {
          "output_type": "display_data",
          "data": {
            "text/plain": [
              "Generating Doc2Vec Vectors:   0%|          | 0/44868 [00:00<?, ?it/s]"
            ],
            "application/vnd.jupyter.widget-view+json": {
              "version_major": 2,
              "version_minor": 0,
              "model_id": "5689ba5ddcff4628a6601346e8076419"
            }
          },
          "metadata": {}
        },
        {
          "output_type": "stream",
          "name": "stdout",
          "text": [
            "                                                text  label  \\\n",
            "0  Phones\\n\\nModern humans today are always on th...      0   \n",
            "1  This essay will explain if drivers should or s...      0   \n",
            "2  Driving while the use of cellular devices\\n\\nT...      0   \n",
            "3  Phones & Driving\\n\\nDrivers should not be able...      0   \n",
            "4  Cell Phone Operation While Driving\\n\\nThe abil...      0   \n",
            "\n",
            "                                    preprocessedText  \\\n",
            "0  phone modern human today always phone always p...   \n",
            "1  essay explain driver able use electronic devic...   \n",
            "2  drive use cellular device today society though...   \n",
            "3  phone drive driver able use phone operate vehi...   \n",
            "4  cell phone operation drive ability stay connec...   \n",
            "\n",
            "                                      word2vecVector  \\\n",
            "0  [0.0947627, 0.15983818, -0.044149067, 0.130929...   \n",
            "1  [0.097245194, 0.13757715, 0.017097821, 0.13159...   \n",
            "2  [0.028974527, 0.1540339, 0.035483517, 0.103220...   \n",
            "3  [0.07914372, 0.17274155, 0.08078173, 0.0825335...   \n",
            "4  [0.08374651, 0.11428703, -0.033362836, 0.09559...   \n",
            "\n",
            "                                       doc2vecVector  \n",
            "0  [-0.035420105, -1.3758366, 0.009995423, -0.502...  \n",
            "1  [1.5527865, 0.56885415, -0.24603559, 0.4778321...  \n",
            "2  [1.0330532, 0.2305963, 0.5181752, 0.44675523, ...  \n",
            "3  [0.96611404, 1.7075522, -2.0497282, 0.7920586,...  \n",
            "4  [1.0330098, -0.8775072, 0.03995256, 0.1307793,...  \n"
          ]
        }
      ]
    },
    {
      "cell_type": "markdown",
      "source": [
        "#**Splitting the Test and Train indexes and Separating the Labels from the Data**"
      ],
      "metadata": {
        "id": "6fsEKQraIHwL"
      }
    },
    {
      "cell_type": "code",
      "source": [
        "from sklearn.model_selection import train_test_split\n",
        "\n",
        "y = ai_generated_dataset['label']\n",
        "\n",
        "train_index, test_index = train_test_split(ai_generated_dataset.index, test_size=0.3, random_state=42, stratify = y)\n"
      ],
      "metadata": {
        "id": "_i0ssR6L0dp6"
      },
      "execution_count": 8,
      "outputs": []
    },
    {
      "cell_type": "code",
      "source": [
        "print(train_index.shape)\n",
        "print(test_index.shape)"
      ],
      "metadata": {
        "id": "Kp95xJPV_XW-",
        "colab": {
          "base_uri": "https://localhost:8080/"
        },
        "outputId": "492ba444-094e-4c06-8593-465d37daca2c"
      },
      "execution_count": 9,
      "outputs": [
        {
          "output_type": "stream",
          "name": "stdout",
          "text": [
            "(31407,)\n",
            "(13461,)\n"
          ]
        }
      ]
    },
    {
      "cell_type": "markdown",
      "source": [
        "#**Creating TF-IDF Embeddings and Applying SMOTE**"
      ],
      "metadata": {
        "id": "htJAfPMrIl5n"
      }
    },
    {
      "cell_type": "code",
      "source": [
        "from sklearn.feature_extraction.text import TfidfVectorizer\n",
        "\n",
        "tfidf_vectorizer = TfidfVectorizer(max_features=5000,ngram_range=(1,3),max_df=0.95,min_df=2,sublinear_tf=True)\n",
        "X_tfidf = tfidf_vectorizer.fit_transform(ai_generated_dataset[\"preprocessedText\"])\n",
        "\n",
        "X_train_tfidf, X_test_tfidf = X_tfidf[train_index], X_tfidf[test_index]\n",
        "y_train, y_test = y[train_index], y[test_index]\n"
      ],
      "metadata": {
        "id": "PH4Lysdq0osa"
      },
      "execution_count": 10,
      "outputs": []
    },
    {
      "cell_type": "code",
      "source": [
        "print(X_train_tfidf.shape)"
      ],
      "metadata": {
        "colab": {
          "base_uri": "https://localhost:8080/"
        },
        "id": "DAvQGcNgs_9w",
        "outputId": "44a3b3d5-d2ed-442b-f592-7f0e7e43121c"
      },
      "execution_count": 11,
      "outputs": [
        {
          "output_type": "stream",
          "name": "stdout",
          "text": [
            "(31407, 5000)\n"
          ]
        }
      ]
    },
    {
      "cell_type": "code",
      "source": [
        "from imblearn.over_sampling import SMOTE\n",
        "\n",
        "smote = SMOTE(random_state=42)\n",
        "X_train_tfidf_balanced, y_train_tfidf_balanced = smote.fit_resample(X_train_tfidf, y_train)\n",
        "print(\"TF-IDF Before SMOTE: \",dict(zip(*np.unique(y_train, return_counts=True))))\n",
        "print(\"TF-IDF After SMOTE: \",dict(zip(*np.unique(y_train_tfidf_balanced, return_counts=True))))"
      ],
      "metadata": {
        "colab": {
          "base_uri": "https://localhost:8080/"
        },
        "id": "nrXKKIi9ivQp",
        "outputId": "d971fb9c-3676-45cf-db44-e26209005b30"
      },
      "execution_count": 12,
      "outputs": [
        {
          "output_type": "stream",
          "name": "stdout",
          "text": [
            "TF-IDF Before SMOTE:  {0: 19159, 1: 12248}\n",
            "TF-IDF After SMOTE:  {0: 19159, 1: 19159}\n"
          ]
        }
      ]
    },
    {
      "cell_type": "markdown",
      "source": [
        "#**Splitting Word2Vec Embeddings into Train and Test Datasets and Applying SMOTE**"
      ],
      "metadata": {
        "id": "7PRuuvL9IupS"
      }
    },
    {
      "cell_type": "code",
      "source": [
        "ai_generated_dataset['word2vecVector'] = ai_generated_dataset['word2vecVector'].apply(lambda x: np.array(x))\n",
        "\n",
        "X_word2vec = np.stack(ai_generated_dataset['word2vecVector'].values)\n",
        "\n",
        "X_train_word2vec, X_test_word2vec = X_word2vec[train_index], X_word2vec[test_index]\n",
        "\n",
        "print(X_train_word2vec.shape)\n",
        "print(X_test_word2vec.shape)\n",
        "print(X_train_word2vec)"
      ],
      "metadata": {
        "id": "JLjvTwhYjg5c",
        "colab": {
          "base_uri": "https://localhost:8080/"
        },
        "outputId": "e3e28703-e15d-4c63-d1c2-bc38c7135bd5"
      },
      "execution_count": 13,
      "outputs": [
        {
          "output_type": "stream",
          "name": "stdout",
          "text": [
            "(31407, 300)\n",
            "(13461, 300)\n",
            "[[ 0.039051    0.10478925 -0.10349992 ...  0.00596908  0.13902527\n",
            "  -0.07503184]\n",
            " [ 0.10214149  0.03306101 -0.07900619 ...  0.0649736   0.06864601\n",
            "   0.00100042]\n",
            " [ 0.13359068  0.11844996 -0.05979795 ...  0.04451644  0.09243853\n",
            "  -0.05382077]\n",
            " ...\n",
            " [ 0.09989098  0.20183747 -0.07830133 ...  0.06512829  0.13320415\n",
            "  -0.01214189]\n",
            " [ 0.16594312  0.1734943  -0.11123574 ...  0.06146725  0.14685261\n",
            "   0.0111135 ]\n",
            " [ 0.11314496  0.15538785 -0.05687832 ...  0.0446307   0.20486088\n",
            "  -0.07738265]]\n"
          ]
        }
      ]
    },
    {
      "cell_type": "code",
      "source": [
        "X_train_word2vec_balanced, y_train_word2vec_balanced = smote.fit_resample(X_train_word2vec, y_train)\n",
        "print(\"Word2Vec Before SMOTE: \",dict(zip(*np.unique(y_train, return_counts=True))))\n",
        "print(\"Word2Vec After SMOTE: \",dict(zip(*np.unique(y_train_word2vec_balanced, return_counts=True))))"
      ],
      "metadata": {
        "colab": {
          "base_uri": "https://localhost:8080/"
        },
        "id": "P6OlXbBLjMUx",
        "outputId": "bb36cf25-8e1e-4ad7-8f05-56eae6c18cd8"
      },
      "execution_count": 14,
      "outputs": [
        {
          "output_type": "stream",
          "name": "stdout",
          "text": [
            "Word2Vec Before SMOTE:  {0: 19159, 1: 12248}\n",
            "Word2Vec After SMOTE:  {0: 19159, 1: 19159}\n"
          ]
        }
      ]
    },
    {
      "cell_type": "markdown",
      "source": [
        "#**Splitting Doc2Vec Embeddings into Train and Test Datasets and Applying SMOTE**"
      ],
      "metadata": {
        "id": "o5c0RNmGJA3G"
      }
    },
    {
      "cell_type": "code",
      "source": [
        "ai_generated_dataset['doc2vecVector'] = ai_generated_dataset['doc2vecVector'].apply(lambda x: np.array(x))\n",
        "X_doc2vec = np.stack(ai_generated_dataset['doc2vecVector'].values)\n",
        "X_train_doc2vec, X_test_doc2vec = X_doc2vec[train_index], X_doc2vec[test_index]\n",
        "print(X_train_doc2vec.shape)\n",
        "print(X_test_doc2vec.shape)\n",
        "print(X_train_doc2vec)"
      ],
      "metadata": {
        "id": "R_15evjXjwIk",
        "colab": {
          "base_uri": "https://localhost:8080/"
        },
        "outputId": "1115a78b-b856-4fc1-e444-745b4c2ec136"
      },
      "execution_count": 15,
      "outputs": [
        {
          "output_type": "stream",
          "name": "stdout",
          "text": [
            "(31407, 300)\n",
            "(13461, 300)\n",
            "[[-0.01325695 -0.00462023 -0.25115326 ... -0.81993866  0.27462918\n",
            "   0.2054378 ]\n",
            " [ 0.27893692 -1.3015618  -0.22397842 ...  1.0865633   0.28704125\n",
            "  -0.8185667 ]\n",
            " [ 0.348895   -0.03381492  0.80767345 ... -0.03958359  1.2685198\n",
            "  -0.2265202 ]\n",
            " ...\n",
            " [-1.2151754   0.9092739  -1.5415982  ... -0.3269651   1.0781606\n",
            "   0.6174968 ]\n",
            " [ 0.09335165  0.21354501  0.3036163  ... -0.10610441  0.9039201\n",
            "  -1.4429867 ]\n",
            " [-0.6302537  -0.71300817 -0.33029798 ...  0.6759022   0.43423736\n",
            "   0.00538663]]\n"
          ]
        }
      ]
    },
    {
      "cell_type": "code",
      "source": [
        "X_train_doc2vec_balanced, y_train_doc2vec_balanced = smote.fit_resample(X_train_doc2vec, y_train)\n",
        "print(\"Doc2Vec Before SMOTE: \",dict(zip(*np.unique(y_train, return_counts=True))))\n",
        "print(\"Doc2Vec After SMOTE: \",dict(zip(*np.unique(y_train_doc2vec_balanced, return_counts=True))))"
      ],
      "metadata": {
        "colab": {
          "base_uri": "https://localhost:8080/"
        },
        "id": "0paJLA_BjVrD",
        "outputId": "cc319ec9-ffe2-4bb1-8022-a9f3b275da32"
      },
      "execution_count": 16,
      "outputs": [
        {
          "output_type": "stream",
          "name": "stdout",
          "text": [
            "Doc2Vec Before SMOTE:  {0: 19159, 1: 12248}\n",
            "Doc2Vec After SMOTE:  {0: 19159, 1: 19159}\n"
          ]
        }
      ]
    },
    {
      "cell_type": "markdown",
      "source": [
        "# **Importing Models**"
      ],
      "metadata": {
        "id": "DnoHEv307B_v"
      }
    },
    {
      "cell_type": "code",
      "source": [
        "from sklearn.metrics import confusion_matrix, classification_report\n",
        "from sklearn.model_selection import StratifiedKFold, cross_val_score\n",
        "import seaborn as sns\n",
        "import matplotlib.pyplot as plt\n",
        "from tqdm import tqdm\n",
        "import numpy as np\n",
        "\n",
        "def evaluate_model_with_visualizations(model, X_train, X_test, y_train, y_test, model_name, embedding_name):\n",
        "    kfold = StratifiedKFold(n_splits=5, shuffle=True, random_state=42)\n",
        "    print(f\"Performing 5-Fold Cross-Validation for {model_name} with {embedding_name}...\")\n",
        "    cv_scores = cross_val_score(model, X_train, y_train, cv=kfold, scoring='accuracy', n_jobs=-1)\n",
        "    print(f\"{model_name} with {embedding_name} - Cross-validation Scores: {cv_scores}\")\n",
        "    print(f\"{model_name} with {embedding_name} - Mean CV Accuracy: {cv_scores.mean():.4f}\")\n",
        "\n",
        "    model.fit(X_train, y_train)\n",
        "    y_pred = model.predict(X_test)\n",
        "\n",
        "    cm = confusion_matrix(y_test, y_pred)\n",
        "    plt.figure(figsize=(6, 4))\n",
        "    sns.heatmap(cm, annot=True, fmt='d', cmap='Blues')\n",
        "    plt.title(f'Confusion Matrix: {model_name} with {embedding_name}')\n",
        "    plt.xlabel('Predicted')\n",
        "    plt.ylabel('Actual')\n",
        "    plt.show()\n",
        "\n",
        "    print(f\"{model_name} with {embedding_name} - Classification Report:\")\n",
        "    print(classification_report(y_test, y_pred))\n",
        "\n",
        "    plt.figure(figsize=(8, 6))\n",
        "    plt.scatter(range(len(y_test)), y_test, alpha=0.6, label='Actual')\n",
        "    plt.scatter(range(len(y_pred)), y_pred, alpha=0.6, label='Predicted', marker='x')\n",
        "    plt.title(f'Scatter Plot: {model_name} with {embedding_name}')\n",
        "    plt.xlabel('Sample Index')\n",
        "    plt.ylabel('Labels')\n",
        "    plt.legend()\n",
        "    plt.show()"
      ],
      "metadata": {
        "id": "ryeiUpHu0h08"
      },
      "execution_count": 17,
      "outputs": []
    },
    {
      "cell_type": "code",
      "source": [
        "from sklearn.svm import SVC\n",
        "from sklearn.tree import DecisionTreeClassifier\n",
        "from sklearn.ensemble import RandomForestClassifier\n",
        "from sklearn.neighbors import KNeighborsClassifier"
      ],
      "metadata": {
        "id": "8MRNQuOY0ko7"
      },
      "execution_count": 18,
      "outputs": []
    },
    {
      "cell_type": "code",
      "source": [
        "print(ai_generated_dataset['label'].value_counts(normalize=True))"
      ],
      "metadata": {
        "colab": {
          "base_uri": "https://localhost:8080/"
        },
        "id": "9tZ8Jfg41osr",
        "outputId": "75488b14-cbb2-48ac-868a-2951961825ab"
      },
      "execution_count": 19,
      "outputs": [
        {
          "output_type": "stream",
          "name": "stdout",
          "text": [
            "label\n",
            "0    0.610034\n",
            "1    0.389966\n",
            "Name: proportion, dtype: float64\n"
          ]
        }
      ]
    },
    {
      "cell_type": "markdown",
      "source": [
        "#**Implementing SVM on Different Types of Embeddings and Comparing Results**"
      ],
      "metadata": {
        "id": "HP58o58fJNgM"
      }
    },
    {
      "cell_type": "code",
      "source": [
        "svm_model_tfidf = SVC(class_weight='balanced',random_state=42,kernel='rbf',gamma='scale',C=1)\n",
        "evaluate_model_with_visualizations(svm_model_tfidf, X_train_tfidf_balanced, X_test_tfidf, y_train_tfidf_balanced, y_test, \"SVM\", \"TF-IDF\")"
      ],
      "metadata": {
        "colab": {
          "base_uri": "https://localhost:8080/"
        },
        "id": "9_QjzkU80yRd",
        "outputId": "bc5c0535-dbde-4add-adb1-8049d253ff18"
      },
      "execution_count": null,
      "outputs": [
        {
          "output_type": "stream",
          "name": "stdout",
          "text": [
            "Performing 5-Fold Cross-Validation for SVM with TF-IDF...\n"
          ]
        }
      ]
    },
    {
      "cell_type": "code",
      "source": [
        "svm_model_word2vec = SVC(class_weight='balanced',random_state=42, C=1, kernel='rbf', gamma='scale')\n",
        "evaluate_model_with_visualizations(svm_model_word2vec, X_train_word2vec_balanced, X_test_word2vec, y_train_word2vec_balanced, y_test, \"SVM\", \"Word2Vec\")"
      ],
      "metadata": {
        "id": "WH3d9dpz2w6y"
      },
      "execution_count": null,
      "outputs": []
    },
    {
      "cell_type": "code",
      "source": [
        "svm_model_doc2vec = SVC(class_weight='balanced',random_state=42, C=1, kernel='rbf', gamma='scale')\n",
        "evaluate_model_with_visualizations(svm_model_doc2vec, X_train_doc2vec_balanced, X_test_doc2vec, y_train_doc2vec_balanced, y_test, \"SVM\", \"Doc2Vec\")"
      ],
      "metadata": {
        "id": "oKeDcxgi28Eg"
      },
      "execution_count": null,
      "outputs": []
    },
    {
      "cell_type": "markdown",
      "source": [
        "#**Implementing Decision Tree on Different Types of Embeddings and Comparing Results**"
      ],
      "metadata": {
        "id": "o3wIU2XXJqHc"
      }
    },
    {
      "cell_type": "code",
      "source": [
        "decision_tree_model_tfidf = DecisionTreeClassifier(class_weight='balanced',random_state=42, criterion='gini',max_depth=None,min_samples_split=5)\n",
        "evaluate_model_with_visualizations(decision_tree_model_tfidf, X_train_tfidf_balanced, X_test_tfidf, y_train_tfidf_balanced, y_test, \"Decision Tree\", \"TF-IDF\")"
      ],
      "metadata": {
        "id": "Hyn48k7L2rBt"
      },
      "execution_count": null,
      "outputs": []
    },
    {
      "cell_type": "code",
      "source": [
        "decision_tree_model_word2vec = DecisionTreeClassifier(class_weight='balanced',random_state=42, criterion='gini', max_depth=None, min_samples_split=5)\n",
        "evaluate_model_with_visualizations(decision_tree_model_word2vec, X_train_word2vec_balanced, X_test_word2vec, y_train_word2vec_balanced, y_test, \"Decision Tree\", \"Word2Vec\")"
      ],
      "metadata": {
        "id": "WxBCQArR2zPW"
      },
      "execution_count": null,
      "outputs": []
    },
    {
      "cell_type": "code",
      "source": [
        "decision_tree_model_doc2vec = DecisionTreeClassifier(class_weight='balanced',random_state=42, max_depth=None, min_samples_split=5)\n",
        "evaluate_model_with_visualizations(decision_tree_model_doc2vec, X_train_doc2vec_balanced, X_test_doc2vec, y_train_doc2vec_balanced, y_test, \"Decision Tree\", \"Doc2Vec\")"
      ],
      "metadata": {
        "id": "CZiNGuyq2-E5"
      },
      "execution_count": null,
      "outputs": []
    },
    {
      "cell_type": "markdown",
      "source": [
        "#**Implementing Random Forest on Different Types of Embeddings and Comparing Results**"
      ],
      "metadata": {
        "id": "rtFEfGBJKKsQ"
      }
    },
    {
      "cell_type": "code",
      "source": [
        "random_forest_model_tfidf = RandomForestClassifier(class_weight='balanced', random_state=42,n_estimators=200,max_depth=None,min_samples_split=5)\n",
        "evaluate_model_with_visualizations(random_forest_model_tfidf, X_train_tfidf_balanced, X_test_tfidf, y_train_tfidf_balanced, y_test, \"Random Forest\", \"TF-IDF\")"
      ],
      "metadata": {
        "id": "rXxqtcf_2tGZ"
      },
      "execution_count": null,
      "outputs": []
    },
    {
      "cell_type": "code",
      "source": [
        "random_forest_model_word2vec = RandomForestClassifier(class_weight='balanced',random_state=42, n_estimators=200, max_depth=None, min_samples_split=5)\n",
        "evaluate_model_with_visualizations(random_forest_model_word2vec, X_train_word2vec_balanced, X_test_word2vec, y_train_word2vec_balanced, y_test, \"Random Forest\", \"Word2Vec\")"
      ],
      "metadata": {
        "id": "2cU9Xmg_23SL"
      },
      "execution_count": null,
      "outputs": []
    },
    {
      "cell_type": "code",
      "source": [
        "random_forest_model_doc2vec = RandomForestClassifier(class_weight='balanced',random_state=42, n_estimators=200, max_depth=None, min_samples_split=5)\n",
        "evaluate_model_with_visualizations(random_forest_model_doc2vec, X_train_doc2vec_balanced, X_test_doc2vec, y_train_doc2vec_balanced, y_test, \"Random Forest\", \"Doc2Vec\")"
      ],
      "metadata": {
        "id": "2qbvlJU_2_de"
      },
      "execution_count": null,
      "outputs": []
    },
    {
      "cell_type": "markdown",
      "source": [
        "#**Implementing KNN on Different Types of Embeddings and Comparing Results**"
      ],
      "metadata": {
        "id": "HIxP3NsGKUo4"
      }
    },
    {
      "cell_type": "code",
      "source": [
        "# error_rate = []\n",
        "# for n in range(1,11):\n",
        "knn_model_tfidf = KNeighborsClassifier(n_neighbors=8,weights='distance',metric='cosine')\n",
        "evaluate_model_with_visualizations(knn_model_tfidf, X_train_tfidf_balanced, X_test_tfidf, y_train_tfidf_balanced, y_test, \"KNN\", \"TF-IDF\")\n",
        "  # knn_model_tfidf.score(X_test_tfidf,y_test)\n",
        "  # error_rate.append(1-knn_model_tfidf.score(X_test_tfidf,y_test))\n",
        "# plt.plot(error_rate)\n",
        "# plt.title('Error Rate vs. K Value')\n",
        "# plt.xlabel('K')\n",
        "# plt.ylabel('Error Rate')\n",
        "# plt.show()"
      ],
      "metadata": {
        "colab": {
          "base_uri": "https://localhost:8080/",
          "height": 1000
        },
        "id": "4cPGb0Jt2ufd",
        "outputId": "a105ce2e-0806-4091-e77c-d534b27467fd"
      },
      "execution_count": null,
      "outputs": [
        {
          "output_type": "stream",
          "name": "stdout",
          "text": [
            "Performing 5-Fold Cross-Validation for KNN with TF-IDF...\n",
            "KNN with TF-IDF - Cross-validation Scores: [0.9829071  0.97886221 0.98342902 0.98094741 0.98094741]\n",
            "KNN with TF-IDF - Mean CV Accuracy: 0.9814\n"
          ]
        },
        {
          "output_type": "display_data",
          "data": {
            "text/plain": [
              "<Figure size 600x400 with 2 Axes>"
            ],
            "image/png": "[encoded data removed]"
          },
          "metadata": {}
        },
        {
          "output_type": "stream",
          "name": "stdout",
          "text": [
            "KNN with TF-IDF - Classification Report:\n",
            "              precision    recall  f1-score   support\n",
            "\n",
            "           0       1.00      0.97      0.98      8212\n",
            "           1       0.95      0.99      0.97      5249\n",
            "\n",
            "    accuracy                           0.98     13461\n",
            "   macro avg       0.97      0.98      0.98     13461\n",
            "weighted avg       0.98      0.98      0.98     13461\n",
            "\n"
          ]
        },
        {
          "output_type": "display_data",
          "data": {
            "text/plain": [
              "<Figure size 800x600 with 1 Axes>"
            ],
            "image/png": "[encoded data removed]"
          },
          "metadata": {}
        }
      ]
    },
    {
      "cell_type": "code",
      "source": [
        "# error_rate = []\n",
        "# for n in range(1,11):\n",
        "knn_model_word2vec = KNeighborsClassifier(n_neighbors=10,weights='distance',metric='cosine')\n",
        "evaluate_model_with_visualizations(knn_model_word2vec, X_train_word2vec_balanced, X_test_word2vec, y_train_word2vec_balanced, y_test, \"KNN\", \"Word2Vec\")\n",
        "  # knn_model_word2vec.score(X_test_word2vec,y_test)\n",
        "  # error_rate.append(1-knn_model_word2vec.score(X_test_word2vec,y_test))\n",
        "# plt.plot(error_rate)\n",
        "# plt.title('Error Rate vs. K Value')\n",
        "# plt.xlabel('K')\n",
        "# plt.ylabel('Error Rate')\n",
        "# plt.xticks(range(1,11))\n",
        "# plt.show()"
      ],
      "metadata": {
        "id": "3fzO_rbT26Eq",
        "colab": {
          "base_uri": "https://localhost:8080/",
          "height": 1000
        },
        "outputId": "dc956ea0-a0e8-42ea-deab-e23c8f00211d"
      },
      "execution_count": null,
      "outputs": [
        {
          "output_type": "stream",
          "name": "stdout",
          "text": [
            "Performing 5-Fold Cross-Validation for KNN with Word2Vec...\n",
            "KNN with Word2Vec - Cross-validation Scores: [0.99099687 0.99151879 0.99360647 0.9908652  0.9907347 ]\n",
            "KNN with Word2Vec - Mean CV Accuracy: 0.9915\n"
          ]
        },
        {
          "output_type": "display_data",
          "data": {
            "text/plain": [
              "<Figure size 600x400 with 2 Axes>"
            ],
            "image/png": "[encoded data removed]"
          },
          "metadata": {}
        },
        {
          "output_type": "stream",
          "name": "stdout",
          "text": [
            "KNN with Word2Vec - Classification Report:\n",
            "              precision    recall  f1-score   support\n",
            "\n",
            "           0       0.99      0.99      0.99      8212\n",
            "           1       0.99      0.98      0.98      5249\n",
            "\n",
            "    accuracy                           0.99     13461\n",
            "   macro avg       0.99      0.99      0.99     13461\n",
            "weighted avg       0.99      0.99      0.99     13461\n",
            "\n"
          ]
        },
        {
          "output_type": "display_data",
          "data": {
            "text/plain": [
              "<Figure size 800x600 with 1 Axes>"
            ],
            "image/png": "[encoded data removed]"
          },
          "metadata": {}
        }
      ]
    },
    {
      "cell_type": "code",
      "source": [
        "# error_rate = []\n",
        "# for n in range(1,11):\n",
        "knn_model_doc2vec = KNeighborsClassifier(n_neighbors=1,weights='distance',metric='cosine')\n",
        "evaluate_model_with_visualizations(knn_model_doc2vec, X_train_doc2vec_balanced, X_test_doc2vec, y_train_doc2vec_balanced, y_test, \"KNN\", \"Doc2Vec\")\n",
        "  # knn_model_doc2vec.score(X_test_doc2vec,y_test)\n",
        "  # error_rate.append(1-knn_model_doc2vec.score(X_test_doc2vec,y_test))\n",
        "# plt.plot(error_rate)\n",
        "# plt.title('Error Rate vs. K Value')\n",
        "# plt.xlabel('K')\n",
        "# plt.ylabel('Error Rate')\n",
        "# plt.xticks(range(1,11))\n",
        "# plt.show()"
      ],
      "metadata": {
        "id": "dt8qfCmS3A10",
        "colab": {
          "base_uri": "https://localhost:8080/",
          "height": 1000
        },
        "outputId": "7abd3a16-c941-4c23-abce-1b5f851623ef"
      },
      "execution_count": null,
      "outputs": [
        {
          "output_type": "stream",
          "name": "stdout",
          "text": [
            "Performing 5-Fold Cross-Validation for KNN with Doc2Vec...\n",
            "KNN with Doc2Vec - Cross-validation Scores: [0.72977557 0.72377349 0.72990605 0.71551612 0.72360694]\n",
            "KNN with Doc2Vec - Mean CV Accuracy: 0.7245\n"
          ]
        },
        {
          "output_type": "display_data",
          "data": {
            "text/plain": [
              "<Figure size 600x400 with 2 Axes>"
            ],
            "image/png": "[encoded data removed]"
          },
          "metadata": {}
        },
        {
          "output_type": "stream",
          "name": "stdout",
          "text": [
            "KNN with Doc2Vec - Classification Report:\n",
            "              precision    recall  f1-score   support\n",
            "\n",
            "           0       0.98      0.48      0.64      8212\n",
            "           1       0.55      0.99      0.70      5249\n",
            "\n",
            "    accuracy                           0.68     13461\n",
            "   macro avg       0.77      0.73      0.67     13461\n",
            "weighted avg       0.81      0.68      0.67     13461\n",
            "\n"
          ]
        },
        {
          "output_type": "display_data",
          "data": {
            "text/plain": [
              "<Figure size 800x600 with 1 Axes>"
            ],
            "image/png": "[encoded data removed]"
          },
          "metadata": {}
        }
      ]
    },
    {
      "cell_type": "markdown",
      "source": [
        "#**Implementing the best embedding technique for each model and using it on custom data**\n",
        "\n",
        "\n",
        "#1.   SVM :- TF-IDF\n",
        "#2.   Decision Tree :- Word2Vec\n",
        "#3.   Random Forest :- TF-IDF\n",
        "#4.   KNN :- Word2Vec  \n",
        "\n"
      ],
      "metadata": {
        "id": "q7dnSsjsKgdz"
      }
    },
    {
      "cell_type": "code",
      "source": [
        "# svm_model = SVC(class_weight='balanced',random_state=42)\n",
        "# svm_model.fit(X_train_tfidf, y_train)\n",
        "\n",
        "# decision_tree_model = DecisionTreeClassifier(random_state=42)\n",
        "# decision_tree_model.fit(X_train_word2vec, y_train)\n",
        "\n",
        "# random_forest_model = RandomForestClassifier(random_state=42)\n",
        "# random_forest_model.fit(X_train_tfidf, y_train)\n",
        "\n",
        "# knn_model = KNeighborsClassifier(n_neighbors=3)\n",
        "# knn_model.fit(X_train_word2vec, y_train)"
      ],
      "metadata": {
        "id": "Q5m3E8tjqZ3p"
      },
      "execution_count": null,
      "outputs": []
    },
    {
      "cell_type": "code",
      "source": [
        "custom_data = input()\n",
        "#custom_data = \"Good Morning Everyone, I am your teacher for today\"\n",
        "preprocessed_custom_data = preprocess(custom_data)\n",
        "print(preprocessed_custom_data)\n",
        "#for word in preprocessed_custom_data.split():\n",
        "#    if word not in word2vec_model.wv:\n",
        "#        print(f\"Missing word: {word}\")\n",
        "\n",
        "custom_data_tfidf = tfidf_vectorizer.transform([preprocessed_custom_data])\n",
        "\n",
        "#def update_word2vec_with_custom_data(preprocessed_data, word2vec_model):\n",
        "#    \"\"\"Updating Word2Vec model with custom data if new words are found.\"\"\"\n",
        "#    new_sentences = [preprocessed_data.split()]\n",
        "\n",
        "#    word2vec_model.build_vocab(new_sentences, update=True)\n",
        "#    word2vec_model.train(new_sentences, total_examples=len(new_sentences), epochs=5)\n",
        "\n",
        "\n",
        "#update_word2vec_with_custom_data(preprocessed_custom_data, word2vec_model)\n",
        "\n",
        "#custom_data_word2vec = [calculate_average_word_vector(preprocessed_custom_data.split(), word2vec_model, word2vec_model.vector_size)]\n",
        "custom_data_word2vec = np.array([calculate_average_word_vector(preprocessed_custom_data.split(), word2vec_model, word2vec_model.vector_size)]).reshape(1, -1)\n",
        "\n",
        "print(custom_data_tfidf.shape)\n",
        "print(custom_data_word2vec.shape)\n",
        "\n",
        "\n",
        "prediction_svm = svm_model_tfidf.predict(custom_data_tfidf)\n",
        "print(\"Prediction using SVM using TF-IDF:\", prediction_svm)\n",
        "prediction_svm = svm_model_word2vec.predict(custom_data_word2vec)\n",
        "print(\"Prediction using SVM using Word2Vec:\", prediction_svm)\n",
        "\n",
        "prediction_decision_tree = decision_tree_model_tfidf.predict(custom_data_tfidf)\n",
        "print(\"Prediction using Decision Tree using TF-IDF:\", prediction_decision_tree)\n",
        "prediction_decision_tree = decision_tree_model_word2vec.predict(custom_data_word2vec)\n",
        "print(\"Prediction using Decision Tree using Word2Vec:\", prediction_decision_tree)\n",
        "\n",
        "prediction_random_forest = random_forest_model_tfidf.predict(custom_data_tfidf)\n",
        "print(\"Prediction using Random Forest using TF-IDF:\", prediction_random_forest)\n",
        "prediction_random_forest = random_forest_model_word2vec.predict(custom_data_word2vec)\n",
        "print(\"Prediction using Random Forest using Word2Vec:\", prediction_random_forest)\n",
        "\n",
        "prediction_knn = knn_model_tfidf.predict(custom_data_tfidf)\n",
        "print(\"Prediction using KNN using TF-IDF:\", prediction_knn)\n",
        "prediction_knn = knn_model_word2vec.predict(custom_data_word2vec)\n",
        "print(\"Prediction using KNN using Word2Vec:\", prediction_knn)"
      ],
      "metadata": {
        "id": "orWKAnHwDBFs",
        "colab": {
          "base_uri": "https://localhost:8080/"
        },
        "outputId": "5ceafc81-026e-44f5-e9c9-6723644f358d"
      },
      "execution_count": null,
      "outputs": [
        {
          "output_type": "stream",
          "name": "stdout",
          "text": [
            "Term Frequency - Inverse Document Frequency (TF-IDF) is a widely used statistical method in natural language processing and information retrieval. It measures how important a term is within a document relative to a collection of documents (i.e., relative to a corpus).  Words within a text document are transformed into importance numbers by a text vectorization process. There are many different text vectorization scoring schemes, with TF-IDF being one of the most common.\n",
            "term frequency inverse document frequency tfidf widely use statistical method natural language processing information retrieval measure important term within document relative collection document ie relative corpus word within text document transform importance number text vectorization process many different text vectorization scoring scheme tfidf one common\n",
            "(1, 5000)\n",
            "(1, 300)\n",
            "Prediction using KNN using TF-IDF: [0]\n",
            "Prediction using KNN using Word2Vec: [1]\n"
          ]
        }
      ]
    },
    {
      "cell_type": "code",
      "source": [],
      "metadata": {
        "id": "4YTiYUUWEAsj"
      },
      "execution_count": null,
      "outputs": []
    }
  ],
  "metadata": {
    "colab": {
      "provenance": [],
      "authorship_tag": "ABX9TyOdN0GbhB5szJjT3eChS5xd",
      "include_colab_link": true
    },
    "kernelspec": {
      "display_name": "Python 3",
      "name": "python3"
    },
    "language_info": {
      "name": "python"
    },
    "widgets": {
      "application/vnd.jupyter.widget-state+json": {
        "152359f6176d4e05b36c960890148567": {
          "model_module": "@jupyter-widgets/controls",
          "model_name": "HBoxModel",
          "model_module_version": "1.5.0",
          "state": {
            "_dom_classes": [],
            "_model_module": "@jupyter-widgets/controls",
            "_model_module_version": "1.5.0",
            "_model_name": "HBoxModel",
            "_view_count": null,
            "_view_module": "@jupyter-widgets/controls",
            "_view_module_version": "1.5.0",
            "_view_name": "HBoxView",
            "box_style": "",
            "children": [
              "IPY_MODEL_3e3ce24535084594a61d3748d08cd5b7",
              "IPY_MODEL_98b5429117b34c9da4b5a6c2015edb43",
              "IPY_MODEL_06c5286a7812492388bb0f05f02ea521"
            ],
            "layout": "IPY_MODEL_ddd1c84ffb7a4bc89669258b83a9750d"
          }
        },
        "3e3ce24535084594a61d3748d08cd5b7": {
          "model_module": "@jupyter-widgets/controls",
          "model_name": "HTMLModel",
          "model_module_version": "1.5.0",
          "state": {
            "_dom_classes": [],
            "_model_module": "@jupyter-widgets/controls",
            "_model_module_version": "1.5.0",
            "_model_name": "HTMLModel",
            "_view_count": null,
            "_view_module": "@jupyter-widgets/controls",
            "_view_module_version": "1.5.0",
            "_view_name": "HTMLView",
            "description": "",
            "description_tooltip": null,
            "layout": "IPY_MODEL_5cfb7d8cf3da4f4e9544f464f77061ef",
            "placeholder": "​",
            "style": "IPY_MODEL_33c6f63e674f4467bbf5f4b1fac76556",
            "value": "Preprocessing: 100%"
          }
        },
        "98b5429117b34c9da4b5a6c2015edb43": {
          "model_module": "@jupyter-widgets/controls",
          "model_name": "FloatProgressModel",
          "model_module_version": "1.5.0",
          "state": {
            "_dom_classes": [],
            "_model_module": "@jupyter-widgets/controls",
            "_model_module_version": "1.5.0",
            "_model_name": "FloatProgressModel",
            "_view_count": null,
            "_view_module": "@jupyter-widgets/controls",
            "_view_module_version": "1.5.0",
            "_view_name": "ProgressView",
            "bar_style": "success",
            "description": "",
            "description_tooltip": null,
            "layout": "IPY_MODEL_ab7a69d4811b4958bead5e436272f26b",
            "max": 44868,
            "min": 0,
            "orientation": "horizontal",
            "style": "IPY_MODEL_cf42172f2eab4691bffe9367f925780e",
            "value": 44868
          }
        },
        "06c5286a7812492388bb0f05f02ea521": {
          "model_module": "@jupyter-widgets/controls",
          "model_name": "HTMLModel",
          "model_module_version": "1.5.0",
          "state": {
            "_dom_classes": [],
            "_model_module": "@jupyter-widgets/controls",
            "_model_module_version": "1.5.0",
            "_model_name": "HTMLModel",
            "_view_count": null,
            "_view_module": "@jupyter-widgets/controls",
            "_view_module_version": "1.5.0",
            "_view_name": "HTMLView",
            "description": "",
            "description_tooltip": null,
            "layout": "IPY_MODEL_cd2fb5affddd474a82f6cce37ac21b28",
            "placeholder": "​",
            "style": "IPY_MODEL_95a5afcba8484c77aad22a5d91ed721f",
            "value": " 44868/44868 [54:03&lt;00:00, 18.65it/s]"
          }
        },
        "ddd1c84ffb7a4bc89669258b83a9750d": {
          "model_module": "@jupyter-widgets/base",
          "model_name": "LayoutModel",
          "model_module_version": "1.2.0",
          "state": {
            "_model_module": "@jupyter-widgets/base",
            "_model_module_version": "1.2.0",
            "_model_name": "LayoutModel",
            "_view_count": null,
            "_view_module": "@jupyter-widgets/base",
            "_view_module_version": "1.2.0",
            "_view_name": "LayoutView",
            "align_content": null,
            "align_items": null,
            "align_self": null,
            "border": null,
            "bottom": null,
            "display": null,
            "flex": null,
            "flex_flow": null,
            "grid_area": null,
            "grid_auto_columns": null,
            "grid_auto_flow": null,
            "grid_auto_rows": null,
            "grid_column": null,
            "grid_gap": null,
            "grid_row": null,
            "grid_template_areas": null,
            "grid_template_columns": null,
            "grid_template_rows": null,
            "height": null,
            "justify_content": null,
            "justify_items": null,
            "left": null,
            "margin": null,
            "max_height": null,
            "max_width": null,
            "min_height": null,
            "min_width": null,
            "object_fit": null,
            "object_position": null,
            "order": null,
            "overflow": null,
            "overflow_x": null,
            "overflow_y": null,
            "padding": null,
            "right": null,
            "top": null,
            "visibility": null,
            "width": null
          }
        },
        "5cfb7d8cf3da4f4e9544f464f77061ef": {
          "model_module": "@jupyter-widgets/base",
          "model_name": "LayoutModel",
          "model_module_version": "1.2.0",
          "state": {
            "_model_module": "@jupyter-widgets/base",
            "_model_module_version": "1.2.0",
            "_model_name": "LayoutModel",
            "_view_count": null,
            "_view_module": "@jupyter-widgets/base",
            "_view_module_version": "1.2.0",
            "_view_name": "LayoutView",
            "align_content": null,
            "align_items": null,
            "align_self": null,
            "border": null,
            "bottom": null,
            "display": null,
            "flex": null,
            "flex_flow": null,
            "grid_area": null,
            "grid_auto_columns": null,
            "grid_auto_flow": null,
            "grid_auto_rows": null,
            "grid_column": null,
            "grid_gap": null,
            "grid_row": null,
            "grid_template_areas": null,
            "grid_template_columns": null,
            "grid_template_rows": null,
            "height": null,
            "justify_content": null,
            "justify_items": null,
            "left": null,
            "margin": null,
            "max_height": null,
            "max_width": null,
            "min_height": null,
            "min_width": null,
            "object_fit": null,
            "object_position": null,
            "order": null,
            "overflow": null,
            "overflow_x": null,
            "overflow_y": null,
            "padding": null,
            "right": null,
            "top": null,
            "visibility": null,
            "width": null
          }
        },
        "33c6f63e674f4467bbf5f4b1fac76556": {
          "model_module": "@jupyter-widgets/controls",
          "model_name": "DescriptionStyleModel",
          "model_module_version": "1.5.0",
          "state": {
            "_model_module": "@jupyter-widgets/controls",
            "_model_module_version": "1.5.0",
            "_model_name": "DescriptionStyleModel",
            "_view_count": null,
            "_view_module": "@jupyter-widgets/base",
            "_view_module_version": "1.2.0",
            "_view_name": "StyleView",
            "description_width": ""
          }
        },
        "ab7a69d4811b4958bead5e436272f26b": {
          "model_module": "@jupyter-widgets/base",
          "model_name": "LayoutModel",
          "model_module_version": "1.2.0",
          "state": {
            "_model_module": "@jupyter-widgets/base",
            "_model_module_version": "1.2.0",
            "_model_name": "LayoutModel",
            "_view_count": null,
            "_view_module": "@jupyter-widgets/base",
            "_view_module_version": "1.2.0",
            "_view_name": "LayoutView",
            "align_content": null,
            "align_items": null,
            "align_self": null,
            "border": null,
            "bottom": null,
            "display": null,
            "flex": null,
            "flex_flow": null,
            "grid_area": null,
            "grid_auto_columns": null,
            "grid_auto_flow": null,
            "grid_auto_rows": null,
            "grid_column": null,
            "grid_gap": null,
            "grid_row": null,
            "grid_template_areas": null,
            "grid_template_columns": null,
            "grid_template_rows": null,
            "height": null,
            "justify_content": null,
            "justify_items": null,
            "left": null,
            "margin": null,
            "max_height": null,
            "max_width": null,
            "min_height": null,
            "min_width": null,
            "object_fit": null,
            "object_position": null,
            "order": null,
            "overflow": null,
            "overflow_x": null,
            "overflow_y": null,
            "padding": null,
            "right": null,
            "top": null,
            "visibility": null,
            "width": null
          }
        },
        "cf42172f2eab4691bffe9367f925780e": {
          "model_module": "@jupyter-widgets/controls",
          "model_name": "ProgressStyleModel",
          "model_module_version": "1.5.0",
          "state": {
            "_model_module": "@jupyter-widgets/controls",
            "_model_module_version": "1.5.0",
            "_model_name": "ProgressStyleModel",
            "_view_count": null,
            "_view_module": "@jupyter-widgets/base",
            "_view_module_version": "1.2.0",
            "_view_name": "StyleView",
            "bar_color": null,
            "description_width": ""
          }
        },
        "cd2fb5affddd474a82f6cce37ac21b28": {
          "model_module": "@jupyter-widgets/base",
          "model_name": "LayoutModel",
          "model_module_version": "1.2.0",
          "state": {
            "_model_module": "@jupyter-widgets/base",
            "_model_module_version": "1.2.0",
            "_model_name": "LayoutModel",
            "_view_count": null,
            "_view_module": "@jupyter-widgets/base",
            "_view_module_version": "1.2.0",
            "_view_name": "LayoutView",
            "align_content": null,
            "align_items": null,
            "align_self": null,
            "border": null,
            "bottom": null,
            "display": null,
            "flex": null,
            "flex_flow": null,
            "grid_area": null,
            "grid_auto_columns": null,
            "grid_auto_flow": null,
            "grid_auto_rows": null,
            "grid_column": null,
            "grid_gap": null,
            "grid_row": null,
            "grid_template_areas": null,
            "grid_template_columns": null,
            "grid_template_rows": null,
            "height": null,
            "justify_content": null,
            "justify_items": null,
            "left": null,
            "margin": null,
            "max_height": null,
            "max_width": null,
            "min_height": null,
            "min_width": null,
            "object_fit": null,
            "object_position": null,
            "order": null,
            "overflow": null,
            "overflow_x": null,
            "overflow_y": null,
            "padding": null,
            "right": null,
            "top": null,
            "visibility": null,
            "width": null
          }
        },
        "95a5afcba8484c77aad22a5d91ed721f": {
          "model_module": "@jupyter-widgets/controls",
          "model_name": "DescriptionStyleModel",
          "model_module_version": "1.5.0",
          "state": {
            "_model_module": "@jupyter-widgets/controls",
            "_model_module_version": "1.5.0",
            "_model_name": "DescriptionStyleModel",
            "_view_count": null,
            "_view_module": "@jupyter-widgets/base",
            "_view_module_version": "1.2.0",
            "_view_name": "StyleView",
            "description_width": ""
          }
        },
        "9630674305bc44da9f7215ed968f8427": {
          "model_module": "@jupyter-widgets/controls",
          "model_name": "HBoxModel",
          "model_module_version": "1.5.0",
          "state": {
            "_dom_classes": [],
            "_model_module": "@jupyter-widgets/controls",
            "_model_module_version": "1.5.0",
            "_model_name": "HBoxModel",
            "_view_count": null,
            "_view_module": "@jupyter-widgets/controls",
            "_view_module_version": "1.5.0",
            "_view_name": "HBoxView",
            "box_style": "",
            "children": [
              "IPY_MODEL_69384ead70bd4dc1925097c9841ce14f",
              "IPY_MODEL_09bbd5c815d7425daf6f282809995c32",
              "IPY_MODEL_4d66cdf85a0646e783fa163322e4f5e8"
            ],
            "layout": "IPY_MODEL_2df64fb9d6f34db48a6965ea0d18b667"
          }
        },
        "69384ead70bd4dc1925097c9841ce14f": {
          "model_module": "@jupyter-widgets/controls",
          "model_name": "HTMLModel",
          "model_module_version": "1.5.0",
          "state": {
            "_dom_classes": [],
            "_model_module": "@jupyter-widgets/controls",
            "_model_module_version": "1.5.0",
            "_model_name": "HTMLModel",
            "_view_count": null,
            "_view_module": "@jupyter-widgets/controls",
            "_view_module_version": "1.5.0",
            "_view_name": "HTMLView",
            "description": "",
            "description_tooltip": null,
            "layout": "IPY_MODEL_de27df216cf34470826185ee0fce9130",
            "placeholder": "​",
            "style": "IPY_MODEL_2a50019c5883452689844c57bf0d94f5",
            "value": "Word2Vec: 100%"
          }
        },
        "09bbd5c815d7425daf6f282809995c32": {
          "model_module": "@jupyter-widgets/controls",
          "model_name": "FloatProgressModel",
          "model_module_version": "1.5.0",
          "state": {
            "_dom_classes": [],
            "_model_module": "@jupyter-widgets/controls",
            "_model_module_version": "1.5.0",
            "_model_name": "FloatProgressModel",
            "_view_count": null,
            "_view_module": "@jupyter-widgets/controls",
            "_view_module_version": "1.5.0",
            "_view_name": "ProgressView",
            "bar_style": "success",
            "description": "",
            "description_tooltip": null,
            "layout": "IPY_MODEL_13c448921a344ed59f30e39275e94aec",
            "max": 44868,
            "min": 0,
            "orientation": "horizontal",
            "style": "IPY_MODEL_8756038d51964d278913def43c0f1b05",
            "value": 44868
          }
        },
        "4d66cdf85a0646e783fa163322e4f5e8": {
          "model_module": "@jupyter-widgets/controls",
          "model_name": "HTMLModel",
          "model_module_version": "1.5.0",
          "state": {
            "_dom_classes": [],
            "_model_module": "@jupyter-widgets/controls",
            "_model_module_version": "1.5.0",
            "_model_name": "HTMLModel",
            "_view_count": null,
            "_view_module": "@jupyter-widgets/controls",
            "_view_module_version": "1.5.0",
            "_view_name": "HTMLView",
            "description": "",
            "description_tooltip": null,
            "layout": "IPY_MODEL_0e81fb133c24404d8d9abfcb3cd1acd0",
            "placeholder": "​",
            "style": "IPY_MODEL_e0d31538ad8a45ecb8ce0259ba5b050d",
            "value": " 44868/44868 [00:31&lt;00:00, 1050.04it/s]"
          }
        },
        "2df64fb9d6f34db48a6965ea0d18b667": {
          "model_module": "@jupyter-widgets/base",
          "model_name": "LayoutModel",
          "model_module_version": "1.2.0",
          "state": {
            "_model_module": "@jupyter-widgets/base",
            "_model_module_version": "1.2.0",
            "_model_name": "LayoutModel",
            "_view_count": null,
            "_view_module": "@jupyter-widgets/base",
            "_view_module_version": "1.2.0",
            "_view_name": "LayoutView",
            "align_content": null,
            "align_items": null,
            "align_self": null,
            "border": null,
            "bottom": null,
            "display": null,
            "flex": null,
            "flex_flow": null,
            "grid_area": null,
            "grid_auto_columns": null,
            "grid_auto_flow": null,
            "grid_auto_rows": null,
            "grid_column": null,
            "grid_gap": null,
            "grid_row": null,
            "grid_template_areas": null,
            "grid_template_columns": null,
            "grid_template_rows": null,
            "height": null,
            "justify_content": null,
            "justify_items": null,
            "left": null,
            "margin": null,
            "max_height": null,
            "max_width": null,
            "min_height": null,
            "min_width": null,
            "object_fit": null,
            "object_position": null,
            "order": null,
            "overflow": null,
            "overflow_x": null,
            "overflow_y": null,
            "padding": null,
            "right": null,
            "top": null,
            "visibility": null,
            "width": null
          }
        },
        "de27df216cf34470826185ee0fce9130": {
          "model_module": "@jupyter-widgets/base",
          "model_name": "LayoutModel",
          "model_module_version": "1.2.0",
          "state": {
            "_model_module": "@jupyter-widgets/base",
            "_model_module_version": "1.2.0",
            "_model_name": "LayoutModel",
            "_view_count": null,
            "_view_module": "@jupyter-widgets/base",
            "_view_module_version": "1.2.0",
            "_view_name": "LayoutView",
            "align_content": null,
            "align_items": null,
            "align_self": null,
            "border": null,
            "bottom": null,
            "display": null,
            "flex": null,
            "flex_flow": null,
            "grid_area": null,
            "grid_auto_columns": null,
            "grid_auto_flow": null,
            "grid_auto_rows": null,
            "grid_column": null,
            "grid_gap": null,
            "grid_row": null,
            "grid_template_areas": null,
            "grid_template_columns": null,
            "grid_template_rows": null,
            "height": null,
            "justify_content": null,
            "justify_items": null,
            "left": null,
            "margin": null,
            "max_height": null,
            "max_width": null,
            "min_height": null,
            "min_width": null,
            "object_fit": null,
            "object_position": null,
            "order": null,
            "overflow": null,
            "overflow_x": null,
            "overflow_y": null,
            "padding": null,
            "right": null,
            "top": null,
            "visibility": null,
            "width": null
          }
        },
        "2a50019c5883452689844c57bf0d94f5": {
          "model_module": "@jupyter-widgets/controls",
          "model_name": "DescriptionStyleModel",
          "model_module_version": "1.5.0",
          "state": {
            "_model_module": "@jupyter-widgets/controls",
            "_model_module_version": "1.5.0",
            "_model_name": "DescriptionStyleModel",
            "_view_count": null,
            "_view_module": "@jupyter-widgets/base",
            "_view_module_version": "1.2.0",
            "_view_name": "StyleView",
            "description_width": ""
          }
        },
        "13c448921a344ed59f30e39275e94aec": {
          "model_module": "@jupyter-widgets/base",
          "model_name": "LayoutModel",
          "model_module_version": "1.2.0",
          "state": {
            "_model_module": "@jupyter-widgets/base",
            "_model_module_version": "1.2.0",
            "_model_name": "LayoutModel",
            "_view_count": null,
            "_view_module": "@jupyter-widgets/base",
            "_view_module_version": "1.2.0",
            "_view_name": "LayoutView",
            "align_content": null,
            "align_items": null,
            "align_self": null,
            "border": null,
            "bottom": null,
            "display": null,
            "flex": null,
            "flex_flow": null,
            "grid_area": null,
            "grid_auto_columns": null,
            "grid_auto_flow": null,
            "grid_auto_rows": null,
            "grid_column": null,
            "grid_gap": null,
            "grid_row": null,
            "grid_template_areas": null,
            "grid_template_columns": null,
            "grid_template_rows": null,
            "height": null,
            "justify_content": null,
            "justify_items": null,
            "left": null,
            "margin": null,
            "max_height": null,
            "max_width": null,
            "min_height": null,
            "min_width": null,
            "object_fit": null,
            "object_position": null,
            "order": null,
            "overflow": null,
            "overflow_x": null,
            "overflow_y": null,
            "padding": null,
            "right": null,
            "top": null,
            "visibility": null,
            "width": null
          }
        },
        "8756038d51964d278913def43c0f1b05": {
          "model_module": "@jupyter-widgets/controls",
          "model_name": "ProgressStyleModel",
          "model_module_version": "1.5.0",
          "state": {
            "_model_module": "@jupyter-widgets/controls",
            "_model_module_version": "1.5.0",
            "_model_name": "ProgressStyleModel",
            "_view_count": null,
            "_view_module": "@jupyter-widgets/base",
            "_view_module_version": "1.2.0",
            "_view_name": "StyleView",
            "bar_color": null,
            "description_width": ""
          }
        },
        "0e81fb133c24404d8d9abfcb3cd1acd0": {
          "model_module": "@jupyter-widgets/base",
          "model_name": "LayoutModel",
          "model_module_version": "1.2.0",
          "state": {
            "_model_module": "@jupyter-widgets/base",
            "_model_module_version": "1.2.0",
            "_model_name": "LayoutModel",
            "_view_count": null,
            "_view_module": "@jupyter-widgets/base",
            "_view_module_version": "1.2.0",
            "_view_name": "LayoutView",
            "align_content": null,
            "align_items": null,
            "align_self": null,
            "border": null,
            "bottom": null,
            "display": null,
            "flex": null,
            "flex_flow": null,
            "grid_area": null,
            "grid_auto_columns": null,
            "grid_auto_flow": null,
            "grid_auto_rows": null,
            "grid_column": null,
            "grid_gap": null,
            "grid_row": null,
            "grid_template_areas": null,
            "grid_template_columns": null,
            "grid_template_rows": null,
            "height": null,
            "justify_content": null,
            "justify_items": null,
            "left": null,
            "margin": null,
            "max_height": null,
            "max_width": null,
            "min_height": null,
            "min_width": null,
            "object_fit": null,
            "object_position": null,
            "order": null,
            "overflow": null,
            "overflow_x": null,
            "overflow_y": null,
            "padding": null,
            "right": null,
            "top": null,
            "visibility": null,
            "width": null
          }
        },
        "e0d31538ad8a45ecb8ce0259ba5b050d": {
          "model_module": "@jupyter-widgets/controls",
          "model_name": "DescriptionStyleModel",
          "model_module_version": "1.5.0",
          "state": {
            "_model_module": "@jupyter-widgets/controls",
            "_model_module_version": "1.5.0",
            "_model_name": "DescriptionStyleModel",
            "_view_count": null,
            "_view_module": "@jupyter-widgets/base",
            "_view_module_version": "1.2.0",
            "_view_name": "StyleView",
            "description_width": ""
          }
        },
        "edf7a4fe2650470294d7cd5d2c33a549": {
          "model_module": "@jupyter-widgets/controls",
          "model_name": "HBoxModel",
          "model_module_version": "1.5.0",
          "state": {
            "_dom_classes": [],
            "_model_module": "@jupyter-widgets/controls",
            "_model_module_version": "1.5.0",
            "_model_name": "HBoxModel",
            "_view_count": null,
            "_view_module": "@jupyter-widgets/controls",
            "_view_module_version": "1.5.0",
            "_view_name": "HBoxView",
            "box_style": "",
            "children": [
              "IPY_MODEL_0ed357a22e9b47d8ba90a6402a583f7f",
              "IPY_MODEL_a4816f330a1240d6a0af47a09a4b2d14",
              "IPY_MODEL_ec6c4432016146d089585a1f33accef2"
            ],
            "layout": "IPY_MODEL_66c35cc00a7e48388f00e291e76c178c"
          }
        },
        "0ed357a22e9b47d8ba90a6402a583f7f": {
          "model_module": "@jupyter-widgets/controls",
          "model_name": "HTMLModel",
          "model_module_version": "1.5.0",
          "state": {
            "_dom_classes": [],
            "_model_module": "@jupyter-widgets/controls",
            "_model_module_version": "1.5.0",
            "_model_name": "HTMLModel",
            "_view_count": null,
            "_view_module": "@jupyter-widgets/controls",
            "_view_module_version": "1.5.0",
            "_view_name": "HTMLView",
            "description": "",
            "description_tooltip": null,
            "layout": "IPY_MODEL_77cabb7d0efa4a1f8806ae22b896d79b",
            "placeholder": "​",
            "style": "IPY_MODEL_1079e33e420d4a56aef7c2b551fe4af8",
            "value": "Tagging Data: 100%"
          }
        },
        "a4816f330a1240d6a0af47a09a4b2d14": {
          "model_module": "@jupyter-widgets/controls",
          "model_name": "FloatProgressModel",
          "model_module_version": "1.5.0",
          "state": {
            "_dom_classes": [],
            "_model_module": "@jupyter-widgets/controls",
            "_model_module_version": "1.5.0",
            "_model_name": "FloatProgressModel",
            "_view_count": null,
            "_view_module": "@jupyter-widgets/controls",
            "_view_module_version": "1.5.0",
            "_view_name": "ProgressView",
            "bar_style": "success",
            "description": "",
            "description_tooltip": null,
            "layout": "IPY_MODEL_df81364d3497442abfc13aee162cc131",
            "max": 44868,
            "min": 0,
            "orientation": "horizontal",
            "style": "IPY_MODEL_b1cdb3af4342439b8495df08ddb65fc8",
            "value": 44868
          }
        },
        "ec6c4432016146d089585a1f33accef2": {
          "model_module": "@jupyter-widgets/controls",
          "model_name": "HTMLModel",
          "model_module_version": "1.5.0",
          "state": {
            "_dom_classes": [],
            "_model_module": "@jupyter-widgets/controls",
            "_model_module_version": "1.5.0",
            "_model_name": "HTMLModel",
            "_view_count": null,
            "_view_module": "@jupyter-widgets/controls",
            "_view_module_version": "1.5.0",
            "_view_name": "HTMLView",
            "description": "",
            "description_tooltip": null,
            "layout": "IPY_MODEL_0110c79f81474decb3a2a846401d06ab",
            "placeholder": "​",
            "style": "IPY_MODEL_361f40561144429297159dc92183ab7d",
            "value": " 44868/44868 [00:03&lt;00:00, 19355.07it/s]"
          }
        },
        "66c35cc00a7e48388f00e291e76c178c": {
          "model_module": "@jupyter-widgets/base",
          "model_name": "LayoutModel",
          "model_module_version": "1.2.0",
          "state": {
            "_model_module": "@jupyter-widgets/base",
            "_model_module_version": "1.2.0",
            "_model_name": "LayoutModel",
            "_view_count": null,
            "_view_module": "@jupyter-widgets/base",
            "_view_module_version": "1.2.0",
            "_view_name": "LayoutView",
            "align_content": null,
            "align_items": null,
            "align_self": null,
            "border": null,
            "bottom": null,
            "display": null,
            "flex": null,
            "flex_flow": null,
            "grid_area": null,
            "grid_auto_columns": null,
            "grid_auto_flow": null,
            "grid_auto_rows": null,
            "grid_column": null,
            "grid_gap": null,
            "grid_row": null,
            "grid_template_areas": null,
            "grid_template_columns": null,
            "grid_template_rows": null,
            "height": null,
            "justify_content": null,
            "justify_items": null,
            "left": null,
            "margin": null,
            "max_height": null,
            "max_width": null,
            "min_height": null,
            "min_width": null,
            "object_fit": null,
            "object_position": null,
            "order": null,
            "overflow": null,
            "overflow_x": null,
            "overflow_y": null,
            "padding": null,
            "right": null,
            "top": null,
            "visibility": null,
            "width": null
          }
        },
        "77cabb7d0efa4a1f8806ae22b896d79b": {
          "model_module": "@jupyter-widgets/base",
          "model_name": "LayoutModel",
          "model_module_version": "1.2.0",
          "state": {
            "_model_module": "@jupyter-widgets/base",
            "_model_module_version": "1.2.0",
            "_model_name": "LayoutModel",
            "_view_count": null,
            "_view_module": "@jupyter-widgets/base",
            "_view_module_version": "1.2.0",
            "_view_name": "LayoutView",
            "align_content": null,
            "align_items": null,
            "align_self": null,
            "border": null,
            "bottom": null,
            "display": null,
            "flex": null,
            "flex_flow": null,
            "grid_area": null,
            "grid_auto_columns": null,
            "grid_auto_flow": null,
            "grid_auto_rows": null,
            "grid_column": null,
            "grid_gap": null,
            "grid_row": null,
            "grid_template_areas": null,
            "grid_template_columns": null,
            "grid_template_rows": null,
            "height": null,
            "justify_content": null,
            "justify_items": null,
            "left": null,
            "margin": null,
            "max_height": null,
            "max_width": null,
            "min_height": null,
            "min_width": null,
            "object_fit": null,
            "object_position": null,
            "order": null,
            "overflow": null,
            "overflow_x": null,
            "overflow_y": null,
            "padding": null,
            "right": null,
            "top": null,
            "visibility": null,
            "width": null
          }
        },
        "1079e33e420d4a56aef7c2b551fe4af8": {
          "model_module": "@jupyter-widgets/controls",
          "model_name": "DescriptionStyleModel",
          "model_module_version": "1.5.0",
          "state": {
            "_model_module": "@jupyter-widgets/controls",
            "_model_module_version": "1.5.0",
            "_model_name": "DescriptionStyleModel",
            "_view_count": null,
            "_view_module": "@jupyter-widgets/base",
            "_view_module_version": "1.2.0",
            "_view_name": "StyleView",
            "description_width": ""
          }
        },
        "df81364d3497442abfc13aee162cc131": {
          "model_module": "@jupyter-widgets/base",
          "model_name": "LayoutModel",
          "model_module_version": "1.2.0",
          "state": {
            "_model_module": "@jupyter-widgets/base",
            "_model_module_version": "1.2.0",
            "_model_name": "LayoutModel",
            "_view_count": null,
            "_view_module": "@jupyter-widgets/base",
            "_view_module_version": "1.2.0",
            "_view_name": "LayoutView",
            "align_content": null,
            "align_items": null,
            "align_self": null,
            "border": null,
            "bottom": null,
            "display": null,
            "flex": null,
            "flex_flow": null,
            "grid_area": null,
            "grid_auto_columns": null,
            "grid_auto_flow": null,
            "grid_auto_rows": null,
            "grid_column": null,
            "grid_gap": null,
            "grid_row": null,
            "grid_template_areas": null,
            "grid_template_columns": null,
            "grid_template_rows": null,
            "height": null,
            "justify_content": null,
            "justify_items": null,
            "left": null,
            "margin": null,
            "max_height": null,
            "max_width": null,
            "min_height": null,
            "min_width": null,
            "object_fit": null,
            "object_position": null,
            "order": null,
            "overflow": null,
            "overflow_x": null,
            "overflow_y": null,
            "padding": null,
            "right": null,
            "top": null,
            "visibility": null,
            "width": null
          }
        },
        "b1cdb3af4342439b8495df08ddb65fc8": {
          "model_module": "@jupyter-widgets/controls",
          "model_name": "ProgressStyleModel",
          "model_module_version": "1.5.0",
          "state": {
            "_model_module": "@jupyter-widgets/controls",
            "_model_module_version": "1.5.0",
            "_model_name": "ProgressStyleModel",
            "_view_count": null,
            "_view_module": "@jupyter-widgets/base",
            "_view_module_version": "1.2.0",
            "_view_name": "StyleView",
            "bar_color": null,
            "description_width": ""
          }
        },
        "0110c79f81474decb3a2a846401d06ab": {
          "model_module": "@jupyter-widgets/base",
          "model_name": "LayoutModel",
          "model_module_version": "1.2.0",
          "state": {
            "_model_module": "@jupyter-widgets/base",
            "_model_module_version": "1.2.0",
            "_model_name": "LayoutModel",
            "_view_count": null,
            "_view_module": "@jupyter-widgets/base",
            "_view_module_version": "1.2.0",
            "_view_name": "LayoutView",
            "align_content": null,
            "align_items": null,
            "align_self": null,
            "border": null,
            "bottom": null,
            "display": null,
            "flex": null,
            "flex_flow": null,
            "grid_area": null,
            "grid_auto_columns": null,
            "grid_auto_flow": null,
            "grid_auto_rows": null,
            "grid_column": null,
            "grid_gap": null,
            "grid_row": null,
            "grid_template_areas": null,
            "grid_template_columns": null,
            "grid_template_rows": null,
            "height": null,
            "justify_content": null,
            "justify_items": null,
            "left": null,
            "margin": null,
            "max_height": null,
            "max_width": null,
            "min_height": null,
            "min_width": null,
            "object_fit": null,
            "object_position": null,
            "order": null,
            "overflow": null,
            "overflow_x": null,
            "overflow_y": null,
            "padding": null,
            "right": null,
            "top": null,
            "visibility": null,
            "width": null
          }
        },
        "361f40561144429297159dc92183ab7d": {
          "model_module": "@jupyter-widgets/controls",
          "model_name": "DescriptionStyleModel",
          "model_module_version": "1.5.0",
          "state": {
            "_model_module": "@jupyter-widgets/controls",
            "_model_module_version": "1.5.0",
            "_model_name": "DescriptionStyleModel",
            "_view_count": null,
            "_view_module": "@jupyter-widgets/base",
            "_view_module_version": "1.2.0",
            "_view_name": "StyleView",
            "description_width": ""
          }
        },
        "5689ba5ddcff4628a6601346e8076419": {
          "model_module": "@jupyter-widgets/controls",
          "model_name": "HBoxModel",
          "model_module_version": "1.5.0",
          "state": {
            "_dom_classes": [],
            "_model_module": "@jupyter-widgets/controls",
            "_model_module_version": "1.5.0",
            "_model_name": "HBoxModel",
            "_view_count": null,
            "_view_module": "@jupyter-widgets/controls",
            "_view_module_version": "1.5.0",
            "_view_name": "HBoxView",
            "box_style": "",
            "children": [
              "IPY_MODEL_38623251a8a64a8d9303b70cfd75ca25",
              "IPY_MODEL_b5006adb57a040f8a94d4419367976b7",
              "IPY_MODEL_abf213a3f7ef4ef48d2042d8421ad0fb"
            ],
            "layout": "IPY_MODEL_e257049778e84bc5a5a124f93c9e431d"
          }
        },
        "38623251a8a64a8d9303b70cfd75ca25": {
          "model_module": "@jupyter-widgets/controls",
          "model_name": "HTMLModel",
          "model_module_version": "1.5.0",
          "state": {
            "_dom_classes": [],
            "_model_module": "@jupyter-widgets/controls",
            "_model_module_version": "1.5.0",
            "_model_name": "HTMLModel",
            "_view_count": null,
            "_view_module": "@jupyter-widgets/controls",
            "_view_module_version": "1.5.0",
            "_view_name": "HTMLView",
            "description": "",
            "description_tooltip": null,
            "layout": "IPY_MODEL_0f431dc74bee495c8a6fdfae1f415d55",
            "placeholder": "​",
            "style": "IPY_MODEL_9f5b1ee836a644c48aa0c44136436923",
            "value": "Generating Doc2Vec Vectors: 100%"
          }
        },
        "b5006adb57a040f8a94d4419367976b7": {
          "model_module": "@jupyter-widgets/controls",
          "model_name": "FloatProgressModel",
          "model_module_version": "1.5.0",
          "state": {
            "_dom_classes": [],
            "_model_module": "@jupyter-widgets/controls",
            "_model_module_version": "1.5.0",
            "_model_name": "FloatProgressModel",
            "_view_count": null,
            "_view_module": "@jupyter-widgets/controls",
            "_view_module_version": "1.5.0",
            "_view_name": "ProgressView",
            "bar_style": "success",
            "description": "",
            "description_tooltip": null,
            "layout": "IPY_MODEL_660ff641ffe94e6db2d53d79af902876",
            "max": 44868,
            "min": 0,
            "orientation": "horizontal",
            "style": "IPY_MODEL_8252f7567d4244f0850231aa8b2c28cb",
            "value": 44868
          }
        },
        "abf213a3f7ef4ef48d2042d8421ad0fb": {
          "model_module": "@jupyter-widgets/controls",
          "model_name": "HTMLModel",
          "model_module_version": "1.5.0",
          "state": {
            "_dom_classes": [],
            "_model_module": "@jupyter-widgets/controls",
            "_model_module_version": "1.5.0",
            "_model_name": "HTMLModel",
            "_view_count": null,
            "_view_module": "@jupyter-widgets/controls",
            "_view_module_version": "1.5.0",
            "_view_name": "HTMLView",
            "description": "",
            "description_tooltip": null,
            "layout": "IPY_MODEL_f0d339af51fe4b768b977cf58c182a52",
            "placeholder": "​",
            "style": "IPY_MODEL_12b51a6fbd0b4e589393db1ba173e9bb",
            "value": " 44868/44868 [00:02&lt;00:00, 36662.85it/s]"
          }
        },
        "e257049778e84bc5a5a124f93c9e431d": {
          "model_module": "@jupyter-widgets/base",
          "model_name": "LayoutModel",
          "model_module_version": "1.2.0",
          "state": {
            "_model_module": "@jupyter-widgets/base",
            "_model_module_version": "1.2.0",
            "_model_name": "LayoutModel",
            "_view_count": null,
            "_view_module": "@jupyter-widgets/base",
            "_view_module_version": "1.2.0",
            "_view_name": "LayoutView",
            "align_content": null,
            "align_items": null,
            "align_self": null,
            "border": null,
            "bottom": null,
            "display": null,
            "flex": null,
            "flex_flow": null,
            "grid_area": null,
            "grid_auto_columns": null,
            "grid_auto_flow": null,
            "grid_auto_rows": null,
            "grid_column": null,
            "grid_gap": null,
            "grid_row": null,
            "grid_template_areas": null,
            "grid_template_columns": null,
            "grid_template_rows": null,
            "height": null,
            "justify_content": null,
            "justify_items": null,
            "left": null,
            "margin": null,
            "max_height": null,
            "max_width": null,
            "min_height": null,
            "min_width": null,
            "object_fit": null,
            "object_position": null,
            "order": null,
            "overflow": null,
            "overflow_x": null,
            "overflow_y": null,
            "padding": null,
            "right": null,
            "top": null,
            "visibility": null,
            "width": null
          }
        },
        "0f431dc74bee495c8a6fdfae1f415d55": {
          "model_module": "@jupyter-widgets/base",
          "model_name": "LayoutModel",
          "model_module_version": "1.2.0",
          "state": {
            "_model_module": "@jupyter-widgets/base",
            "_model_module_version": "1.2.0",
            "_model_name": "LayoutModel",
            "_view_count": null,
            "_view_module": "@jupyter-widgets/base",
            "_view_module_version": "1.2.0",
            "_view_name": "LayoutView",
            "align_content": null,
            "align_items": null,
            "align_self": null,
            "border": null,
            "bottom": null,
            "display": null,
            "flex": null,
            "flex_flow": null,
            "grid_area": null,
            "grid_auto_columns": null,
            "grid_auto_flow": null,
            "grid_auto_rows": null,
            "grid_column": null,
            "grid_gap": null,
            "grid_row": null,
            "grid_template_areas": null,
            "grid_template_columns": null,
            "grid_template_rows": null,
            "height": null,
            "justify_content": null,
            "justify_items": null,
            "left": null,
            "margin": null,
            "max_height": null,
            "max_width": null,
            "min_height": null,
            "min_width": null,
            "object_fit": null,
            "object_position": null,
            "order": null,
            "overflow": null,
            "overflow_x": null,
            "overflow_y": null,
            "padding": null,
            "right": null,
            "top": null,
            "visibility": null,
            "width": null
          }
        },
        "9f5b1ee836a644c48aa0c44136436923": {
          "model_module": "@jupyter-widgets/controls",
          "model_name": "DescriptionStyleModel",
          "model_module_version": "1.5.0",
          "state": {
            "_model_module": "@jupyter-widgets/controls",
            "_model_module_version": "1.5.0",
            "_model_name": "DescriptionStyleModel",
            "_view_count": null,
            "_view_module": "@jupyter-widgets/base",
            "_view_module_version": "1.2.0",
            "_view_name": "StyleView",
            "description_width": ""
          }
        },
        "660ff641ffe94e6db2d53d79af902876": {
          "model_module": "@jupyter-widgets/base",
          "model_name": "LayoutModel",
          "model_module_version": "1.2.0",
          "state": {
            "_model_module": "@jupyter-widgets/base",
            "_model_module_version": "1.2.0",
            "_model_name": "LayoutModel",
            "_view_count": null,
            "_view_module": "@jupyter-widgets/base",
            "_view_module_version": "1.2.0",
            "_view_name": "LayoutView",
            "align_content": null,
            "align_items": null,
            "align_self": null,
            "border": null,
            "bottom": null,
            "display": null,
            "flex": null,
            "flex_flow": null,
            "grid_area": null,
            "grid_auto_columns": null,
            "grid_auto_flow": null,
            "grid_auto_rows": null,
            "grid_column": null,
            "grid_gap": null,
            "grid_row": null,
            "grid_template_areas": null,
            "grid_template_columns": null,
            "grid_template_rows": null,
            "height": null,
            "justify_content": null,
            "justify_items": null,
            "left": null,
            "margin": null,
            "max_height": null,
            "max_width": null,
            "min_height": null,
            "min_width": null,
            "object_fit": null,
            "object_position": null,
            "order": null,
            "overflow": null,
            "overflow_x": null,
            "overflow_y": null,
            "padding": null,
            "right": null,
            "top": null,
            "visibility": null,
            "width": null
          }
        },
        "8252f7567d4244f0850231aa8b2c28cb": {
          "model_module": "@jupyter-widgets/controls",
          "model_name": "ProgressStyleModel",
          "model_module_version": "1.5.0",
          "state": {
            "_model_module": "@jupyter-widgets/controls",
            "_model_module_version": "1.5.0",
            "_model_name": "ProgressStyleModel",
            "_view_count": null,
            "_view_module": "@jupyter-widgets/base",
            "_view_module_version": "1.2.0",
            "_view_name": "StyleView",
            "bar_color": null,
            "description_width": ""
          }
        },
        "f0d339af51fe4b768b977cf58c182a52": {
          "model_module": "@jupyter-widgets/base",
          "model_name": "LayoutModel",
          "model_module_version": "1.2.0",
          "state": {
            "_model_module": "@jupyter-widgets/base",
            "_model_module_version": "1.2.0",
            "_model_name": "LayoutModel",
            "_view_count": null,
            "_view_module": "@jupyter-widgets/base",
            "_view_module_version": "1.2.0",
            "_view_name": "LayoutView",
            "align_content": null,
            "align_items": null,
            "align_self": null,
            "border": null,
            "bottom": null,
            "display": null,
            "flex": null,
            "flex_flow": null,
            "grid_area": null,
            "grid_auto_columns": null,
            "grid_auto_flow": null,
            "grid_auto_rows": null,
            "grid_column": null,
            "grid_gap": null,
            "grid_row": null,
            "grid_template_areas": null,
            "grid_template_columns": null,
            "grid_template_rows": null,
            "height": null,
            "justify_content": null,
            "justify_items": null,
            "left": null,
            "margin": null,
            "max_height": null,
            "max_width": null,
            "min_height": null,
            "min_width": null,
            "object_fit": null,
            "object_position": null,
            "order": null,
            "overflow": null,
            "overflow_x": null,
            "overflow_y": null,
            "padding": null,
            "right": null,
            "top": null,
            "visibility": null,
            "width": null
          }
        },
        "12b51a6fbd0b4e589393db1ba173e9bb": {
          "model_module": "@jupyter-widgets/controls",
          "model_name": "DescriptionStyleModel",
          "model_module_version": "1.5.0",
          "state": {
            "_model_module": "@jupyter-widgets/controls",
            "_model_module_version": "1.5.0",
            "_model_name": "DescriptionStyleModel",
            "_view_count": null,
            "_view_module": "@jupyter-widgets/base",
            "_view_module_version": "1.2.0",
            "_view_name": "StyleView",
            "description_width": ""
          }
        }
      }
    }
  },
  "nbformat": 4,
  "nbformat_minor": 0
}