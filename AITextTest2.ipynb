{
  "cells": [
    {
      "cell_type": "markdown",
      "metadata": {
        "id": "view-in-github",
        "colab_type": "text"
      },
      "source": [
        "<a href=\"https://colab.research.google.com/github/ChapelFob80930/AI-Generated-Text-Detector/blob/main/AITextTest2.ipynb\" target=\"_parent\"><img src=\"https://colab.research.google.com/assets/colab-badge.svg\" alt=\"Open In Colab\"/></a>"
      ]
    },
    {
      "cell_type": "markdown",
      "source": [
        "#**Importing the Dataset**"
      ],
      "metadata": {
        "id": "KSkesjPZFWta"
      }
    },
    {
      "cell_type": "code",
      "execution_count": 1,
      "metadata": {
        "colab": {
          "base_uri": "https://localhost:8080/"
        },
        "id": "9DivI8E17Ug5",
        "outputId": "c67f5803-05dc-4189-aa3f-b812b12a5096"
      },
      "outputs": [
        {
          "output_type": "stream",
          "name": "stdout",
          "text": [
            "(44868, 5)\n",
            "                                                text  label\n",
            "0  Phones\\n\\nModern humans today are always on th...      0\n",
            "1  This essay will explain if drivers should or s...      0\n",
            "2  Driving while the use of cellular devices\\n\\nT...      0\n",
            "3  Phones & Driving\\n\\nDrivers should not be able...      0\n",
            "4  Cell Phone Operation While Driving\\n\\nThe abil...      0\n",
            "(44868, 2)\n"
          ]
        }
      ],
      "source": [
        "import numpy as np\n",
        "import pandas as pd\n",
        "\n",
        "ai_generated_dataset = pd.read_csv(\"/content/train_v2_drcat_02.csv\")\n",
        "print(ai_generated_dataset.shape)\n",
        "ai_generated_dataset = ai_generated_dataset.dropna()\n",
        "ai_generated_dataset = ai_generated_dataset.drop(columns=['prompt_name','source','RDizzl3_seven'])\n",
        "print(ai_generated_dataset.head())\n",
        "print(ai_generated_dataset.shape)"
      ]
    },
    {
      "cell_type": "code",
      "execution_count": 2,
      "metadata": {
        "colab": {
          "base_uri": "https://localhost:8080/"
        },
        "collapsed": true,
        "id": "gsRlIA2q7kps",
        "outputId": "8b7768c9-7367-4f00-dfdd-e61cc8af41ce"
      },
      "outputs": [
        {
          "name": "stdout",
          "output_type": "stream",
          "text": [
            "NLTK Downloader\n",
            "---------------------------------------------------------------------------\n",
            "    d) Download   l) List    u) Update   c) Config   h) Help   q) Quit\n",
            "---------------------------------------------------------------------------\n",
            "Downloader> D\n",
            "\n",
            "Download which package (l=list; x=cancel)?\n",
            "  Identifier> all\n"
          ]
        },
        {
          "output_type": "stream",
          "name": "stderr",
          "text": [
            "    Downloading collection 'all'\n",
            "       | \n",
            "       | Downloading package abc to /root/nltk_data...\n",
            "       |   Unzipping corpora/abc.zip.\n",
            "       | Downloading package alpino to /root/nltk_data...\n",
            "       |   Unzipping corpora/alpino.zip.\n",
            "       | Downloading package averaged_perceptron_tagger to\n",
            "       |     /root/nltk_data...\n",
            "       |   Unzipping taggers/averaged_perceptron_tagger.zip.\n",
            "       | Downloading package averaged_perceptron_tagger_eng to\n",
            "       |     /root/nltk_data...\n",
            "       |   Unzipping taggers/averaged_perceptron_tagger_eng.zip.\n",
            "       | Downloading package averaged_perceptron_tagger_ru to\n",
            "       |     /root/nltk_data...\n",
            "       |   Unzipping taggers/averaged_perceptron_tagger_ru.zip.\n",
            "       | Downloading package averaged_perceptron_tagger_rus to\n",
            "       |     /root/nltk_data...\n",
            "       |   Unzipping taggers/averaged_perceptron_tagger_rus.zip.\n",
            "       | Downloading package basque_grammars to /root/nltk_data...\n",
            "       |   Unzipping grammars/basque_grammars.zip.\n",
            "       | Downloading package bcp47 to /root/nltk_data...\n",
            "       | Downloading package biocreative_ppi to /root/nltk_data...\n",
            "       |   Unzipping corpora/biocreative_ppi.zip.\n",
            "       | Downloading package bllip_wsj_no_aux to /root/nltk_data...\n",
            "       |   Unzipping models/bllip_wsj_no_aux.zip.\n",
            "       | Downloading package book_grammars to /root/nltk_data...\n",
            "       |   Unzipping grammars/book_grammars.zip.\n",
            "       | Downloading package brown to /root/nltk_data...\n",
            "       |   Unzipping corpora/brown.zip.\n",
            "       | Downloading package brown_tei to /root/nltk_data...\n",
            "       |   Unzipping corpora/brown_tei.zip.\n",
            "       | Downloading package cess_cat to /root/nltk_data...\n",
            "       |   Unzipping corpora/cess_cat.zip.\n",
            "       | Downloading package cess_esp to /root/nltk_data...\n",
            "       |   Unzipping corpora/cess_esp.zip.\n",
            "       | Downloading package chat80 to /root/nltk_data...\n",
            "       |   Unzipping corpora/chat80.zip.\n",
            "       | Downloading package city_database to /root/nltk_data...\n",
            "       |   Unzipping corpora/city_database.zip.\n",
            "       | Downloading package cmudict to /root/nltk_data...\n",
            "       |   Unzipping corpora/cmudict.zip.\n",
            "       | Downloading package comparative_sentences to\n",
            "       |     /root/nltk_data...\n",
            "       |   Unzipping corpora/comparative_sentences.zip.\n",
            "       | Downloading package comtrans to /root/nltk_data...\n",
            "       | Downloading package conll2000 to /root/nltk_data...\n",
            "       |   Unzipping corpora/conll2000.zip.\n",
            "       | Downloading package conll2002 to /root/nltk_data...\n",
            "       |   Unzipping corpora/conll2002.zip.\n",
            "       | Downloading package conll2007 to /root/nltk_data...\n",
            "       | Downloading package crubadan to /root/nltk_data...\n",
            "       |   Unzipping corpora/crubadan.zip.\n",
            "       | Downloading package dependency_treebank to /root/nltk_data...\n",
            "       |   Unzipping corpora/dependency_treebank.zip.\n",
            "       | Downloading package dolch to /root/nltk_data...\n",
            "       |   Unzipping corpora/dolch.zip.\n",
            "       | Downloading package europarl_raw to /root/nltk_data...\n",
            "       |   Unzipping corpora/europarl_raw.zip.\n",
            "       | Downloading package extended_omw to /root/nltk_data...\n",
            "       | Downloading package floresta to /root/nltk_data...\n",
            "       |   Unzipping corpora/floresta.zip.\n",
            "       | Downloading package framenet_v15 to /root/nltk_data...\n",
            "       |   Unzipping corpora/framenet_v15.zip.\n",
            "       | Downloading package framenet_v17 to /root/nltk_data...\n",
            "       |   Unzipping corpora/framenet_v17.zip.\n",
            "       | Downloading package gazetteers to /root/nltk_data...\n",
            "       |   Unzipping corpora/gazetteers.zip.\n",
            "       | Downloading package genesis to /root/nltk_data...\n",
            "       |   Unzipping corpora/genesis.zip.\n",
            "       | Downloading package gutenberg to /root/nltk_data...\n",
            "       |   Unzipping corpora/gutenberg.zip.\n",
            "       | Downloading package ieer to /root/nltk_data...\n",
            "       |   Unzipping corpora/ieer.zip.\n",
            "       | Downloading package inaugural to /root/nltk_data...\n",
            "       |   Unzipping corpora/inaugural.zip.\n",
            "       | Downloading package indian to /root/nltk_data...\n",
            "       |   Unzipping corpora/indian.zip.\n",
            "       | Downloading package jeita to /root/nltk_data...\n",
            "       | Downloading package kimmo to /root/nltk_data...\n",
            "       |   Unzipping corpora/kimmo.zip.\n",
            "       | Downloading package knbc to /root/nltk_data...\n",
            "       | Downloading package large_grammars to /root/nltk_data...\n",
            "       |   Unzipping grammars/large_grammars.zip.\n",
            "       | Downloading package lin_thesaurus to /root/nltk_data...\n",
            "       |   Unzipping corpora/lin_thesaurus.zip.\n",
            "       | Downloading package mac_morpho to /root/nltk_data...\n",
            "       |   Unzipping corpora/mac_morpho.zip.\n",
            "       | Downloading package machado to /root/nltk_data...\n",
            "       | Downloading package masc_tagged to /root/nltk_data...\n",
            "       | Downloading package maxent_ne_chunker to /root/nltk_data...\n",
            "       |   Unzipping chunkers/maxent_ne_chunker.zip.\n",
            "       | Downloading package maxent_ne_chunker_tab to\n",
            "       |     /root/nltk_data...\n",
            "       |   Unzipping chunkers/maxent_ne_chunker_tab.zip.\n",
            "       | Downloading package maxent_treebank_pos_tagger to\n",
            "       |     /root/nltk_data...\n",
            "       |   Unzipping taggers/maxent_treebank_pos_tagger.zip.\n",
            "       | Downloading package maxent_treebank_pos_tagger_tab to\n",
            "       |     /root/nltk_data...\n",
            "       |   Unzipping taggers/maxent_treebank_pos_tagger_tab.zip.\n",
            "       | Downloading package moses_sample to /root/nltk_data...\n",
            "       |   Unzipping models/moses_sample.zip.\n",
            "       | Downloading package movie_reviews to /root/nltk_data...\n",
            "       |   Unzipping corpora/movie_reviews.zip.\n",
            "       | Downloading package mte_teip5 to /root/nltk_data...\n",
            "       |   Unzipping corpora/mte_teip5.zip.\n",
            "       | Downloading package mwa_ppdb to /root/nltk_data...\n",
            "       |   Unzipping misc/mwa_ppdb.zip.\n",
            "       | Downloading package names to /root/nltk_data...\n",
            "       |   Unzipping corpora/names.zip.\n",
            "       | Downloading package nombank.1.0 to /root/nltk_data...\n",
            "       | Downloading package nonbreaking_prefixes to\n",
            "       |     /root/nltk_data...\n",
            "       |   Unzipping corpora/nonbreaking_prefixes.zip.\n",
            "       | Downloading package nps_chat to /root/nltk_data...\n",
            "       |   Unzipping corpora/nps_chat.zip.\n",
            "       | Downloading package omw to /root/nltk_data...\n",
            "       | Downloading package omw-1.4 to /root/nltk_data...\n",
            "       | Downloading package opinion_lexicon to /root/nltk_data...\n",
            "       |   Unzipping corpora/opinion_lexicon.zip.\n",
            "       | Downloading package panlex_swadesh to /root/nltk_data...\n",
            "       | Downloading package paradigms to /root/nltk_data...\n",
            "       |   Unzipping corpora/paradigms.zip.\n",
            "       | Downloading package pe08 to /root/nltk_data...\n",
            "       |   Unzipping corpora/pe08.zip.\n",
            "       | Downloading package perluniprops to /root/nltk_data...\n",
            "       |   Unzipping misc/perluniprops.zip.\n",
            "       | Downloading package pil to /root/nltk_data...\n",
            "       |   Unzipping corpora/pil.zip.\n",
            "       | Downloading package pl196x to /root/nltk_data...\n",
            "       |   Unzipping corpora/pl196x.zip.\n",
            "       | Downloading package porter_test to /root/nltk_data...\n",
            "       |   Unzipping stemmers/porter_test.zip.\n",
            "       | Downloading package ppattach to /root/nltk_data...\n",
            "       |   Unzipping corpora/ppattach.zip.\n",
            "       | Downloading package problem_reports to /root/nltk_data...\n",
            "       |   Unzipping corpora/problem_reports.zip.\n",
            "       | Downloading package product_reviews_1 to /root/nltk_data...\n",
            "       |   Unzipping corpora/product_reviews_1.zip.\n",
            "       | Downloading package product_reviews_2 to /root/nltk_data...\n",
            "       |   Unzipping corpora/product_reviews_2.zip.\n",
            "       | Downloading package propbank to /root/nltk_data...\n",
            "       | Downloading package pros_cons to /root/nltk_data...\n",
            "       |   Unzipping corpora/pros_cons.zip.\n",
            "       | Downloading package ptb to /root/nltk_data...\n",
            "       |   Unzipping corpora/ptb.zip.\n",
            "       | Downloading package punkt to /root/nltk_data...\n",
            "       |   Unzipping tokenizers/punkt.zip.\n",
            "       | Downloading package punkt_tab to /root/nltk_data...\n",
            "       |   Unzipping tokenizers/punkt_tab.zip.\n",
            "       | Downloading package qc to /root/nltk_data...\n",
            "       |   Unzipping corpora/qc.zip.\n",
            "       | Downloading package reuters to /root/nltk_data...\n",
            "       | Downloading package rslp to /root/nltk_data...\n",
            "       |   Unzipping stemmers/rslp.zip.\n",
            "       | Downloading package rte to /root/nltk_data...\n",
            "       |   Unzipping corpora/rte.zip.\n",
            "       | Downloading package sample_grammars to /root/nltk_data...\n",
            "       |   Unzipping grammars/sample_grammars.zip.\n",
            "       | Downloading package semcor to /root/nltk_data...\n",
            "       | Downloading package senseval to /root/nltk_data...\n",
            "       |   Unzipping corpora/senseval.zip.\n",
            "       | Downloading package sentence_polarity to /root/nltk_data...\n",
            "       |   Unzipping corpora/sentence_polarity.zip.\n",
            "       | Downloading package sentiwordnet to /root/nltk_data...\n",
            "       |   Unzipping corpora/sentiwordnet.zip.\n",
            "       | Downloading package shakespeare to /root/nltk_data...\n",
            "       |   Unzipping corpora/shakespeare.zip.\n",
            "       | Downloading package sinica_treebank to /root/nltk_data...\n",
            "       |   Unzipping corpora/sinica_treebank.zip.\n",
            "       | Downloading package smultron to /root/nltk_data...\n",
            "       |   Unzipping corpora/smultron.zip.\n",
            "       | Downloading package snowball_data to /root/nltk_data...\n",
            "       | Downloading package spanish_grammars to /root/nltk_data...\n",
            "       |   Unzipping grammars/spanish_grammars.zip.\n",
            "       | Downloading package state_union to /root/nltk_data...\n",
            "       |   Unzipping corpora/state_union.zip.\n",
            "       | Downloading package stopwords to /root/nltk_data...\n",
            "       |   Unzipping corpora/stopwords.zip.\n",
            "       | Downloading package subjectivity to /root/nltk_data...\n",
            "       |   Unzipping corpora/subjectivity.zip.\n",
            "       | Downloading package swadesh to /root/nltk_data...\n",
            "       |   Unzipping corpora/swadesh.zip.\n",
            "       | Downloading package switchboard to /root/nltk_data...\n",
            "       |   Unzipping corpora/switchboard.zip.\n",
            "       | Downloading package tagsets to /root/nltk_data...\n",
            "       |   Unzipping help/tagsets.zip.\n",
            "       | Downloading package tagsets_json to /root/nltk_data...\n",
            "       |   Unzipping help/tagsets_json.zip.\n",
            "       | Downloading package timit to /root/nltk_data...\n",
            "       |   Unzipping corpora/timit.zip.\n",
            "       | Downloading package toolbox to /root/nltk_data...\n",
            "       |   Unzipping corpora/toolbox.zip.\n",
            "       | Downloading package treebank to /root/nltk_data...\n",
            "       |   Unzipping corpora/treebank.zip.\n",
            "       | Downloading package twitter_samples to /root/nltk_data...\n",
            "       |   Unzipping corpora/twitter_samples.zip.\n",
            "       | Downloading package udhr to /root/nltk_data...\n",
            "       |   Unzipping corpora/udhr.zip.\n",
            "       | Downloading package udhr2 to /root/nltk_data...\n",
            "       |   Unzipping corpora/udhr2.zip.\n",
            "       | Downloading package unicode_samples to /root/nltk_data...\n",
            "       |   Unzipping corpora/unicode_samples.zip.\n",
            "       | Downloading package universal_tagset to /root/nltk_data...\n",
            "       |   Unzipping taggers/universal_tagset.zip.\n",
            "       | Downloading package universal_treebanks_v20 to\n",
            "       |     /root/nltk_data...\n",
            "       | Downloading package vader_lexicon to /root/nltk_data...\n",
            "       | Downloading package verbnet to /root/nltk_data...\n",
            "       |   Unzipping corpora/verbnet.zip.\n",
            "       | Downloading package verbnet3 to /root/nltk_data...\n",
            "       |   Unzipping corpora/verbnet3.zip.\n",
            "       | Downloading package webtext to /root/nltk_data...\n",
            "       |   Unzipping corpora/webtext.zip.\n",
            "       | Downloading package wmt15_eval to /root/nltk_data...\n",
            "       |   Unzipping models/wmt15_eval.zip.\n",
            "       | Downloading package word2vec_sample to /root/nltk_data...\n",
            "       |   Unzipping models/word2vec_sample.zip.\n",
            "       | Downloading package wordnet to /root/nltk_data...\n",
            "       | Downloading package wordnet2021 to /root/nltk_data...\n",
            "       | Downloading package wordnet2022 to /root/nltk_data...\n",
            "       |   Unzipping corpora/wordnet2022.zip.\n",
            "       | Downloading package wordnet31 to /root/nltk_data...\n",
            "       | Downloading package wordnet_ic to /root/nltk_data...\n",
            "       |   Unzipping corpora/wordnet_ic.zip.\n",
            "       | Downloading package words to /root/nltk_data...\n",
            "       |   Unzipping corpora/words.zip.\n",
            "       | Downloading package ycoe to /root/nltk_data...\n",
            "       |   Unzipping corpora/ycoe.zip.\n",
            "       | \n",
            "     Done downloading collection all\n"
          ]
        },
        {
          "name": "stdout",
          "output_type": "stream",
          "text": [
            "\n",
            "---------------------------------------------------------------------------\n",
            "    d) Download   l) List    u) Update   c) Config   h) Help   q) Quit\n",
            "---------------------------------------------------------------------------\n",
            "Downloader> Q\n"
          ]
        },
        {
          "output_type": "execute_result",
          "data": {
            "text/plain": [
              "True"
            ]
          },
          "metadata": {},
          "execution_count": 2
        }
      ],
      "source": [
        "import nltk\n",
        "nltk.download()\n"
      ]
    },
    {
      "cell_type": "code",
      "source": [
        "# import spacy\n",
        "# nlp = spacy.load('en_core_web_sm')\n",
        "\n",
        "# def lemmatize_text(text):\n",
        "#   doc = nlp(\" \".join(text))\n",
        "#   return [token.lemma_ for token in doc]"
      ],
      "metadata": {
        "id": "KtQ0Ruc1qZGW"
      },
      "execution_count": 4,
      "outputs": []
    },
    {
      "cell_type": "code",
      "source": [
        "# import nltk\n",
        "# from nltk.corpus import stopwords\n",
        "# nltk.download('stopwords')\n",
        "\n",
        "# stop_words = set(stopwords.words('english'))\n",
        "\n",
        "# def _remove_stopwords_(texts):\n",
        "#   return [text for text in texts if text.isalnum() and text not in stop_words]"
      ],
      "metadata": {
        "id": "PWbPW99ZqEQi"
      },
      "execution_count": 5,
      "outputs": []
    },
    {
      "cell_type": "code",
      "execution_count": 6,
      "metadata": {
        "id": "k4HoVvtL8tfB"
      },
      "outputs": [],
      "source": [
        "# from nltk.tokenize import word_tokenize\n",
        "# nltk.download('punkt')\n",
        "\n",
        "# def preprocess_text(series):\n",
        "#     def process(text):\n",
        "#         tokens = word_tokenize(text)\n",
        "#         tokens = _remove_stopwords_(tokens)\n",
        "#         tokens = lemmatize_text(tokens)\n",
        "#         return \" \".join(tokens)\n",
        "#     return series.apply(process)\n"
      ]
    },
    {
      "cell_type": "markdown",
      "source": [
        "#**Preprocessing Data**"
      ],
      "metadata": {
        "id": "xOhNVLWSHXBr"
      }
    },
    {
      "cell_type": "code",
      "source": [
        "import numpy as np\n",
        "import pandas as pd\n",
        "import spacy\n",
        "from joblib import Parallel, delayed\n",
        "from tqdm.notebook import tqdm\n",
        "from nltk.corpus import stopwords\n",
        "import nltk\n",
        "import re\n",
        "\n",
        "\n",
        "nlp = spacy.load('en_core_web_sm')\n",
        "\n",
        "\n",
        "nltk.download('stopwords')\n",
        "stop_words = set(stopwords.words('english'))\n",
        "\n",
        "\n",
        "def preprocess(text):\n",
        "    text = re.sub(r\"[^a-zA-Z\\s]\",\"\",text.lower())\n",
        "    doc = nlp(text)\n",
        "    tokens = [token.lemma_ for token in doc if token.text not in stop_words and token.is_alpha]\n",
        "    return \" \".join(tokens)\n",
        "\n",
        "\n",
        "def parallel_preprocessing(series):\n",
        "    \"\"\"Preprocess text using spaCy, parallel processing, and tqdm for progress tracking.\"\"\"\n",
        "    tqdm.pandas()\n",
        "    return Parallel(n_jobs=10, backend=\"multiprocessing\")(delayed(preprocess)(text) for text in tqdm(series, desc=\"Preprocessing\"))\n",
        "\n",
        "\n",
        "ai_generated_dataset[\"preprocessedText\"] = parallel_preprocessing(ai_generated_dataset[\"text\"])\n",
        "\n",
        "print(ai_generated_dataset.head())\n"
      ],
      "metadata": {
        "colab": {
          "base_uri": "https://localhost:8080/",
          "height": 309,
          "referenced_widgets": [
            "0c5ec9a658ad434c9b4bdb81412e452c",
            "6a84bea89c58450098fa9e0532d67323",
            "c3ef13142eed4bb1a7958f40ebe00678",
            "39d1469dd7404d8488a7b5aa6b7b9c8c",
            "7126ebe464744a70a52d7060f07e7f60",
            "ef08507d21214295a3b63eabab71b700",
            "abb0b92e8b304487b3ca4a46568c74bd",
            "f97baa64d22249228be3dc5e465bb632",
            "ecda205f925247bcafe862a9ea78654c",
            "0f14ee825a7c407c8b6cc6f911142ed2",
            "7a9c4c2a62c54696a5dc2522adb01907"
          ]
        },
        "id": "ht-kx-PVVMDm",
        "outputId": "ed931243-9840-4c64-e6e9-949377c41820"
      },
      "execution_count": 3,
      "outputs": [
        {
          "output_type": "stream",
          "name": "stderr",
          "text": [
            "[nltk_data] Downloading package stopwords to /root/nltk_data...\n",
            "[nltk_data]   Package stopwords is already up-to-date!\n"
          ]
        },
        {
          "output_type": "display_data",
          "data": {
            "text/plain": [
              "Preprocessing:   0%|          | 0/44868 [00:00<?, ?it/s]"
            ],
            "application/vnd.jupyter.widget-view+json": {
              "version_major": 2,
              "version_minor": 0,
              "model_id": "0c5ec9a658ad434c9b4bdb81412e452c"
            }
          },
          "metadata": {}
        },
        {
          "output_type": "stream",
          "name": "stdout",
          "text": [
            "                                                text  label  \\\n",
            "0  Phones\\n\\nModern humans today are always on th...      0   \n",
            "1  This essay will explain if drivers should or s...      0   \n",
            "2  Driving while the use of cellular devices\\n\\nT...      0   \n",
            "3  Phones & Driving\\n\\nDrivers should not be able...      0   \n",
            "4  Cell Phone Operation While Driving\\n\\nThe abil...      0   \n",
            "\n",
            "                                    preprocessedText  \n",
            "0  phone modern human today always phone always p...  \n",
            "1  essay explain driver able use electronic devic...  \n",
            "2  drive use cellular device today society though...  \n",
            "3  phone drive driver able use phone operate vehi...  \n",
            "4  cell phone operation drive ability stay connec...  \n"
          ]
        }
      ]
    },
    {
      "cell_type": "markdown",
      "source": [
        "#**Creating Word2Vec Embeddings**"
      ],
      "metadata": {
        "id": "GeNwbv6sHxgw"
      }
    },
    {
      "cell_type": "code",
      "source": [
        "from gensim.models import Word2Vec\n",
        "\n",
        "sentences = ai_generated_dataset[\"preprocessedText\"].apply(lambda x: x.split())\n",
        "\n",
        "word2vec_model = Word2Vec(sentences, vector_size=300, window=10, min_count=2, workers=4, sg=1)\n",
        "\n",
        "word_vector = word2vec_model.wv['car']\n",
        "print(\"Vector for 'car':\", word_vector)\n",
        "\n",
        "\n",
        "def calculate_average_word_vector(words,model,vector_size=300):\n",
        "    word_vectors = [word2vec_model.wv[word] for word in words if word in word2vec_model.wv]\n",
        "    if word_vectors:\n",
        "        return np.mean(word_vectors, axis=0)\n",
        "    else:\n",
        "        return np.zeros(vector_size)\n",
        "\n",
        "def parallel_word2vec(row):\n",
        "    return calculate_average_word_vector(row.split(), word2vec_model)\n",
        "\n",
        "# ai_generated_dataset['word2vecVector'] = ai_generated_dataset[\"preprocessedText\"].apply(lambda x: calculate_average_word_vector(x.split(),word2vec_model))\n",
        "ai_generated_dataset['word2vecVector'] = Parallel(n_jobs=10,backend='multiprocessing')(delayed(parallel_word2vec)(row) for row in tqdm(ai_generated_dataset[\"preprocessedText\"], desc=\"Word2Vec\"))\n",
        "print(ai_generated_dataset.head())\n",
        "\n"
      ],
      "metadata": {
        "colab": {
          "base_uri": "https://localhost:8080/",
          "height": 1000,
          "referenced_widgets": [
            "0c1e20422fc3468a9876a8dd9283aaf1",
            "231b03eb814c4ad980c8dc75e99dc410",
            "c84fc82aa7de41e39d1b493413f64bee",
            "017d9bfecfe44ee89d8223c3dd12d05d",
            "a63454742c24418592f75a8d58ed09ef",
            "4724762a4b6b489989a8575c33cef415",
            "ec376c8a7fc94f9fa82ffd7f10dc56cf",
            "c76ccee2bff84d90ab136dadc0ab0915",
            "bc4696157cf64ad9bf4e2803f3bc4976",
            "baba35468252410496266cf06c3cc3c0",
            "01cf1dac44864fc6a0f5e2d374538b3a"
          ]
        },
        "id": "oRPabtS3V0Tg",
        "outputId": "b4b5f5b8-7c6f-4776-a4b1-0d87ea558089"
      },
      "execution_count": 4,
      "outputs": [
        {
          "output_type": "stream",
          "name": "stdout",
          "text": [
            "Vector for 'car': [-0.03022515  0.6194056  -0.21422578  0.34692746 -0.03190707  0.02237601\n",
            " -0.23040473 -0.24359183 -0.28825054 -0.13033113 -0.1839729   0.25937292\n",
            "  0.2011305  -0.20153397 -0.20086396  0.32049945  0.4826605  -0.03636707\n",
            " -0.19989714  0.03057496  0.01983326 -0.16980833  0.04848079  0.34849653\n",
            "  0.1572686   0.11359413  0.10124388  0.25574696  0.02981558 -0.02943831\n",
            "  0.19148284  0.11474993  0.08877064 -0.17492773 -0.05807716 -0.01691459\n",
            " -0.29740432 -0.24838993 -0.00440207  0.03883124  0.18281546 -0.07571971\n",
            " -0.14710516  0.10112376  0.03848148  0.11078667  0.20803139  0.2722029\n",
            " -0.2968364   0.06676871  0.02062773 -0.35342073 -0.36724472 -0.10906108\n",
            "  0.07749721  0.03810757 -0.22241779 -0.199901    0.41355312 -0.08774935\n",
            "  0.09957725 -0.3922161   0.4673882   0.10940967  0.18357566  0.06471836\n",
            "  0.00719046 -0.06965803 -0.03113439  0.35827133  0.4724044  -0.17833753\n",
            " -0.17377807 -0.12579232 -0.1835388   0.07842518  0.00762238 -0.2544962\n",
            " -0.30489236  0.34799173  0.01806692  0.170191   -0.24806435  0.18303692\n",
            "  0.26728523  0.06715335  0.09854963 -0.03708353  0.08023044  0.00302262\n",
            "  0.26201543  0.06914904  0.34602684  0.02343951 -0.31362355 -0.04385976\n",
            "  0.24214385 -0.48705894 -0.02362243 -0.11240775 -0.06298022  0.08750771\n",
            " -0.01193781 -0.22675271 -0.3290214  -0.05706782  0.25649032 -0.02910732\n",
            " -0.36595035 -0.28736213  0.14538105  0.15173152  0.16753046  0.14378303\n",
            " -0.01618633 -0.08993584  0.02310229  0.04134952  0.2550939  -0.3100277\n",
            "  0.3002276   0.08582193  0.16120607  0.03135285 -0.00920223  0.07165954\n",
            " -0.10413662  0.18176739  0.01639763 -0.09556923 -0.12857974 -0.14147842\n",
            " -0.12215451  0.02177168  0.0373883  -0.18518403  0.09060133 -0.04777699\n",
            " -0.08614213  0.158692   -0.14238456  0.3312089   0.37294486  0.08522865\n",
            " -0.02493494 -0.07921807  0.06434734 -0.13488446 -0.11931621 -0.1560325\n",
            "  0.17559242 -0.204768    0.0205611   0.14819796 -0.2363336  -0.184214\n",
            " -0.18310408 -0.04826747  0.08925398  0.0914476   0.3391125   0.05774371\n",
            "  0.13820715  0.03343944  0.04149795 -0.08353619  0.16929676 -0.05321574\n",
            "  0.27238348  0.23642397 -0.01639309 -0.17183946  0.19563349  0.41838655\n",
            " -0.26904547  0.2363611  -0.34028518  0.14148286  0.10414131 -0.07908562\n",
            " -0.2770436   0.384459    0.18678327 -0.21318144 -0.19841558  0.31127468\n",
            "  0.09273428 -0.08147528 -0.01876819  0.15572526  0.06778806 -0.2616317\n",
            " -0.22000651 -0.25327507  0.55503666 -0.02326177  0.21144406 -0.17231873\n",
            " -0.04328118  0.15618989  0.03345545  0.07692832 -0.27703682 -0.09525169\n",
            " -0.22013412 -0.16172357  0.1045441   0.39342952 -0.18789484  0.21624145\n",
            " -0.10564938 -0.3238572  -0.22595797  0.02298292 -0.02730874 -0.04222611\n",
            " -0.19479984 -0.37502635  0.19252959  0.0287917   0.24075592 -0.13441412\n",
            "  0.01058585  0.22702245 -0.04537227 -0.20346814 -0.28054985 -0.46113774\n",
            "  0.158179    0.0299536   0.06624576  0.3634848   0.13728881  0.07897527\n",
            " -0.14195132 -0.04710233 -0.16921835 -0.05467835  0.10571611 -0.24214727\n",
            "  0.31066096 -0.27806443 -0.25914052  0.03901676 -0.27531537 -0.1908089\n",
            " -0.12825947 -0.20384233  0.12500013  0.07626975 -0.05457276  0.19988938\n",
            "  0.01720751  0.25539365  0.3515181   0.02584072  0.28957975  0.16316842\n",
            "  0.18144004 -0.12159027  0.14657028 -0.5609084   0.37067312 -0.2561079\n",
            " -0.21946335 -0.08253148 -0.24435367 -0.13166231 -0.3563893  -0.09146147\n",
            "  0.13206694 -0.18712871  0.03976263 -0.06760691  0.226221   -0.04583311\n",
            "  0.03183064 -0.1811571   0.27758884 -0.26170272  0.09081283  0.10158889\n",
            "  0.3751931   0.38340196  0.08445797  0.1779437  -0.18890391  0.08860061\n",
            " -0.192251   -0.12414325 -0.04018475  0.00641912 -0.24634844 -0.11445168\n",
            " -0.16138734  0.20835905 -0.32014012  0.16403371 -0.0618873  -0.14234595]\n"
          ]
        },
        {
          "output_type": "display_data",
          "data": {
            "text/plain": [
              "Word2Vec:   0%|          | 0/44868 [00:00<?, ?it/s]"
            ],
            "application/vnd.jupyter.widget-view+json": {
              "version_major": 2,
              "version_minor": 0,
              "model_id": "0c1e20422fc3468a9876a8dd9283aaf1"
            }
          },
          "metadata": {}
        },
        {
          "output_type": "stream",
          "name": "stdout",
          "text": [
            "                                                text  label  \\\n",
            "0  Phones\\n\\nModern humans today are always on th...      0   \n",
            "1  This essay will explain if drivers should or s...      0   \n",
            "2  Driving while the use of cellular devices\\n\\nT...      0   \n",
            "3  Phones & Driving\\n\\nDrivers should not be able...      0   \n",
            "4  Cell Phone Operation While Driving\\n\\nThe abil...      0   \n",
            "\n",
            "                                    preprocessedText  \\\n",
            "0  phone modern human today always phone always p...   \n",
            "1  essay explain driver able use electronic devic...   \n",
            "2  drive use cellular device today society though...   \n",
            "3  phone drive driver able use phone operate vehi...   \n",
            "4  cell phone operation drive ability stay connec...   \n",
            "\n",
            "                                      word2vecVector  \n",
            "0  [0.0787538, 0.14741687, -0.0451047, 0.15900104...  \n",
            "1  [0.09196388, 0.15417388, -0.025151968, 0.11462...  \n",
            "2  [0.05449983, 0.14364007, -0.03551901, 0.126166...  \n",
            "3  [0.06712658, 0.15643345, -0.034806043, 0.05389...  \n",
            "4  [0.095823, 0.11259337, -0.068595916, 0.1318659...  \n"
          ]
        }
      ]
    },
    {
      "cell_type": "markdown",
      "source": [
        "#**Creating Doc2Vec Embeddings**"
      ],
      "metadata": {
        "id": "qotyAPoIH8oX"
      }
    },
    {
      "cell_type": "code",
      "source": [
        "from gensim.models.doc2vec import Doc2Vec, TaggedDocument\n",
        "\n",
        "\n",
        "def prepare_tagged_documents(series):\n",
        "\n",
        "    return [TaggedDocument(words=text.split(), tags=[str(i)]) for i, text in enumerate(series)]\n",
        "\n",
        "\n",
        "tqdm.pandas(desc=\"Preparing Tagged Documents\")\n",
        "tagged_data = prepare_tagged_documents(tqdm(ai_generated_dataset[\"preprocessedText\"], desc=\"Tagging Data\"))\n",
        "\n",
        "\n",
        "doc2vec_model = Doc2Vec(tagged_data, vector_size=300, window=5, min_count=2, workers=4, dm=1,epochs=50)\n",
        "\n",
        "# Function to generate Doc2Vec vectors\n",
        "def generate_doc2vec_vector(index):\n",
        "\n",
        "    return doc2vec_model.dv[str(index)]\n",
        "\n",
        "# Use tqdm and joblib to parallelize vector generation\n",
        "def generate_doc2vec_vectors_parallel(dataframe):\n",
        "\n",
        "    indices = dataframe.index\n",
        "    return Parallel(n_jobs=10, backend=\"multiprocessing\")(delayed(generate_doc2vec_vector)(index) for index in tqdm(indices, desc=\"Generating Doc2Vec Vectors\"))\n",
        "\n",
        "ai_generated_dataset['doc2vecVector'] = generate_doc2vec_vectors_parallel(ai_generated_dataset)\n",
        "\n",
        "\n",
        "print(ai_generated_dataset.head())\n"
      ],
      "metadata": {
        "colab": {
          "base_uri": "https://localhost:8080/",
          "height": 550,
          "referenced_widgets": [
            "5cdca0cce13446ee9c445317cc3a1c27",
            "642be08a4e32472592cb29e44733f4a1",
            "5a948af57efd4634834483101580b990",
            "67627ac8844f4dec8b544eddb14ae10c",
            "2c9b9e7ad1654b4aaef09400746be4c9",
            "310f7378b0a9429a8468c645d545c421",
            "0b129c9198ae432a895e283d5434bc10",
            "17b4a6e882eb40b8a81d8c09c8a8ebfc",
            "1720f563df364056b37a025362b579b4",
            "eb796f92e5ee45ceb1db3e7e41f9834a",
            "b0a01e7c2b764b8781bca9726988b5d1",
            "f72c2b1ae6bd4776b312679776e67ee8",
            "0136d5bf58ba43ba92852b4320755543",
            "659abd59ba2f41279e0044737f9ca0dc",
            "11c80fcc1eaa44018bb8bae908dc11c3",
            "fdd374a5fb6b4400acfae2e0ca08fe8e",
            "6a8c529711ad488fbb2abbbb8defc470",
            "5bc6f538b1fa486ab391f9b75b4859d8",
            "b2bd431df7b74e2cb82cffa8bbda8d36",
            "fbe5ee2db05a409e9743c469134631d1",
            "518a7b76fcbb4043919fb0fc656d8749",
            "d9f3731d7ab64ecd9e6bddcbec3c0812"
          ]
        },
        "id": "qvgs8xGcnjU_",
        "outputId": "a623ac37-a3a3-4fb0-edb5-1ffc6c91c42b"
      },
      "execution_count": 5,
      "outputs": [
        {
          "output_type": "display_data",
          "data": {
            "text/plain": [
              "Tagging Data:   0%|          | 0/44868 [00:00<?, ?it/s]"
            ],
            "application/vnd.jupyter.widget-view+json": {
              "version_major": 2,
              "version_minor": 0,
              "model_id": "5cdca0cce13446ee9c445317cc3a1c27"
            }
          },
          "metadata": {}
        },
        {
          "output_type": "display_data",
          "data": {
            "text/plain": [
              "Generating Doc2Vec Vectors:   0%|          | 0/44868 [00:00<?, ?it/s]"
            ],
            "application/vnd.jupyter.widget-view+json": {
              "version_major": 2,
              "version_minor": 0,
              "model_id": "f72c2b1ae6bd4776b312679776e67ee8"
            }
          },
          "metadata": {}
        },
        {
          "output_type": "stream",
          "name": "stdout",
          "text": [
            "                                                text  label  \\\n",
            "0  Phones\\n\\nModern humans today are always on th...      0   \n",
            "1  This essay will explain if drivers should or s...      0   \n",
            "2  Driving while the use of cellular devices\\n\\nT...      0   \n",
            "3  Phones & Driving\\n\\nDrivers should not be able...      0   \n",
            "4  Cell Phone Operation While Driving\\n\\nThe abil...      0   \n",
            "\n",
            "                                    preprocessedText  \\\n",
            "0  phone modern human today always phone always p...   \n",
            "1  essay explain driver able use electronic devic...   \n",
            "2  drive use cellular device today society though...   \n",
            "3  phone drive driver able use phone operate vehi...   \n",
            "4  cell phone operation drive ability stay connec...   \n",
            "\n",
            "                                      word2vecVector  \\\n",
            "0  [0.0787538, 0.14741687, -0.0451047, 0.15900104...   \n",
            "1  [0.09196388, 0.15417388, -0.025151968, 0.11462...   \n",
            "2  [0.05449983, 0.14364007, -0.03551901, 0.126166...   \n",
            "3  [0.06712658, 0.15643345, -0.034806043, 0.05389...   \n",
            "4  [0.095823, 0.11259337, -0.068595916, 0.1318659...   \n",
            "\n",
            "                                       doc2vecVector  \n",
            "0  [1.3561538, -1.5816728, 1.0366974, -1.9130388,...  \n",
            "1  [1.0249271, 0.5633102, 2.4468594, -1.2138988, ...  \n",
            "2  [0.55191404, -1.4272017, 0.4599444, 0.5214955,...  \n",
            "3  [-0.3080705, 0.86628056, -0.41466543, 0.173809...  \n",
            "4  [-0.38116035, -1.001676, 1.7596638, -0.2411683...  \n"
          ]
        }
      ]
    },
    {
      "cell_type": "code",
      "source": [
        "# print(train_essays.head())"
      ],
      "metadata": {
        "id": "JeU2USKZg8LN"
      },
      "execution_count": null,
      "outputs": []
    },
    {
      "cell_type": "code",
      "source": [
        "# from sklearn.model_selection import train_test_split\n",
        "\n",
        "# y = train_essays['generated']\n",
        "\n",
        "# train_index, test_index = train_test_split(train_essays.index, test_size=0.2, random_state=42)"
      ],
      "metadata": {
        "id": "FsW-bZJVhUXy"
      },
      "execution_count": null,
      "outputs": []
    },
    {
      "cell_type": "markdown",
      "source": [
        "#**Splitting the Test and Train indexes and Separating the Labels from the Data**"
      ],
      "metadata": {
        "id": "6fsEKQraIHwL"
      }
    },
    {
      "cell_type": "code",
      "source": [
        "from sklearn.model_selection import train_test_split\n",
        "\n",
        "y = ai_generated_dataset['label']\n",
        "\n",
        "train_index, test_index = train_test_split(ai_generated_dataset.index, test_size=0.3, random_state=42, stratify = y)\n"
      ],
      "metadata": {
        "id": "_i0ssR6L0dp6"
      },
      "execution_count": 6,
      "outputs": []
    },
    {
      "cell_type": "code",
      "source": [
        "print(train_index.shape)\n",
        "print(test_index.shape)"
      ],
      "metadata": {
        "colab": {
          "base_uri": "https://localhost:8080/"
        },
        "id": "Kp95xJPV_XW-",
        "outputId": "08f7e0d5-7aab-4e5e-9228-9f535a5f958b"
      },
      "execution_count": 7,
      "outputs": [
        {
          "output_type": "stream",
          "name": "stdout",
          "text": [
            "(31407,)\n",
            "(13461,)\n"
          ]
        }
      ]
    },
    {
      "cell_type": "code",
      "source": [
        "# from sklearn.model_selection import train_test_split\n",
        "\n",
        "# y = ai_human_dataset['generated']\n",
        "\n",
        "# train_index, test_index = train_test_split(ai_human_dataset.index, test_size=0.2, random_state=42)"
      ],
      "metadata": {
        "id": "AKsDAiNCoXfu"
      },
      "execution_count": null,
      "outputs": []
    },
    {
      "cell_type": "code",
      "source": [
        "# from sklearn.feature_extraction.text import TfidfVectorizer\n",
        "\n",
        "# tfidf_vectorizer = TfidfVectorizer(max_features=1000)\n",
        "# X_tfidf = tfidf_vectorizer.fit_transform(train_essays['preprocessedText'])\n",
        "\n",
        "# X_train_tfidf, X_test_tfidf = X_tfidf[train_index], X_tfidf[test_index]\n",
        "# y_train, y_test = y[train_index], y[test_index]\n"
      ],
      "metadata": {
        "id": "lSBF5CjxhlFP"
      },
      "execution_count": null,
      "outputs": []
    },
    {
      "cell_type": "markdown",
      "source": [
        "#**Creating TF-IDF Embeddings**"
      ],
      "metadata": {
        "id": "htJAfPMrIl5n"
      }
    },
    {
      "cell_type": "code",
      "source": [
        "from sklearn.feature_extraction.text import TfidfVectorizer\n",
        "\n",
        "tfidf_vectorizer = TfidfVectorizer(max_features=5000,ngram_range=(1,3),max_df=0.95,min_df=2,sublinear_tf=True)\n",
        "X_tfidf = tfidf_vectorizer.fit_transform(ai_generated_dataset[\"preprocessedText\"])\n",
        "\n",
        "X_train_tfidf, X_test_tfidf = X_tfidf[train_index], X_tfidf[test_index]\n",
        "y_train, y_test = y[train_index], y[test_index]\n"
      ],
      "metadata": {
        "id": "PH4Lysdq0osa"
      },
      "execution_count": 8,
      "outputs": []
    },
    {
      "cell_type": "code",
      "source": [
        "print(X_train_tfidf.shape)"
      ],
      "metadata": {
        "colab": {
          "base_uri": "https://localhost:8080/"
        },
        "id": "DAvQGcNgs_9w",
        "outputId": "60ad4945-021f-417c-c47e-b89d0380e80c"
      },
      "execution_count": 14,
      "outputs": [
        {
          "metadata": {
            "tags": null
          },
          "name": "stdout",
          "output_type": "stream",
          "text": [
            "(31407, 5000)\n"
          ]
        }
      ]
    },
    {
      "cell_type": "code",
      "source": [
        "from imblearn.over_sampling import SMOTE\n",
        "\n",
        "smote = SMOTE(random_state=42)\n",
        "X_train_tfidf_balanced, y_train_tfidf_balanced = smote.fit_resample(X_train_tfidf, y_train)\n",
        "print(\"TF-IDF Before SMOTE: \",dict(zip(*np.unique(y_train, return_counts=True))))\n",
        "print(\"TF-IDF After SMOTE: \",dict(zip(*np.unique(y_train_tfidf_balanced, return_counts=True))))"
      ],
      "metadata": {
        "colab": {
          "base_uri": "https://localhost:8080/"
        },
        "id": "nrXKKIi9ivQp",
        "outputId": "3dfa8fe2-a217-4d18-92de-a14a4861aa81"
      },
      "execution_count": 9,
      "outputs": [
        {
          "output_type": "stream",
          "name": "stdout",
          "text": [
            "TF-IDF Before SMOTE:  {0: 19159, 1: 12248}\n",
            "TF-IDF After SMOTE:  {0: 19159, 1: 19159}\n"
          ]
        }
      ]
    },
    {
      "cell_type": "markdown",
      "source": [
        "#**Splitting Word2Vec Embeddings into Train and Test Datasets**"
      ],
      "metadata": {
        "id": "7PRuuvL9IupS"
      }
    },
    {
      "cell_type": "code",
      "source": [
        "ai_generated_dataset['word2vecVector'] = ai_generated_dataset['word2vecVector'].apply(lambda x: np.array(x))\n",
        "\n",
        "X_word2vec = np.stack(ai_generated_dataset['word2vecVector'].values)\n",
        "\n",
        "X_train_word2vec, X_test_word2vec = X_word2vec[train_index], X_word2vec[test_index]\n",
        "\n",
        "print(X_train_word2vec.shape)\n",
        "print(X_test_word2vec.shape)\n",
        "print(X_train_word2vec)"
      ],
      "metadata": {
        "id": "JLjvTwhYjg5c",
        "colab": {
          "base_uri": "https://localhost:8080/"
        },
        "outputId": "2bbf4dd4-eed8-4e91-c1fc-05ce4045cdb9"
      },
      "execution_count": 10,
      "outputs": [
        {
          "output_type": "stream",
          "name": "stdout",
          "text": [
            "(31407, 300)\n",
            "(13461, 300)\n",
            "[[ 0.2412465   0.12883464 -0.13879679 ...  0.07869861  0.06059385\n",
            "   0.08757871]\n",
            " [ 0.08779133  0.05541468 -0.11528169 ...  0.09728131  0.1904774\n",
            "   0.0254917 ]\n",
            " [ 0.17481214  0.18666561 -0.02144041 ...  0.10214245  0.06304719\n",
            "  -0.03007478]\n",
            " ...\n",
            " [ 0.12631232  0.12788758  0.00613671 ... -0.00850309  0.05224276\n",
            "   0.01818124]\n",
            " [ 0.11214793  0.0780441  -0.00522981 ...  0.05905244  0.06478132\n",
            "  -0.00651369]\n",
            " [ 0.11275313  0.11915151 -0.02095453 ...  0.02850822  0.03254059\n",
            "  -0.01114102]]\n"
          ]
        }
      ]
    },
    {
      "cell_type": "code",
      "source": [
        "X_train_word2vec_balanced, y_train_word2vec_balanced = smote.fit_resample(X_train_word2vec, y_train)\n",
        "print(\"Word2Vec Before SMOTE: \",dict(zip(*np.unique(y_train, return_counts=True))))\n",
        "print(\"Word2Vec After SMOTE: \",dict(zip(*np.unique(y_train_word2vec_balanced, return_counts=True))))"
      ],
      "metadata": {
        "colab": {
          "base_uri": "https://localhost:8080/"
        },
        "id": "P6OlXbBLjMUx",
        "outputId": "d7acf879-c2bf-4c21-ff6a-d6e1b3a9795b"
      },
      "execution_count": 11,
      "outputs": [
        {
          "output_type": "stream",
          "name": "stdout",
          "text": [
            "Word2Vec Before SMOTE:  {0: 19159, 1: 12248}\n",
            "Word2Vec After SMOTE:  {0: 19159, 1: 19159}\n"
          ]
        }
      ]
    },
    {
      "cell_type": "markdown",
      "source": [
        "#**Splitting Doc2Vec Embeddings into Train and Test Datasets**"
      ],
      "metadata": {
        "id": "o5c0RNmGJA3G"
      }
    },
    {
      "cell_type": "code",
      "source": [
        "ai_generated_dataset['doc2vecVector'] = ai_generated_dataset['doc2vecVector'].apply(lambda x: np.array(x))\n",
        "X_doc2vec = np.stack(ai_generated_dataset['doc2vecVector'].values)\n",
        "X_train_doc2vec, X_test_doc2vec = X_doc2vec[train_index], X_doc2vec[test_index]\n",
        "print(X_train_doc2vec.shape)\n",
        "print(X_test_doc2vec.shape)\n",
        "print(X_train_doc2vec)"
      ],
      "metadata": {
        "id": "R_15evjXjwIk",
        "colab": {
          "base_uri": "https://localhost:8080/"
        },
        "outputId": "5379d1fe-bd8f-4525-ca27-a28219d969ae"
      },
      "execution_count": 12,
      "outputs": [
        {
          "output_type": "stream",
          "name": "stdout",
          "text": [
            "(31407, 300)\n",
            "(13461, 300)\n",
            "[[-0.24610746  0.7341788  -0.8827429  ... -0.733133    0.13338068\n",
            "  -0.9269667 ]\n",
            " [-0.09144191  1.4676443  -0.08899038 ...  0.29028612  0.07291975\n",
            "  -0.8944364 ]\n",
            " [-0.01401522  0.97548115  0.5891738  ... -0.12179826  0.39617172\n",
            "   0.34881037]\n",
            " ...\n",
            " [ 0.20894022  1.4649408  -0.0423759  ... -0.83101344  0.43716475\n",
            "  -0.00343679]\n",
            " [-0.3109229  -0.25086513 -0.16094488 ...  1.1437012   0.9497175\n",
            "  -0.1530021 ]\n",
            " [-0.22656126 -0.77423835 -0.47065565 ...  1.0278937  -0.04719304\n",
            "   0.9362622 ]]\n"
          ]
        }
      ]
    },
    {
      "cell_type": "code",
      "source": [
        "X_train_doc2vec_balanced, y_train_doc2vec_balanced = smote.fit_resample(X_train_doc2vec, y_train)\n",
        "print(\"Doc2Vec Before SMOTE: \",dict(zip(*np.unique(y_train, return_counts=True))))\n",
        "print(\"Doc2Vec After SMOTE: \",dict(zip(*np.unique(y_train_doc2vec_balanced, return_counts=True))))"
      ],
      "metadata": {
        "colab": {
          "base_uri": "https://localhost:8080/"
        },
        "id": "0paJLA_BjVrD",
        "outputId": "22ec1bdf-f57d-4527-9b0f-c4a68a5480af"
      },
      "execution_count": 13,
      "outputs": [
        {
          "output_type": "stream",
          "name": "stdout",
          "text": [
            "Doc2Vec Before SMOTE:  {0: 19159, 1: 12248}\n",
            "Doc2Vec After SMOTE:  {0: 19159, 1: 19159}\n"
          ]
        }
      ]
    },
    {
      "cell_type": "markdown",
      "source": [
        "#**Implementing SVM on Different Types of Embeddings and Comparing Results**"
      ],
      "metadata": {
        "id": "HP58o58fJNgM"
      }
    },
    {
      "cell_type": "markdown",
      "source": [
        "#**Implementing Decision Tree on Different Types of Embeddings and Comparing Results**"
      ],
      "metadata": {
        "id": "o3wIU2XXJqHc"
      }
    },
    {
      "cell_type": "markdown",
      "source": [
        "#**Implementing Random Forest on Different Types of Embeddings and Comparing Results**"
      ],
      "metadata": {
        "id": "rtFEfGBJKKsQ"
      }
    },
    {
      "cell_type": "markdown",
      "source": [
        "#**Implementing KNN on Different Types of Embeddings and Comparing Results**"
      ],
      "metadata": {
        "id": "HIxP3NsGKUo4"
      }
    },
    {
      "cell_type": "code",
      "source": [
        "from sklearn.metrics import confusion_matrix, classification_report\n",
        "from sklearn.model_selection import StratifiedKFold, cross_val_score\n",
        "import seaborn as sns\n",
        "import matplotlib.pyplot as plt\n",
        "from tqdm import tqdm\n",
        "import numpy as np\n",
        "\n",
        "def evaluate_model_with_visualizations(model, X_train, X_test, y_train, y_test, model_name, embedding_name):\n",
        "    kfold = StratifiedKFold(n_splits=5, shuffle=True, random_state=42)\n",
        "    print(f\"Performing 5-Fold Cross-Validation for {model_name} with {embedding_name}...\")\n",
        "    cv_scores = cross_val_score(model, X_train, y_train, cv=kfold, scoring='accuracy', n_jobs=-1)\n",
        "    print(f\"{model_name} with {embedding_name} - Cross-validation Scores: {cv_scores}\")\n",
        "    print(f\"{model_name} with {embedding_name} - Mean CV Accuracy: {cv_scores.mean():.4f}\")\n",
        "\n",
        "    model.fit(X_train, y_train)\n",
        "    y_pred = model.predict(X_test)\n",
        "\n",
        "    cm = confusion_matrix(y_test, y_pred)\n",
        "    plt.figure(figsize=(6, 4))\n",
        "    sns.heatmap(cm, annot=True, fmt='d', cmap='Blues')\n",
        "    plt.title(f'Confusion Matrix: {model_name} with {embedding_name}')\n",
        "    plt.xlabel('Predicted')\n",
        "    plt.ylabel('Actual')\n",
        "    plt.show()\n",
        "\n",
        "    print(f\"{model_name} with {embedding_name} - Classification Report:\")\n",
        "    print(classification_report(y_test, y_pred))\n",
        "\n",
        "    plt.figure(figsize=(8, 6))\n",
        "    plt.scatter(range(len(y_test)), y_test, alpha=0.6, label='Actual')\n",
        "    plt.scatter(range(len(y_pred)), y_pred, alpha=0.6, label='Predicted', marker='x')\n",
        "    plt.title(f'Scatter Plot: {model_name} with {embedding_name}')\n",
        "    plt.xlabel('Sample Index')\n",
        "    plt.ylabel('Labels')\n",
        "    plt.legend()\n",
        "    plt.show()"
      ],
      "metadata": {
        "id": "ryeiUpHu0h08"
      },
      "execution_count": 14,
      "outputs": []
    },
    {
      "cell_type": "code",
      "source": [
        "from sklearn.svm import SVC\n",
        "from sklearn.tree import DecisionTreeClassifier\n",
        "from sklearn.ensemble import RandomForestClassifier\n",
        "from sklearn.neighbors import KNeighborsClassifier"
      ],
      "metadata": {
        "id": "8MRNQuOY0ko7"
      },
      "execution_count": 15,
      "outputs": []
    },
    {
      "cell_type": "code",
      "source": [
        "# svm_param_grid = {\n",
        "#     'C': [0.1, 1, 10],\n",
        "#     'kernel': ['linear', 'rbf'],\n",
        "#     'gamma': [0.01, 0.1, 1]\n",
        "# }\n",
        "\n",
        "# dt_param_grid = {\n",
        "#     'max_depth': [None, 10, 20],\n",
        "#     'min_samples_split': [2, 5, 10]\n",
        "# }\n",
        "\n",
        "# rf_param_grid = {\n",
        "#     'n_estimators': [50, 100, 200],\n",
        "#     'max_depth': [None, 10, 20],\n",
        "#     'min_samples_split': [2, 5, 10]\n",
        "# }\n",
        "\n",
        "# knn_param_grid = {\n",
        "#     'n_neighbors': [3, 5, 7],\n",
        "#     'weights': ['uniform', 'distance']\n",
        "# }"
      ],
      "metadata": {
        "id": "tF8TWpV79LRj"
      },
      "execution_count": 78,
      "outputs": []
    },
    {
      "cell_type": "code",
      "source": [
        "print(ai_generated_dataset['label'].value_counts(normalize=True))"
      ],
      "metadata": {
        "colab": {
          "base_uri": "https://localhost:8080/"
        },
        "id": "9tZ8Jfg41osr",
        "outputId": "b2d0dc50-1f46-42c9-f0c5-29fac0d6c7e3"
      },
      "execution_count": 16,
      "outputs": [
        {
          "output_type": "stream",
          "name": "stdout",
          "text": [
            "label\n",
            "0    0.610034\n",
            "1    0.389966\n",
            "Name: proportion, dtype: float64\n"
          ]
        }
      ]
    },
    {
      "cell_type": "code",
      "source": [
        "svm_model_tfidf = SVC(class_weight='balanced',random_state=42,kernel='rbf',gamma='scale',C=1)\n",
        "evaluate_model_with_visualizations(svm_model_tfidf, X_train_tfidf_balanced, X_test_tfidf, y_train_tfidf_balanced, y_test, \"SVM\", \"TF-IDF\")"
      ],
      "metadata": {
        "colab": {
          "base_uri": "https://localhost:8080/"
        },
        "id": "9_QjzkU80yRd",
        "outputId": "cb55a905-7407-4580-d40e-194b1f1d8615"
      },
      "execution_count": null,
      "outputs": [
        {
          "output_type": "stream",
          "name": "stdout",
          "text": [
            "Performing 10-Fold Cross-Validation for SVM with TF-IDF...\n"
          ]
        }
      ]
    },
    {
      "cell_type": "code",
      "source": [
        "svm_model_word2vec = SVC(class_weight='balanced',random_state=42, C=1, kernel='rbf', gamma='scale')\n",
        "evaluate_model_with_visualizations(svm_model_word2vec, X_train_word2vec_balanced, X_test_word2vec, y_train_word2vec_balanced, y_test, \"SVM\", \"Word2Vec\")"
      ],
      "metadata": {
        "id": "WH3d9dpz2w6y"
      },
      "execution_count": null,
      "outputs": []
    },
    {
      "cell_type": "code",
      "source": [
        "svm_model_doc2vec = SVC(class_weight='balanced',random_state=42, C=1, kernel='rbf', gamma='scale')\n",
        "evaluate_model_with_visualizations(svm_model_doc2vec, X_train_doc2vec_balanced, X_test_doc2vec, y_train_doc2vec_balanced, y_test, \"SVM\", \"Doc2Vec\")"
      ],
      "metadata": {
        "id": "oKeDcxgi28Eg"
      },
      "execution_count": null,
      "outputs": []
    },
    {
      "cell_type": "code",
      "source": [
        "decision_tree_model_tfidf = DecisionTreeClassifier(class_weight='balanced',random_state=42, criterion='gini',max_depth=None,min_samples_split=5)\n",
        "evaluate_model_with_visualizations(decision_tree_model_tfidf, X_train_tfidf_balanced, X_test_tfidf, y_train_tfidf_balanced, y_test, \"Decision Tree\", \"TF-IDF\")"
      ],
      "metadata": {
        "colab": {
          "base_uri": "https://localhost:8080/",
          "height": 1000
        },
        "id": "Hyn48k7L2rBt",
        "outputId": "375333cc-f0f0-47c8-fb1e-969e9e4d0a74"
      },
      "execution_count": 22,
      "outputs": [
        {
          "output_type": "stream",
          "name": "stdout",
          "text": [
            "Performing 10-Fold Cross-Validation for Decision Tree with TF-IDF...\n",
            "Decision Tree with TF-IDF - Cross-validation Scores: [0.94128392 0.93763048 0.93136743 0.93188935 0.93658664 0.93449896\n",
            " 0.93241127 0.93345511 0.9412686  0.93265466]\n",
            "Decision Tree with TF-IDF - Mean CV Accuracy: 0.9353\n"
          ]
        },
        {
          "output_type": "display_data",
          "data": {
            "text/plain": [
              "<Figure size 600x400 with 2 Axes>"
            ],
            "image/png": "[encoded data removed]"
          },
          "metadata": {}
        },
        {
          "output_type": "stream",
          "name": "stdout",
          "text": [
            "Decision Tree with TF-IDF - Classification Report:\n",
            "              precision    recall  f1-score   support\n",
            "\n",
            "           0       0.94      0.94      0.94      8212\n",
            "           1       0.90      0.90      0.90      5249\n",
            "\n",
            "    accuracy                           0.92     13461\n",
            "   macro avg       0.92      0.92      0.92     13461\n",
            "weighted avg       0.92      0.92      0.92     13461\n",
            "\n"
          ]
        },
        {
          "output_type": "display_data",
          "data": {
            "text/plain": [
              "<Figure size 800x600 with 1 Axes>"
            ],
            "image/png": "[encoded data removed]"
          },
          "metadata": {}
        }
      ]
    },
    {
      "cell_type": "code",
      "source": [
        "decision_tree_model_word2vec = DecisionTreeClassifier(class_weight='balanced',random_state=42, criterion='gini', max_depth=None, min_samples_split=5)\n",
        "evaluate_model_with_visualizations(decision_tree_model_word2vec, X_train_word2vec_balanced, X_test_word2vec, y_train_word2vec_balanced, y_test, \"Decision Tree\", \"Word2Vec\")"
      ],
      "metadata": {
        "colab": {
          "base_uri": "https://localhost:8080/",
          "height": 1000
        },
        "id": "WxBCQArR2zPW",
        "outputId": "f13ab581-8f53-4388-f980-54ff54921434"
      },
      "execution_count": 23,
      "outputs": [
        {
          "output_type": "stream",
          "name": "stdout",
          "text": [
            "Performing 10-Fold Cross-Validation for Decision Tree with Word2Vec...\n",
            "Decision Tree with Word2Vec - Cross-validation Scores: [0.94441545 0.93763048 0.94493737 0.94154489 0.94676409 0.95120042\n",
            " 0.94572025 0.94780793 0.95327591 0.94648917]\n",
            "Decision Tree with Word2Vec - Mean CV Accuracy: 0.9460\n"
          ]
        },
        {
          "output_type": "display_data",
          "data": {
            "text/plain": [
              "<Figure size 600x400 with 2 Axes>"
            ],
            "image/png": "[encoded data removed]"
          },
          "metadata": {}
        },
        {
          "output_type": "stream",
          "name": "stdout",
          "text": [
            "Decision Tree with Word2Vec - Classification Report:\n",
            "              precision    recall  f1-score   support\n",
            "\n",
            "           0       0.95      0.95      0.95      8212\n",
            "           1       0.93      0.93      0.93      5249\n",
            "\n",
            "    accuracy                           0.94     13461\n",
            "   macro avg       0.94      0.94      0.94     13461\n",
            "weighted avg       0.94      0.94      0.94     13461\n",
            "\n"
          ]
        },
        {
          "output_type": "display_data",
          "data": {
            "text/plain": [
              "<Figure size 800x600 with 1 Axes>"
            ],
            "image/png": "[encoded data removed]"
          },
          "metadata": {}
        }
      ]
    },
    {
      "cell_type": "code",
      "source": [
        "decision_tree_model_doc2vec = DecisionTreeClassifier(class_weight='balanced',random_state=42, max_depth=None, min_samples_split=5)\n",
        "evaluate_model_with_visualizations(decision_tree_model_doc2vec, X_train_doc2vec_balanced, X_test_doc2vec, y_train_doc2vec_balanced, y_test, \"Decision Tree\", \"Doc2Vec\")"
      ],
      "metadata": {
        "colab": {
          "base_uri": "https://localhost:8080/",
          "height": 1000
        },
        "id": "CZiNGuyq2-E5",
        "outputId": "7bc94cca-240c-43de-9954-1f6bc9d29314"
      },
      "execution_count": 24,
      "outputs": [
        {
          "output_type": "stream",
          "name": "stdout",
          "text": [
            "Performing 10-Fold Cross-Validation for Decision Tree with Doc2Vec...\n",
            "Decision Tree with Doc2Vec - Cross-validation Scores: [0.66231733 0.66101253 0.63700418 0.65501044 0.66231733 0.65814196\n",
            " 0.66205637 0.66362213 0.67006004 0.66718872]\n",
            "Decision Tree with Doc2Vec - Mean CV Accuracy: 0.6599\n"
          ]
        },
        {
          "output_type": "display_data",
          "data": {
            "text/plain": [
              "<Figure size 600x400 with 2 Axes>"
            ],
            "image/png": "[encoded data removed]"
          },
          "metadata": {}
        },
        {
          "output_type": "stream",
          "name": "stdout",
          "text": [
            "Decision Tree with Doc2Vec - Classification Report:\n",
            "              precision    recall  f1-score   support\n",
            "\n",
            "           0       0.68      0.65      0.67      8212\n",
            "           1       0.49      0.52      0.51      5249\n",
            "\n",
            "    accuracy                           0.60     13461\n",
            "   macro avg       0.59      0.59      0.59     13461\n",
            "weighted avg       0.61      0.60      0.61     13461\n",
            "\n"
          ]
        },
        {
          "output_type": "display_data",
          "data": {
            "text/plain": [
              "<Figure size 800x600 with 1 Axes>"
            ],
            "image/png": "[encoded data removed]"
          },
          "metadata": {}
        }
      ]
    },
    {
      "cell_type": "code",
      "source": [
        "random_forest_model_tfidf = RandomForestClassifier(class_weight='balanced', random_state=42,n_estimators=200,max_depth=None,min_samples_split=5)\n",
        "evaluate_model_with_visualizations(random_forest_model_tfidf, X_train_tfidf_balanced, X_test_tfidf, y_train_tfidf_balanced, y_test, \"Random Forest\", \"TF-IDF\")"
      ],
      "metadata": {
        "colab": {
          "base_uri": "https://localhost:8080/",
          "height": 1000
        },
        "id": "rXxqtcf_2tGZ",
        "outputId": "a08d78ed-0b9e-4129-fe3f-f0806cbe5140"
      },
      "execution_count": 25,
      "outputs": [
        {
          "output_type": "stream",
          "name": "stdout",
          "text": [
            "Performing 10-Fold Cross-Validation for Random Forest with TF-IDF...\n",
            "Random Forest with TF-IDF - Cross-validation Scores: [0.98903967 0.98956159 0.98695198 0.98590814 0.99138831 0.99112735\n",
            " 0.98825678 0.98903967 0.98929783 0.98877578]\n",
            "Random Forest with TF-IDF - Mean CV Accuracy: 0.9889\n"
          ]
        },
        {
          "output_type": "display_data",
          "data": {
            "text/plain": [
              "<Figure size 600x400 with 2 Axes>"
            ],
            "image/png": "[encoded data removed]"
          },
          "metadata": {}
        },
        {
          "output_type": "stream",
          "name": "stdout",
          "text": [
            "Random Forest with TF-IDF - Classification Report:\n",
            "              precision    recall  f1-score   support\n",
            "\n",
            "           0       0.98      1.00      0.99      8212\n",
            "           1       0.99      0.97      0.98      5249\n",
            "\n",
            "    accuracy                           0.99     13461\n",
            "   macro avg       0.99      0.98      0.98     13461\n",
            "weighted avg       0.99      0.99      0.99     13461\n",
            "\n"
          ]
        },
        {
          "output_type": "display_data",
          "data": {
            "text/plain": [
              "<Figure size 800x600 with 1 Axes>"
            ],
            "image/png": "[encoded data removed]"
          },
          "metadata": {}
        }
      ]
    },
    {
      "cell_type": "code",
      "source": [
        "random_forest_model_word2vec = RandomForestClassifier(class_weight='balanced',random_state=42, n_estimators=200, max_depth=None, min_samples_split=5)\n",
        "evaluate_model_with_visualizations(random_forest_model_word2vec, X_train_word2vec_balanced, X_test_word2vec, y_train_word2vec_balanced, y_test, \"Random Forest\", \"Word2Vec\")"
      ],
      "metadata": {
        "colab": {
          "base_uri": "https://localhost:8080/",
          "height": 1000
        },
        "id": "2cU9Xmg_23SL",
        "outputId": "b70219a4-18ca-46ee-8e21-ec495a497e0c"
      },
      "execution_count": 26,
      "outputs": [
        {
          "output_type": "stream",
          "name": "stdout",
          "text": [
            "Performing 10-Fold Cross-Validation for Random Forest with Word2Vec...\n",
            "Random Forest with Word2Vec - Cross-validation Scores: [0.98721294 0.9861691  0.9874739  0.98956159 0.98877871 0.98903967\n",
            " 0.98564718 0.98669102 0.98929783 0.98877578]\n",
            "Random Forest with Word2Vec - Mean CV Accuracy: 0.9879\n"
          ]
        },
        {
          "output_type": "display_data",
          "data": {
            "text/plain": [
              "<Figure size 600x400 with 2 Axes>"
            ],
            "image/png": "[encoded data removed]"
          },
          "metadata": {}
        },
        {
          "output_type": "stream",
          "name": "stdout",
          "text": [
            "Random Forest with Word2Vec - Classification Report:\n",
            "              precision    recall  f1-score   support\n",
            "\n",
            "           0       0.98      0.99      0.99      8212\n",
            "           1       0.99      0.97      0.98      5249\n",
            "\n",
            "    accuracy                           0.98     13461\n",
            "   macro avg       0.99      0.98      0.98     13461\n",
            "weighted avg       0.99      0.98      0.98     13461\n",
            "\n"
          ]
        },
        {
          "output_type": "display_data",
          "data": {
            "text/plain": [
              "<Figure size 800x600 with 1 Axes>"
            ],
            "image/png": "[encoded data removed]"
          },
          "metadata": {}
        }
      ]
    },
    {
      "cell_type": "code",
      "source": [
        "random_forest_model_doc2vec = RandomForestClassifier(class_weight='balanced',random_state=42, n_estimators=200, max_depth=None, min_samples_split=5)\n",
        "evaluate_model_with_visualizations(random_forest_model_doc2vec, X_train_doc2vec_balanced, X_test_doc2vec, y_train_doc2vec_balanced, y_test, \"Random Forest\", \"Doc2Vec\")"
      ],
      "metadata": {
        "colab": {
          "base_uri": "https://localhost:8080/",
          "height": 1000
        },
        "id": "2qbvlJU_2_de",
        "outputId": "aca2f8f7-37ce-4056-d239-03a8a4e4fdfb"
      },
      "execution_count": 27,
      "outputs": [
        {
          "output_type": "stream",
          "name": "stdout",
          "text": [
            "Performing 10-Fold Cross-Validation for Random Forest with Doc2Vec...\n",
            "Random Forest with Doc2Vec - Cross-validation Scores: [0.81263048 0.80715031 0.80167015 0.80897704 0.80741127 0.81132568\n",
            " 0.809238   0.8256785  0.81232054 0.81388671]\n",
            "Random Forest with Doc2Vec - Mean CV Accuracy: 0.8110\n"
          ]
        },
        {
          "output_type": "display_data",
          "data": {
            "text/plain": [
              "<Figure size 600x400 with 2 Axes>"
            ],
            "image/png": "[encoded data removed]"
          },
          "metadata": {}
        },
        {
          "output_type": "stream",
          "name": "stdout",
          "text": [
            "Random Forest with Doc2Vec - Classification Report:\n",
            "              precision    recall  f1-score   support\n",
            "\n",
            "           0       0.73      0.92      0.81      8212\n",
            "           1       0.79      0.46      0.58      5249\n",
            "\n",
            "    accuracy                           0.74     13461\n",
            "   macro avg       0.76      0.69      0.70     13461\n",
            "weighted avg       0.75      0.74      0.72     13461\n",
            "\n"
          ]
        },
        {
          "output_type": "display_data",
          "data": {
            "text/plain": [
              "<Figure size 800x600 with 1 Axes>"
            ],
            "image/png": "[encoded data removed]"
          },
          "metadata": {}
        }
      ]
    },
    {
      "cell_type": "code",
      "source": [
        "error_rate = []\n",
        "for n in range(1,11):\n",
        "  knn_model_tfidf = KNeighborsClassifier(n_neighbors=n,weights='distance',metric='minkowski')\n",
        "  evaluate_model_with_visualizations(knn_model_tfidf, X_train_tfidf_balanced, X_test_tfidf, y_train_tfidf_balanced, y_test, \"KNN\", \"TF-IDF\")\n",
        "  knn_model_tfidf.score(X_test_tfidf,y_test)\n",
        "  error_rate.append(1-knn_model_tfidf.score(X_test_tfidf,y_test))\n",
        "plt.plot(error_rate)\n",
        "plt.title('Error Rate vs. K Value')\n",
        "plt.xlabel('K')\n",
        "plt.ylabel('Error Rate')\n",
        "plt.show()"
      ],
      "metadata": {
        "colab": {
          "base_uri": "https://localhost:8080/",
          "height": 1000
        },
        "id": "4cPGb0Jt2ufd",
        "outputId": "676dc3a7-8210-4617-d9a5-7d9ed801a303"
      },
      "execution_count": 28,
      "outputs": [
        {
          "output_type": "stream",
          "name": "stdout",
          "text": [
            "Performing 10-Fold Cross-Validation for KNN with TF-IDF...\n",
            "KNN with TF-IDF - Cross-validation Scores: [0.61064718 0.6072547  0.61377871 0.61430063 0.62004175 0.61273486\n",
            " 0.61325678 0.61221294 0.60480292 0.61315583]\n",
            "KNN with TF-IDF - Mean CV Accuracy: 0.6122\n"
          ]
        },
        {
          "output_type": "display_data",
          "data": {
            "text/plain": [
              "<Figure size 600x400 with 2 Axes>"
            ],
            "image/png": "[encoded data removed]"
          },
          "metadata": {}
        },
        {
          "output_type": "stream",
          "name": "stdout",
          "text": [
            "KNN with TF-IDF - Classification Report:\n",
            "              precision    recall  f1-score   support\n",
            "\n",
            "           0       1.00      0.23      0.37      8212\n",
            "           1       0.45      1.00      0.62      5249\n",
            "\n",
            "    accuracy                           0.53     13461\n",
            "   macro avg       0.73      0.61      0.50     13461\n",
            "weighted avg       0.79      0.53      0.47     13461\n",
            "\n"
          ]
        },
        {
          "output_type": "display_data",
          "data": {
            "text/plain": [
              "<Figure size 800x600 with 1 Axes>"
            ],
            "image/png": "[encoded data removed]"
          },
          "metadata": {}
        }
      ]
    },
    {
      "cell_type": "code",
      "source": [
        "error_rate = []\n",
        "for n in range(1,11):\n",
        "  knn_model_word2vec = KNeighborsClassifier(n_neighbors=n,weights='distance',metric='minkowski')\n",
        "  evaluate_model_with_visualizations(knn_model_word2vec, X_train_word2vec_balanced, X_test_word2vec, y_train_word2vec_balanced, y_test, \"KNN\", \"Word2Vec\")\n",
        "  knn_model_word2vec.score(X_test_word2vec,y_test)\n",
        "  error_rate.append(1-knn_model_word2vec.score(X_test_word2vec,y_test))\n",
        "plt.plot(error_rate)\n",
        "plt.title('Error Rate vs. K Value')\n",
        "plt.xlabel('K')\n",
        "plt.ylabel('Error Rate')\n",
        "plt.show()"
      ],
      "metadata": {
        "colab": {
          "base_uri": "https://localhost:8080/",
          "height": 1000
        },
        "id": "3fzO_rbT26Eq",
        "outputId": "5934628d-c525-48b5-c73b-303f743f985e"
      },
      "execution_count": 29,
      "outputs": [
        {
          "output_type": "stream",
          "name": "stdout",
          "text": [
            "Performing 10-Fold Cross-Validation for KNN with Word2Vec...\n",
            "KNN with Word2Vec - Cross-validation Scores: [0.99451983 0.99034447 0.99086639 0.99295407 0.99138831 0.99399791\n",
            " 0.99373695 0.99347599 0.98799269 0.99243017]\n",
            "KNN with Word2Vec - Mean CV Accuracy: 0.9922\n"
          ]
        },
        {
          "output_type": "display_data",
          "data": {
            "text/plain": [
              "<Figure size 600x400 with 2 Axes>"
            ],
            "image/png": "[encoded data removed]"
          },
          "metadata": {}
        },
        {
          "output_type": "stream",
          "name": "stdout",
          "text": [
            "KNN with Word2Vec - Classification Report:\n",
            "              precision    recall  f1-score   support\n",
            "\n",
            "           0       0.99      0.99      0.99      8212\n",
            "           1       0.99      0.98      0.98      5249\n",
            "\n",
            "    accuracy                           0.99     13461\n",
            "   macro avg       0.99      0.99      0.99     13461\n",
            "weighted avg       0.99      0.99      0.99     13461\n",
            "\n"
          ]
        },
        {
          "output_type": "display_data",
          "data": {
            "text/plain": [
              "<Figure size 800x600 with 1 Axes>"
            ],
            "image/png": "[encoded data removed]"
          },
          "metadata": {}
        }
      ]
    },
    {
      "cell_type": "code",
      "source": [
        "error_rate = []\n",
        "for n in range(1,11):\n",
        "  knn_model_doc2vec = KNeighborsClassifier(n_neighbors=n,weights='distance',metric='minkowski')\n",
        "  evaluate_model_with_visualizations(knn_model_doc2vec, X_train_doc2vec_balanced, X_test_doc2vec, y_train_doc2vec_balanced, y_test, \"KNN\", \"Doc2Vec\")\n",
        "  knn_model_doc2vec.score(X_test_doc2vec,y_test)\n",
        "  error_rate.append(1-knn_model_doc2vec.score(X_test_doc2vec,y_test))\n",
        "plt.plot(error_rate)\n",
        "plt.title('Error Rate vs. K Value')\n",
        "plt.xlabel('K')\n",
        "plt.ylabel('Error Rate')\n",
        "plt.show()"
      ],
      "metadata": {
        "colab": {
          "base_uri": "https://localhost:8080/",
          "height": 1000
        },
        "id": "dt8qfCmS3A10",
        "outputId": "9511855b-b6ef-4e6a-f542-c067f9f54f4b"
      },
      "execution_count": 30,
      "outputs": [
        {
          "output_type": "stream",
          "name": "stdout",
          "text": [
            "Performing 10-Fold Cross-Validation for KNN with Doc2Vec...\n",
            "KNN with Doc2Vec - Cross-validation Scores: [0.56236952 0.56497912 0.56602296 0.565762   0.56367432 0.56550104\n",
            " 0.56002088 0.55375783 0.56251631 0.5706082 ]\n",
            "KNN with Doc2Vec - Mean CV Accuracy: 0.5635\n"
          ]
        },
        {
          "output_type": "display_data",
          "data": {
            "text/plain": [
              "<Figure size 600x400 with 2 Axes>"
            ],
            "image/png": "[encoded data removed]"
          },
          "metadata": {}
        },
        {
          "output_type": "stream",
          "name": "stdout",
          "text": [
            "KNN with Doc2Vec - Classification Report:\n",
            "              precision    recall  f1-score   support\n",
            "\n",
            "           0       0.96      0.14      0.24      8212\n",
            "           1       0.42      0.99      0.59      5249\n",
            "\n",
            "    accuracy                           0.47     13461\n",
            "   macro avg       0.69      0.56      0.42     13461\n",
            "weighted avg       0.75      0.47      0.38     13461\n",
            "\n"
          ]
        },
        {
          "output_type": "display_data",
          "data": {
            "text/plain": [
              "<Figure size 800x600 with 1 Axes>"
            ],
            "image/png": "[encoded data removed]"
          },
          "metadata": {}
        }
      ]
    },
    {
      "cell_type": "markdown",
      "source": [
        "#**Implementing the best embedding technique for each model and using it on custom data**\n",
        "\n",
        "\n",
        "#1.   SVM :- TF-IDF\n",
        "#2.   Decision Tree :- Word2Vec\n",
        "#3.   Random Forest :- TF-IDF\n",
        "#4.   KNN :- Word2Vec  \n",
        "\n"
      ],
      "metadata": {
        "id": "q7dnSsjsKgdz"
      }
    },
    {
      "cell_type": "code",
      "source": [
        "# svm_model = SVC(class_weight='balanced',random_state=42)\n",
        "# svm_model.fit(X_train_tfidf, y_train)\n",
        "\n",
        "# decision_tree_model = DecisionTreeClassifier(random_state=42)\n",
        "# decision_tree_model.fit(X_train_word2vec, y_train)\n",
        "\n",
        "# random_forest_model = RandomForestClassifier(random_state=42)\n",
        "# random_forest_model.fit(X_train_tfidf, y_train)\n",
        "\n",
        "# knn_model = KNeighborsClassifier(n_neighbors=3)\n",
        "# knn_model.fit(X_train_word2vec, y_train)"
      ],
      "metadata": {
        "id": "Q5m3E8tjqZ3p"
      },
      "execution_count": null,
      "outputs": []
    },
    {
      "cell_type": "code",
      "source": [
        "custom_data = input()\n",
        "#custom_data = \"Good Morning Everyone, I am your teacher for today\"\n",
        "preprocessed_custom_data = preprocess(custom_data)\n",
        "print(preprocessed_custom_data)\n",
        "#for word in preprocessed_custom_data.split():\n",
        "#    if word not in word2vec_model.wv:\n",
        "#        print(f\"Missing word: {word}\")\n",
        "\n",
        "custom_data_tfidf = tfidf_vectorizer.transform([preprocessed_custom_data])\n",
        "\n",
        "#def update_word2vec_with_custom_data(preprocessed_data, word2vec_model):\n",
        "#    \"\"\"Updating Word2Vec model with custom data if new words are found.\"\"\"\n",
        "#    new_sentences = [preprocessed_data.split()]\n",
        "\n",
        "#    word2vec_model.build_vocab(new_sentences, update=True)\n",
        "#    word2vec_model.train(new_sentences, total_examples=len(new_sentences), epochs=5)\n",
        "\n",
        "\n",
        "#update_word2vec_with_custom_data(preprocessed_custom_data, word2vec_model)\n",
        "\n",
        "#custom_data_word2vec = [calculate_average_word_vector(preprocessed_custom_data.split(), word2vec_model, word2vec_model.vector_size)]\n",
        "custom_data_word2vec = np.array([calculate_average_word_vector(preprocessed_custom_data.split(), word2vec_model, word2vec_model.vector_size)]).reshape(1, -1)\n",
        "\n",
        "print(custom_data_tfidf.shape)\n",
        "print(custom_data_word2vec.shape)\n",
        "\n",
        "\n",
        "prediction_svm = svm_model_tfidf.predict(custom_data_tfidf)\n",
        "print(\"Prediction using SVM using TF-IDF:\", prediction_svm)\n",
        "prediction_svm = svm_model_word2vec.predict(custom_data_word2vec)\n",
        "print(\"Prediction using SVM using Word2Vec:\", prediction_svm)\n",
        "\n",
        "prediction_decision_tree = decision_tree_model_tfidf.predict(custom_data_tfidf)\n",
        "print(\"Prediction using Decision Tree using TF-IDF:\", prediction_decision_tree)\n",
        "prediction_decision_tree = decision_tree_model_word2vec.predict(custom_data_word2vec)\n",
        "print(\"Prediction using Decision Tree using Word2Vec:\", prediction_decision_tree)\n",
        "\n",
        "prediction_random_forest = random_forest_model_tfidf.predict(custom_data_tfidf)\n",
        "print(\"Prediction using Random Forest using TF-IDF:\", prediction_random_forest)\n",
        "prediction_random_forest = random_forest_model_word2vec.predict(custom_data_word2vec)\n",
        "print(\"Prediction using Random Forest using Word2Vec:\", prediction_random_forest)\n",
        "\n",
        "prediction_knn = knn_model_tfidf.predict(custom_data_tfidf)\n",
        "print(\"Prediction using KNN using TF-IDF:\", prediction_knn)\n",
        "prediction_knn = knn_model_word2vec.predict(custom_data_word2vec)\n",
        "print(\"Prediction using KNN using Word2Vec:\", prediction_knn)"
      ],
      "metadata": {
        "id": "orWKAnHwDBFs"
      },
      "execution_count": null,
      "outputs": []
    },
    {
      "cell_type": "code",
      "source": [],
      "metadata": {
        "id": "4YTiYUUWEAsj"
      },
      "execution_count": null,
      "outputs": []
    }
  ],
  "metadata": {
    "colab": {
      "provenance": [],
      "authorship_tag": "ABX9TyMwlEvUpLWBzopfJxACoT6I",
      "include_colab_link": true
    },
    "kernelspec": {
      "display_name": "Python 3",
      "name": "python3"
    },
    "language_info": {
      "name": "python"
    },
    "widgets": {
      "application/vnd.jupyter.widget-state+json": {
        "0c5ec9a658ad434c9b4bdb81412e452c": {
          "model_module": "@jupyter-widgets/controls",
          "model_name": "HBoxModel",
          "model_module_version": "1.5.0",
          "state": {
            "_dom_classes": [],
            "_model_module": "@jupyter-widgets/controls",
            "_model_module_version": "1.5.0",
            "_model_name": "HBoxModel",
            "_view_count": null,
            "_view_module": "@jupyter-widgets/controls",
            "_view_module_version": "1.5.0",
            "_view_name": "HBoxView",
            "box_style": "",
            "children": [
              "IPY_MODEL_6a84bea89c58450098fa9e0532d67323",
              "IPY_MODEL_c3ef13142eed4bb1a7958f40ebe00678",
              "IPY_MODEL_39d1469dd7404d8488a7b5aa6b7b9c8c"
            ],
            "layout": "IPY_MODEL_7126ebe464744a70a52d7060f07e7f60"
          }
        },
        "6a84bea89c58450098fa9e0532d67323": {
          "model_module": "@jupyter-widgets/controls",
          "model_name": "HTMLModel",
          "model_module_version": "1.5.0",
          "state": {
            "_dom_classes": [],
            "_model_module": "@jupyter-widgets/controls",
            "_model_module_version": "1.5.0",
            "_model_name": "HTMLModel",
            "_view_count": null,
            "_view_module": "@jupyter-widgets/controls",
            "_view_module_version": "1.5.0",
            "_view_name": "HTMLView",
            "description": "",
            "description_tooltip": null,
            "layout": "IPY_MODEL_ef08507d21214295a3b63eabab71b700",
            "placeholder": "​",
            "style": "IPY_MODEL_abb0b92e8b304487b3ca4a46568c74bd",
            "value": "Preprocessing: 100%"
          }
        },
        "c3ef13142eed4bb1a7958f40ebe00678": {
          "model_module": "@jupyter-widgets/controls",
          "model_name": "FloatProgressModel",
          "model_module_version": "1.5.0",
          "state": {
            "_dom_classes": [],
            "_model_module": "@jupyter-widgets/controls",
            "_model_module_version": "1.5.0",
            "_model_name": "FloatProgressModel",
            "_view_count": null,
            "_view_module": "@jupyter-widgets/controls",
            "_view_module_version": "1.5.0",
            "_view_name": "ProgressView",
            "bar_style": "success",
            "description": "",
            "description_tooltip": null,
            "layout": "IPY_MODEL_f97baa64d22249228be3dc5e465bb632",
            "max": 44868,
            "min": 0,
            "orientation": "horizontal",
            "style": "IPY_MODEL_ecda205f925247bcafe862a9ea78654c",
            "value": 44868
          }
        },
        "39d1469dd7404d8488a7b5aa6b7b9c8c": {
          "model_module": "@jupyter-widgets/controls",
          "model_name": "HTMLModel",
          "model_module_version": "1.5.0",
          "state": {
            "_dom_classes": [],
            "_model_module": "@jupyter-widgets/controls",
            "_model_module_version": "1.5.0",
            "_model_name": "HTMLModel",
            "_view_count": null,
            "_view_module": "@jupyter-widgets/controls",
            "_view_module_version": "1.5.0",
            "_view_name": "HTMLView",
            "description": "",
            "description_tooltip": null,
            "layout": "IPY_MODEL_0f14ee825a7c407c8b6cc6f911142ed2",
            "placeholder": "​",
            "style": "IPY_MODEL_7a9c4c2a62c54696a5dc2522adb01907",
            "value": " 44868/44868 [1:00:41&lt;00:00, 10.40it/s]"
          }
        },
        "7126ebe464744a70a52d7060f07e7f60": {
          "model_module": "@jupyter-widgets/base",
          "model_name": "LayoutModel",
          "model_module_version": "1.2.0",
          "state": {
            "_model_module": "@jupyter-widgets/base",
            "_model_module_version": "1.2.0",
            "_model_name": "LayoutModel",
            "_view_count": null,
            "_view_module": "@jupyter-widgets/base",
            "_view_module_version": "1.2.0",
            "_view_name": "LayoutView",
            "align_content": null,
            "align_items": null,
            "align_self": null,
            "border": null,
            "bottom": null,
            "display": null,
            "flex": null,
            "flex_flow": null,
            "grid_area": null,
            "grid_auto_columns": null,
            "grid_auto_flow": null,
            "grid_auto_rows": null,
            "grid_column": null,
            "grid_gap": null,
            "grid_row": null,
            "grid_template_areas": null,
            "grid_template_columns": null,
            "grid_template_rows": null,
            "height": null,
            "justify_content": null,
            "justify_items": null,
            "left": null,
            "margin": null,
            "max_height": null,
            "max_width": null,
            "min_height": null,
            "min_width": null,
            "object_fit": null,
            "object_position": null,
            "order": null,
            "overflow": null,
            "overflow_x": null,
            "overflow_y": null,
            "padding": null,
            "right": null,
            "top": null,
            "visibility": null,
            "width": null
          }
        },
        "ef08507d21214295a3b63eabab71b700": {
          "model_module": "@jupyter-widgets/base",
          "model_name": "LayoutModel",
          "model_module_version": "1.2.0",
          "state": {
            "_model_module": "@jupyter-widgets/base",
            "_model_module_version": "1.2.0",
            "_model_name": "LayoutModel",
            "_view_count": null,
            "_view_module": "@jupyter-widgets/base",
            "_view_module_version": "1.2.0",
            "_view_name": "LayoutView",
            "align_content": null,
            "align_items": null,
            "align_self": null,
            "border": null,
            "bottom": null,
            "display": null,
            "flex": null,
            "flex_flow": null,
            "grid_area": null,
            "grid_auto_columns": null,
            "grid_auto_flow": null,
            "grid_auto_rows": null,
            "grid_column": null,
            "grid_gap": null,
            "grid_row": null,
            "grid_template_areas": null,
            "grid_template_columns": null,
            "grid_template_rows": null,
            "height": null,
            "justify_content": null,
            "justify_items": null,
            "left": null,
            "margin": null,
            "max_height": null,
            "max_width": null,
            "min_height": null,
            "min_width": null,
            "object_fit": null,
            "object_position": null,
            "order": null,
            "overflow": null,
            "overflow_x": null,
            "overflow_y": null,
            "padding": null,
            "right": null,
            "top": null,
            "visibility": null,
            "width": null
          }
        },
        "abb0b92e8b304487b3ca4a46568c74bd": {
          "model_module": "@jupyter-widgets/controls",
          "model_name": "DescriptionStyleModel",
          "model_module_version": "1.5.0",
          "state": {
            "_model_module": "@jupyter-widgets/controls",
            "_model_module_version": "1.5.0",
            "_model_name": "DescriptionStyleModel",
            "_view_count": null,
            "_view_module": "@jupyter-widgets/base",
            "_view_module_version": "1.2.0",
            "_view_name": "StyleView",
            "description_width": ""
          }
        },
        "f97baa64d22249228be3dc5e465bb632": {
          "model_module": "@jupyter-widgets/base",
          "model_name": "LayoutModel",
          "model_module_version": "1.2.0",
          "state": {
            "_model_module": "@jupyter-widgets/base",
            "_model_module_version": "1.2.0",
            "_model_name": "LayoutModel",
            "_view_count": null,
            "_view_module": "@jupyter-widgets/base",
            "_view_module_version": "1.2.0",
            "_view_name": "LayoutView",
            "align_content": null,
            "align_items": null,
            "align_self": null,
            "border": null,
            "bottom": null,
            "display": null,
            "flex": null,
            "flex_flow": null,
            "grid_area": null,
            "grid_auto_columns": null,
            "grid_auto_flow": null,
            "grid_auto_rows": null,
            "grid_column": null,
            "grid_gap": null,
            "grid_row": null,
            "grid_template_areas": null,
            "grid_template_columns": null,
            "grid_template_rows": null,
            "height": null,
            "justify_content": null,
            "justify_items": null,
            "left": null,
            "margin": null,
            "max_height": null,
            "max_width": null,
            "min_height": null,
            "min_width": null,
            "object_fit": null,
            "object_position": null,
            "order": null,
            "overflow": null,
            "overflow_x": null,
            "overflow_y": null,
            "padding": null,
            "right": null,
            "top": null,
            "visibility": null,
            "width": null
          }
        },
        "ecda205f925247bcafe862a9ea78654c": {
          "model_module": "@jupyter-widgets/controls",
          "model_name": "ProgressStyleModel",
          "model_module_version": "1.5.0",
          "state": {
            "_model_module": "@jupyter-widgets/controls",
            "_model_module_version": "1.5.0",
            "_model_name": "ProgressStyleModel",
            "_view_count": null,
            "_view_module": "@jupyter-widgets/base",
            "_view_module_version": "1.2.0",
            "_view_name": "StyleView",
            "bar_color": null,
            "description_width": ""
          }
        },
        "0f14ee825a7c407c8b6cc6f911142ed2": {
          "model_module": "@jupyter-widgets/base",
          "model_name": "LayoutModel",
          "model_module_version": "1.2.0",
          "state": {
            "_model_module": "@jupyter-widgets/base",
            "_model_module_version": "1.2.0",
            "_model_name": "LayoutModel",
            "_view_count": null,
            "_view_module": "@jupyter-widgets/base",
            "_view_module_version": "1.2.0",
            "_view_name": "LayoutView",
            "align_content": null,
            "align_items": null,
            "align_self": null,
            "border": null,
            "bottom": null,
            "display": null,
            "flex": null,
            "flex_flow": null,
            "grid_area": null,
            "grid_auto_columns": null,
            "grid_auto_flow": null,
            "grid_auto_rows": null,
            "grid_column": null,
            "grid_gap": null,
            "grid_row": null,
            "grid_template_areas": null,
            "grid_template_columns": null,
            "grid_template_rows": null,
            "height": null,
            "justify_content": null,
            "justify_items": null,
            "left": null,
            "margin": null,
            "max_height": null,
            "max_width": null,
            "min_height": null,
            "min_width": null,
            "object_fit": null,
            "object_position": null,
            "order": null,
            "overflow": null,
            "overflow_x": null,
            "overflow_y": null,
            "padding": null,
            "right": null,
            "top": null,
            "visibility": null,
            "width": null
          }
        },
        "7a9c4c2a62c54696a5dc2522adb01907": {
          "model_module": "@jupyter-widgets/controls",
          "model_name": "DescriptionStyleModel",
          "model_module_version": "1.5.0",
          "state": {
            "_model_module": "@jupyter-widgets/controls",
            "_model_module_version": "1.5.0",
            "_model_name": "DescriptionStyleModel",
            "_view_count": null,
            "_view_module": "@jupyter-widgets/base",
            "_view_module_version": "1.2.0",
            "_view_name": "StyleView",
            "description_width": ""
          }
        },
        "0c1e20422fc3468a9876a8dd9283aaf1": {
          "model_module": "@jupyter-widgets/controls",
          "model_name": "HBoxModel",
          "model_module_version": "1.5.0",
          "state": {
            "_dom_classes": [],
            "_model_module": "@jupyter-widgets/controls",
            "_model_module_version": "1.5.0",
            "_model_name": "HBoxModel",
            "_view_count": null,
            "_view_module": "@jupyter-widgets/controls",
            "_view_module_version": "1.5.0",
            "_view_name": "HBoxView",
            "box_style": "",
            "children": [
              "IPY_MODEL_231b03eb814c4ad980c8dc75e99dc410",
              "IPY_MODEL_c84fc82aa7de41e39d1b493413f64bee",
              "IPY_MODEL_017d9bfecfe44ee89d8223c3dd12d05d"
            ],
            "layout": "IPY_MODEL_a63454742c24418592f75a8d58ed09ef"
          }
        },
        "231b03eb814c4ad980c8dc75e99dc410": {
          "model_module": "@jupyter-widgets/controls",
          "model_name": "HTMLModel",
          "model_module_version": "1.5.0",
          "state": {
            "_dom_classes": [],
            "_model_module": "@jupyter-widgets/controls",
            "_model_module_version": "1.5.0",
            "_model_name": "HTMLModel",
            "_view_count": null,
            "_view_module": "@jupyter-widgets/controls",
            "_view_module_version": "1.5.0",
            "_view_name": "HTMLView",
            "description": "",
            "description_tooltip": null,
            "layout": "IPY_MODEL_4724762a4b6b489989a8575c33cef415",
            "placeholder": "​",
            "style": "IPY_MODEL_ec376c8a7fc94f9fa82ffd7f10dc56cf",
            "value": "Word2Vec: 100%"
          }
        },
        "c84fc82aa7de41e39d1b493413f64bee": {
          "model_module": "@jupyter-widgets/controls",
          "model_name": "FloatProgressModel",
          "model_module_version": "1.5.0",
          "state": {
            "_dom_classes": [],
            "_model_module": "@jupyter-widgets/controls",
            "_model_module_version": "1.5.0",
            "_model_name": "FloatProgressModel",
            "_view_count": null,
            "_view_module": "@jupyter-widgets/controls",
            "_view_module_version": "1.5.0",
            "_view_name": "ProgressView",
            "bar_style": "success",
            "description": "",
            "description_tooltip": null,
            "layout": "IPY_MODEL_c76ccee2bff84d90ab136dadc0ab0915",
            "max": 44868,
            "min": 0,
            "orientation": "horizontal",
            "style": "IPY_MODEL_bc4696157cf64ad9bf4e2803f3bc4976",
            "value": 44868
          }
        },
        "017d9bfecfe44ee89d8223c3dd12d05d": {
          "model_module": "@jupyter-widgets/controls",
          "model_name": "HTMLModel",
          "model_module_version": "1.5.0",
          "state": {
            "_dom_classes": [],
            "_model_module": "@jupyter-widgets/controls",
            "_model_module_version": "1.5.0",
            "_model_name": "HTMLModel",
            "_view_count": null,
            "_view_module": "@jupyter-widgets/controls",
            "_view_module_version": "1.5.0",
            "_view_name": "HTMLView",
            "description": "",
            "description_tooltip": null,
            "layout": "IPY_MODEL_baba35468252410496266cf06c3cc3c0",
            "placeholder": "​",
            "style": "IPY_MODEL_01cf1dac44864fc6a0f5e2d374538b3a",
            "value": " 44868/44868 [00:40&lt;00:00, 800.72it/s]"
          }
        },
        "a63454742c24418592f75a8d58ed09ef": {
          "model_module": "@jupyter-widgets/base",
          "model_name": "LayoutModel",
          "model_module_version": "1.2.0",
          "state": {
            "_model_module": "@jupyter-widgets/base",
            "_model_module_version": "1.2.0",
            "_model_name": "LayoutModel",
            "_view_count": null,
            "_view_module": "@jupyter-widgets/base",
            "_view_module_version": "1.2.0",
            "_view_name": "LayoutView",
            "align_content": null,
            "align_items": null,
            "align_self": null,
            "border": null,
            "bottom": null,
            "display": null,
            "flex": null,
            "flex_flow": null,
            "grid_area": null,
            "grid_auto_columns": null,
            "grid_auto_flow": null,
            "grid_auto_rows": null,
            "grid_column": null,
            "grid_gap": null,
            "grid_row": null,
            "grid_template_areas": null,
            "grid_template_columns": null,
            "grid_template_rows": null,
            "height": null,
            "justify_content": null,
            "justify_items": null,
            "left": null,
            "margin": null,
            "max_height": null,
            "max_width": null,
            "min_height": null,
            "min_width": null,
            "object_fit": null,
            "object_position": null,
            "order": null,
            "overflow": null,
            "overflow_x": null,
            "overflow_y": null,
            "padding": null,
            "right": null,
            "top": null,
            "visibility": null,
            "width": null
          }
        },
        "4724762a4b6b489989a8575c33cef415": {
          "model_module": "@jupyter-widgets/base",
          "model_name": "LayoutModel",
          "model_module_version": "1.2.0",
          "state": {
            "_model_module": "@jupyter-widgets/base",
            "_model_module_version": "1.2.0",
            "_model_name": "LayoutModel",
            "_view_count": null,
            "_view_module": "@jupyter-widgets/base",
            "_view_module_version": "1.2.0",
            "_view_name": "LayoutView",
            "align_content": null,
            "align_items": null,
            "align_self": null,
            "border": null,
            "bottom": null,
            "display": null,
            "flex": null,
            "flex_flow": null,
            "grid_area": null,
            "grid_auto_columns": null,
            "grid_auto_flow": null,
            "grid_auto_rows": null,
            "grid_column": null,
            "grid_gap": null,
            "grid_row": null,
            "grid_template_areas": null,
            "grid_template_columns": null,
            "grid_template_rows": null,
            "height": null,
            "justify_content": null,
            "justify_items": null,
            "left": null,
            "margin": null,
            "max_height": null,
            "max_width": null,
            "min_height": null,
            "min_width": null,
            "object_fit": null,
            "object_position": null,
            "order": null,
            "overflow": null,
            "overflow_x": null,
            "overflow_y": null,
            "padding": null,
            "right": null,
            "top": null,
            "visibility": null,
            "width": null
          }
        },
        "ec376c8a7fc94f9fa82ffd7f10dc56cf": {
          "model_module": "@jupyter-widgets/controls",
          "model_name": "DescriptionStyleModel",
          "model_module_version": "1.5.0",
          "state": {
            "_model_module": "@jupyter-widgets/controls",
            "_model_module_version": "1.5.0",
            "_model_name": "DescriptionStyleModel",
            "_view_count": null,
            "_view_module": "@jupyter-widgets/base",
            "_view_module_version": "1.2.0",
            "_view_name": "StyleView",
            "description_width": ""
          }
        },
        "c76ccee2bff84d90ab136dadc0ab0915": {
          "model_module": "@jupyter-widgets/base",
          "model_name": "LayoutModel",
          "model_module_version": "1.2.0",
          "state": {
            "_model_module": "@jupyter-widgets/base",
            "_model_module_version": "1.2.0",
            "_model_name": "LayoutModel",
            "_view_count": null,
            "_view_module": "@jupyter-widgets/base",
            "_view_module_version": "1.2.0",
            "_view_name": "LayoutView",
            "align_content": null,
            "align_items": null,
            "align_self": null,
            "border": null,
            "bottom": null,
            "display": null,
            "flex": null,
            "flex_flow": null,
            "grid_area": null,
            "grid_auto_columns": null,
            "grid_auto_flow": null,
            "grid_auto_rows": null,
            "grid_column": null,
            "grid_gap": null,
            "grid_row": null,
            "grid_template_areas": null,
            "grid_template_columns": null,
            "grid_template_rows": null,
            "height": null,
            "justify_content": null,
            "justify_items": null,
            "left": null,
            "margin": null,
            "max_height": null,
            "max_width": null,
            "min_height": null,
            "min_width": null,
            "object_fit": null,
            "object_position": null,
            "order": null,
            "overflow": null,
            "overflow_x": null,
            "overflow_y": null,
            "padding": null,
            "right": null,
            "top": null,
            "visibility": null,
            "width": null
          }
        },
        "bc4696157cf64ad9bf4e2803f3bc4976": {
          "model_module": "@jupyter-widgets/controls",
          "model_name": "ProgressStyleModel",
          "model_module_version": "1.5.0",
          "state": {
            "_model_module": "@jupyter-widgets/controls",
            "_model_module_version": "1.5.0",
            "_model_name": "ProgressStyleModel",
            "_view_count": null,
            "_view_module": "@jupyter-widgets/base",
            "_view_module_version": "1.2.0",
            "_view_name": "StyleView",
            "bar_color": null,
            "description_width": ""
          }
        },
        "baba35468252410496266cf06c3cc3c0": {
          "model_module": "@jupyter-widgets/base",
          "model_name": "LayoutModel",
          "model_module_version": "1.2.0",
          "state": {
            "_model_module": "@jupyter-widgets/base",
            "_model_module_version": "1.2.0",
            "_model_name": "LayoutModel",
            "_view_count": null,
            "_view_module": "@jupyter-widgets/base",
            "_view_module_version": "1.2.0",
            "_view_name": "LayoutView",
            "align_content": null,
            "align_items": null,
            "align_self": null,
            "border": null,
            "bottom": null,
            "display": null,
            "flex": null,
            "flex_flow": null,
            "grid_area": null,
            "grid_auto_columns": null,
            "grid_auto_flow": null,
            "grid_auto_rows": null,
            "grid_column": null,
            "grid_gap": null,
            "grid_row": null,
            "grid_template_areas": null,
            "grid_template_columns": null,
            "grid_template_rows": null,
            "height": null,
            "justify_content": null,
            "justify_items": null,
            "left": null,
            "margin": null,
            "max_height": null,
            "max_width": null,
            "min_height": null,
            "min_width": null,
            "object_fit": null,
            "object_position": null,
            "order": null,
            "overflow": null,
            "overflow_x": null,
            "overflow_y": null,
            "padding": null,
            "right": null,
            "top": null,
            "visibility": null,
            "width": null
          }
        },
        "01cf1dac44864fc6a0f5e2d374538b3a": {
          "model_module": "@jupyter-widgets/controls",
          "model_name": "DescriptionStyleModel",
          "model_module_version": "1.5.0",
          "state": {
            "_model_module": "@jupyter-widgets/controls",
            "_model_module_version": "1.5.0",
            "_model_name": "DescriptionStyleModel",
            "_view_count": null,
            "_view_module": "@jupyter-widgets/base",
            "_view_module_version": "1.2.0",
            "_view_name": "StyleView",
            "description_width": ""
          }
        },
        "5cdca0cce13446ee9c445317cc3a1c27": {
          "model_module": "@jupyter-widgets/controls",
          "model_name": "HBoxModel",
          "model_module_version": "1.5.0",
          "state": {
            "_dom_classes": [],
            "_model_module": "@jupyter-widgets/controls",
            "_model_module_version": "1.5.0",
            "_model_name": "HBoxModel",
            "_view_count": null,
            "_view_module": "@jupyter-widgets/controls",
            "_view_module_version": "1.5.0",
            "_view_name": "HBoxView",
            "box_style": "",
            "children": [
              "IPY_MODEL_642be08a4e32472592cb29e44733f4a1",
              "IPY_MODEL_5a948af57efd4634834483101580b990",
              "IPY_MODEL_67627ac8844f4dec8b544eddb14ae10c"
            ],
            "layout": "IPY_MODEL_2c9b9e7ad1654b4aaef09400746be4c9"
          }
        },
        "642be08a4e32472592cb29e44733f4a1": {
          "model_module": "@jupyter-widgets/controls",
          "model_name": "HTMLModel",
          "model_module_version": "1.5.0",
          "state": {
            "_dom_classes": [],
            "_model_module": "@jupyter-widgets/controls",
            "_model_module_version": "1.5.0",
            "_model_name": "HTMLModel",
            "_view_count": null,
            "_view_module": "@jupyter-widgets/controls",
            "_view_module_version": "1.5.0",
            "_view_name": "HTMLView",
            "description": "",
            "description_tooltip": null,
            "layout": "IPY_MODEL_310f7378b0a9429a8468c645d545c421",
            "placeholder": "​",
            "style": "IPY_MODEL_0b129c9198ae432a895e283d5434bc10",
            "value": "Tagging Data: 100%"
          }
        },
        "5a948af57efd4634834483101580b990": {
          "model_module": "@jupyter-widgets/controls",
          "model_name": "FloatProgressModel",
          "model_module_version": "1.5.0",
          "state": {
            "_dom_classes": [],
            "_model_module": "@jupyter-widgets/controls",
            "_model_module_version": "1.5.0",
            "_model_name": "FloatProgressModel",
            "_view_count": null,
            "_view_module": "@jupyter-widgets/controls",
            "_view_module_version": "1.5.0",
            "_view_name": "ProgressView",
            "bar_style": "success",
            "description": "",
            "description_tooltip": null,
            "layout": "IPY_MODEL_17b4a6e882eb40b8a81d8c09c8a8ebfc",
            "max": 44868,
            "min": 0,
            "orientation": "horizontal",
            "style": "IPY_MODEL_1720f563df364056b37a025362b579b4",
            "value": 44868
          }
        },
        "67627ac8844f4dec8b544eddb14ae10c": {
          "model_module": "@jupyter-widgets/controls",
          "model_name": "HTMLModel",
          "model_module_version": "1.5.0",
          "state": {
            "_dom_classes": [],
            "_model_module": "@jupyter-widgets/controls",
            "_model_module_version": "1.5.0",
            "_model_name": "HTMLModel",
            "_view_count": null,
            "_view_module": "@jupyter-widgets/controls",
            "_view_module_version": "1.5.0",
            "_view_name": "HTMLView",
            "description": "",
            "description_tooltip": null,
            "layout": "IPY_MODEL_eb796f92e5ee45ceb1db3e7e41f9834a",
            "placeholder": "​",
            "style": "IPY_MODEL_b0a01e7c2b764b8781bca9726988b5d1",
            "value": " 44868/44868 [00:02&lt;00:00, 20995.92it/s]"
          }
        },
        "2c9b9e7ad1654b4aaef09400746be4c9": {
          "model_module": "@jupyter-widgets/base",
          "model_name": "LayoutModel",
          "model_module_version": "1.2.0",
          "state": {
            "_model_module": "@jupyter-widgets/base",
            "_model_module_version": "1.2.0",
            "_model_name": "LayoutModel",
            "_view_count": null,
            "_view_module": "@jupyter-widgets/base",
            "_view_module_version": "1.2.0",
            "_view_name": "LayoutView",
            "align_content": null,
            "align_items": null,
            "align_self": null,
            "border": null,
            "bottom": null,
            "display": null,
            "flex": null,
            "flex_flow": null,
            "grid_area": null,
            "grid_auto_columns": null,
            "grid_auto_flow": null,
            "grid_auto_rows": null,
            "grid_column": null,
            "grid_gap": null,
            "grid_row": null,
            "grid_template_areas": null,
            "grid_template_columns": null,
            "grid_template_rows": null,
            "height": null,
            "justify_content": null,
            "justify_items": null,
            "left": null,
            "margin": null,
            "max_height": null,
            "max_width": null,
            "min_height": null,
            "min_width": null,
            "object_fit": null,
            "object_position": null,
            "order": null,
            "overflow": null,
            "overflow_x": null,
            "overflow_y": null,
            "padding": null,
            "right": null,
            "top": null,
            "visibility": null,
            "width": null
          }
        },
        "310f7378b0a9429a8468c645d545c421": {
          "model_module": "@jupyter-widgets/base",
          "model_name": "LayoutModel",
          "model_module_version": "1.2.0",
          "state": {
            "_model_module": "@jupyter-widgets/base",
            "_model_module_version": "1.2.0",
            "_model_name": "LayoutModel",
            "_view_count": null,
            "_view_module": "@jupyter-widgets/base",
            "_view_module_version": "1.2.0",
            "_view_name": "LayoutView",
            "align_content": null,
            "align_items": null,
            "align_self": null,
            "border": null,
            "bottom": null,
            "display": null,
            "flex": null,
            "flex_flow": null,
            "grid_area": null,
            "grid_auto_columns": null,
            "grid_auto_flow": null,
            "grid_auto_rows": null,
            "grid_column": null,
            "grid_gap": null,
            "grid_row": null,
            "grid_template_areas": null,
            "grid_template_columns": null,
            "grid_template_rows": null,
            "height": null,
            "justify_content": null,
            "justify_items": null,
            "left": null,
            "margin": null,
            "max_height": null,
            "max_width": null,
            "min_height": null,
            "min_width": null,
            "object_fit": null,
            "object_position": null,
            "order": null,
            "overflow": null,
            "overflow_x": null,
            "overflow_y": null,
            "padding": null,
            "right": null,
            "top": null,
            "visibility": null,
            "width": null
          }
        },
        "0b129c9198ae432a895e283d5434bc10": {
          "model_module": "@jupyter-widgets/controls",
          "model_name": "DescriptionStyleModel",
          "model_module_version": "1.5.0",
          "state": {
            "_model_module": "@jupyter-widgets/controls",
            "_model_module_version": "1.5.0",
            "_model_name": "DescriptionStyleModel",
            "_view_count": null,
            "_view_module": "@jupyter-widgets/base",
            "_view_module_version": "1.2.0",
            "_view_name": "StyleView",
            "description_width": ""
          }
        },
        "17b4a6e882eb40b8a81d8c09c8a8ebfc": {
          "model_module": "@jupyter-widgets/base",
          "model_name": "LayoutModel",
          "model_module_version": "1.2.0",
          "state": {
            "_model_module": "@jupyter-widgets/base",
            "_model_module_version": "1.2.0",
            "_model_name": "LayoutModel",
            "_view_count": null,
            "_view_module": "@jupyter-widgets/base",
            "_view_module_version": "1.2.0",
            "_view_name": "LayoutView",
            "align_content": null,
            "align_items": null,
            "align_self": null,
            "border": null,
            "bottom": null,
            "display": null,
            "flex": null,
            "flex_flow": null,
            "grid_area": null,
            "grid_auto_columns": null,
            "grid_auto_flow": null,
            "grid_auto_rows": null,
            "grid_column": null,
            "grid_gap": null,
            "grid_row": null,
            "grid_template_areas": null,
            "grid_template_columns": null,
            "grid_template_rows": null,
            "height": null,
            "justify_content": null,
            "justify_items": null,
            "left": null,
            "margin": null,
            "max_height": null,
            "max_width": null,
            "min_height": null,
            "min_width": null,
            "object_fit": null,
            "object_position": null,
            "order": null,
            "overflow": null,
            "overflow_x": null,
            "overflow_y": null,
            "padding": null,
            "right": null,
            "top": null,
            "visibility": null,
            "width": null
          }
        },
        "1720f563df364056b37a025362b579b4": {
          "model_module": "@jupyter-widgets/controls",
          "model_name": "ProgressStyleModel",
          "model_module_version": "1.5.0",
          "state": {
            "_model_module": "@jupyter-widgets/controls",
            "_model_module_version": "1.5.0",
            "_model_name": "ProgressStyleModel",
            "_view_count": null,
            "_view_module": "@jupyter-widgets/base",
            "_view_module_version": "1.2.0",
            "_view_name": "StyleView",
            "bar_color": null,
            "description_width": ""
          }
        },
        "eb796f92e5ee45ceb1db3e7e41f9834a": {
          "model_module": "@jupyter-widgets/base",
          "model_name": "LayoutModel",
          "model_module_version": "1.2.0",
          "state": {
            "_model_module": "@jupyter-widgets/base",
            "_model_module_version": "1.2.0",
            "_model_name": "LayoutModel",
            "_view_count": null,
            "_view_module": "@jupyter-widgets/base",
            "_view_module_version": "1.2.0",
            "_view_name": "LayoutView",
            "align_content": null,
            "align_items": null,
            "align_self": null,
            "border": null,
            "bottom": null,
            "display": null,
            "flex": null,
            "flex_flow": null,
            "grid_area": null,
            "grid_auto_columns": null,
            "grid_auto_flow": null,
            "grid_auto_rows": null,
            "grid_column": null,
            "grid_gap": null,
            "grid_row": null,
            "grid_template_areas": null,
            "grid_template_columns": null,
            "grid_template_rows": null,
            "height": null,
            "justify_content": null,
            "justify_items": null,
            "left": null,
            "margin": null,
            "max_height": null,
            "max_width": null,
            "min_height": null,
            "min_width": null,
            "object_fit": null,
            "object_position": null,
            "order": null,
            "overflow": null,
            "overflow_x": null,
            "overflow_y": null,
            "padding": null,
            "right": null,
            "top": null,
            "visibility": null,
            "width": null
          }
        },
        "b0a01e7c2b764b8781bca9726988b5d1": {
          "model_module": "@jupyter-widgets/controls",
          "model_name": "DescriptionStyleModel",
          "model_module_version": "1.5.0",
          "state": {
            "_model_module": "@jupyter-widgets/controls",
            "_model_module_version": "1.5.0",
            "_model_name": "DescriptionStyleModel",
            "_view_count": null,
            "_view_module": "@jupyter-widgets/base",
            "_view_module_version": "1.2.0",
            "_view_name": "StyleView",
            "description_width": ""
          }
        },
        "f72c2b1ae6bd4776b312679776e67ee8": {
          "model_module": "@jupyter-widgets/controls",
          "model_name": "HBoxModel",
          "model_module_version": "1.5.0",
          "state": {
            "_dom_classes": [],
            "_model_module": "@jupyter-widgets/controls",
            "_model_module_version": "1.5.0",
            "_model_name": "HBoxModel",
            "_view_count": null,
            "_view_module": "@jupyter-widgets/controls",
            "_view_module_version": "1.5.0",
            "_view_name": "HBoxView",
            "box_style": "",
            "children": [
              "IPY_MODEL_0136d5bf58ba43ba92852b4320755543",
              "IPY_MODEL_659abd59ba2f41279e0044737f9ca0dc",
              "IPY_MODEL_11c80fcc1eaa44018bb8bae908dc11c3"
            ],
            "layout": "IPY_MODEL_fdd374a5fb6b4400acfae2e0ca08fe8e"
          }
        },
        "0136d5bf58ba43ba92852b4320755543": {
          "model_module": "@jupyter-widgets/controls",
          "model_name": "HTMLModel",
          "model_module_version": "1.5.0",
          "state": {
            "_dom_classes": [],
            "_model_module": "@jupyter-widgets/controls",
            "_model_module_version": "1.5.0",
            "_model_name": "HTMLModel",
            "_view_count": null,
            "_view_module": "@jupyter-widgets/controls",
            "_view_module_version": "1.5.0",
            "_view_name": "HTMLView",
            "description": "",
            "description_tooltip": null,
            "layout": "IPY_MODEL_6a8c529711ad488fbb2abbbb8defc470",
            "placeholder": "​",
            "style": "IPY_MODEL_5bc6f538b1fa486ab391f9b75b4859d8",
            "value": "Generating Doc2Vec Vectors: 100%"
          }
        },
        "659abd59ba2f41279e0044737f9ca0dc": {
          "model_module": "@jupyter-widgets/controls",
          "model_name": "FloatProgressModel",
          "model_module_version": "1.5.0",
          "state": {
            "_dom_classes": [],
            "_model_module": "@jupyter-widgets/controls",
            "_model_module_version": "1.5.0",
            "_model_name": "FloatProgressModel",
            "_view_count": null,
            "_view_module": "@jupyter-widgets/controls",
            "_view_module_version": "1.5.0",
            "_view_name": "ProgressView",
            "bar_style": "success",
            "description": "",
            "description_tooltip": null,
            "layout": "IPY_MODEL_b2bd431df7b74e2cb82cffa8bbda8d36",
            "max": 44868,
            "min": 0,
            "orientation": "horizontal",
            "style": "IPY_MODEL_fbe5ee2db05a409e9743c469134631d1",
            "value": 44868
          }
        },
        "11c80fcc1eaa44018bb8bae908dc11c3": {
          "model_module": "@jupyter-widgets/controls",
          "model_name": "HTMLModel",
          "model_module_version": "1.5.0",
          "state": {
            "_dom_classes": [],
            "_model_module": "@jupyter-widgets/controls",
            "_model_module_version": "1.5.0",
            "_model_name": "HTMLModel",
            "_view_count": null,
            "_view_module": "@jupyter-widgets/controls",
            "_view_module_version": "1.5.0",
            "_view_name": "HTMLView",
            "description": "",
            "description_tooltip": null,
            "layout": "IPY_MODEL_518a7b76fcbb4043919fb0fc656d8749",
            "placeholder": "​",
            "style": "IPY_MODEL_d9f3731d7ab64ecd9e6bddcbec3c0812",
            "value": " 44868/44868 [00:03&lt;00:00, 17983.33it/s]"
          }
        },
        "fdd374a5fb6b4400acfae2e0ca08fe8e": {
          "model_module": "@jupyter-widgets/base",
          "model_name": "LayoutModel",
          "model_module_version": "1.2.0",
          "state": {
            "_model_module": "@jupyter-widgets/base",
            "_model_module_version": "1.2.0",
            "_model_name": "LayoutModel",
            "_view_count": null,
            "_view_module": "@jupyter-widgets/base",
            "_view_module_version": "1.2.0",
            "_view_name": "LayoutView",
            "align_content": null,
            "align_items": null,
            "align_self": null,
            "border": null,
            "bottom": null,
            "display": null,
            "flex": null,
            "flex_flow": null,
            "grid_area": null,
            "grid_auto_columns": null,
            "grid_auto_flow": null,
            "grid_auto_rows": null,
            "grid_column": null,
            "grid_gap": null,
            "grid_row": null,
            "grid_template_areas": null,
            "grid_template_columns": null,
            "grid_template_rows": null,
            "height": null,
            "justify_content": null,
            "justify_items": null,
            "left": null,
            "margin": null,
            "max_height": null,
            "max_width": null,
            "min_height": null,
            "min_width": null,
            "object_fit": null,
            "object_position": null,
            "order": null,
            "overflow": null,
            "overflow_x": null,
            "overflow_y": null,
            "padding": null,
            "right": null,
            "top": null,
            "visibility": null,
            "width": null
          }
        },
        "6a8c529711ad488fbb2abbbb8defc470": {
          "model_module": "@jupyter-widgets/base",
          "model_name": "LayoutModel",
          "model_module_version": "1.2.0",
          "state": {
            "_model_module": "@jupyter-widgets/base",
            "_model_module_version": "1.2.0",
            "_model_name": "LayoutModel",
            "_view_count": null,
            "_view_module": "@jupyter-widgets/base",
            "_view_module_version": "1.2.0",
            "_view_name": "LayoutView",
            "align_content": null,
            "align_items": null,
            "align_self": null,
            "border": null,
            "bottom": null,
            "display": null,
            "flex": null,
            "flex_flow": null,
            "grid_area": null,
            "grid_auto_columns": null,
            "grid_auto_flow": null,
            "grid_auto_rows": null,
            "grid_column": null,
            "grid_gap": null,
            "grid_row": null,
            "grid_template_areas": null,
            "grid_template_columns": null,
            "grid_template_rows": null,
            "height": null,
            "justify_content": null,
            "justify_items": null,
            "left": null,
            "margin": null,
            "max_height": null,
            "max_width": null,
            "min_height": null,
            "min_width": null,
            "object_fit": null,
            "object_position": null,
            "order": null,
            "overflow": null,
            "overflow_x": null,
            "overflow_y": null,
            "padding": null,
            "right": null,
            "top": null,
            "visibility": null,
            "width": null
          }
        },
        "5bc6f538b1fa486ab391f9b75b4859d8": {
          "model_module": "@jupyter-widgets/controls",
          "model_name": "DescriptionStyleModel",
          "model_module_version": "1.5.0",
          "state": {
            "_model_module": "@jupyter-widgets/controls",
            "_model_module_version": "1.5.0",
            "_model_name": "DescriptionStyleModel",
            "_view_count": null,
            "_view_module": "@jupyter-widgets/base",
            "_view_module_version": "1.2.0",
            "_view_name": "StyleView",
            "description_width": ""
          }
        },
        "b2bd431df7b74e2cb82cffa8bbda8d36": {
          "model_module": "@jupyter-widgets/base",
          "model_name": "LayoutModel",
          "model_module_version": "1.2.0",
          "state": {
            "_model_module": "@jupyter-widgets/base",
            "_model_module_version": "1.2.0",
            "_model_name": "LayoutModel",
            "_view_count": null,
            "_view_module": "@jupyter-widgets/base",
            "_view_module_version": "1.2.0",
            "_view_name": "LayoutView",
            "align_content": null,
            "align_items": null,
            "align_self": null,
            "border": null,
            "bottom": null,
            "display": null,
            "flex": null,
            "flex_flow": null,
            "grid_area": null,
            "grid_auto_columns": null,
            "grid_auto_flow": null,
            "grid_auto_rows": null,
            "grid_column": null,
            "grid_gap": null,
            "grid_row": null,
            "grid_template_areas": null,
            "grid_template_columns": null,
            "grid_template_rows": null,
            "height": null,
            "justify_content": null,
            "justify_items": null,
            "left": null,
            "margin": null,
            "max_height": null,
            "max_width": null,
            "min_height": null,
            "min_width": null,
            "object_fit": null,
            "object_position": null,
            "order": null,
            "overflow": null,
            "overflow_x": null,
            "overflow_y": null,
            "padding": null,
            "right": null,
            "top": null,
            "visibility": null,
            "width": null
          }
        },
        "fbe5ee2db05a409e9743c469134631d1": {
          "model_module": "@jupyter-widgets/controls",
          "model_name": "ProgressStyleModel",
          "model_module_version": "1.5.0",
          "state": {
            "_model_module": "@jupyter-widgets/controls",
            "_model_module_version": "1.5.0",
            "_model_name": "ProgressStyleModel",
            "_view_count": null,
            "_view_module": "@jupyter-widgets/base",
            "_view_module_version": "1.2.0",
            "_view_name": "StyleView",
            "bar_color": null,
            "description_width": ""
          }
        },
        "518a7b76fcbb4043919fb0fc656d8749": {
          "model_module": "@jupyter-widgets/base",
          "model_name": "LayoutModel",
          "model_module_version": "1.2.0",
          "state": {
            "_model_module": "@jupyter-widgets/base",
            "_model_module_version": "1.2.0",
            "_model_name": "LayoutModel",
            "_view_count": null,
            "_view_module": "@jupyter-widgets/base",
            "_view_module_version": "1.2.0",
            "_view_name": "LayoutView",
            "align_content": null,
            "align_items": null,
            "align_self": null,
            "border": null,
            "bottom": null,
            "display": null,
            "flex": null,
            "flex_flow": null,
            "grid_area": null,
            "grid_auto_columns": null,
            "grid_auto_flow": null,
            "grid_auto_rows": null,
            "grid_column": null,
            "grid_gap": null,
            "grid_row": null,
            "grid_template_areas": null,
            "grid_template_columns": null,
            "grid_template_rows": null,
            "height": null,
            "justify_content": null,
            "justify_items": null,
            "left": null,
            "margin": null,
            "max_height": null,
            "max_width": null,
            "min_height": null,
            "min_width": null,
            "object_fit": null,
            "object_position": null,
            "order": null,
            "overflow": null,
            "overflow_x": null,
            "overflow_y": null,
            "padding": null,
            "right": null,
            "top": null,
            "visibility": null,
            "width": null
          }
        },
        "d9f3731d7ab64ecd9e6bddcbec3c0812": {
          "model_module": "@jupyter-widgets/controls",
          "model_name": "DescriptionStyleModel",
          "model_module_version": "1.5.0",
          "state": {
            "_model_module": "@jupyter-widgets/controls",
            "_model_module_version": "1.5.0",
            "_model_name": "DescriptionStyleModel",
            "_view_count": null,
            "_view_module": "@jupyter-widgets/base",
            "_view_module_version": "1.2.0",
            "_view_name": "StyleView",
            "description_width": ""
          }
        }
      }
    }
  },
  "nbformat": 4,
  "nbformat_minor": 0
}